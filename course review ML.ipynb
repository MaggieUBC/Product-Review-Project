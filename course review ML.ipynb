{
 "cells": [
  {
   "cell_type": "markdown",
   "id": "57b2de91",
   "metadata": {},
   "source": [
    "\n",
    "<center><h1>Course Review Project</h1></center>\n",
    "<center><h3> Maggie Han </h3> </center>"
   ]
  },
  {
   "cell_type": "markdown",
   "id": "90c242fd",
   "metadata": {},
   "source": [
    "## Import requried library"
   ]
  },
  {
   "cell_type": "code",
   "execution_count": 1,
   "id": "c8f07f58",
   "metadata": {},
   "outputs": [
    {
     "name": "stderr",
     "output_type": "stream",
     "text": [
      "C:\\ProgramData\\anaconda3\\Lib\\site-packages\\numba\\core\\decorators.py:262: NumbaDeprecationWarning: \u001b[1mnumba.generated_jit is deprecated. Please see the documentation at: https://numba.readthedocs.io/en/stable/reference/deprecation.html#deprecation-of-generated-jit for more information and advice on a suitable replacement.\u001b[0m\n",
      "  warnings.warn(msg, NumbaDeprecationWarning)\n",
      "C:\\Users\\Hanme\\AppData\\Roaming\\Python\\Python311\\site-packages\\visions\\backends\\shared\\nan_handling.py:50: NumbaDeprecationWarning: \u001b[1mThe 'nopython' keyword argument was not supplied to the 'numba.jit' decorator. The implicit default value for this argument is currently False, but it will be changed to True in Numba 0.59.0. See https://numba.readthedocs.io/en/stable/reference/deprecation.html#deprecation-of-object-mode-fall-back-behaviour-when-using-jit for details.\u001b[0m\n",
      "  @nb.jit\n"
     ]
    }
   ],
   "source": [
    "import pandas as pd\n",
    "import numpy as np\n",
    "import matplotlib.pyplot as plt\n",
    "%matplotlib inline\n",
    "\n",
    "from sklearn import datasets\n",
    "from sklearn import metrics\n",
    "\n",
    "from sklearn.tree import DecisionTreeClassifier\n",
    "from sklearn.ensemble import RandomForestClassifier\n",
    "from sklearn.ensemble import GradientBoostingClassifier\n",
    "from xgboost import XGBClassifier\n",
    "\n",
    "from sklearn.linear_model import LogisticRegression\n",
    "from sklearn.linear_model import SGDRegressor\n",
    "from sklearn.neighbors import KNeighborsClassifier\n",
    "\n",
    "from sklearn.model_selection import train_test_split\n",
    "from sklearn.model_selection import cross_val_score\n",
    "from sklearn.model_selection import KFold\n",
    "from sklearn.model_selection import StratifiedKFold\n",
    "from sklearn.model_selection import GridSearchCV\n",
    "from sklearn.svm import SVC\n",
    "\n",
    "from sklearn.metrics import mean_squared_error, r2_score, mean_absolute_error\n",
    "from sklearn.metrics import accuracy_score # continuous is not supported\n",
    "from sklearn.metrics import classification_report\n",
    "from sklearn.metrics import confusion_matrix\n",
    "from sklearn.metrics import precision_score, recall_score, f1_score, make_scorer\n",
    "from sklearn.metrics import roc_auc_score\n",
    "\n",
    "from sklearn.preprocessing import OneHotEncoder,OrdinalEncoder, LabelEncoder\n",
    "from sklearn.preprocessing import MinMaxScaler, StandardScaler, RobustScaler\n",
    "from imblearn.over_sampling import RandomOverSampler, SMOTE\n",
    "from sklearn.compose import ColumnTransformer\n",
    "from sklearn.impute import SimpleImputer\n",
    "\n",
    "from sklearn.pipeline import make_pipeline\n",
    "from sklearn.pipeline import Pipeline\n",
    "from imblearn.pipeline import Pipeline\n",
    "from sklearn.feature_extraction.text import CountVectorizer, TfidfVectorizer, TfidfTransformer\n",
    "from sklearn.ensemble import StackingClassifier\n",
    "\n",
    "from mlxtend.plotting import plot_decision_regions\n",
    "from mlxtend.plotting import category_scatter\n",
    "import seaborn as sns\n",
    "from ydata_profiling import ProfileReport"
   ]
  },
  {
   "cell_type": "markdown",
   "id": "e11ae0eb",
   "metadata": {},
   "source": [
    "## 1. Concat data from CareerKarma, Switchup, coursecompare"
   ]
  },
  {
   "cell_type": "code",
   "execution_count": 2,
   "id": "b2ae417d",
   "metadata": {
    "scrolled": false
   },
   "outputs": [
    {
     "data": {
      "text/html": [
       "<div>\n",
       "<style scoped>\n",
       "    .dataframe tbody tr th:only-of-type {\n",
       "        vertical-align: middle;\n",
       "    }\n",
       "\n",
       "    .dataframe tbody tr th {\n",
       "        vertical-align: top;\n",
       "    }\n",
       "\n",
       "    .dataframe thead th {\n",
       "        text-align: right;\n",
       "    }\n",
       "</style>\n",
       "<table border=\"1\" class=\"dataframe\">\n",
       "  <thead>\n",
       "    <tr style=\"text-align: right;\">\n",
       "      <th></th>\n",
       "      <th>school</th>\n",
       "      <th>overview</th>\n",
       "      <th>review title</th>\n",
       "      <th>review star</th>\n",
       "      <th>Instructors</th>\n",
       "      <th>Curriculum</th>\n",
       "      <th>Job Assistance</th>\n",
       "      <th>Overall Experience</th>\n",
       "      <th>Comments</th>\n",
       "      <th>pros</th>\n",
       "      <th>cons</th>\n",
       "    </tr>\n",
       "  </thead>\n",
       "  <tbody>\n",
       "    <tr>\n",
       "      <th>0</th>\n",
       "      <td>WeCloudData</td>\n",
       "      <td>4.8/5</td>\n",
       "      <td>Full Time DS Bootcamp Review</td>\n",
       "      <td>5</td>\n",
       "      <td>4</td>\n",
       "      <td>5</td>\n",
       "      <td>3</td>\n",
       "      <td>5</td>\n",
       "      <td>Overall a great program especially for career ...</td>\n",
       "      <td>- Knowledgeable and patient instructors and TA...</td>\n",
       "      <td>- Learning experience felt more individual rat...</td>\n",
       "    </tr>\n",
       "    <tr>\n",
       "      <th>1</th>\n",
       "      <td>WeCloudData</td>\n",
       "      <td>4.8/5</td>\n",
       "      <td>A good bootcamp! its worth to make the decision</td>\n",
       "      <td>5</td>\n",
       "      <td>5</td>\n",
       "      <td>5</td>\n",
       "      <td>5</td>\n",
       "      <td>5</td>\n",
       "      <td>I attended the data and business analytics boo...</td>\n",
       "      <td>Great support, nice tutor, practical content</td>\n",
       "      <td>Time were a bit tight to learn everything</td>\n",
       "    </tr>\n",
       "    <tr>\n",
       "      <th>2</th>\n",
       "      <td>WeCloudData</td>\n",
       "      <td>4.8/5</td>\n",
       "      <td>Best DS BootCamp in Canada</td>\n",
       "      <td>5</td>\n",
       "      <td>5</td>\n",
       "      <td>5</td>\n",
       "      <td>5</td>\n",
       "      <td>5</td>\n",
       "      <td>I arrived in Canada with a Bachelor's degree i...</td>\n",
       "      <td>Really straight forward wth projects that help...</td>\n",
       "      <td>Pretty Intense so it will be better if you are...</td>\n",
       "    </tr>\n",
       "    <tr>\n",
       "      <th>3</th>\n",
       "      <td>WeCloudData</td>\n",
       "      <td>4.8/5</td>\n",
       "      <td>Best DS in Canada</td>\n",
       "      <td>5</td>\n",
       "      <td>5</td>\n",
       "      <td>5</td>\n",
       "      <td>5</td>\n",
       "      <td>5</td>\n",
       "      <td>I arrived in Canada with a Bachelor's degree i...</td>\n",
       "      <td>Really straight forward, with projects that he...</td>\n",
       "      <td>Intense, So It will be better if you don't hav...</td>\n",
       "    </tr>\n",
       "    <tr>\n",
       "      <th>4</th>\n",
       "      <td>WeCloudData</td>\n",
       "      <td>4.8/5</td>\n",
       "      <td>Great program with helpful career guidance</td>\n",
       "      <td>5</td>\n",
       "      <td>5</td>\n",
       "      <td>4</td>\n",
       "      <td>5</td>\n",
       "      <td>5</td>\n",
       "      <td>I attended WeCloudData Applied BI program in 2...</td>\n",
       "      <td>Instructors/mentors/TAs are nice. My mentor Le...</td>\n",
       "      <td>A bit intensive or not that friendly for full ...</td>\n",
       "    </tr>\n",
       "  </tbody>\n",
       "</table>\n",
       "</div>"
      ],
      "text/plain": [
       "        school overview                                     review title  \\\n",
       "0  WeCloudData    4.8/5                     Full Time DS Bootcamp Review   \n",
       "1  WeCloudData    4.8/5  A good bootcamp! its worth to make the decision   \n",
       "2  WeCloudData    4.8/5                       Best DS BootCamp in Canada   \n",
       "3  WeCloudData    4.8/5                                Best DS in Canada   \n",
       "4  WeCloudData    4.8/5       Great program with helpful career guidance   \n",
       "\n",
       "   review star  Instructors  Curriculum  Job Assistance  Overall Experience  \\\n",
       "0            5            4           5               3                   5   \n",
       "1            5            5           5               5                   5   \n",
       "2            5            5           5               5                   5   \n",
       "3            5            5           5               5                   5   \n",
       "4            5            5           4               5                   5   \n",
       "\n",
       "                                            Comments  \\\n",
       "0  Overall a great program especially for career ...   \n",
       "1  I attended the data and business analytics boo...   \n",
       "2  I arrived in Canada with a Bachelor's degree i...   \n",
       "3  I arrived in Canada with a Bachelor's degree i...   \n",
       "4  I attended WeCloudData Applied BI program in 2...   \n",
       "\n",
       "                                                pros  \\\n",
       "0  - Knowledgeable and patient instructors and TA...   \n",
       "1       Great support, nice tutor, practical content   \n",
       "2  Really straight forward wth projects that help...   \n",
       "3  Really straight forward, with projects that he...   \n",
       "4  Instructors/mentors/TAs are nice. My mentor Le...   \n",
       "\n",
       "                                                cons  \n",
       "0  - Learning experience felt more individual rat...  \n",
       "1          Time were a bit tight to learn everything  \n",
       "2  Pretty Intense so it will be better if you are...  \n",
       "3  Intense, So It will be better if you don't hav...  \n",
       "4  A bit intensive or not that friendly for full ...  "
      ]
     },
     "execution_count": 2,
     "metadata": {},
     "output_type": "execute_result"
    }
   ],
   "source": [
    "# import CareerKarma data\n",
    "CareerKarma = pd.read_csv(r\"C:\\Users\\Hanme\\Desktop\\WeCloudData\\Protfoilo Project\\Course Review Project\\CareerKarma.csv\", index_col=0)\n",
    "CareerKarma.head()"
   ]
  },
  {
   "cell_type": "code",
   "execution_count": 3,
   "id": "3d5e9106",
   "metadata": {},
   "outputs": [
    {
     "data": {
      "text/plain": [
       "2771"
      ]
     },
     "execution_count": 3,
     "metadata": {},
     "output_type": "execute_result"
    }
   ],
   "source": [
    "len(CareerKarma)"
   ]
  },
  {
   "cell_type": "code",
   "execution_count": 4,
   "id": "d9a2259b",
   "metadata": {},
   "outputs": [],
   "source": [
    "# create column website\n",
    "CareerKarma['Website'] = 'CareerKarma'"
   ]
  },
  {
   "cell_type": "code",
   "execution_count": 5,
   "id": "2890d50d",
   "metadata": {},
   "outputs": [],
   "source": [
    "# create column course\n",
    "CareerKarma['Course'] = 'NaN'"
   ]
  },
  {
   "cell_type": "code",
   "execution_count": 6,
   "id": "076ef46a",
   "metadata": {},
   "outputs": [],
   "source": [
    "# rename columns\n",
    "CareerKarma.rename(columns={'review star': 'Overall_rating'}, inplace=True)\n",
    "CareerKarma.rename(columns={'review title': 'Title'}, inplace=True)\n",
    "CareerKarma.rename(columns={'Comments': 'Review'}, inplace=True)"
   ]
  },
  {
   "cell_type": "code",
   "execution_count": 7,
   "id": "7856f319",
   "metadata": {},
   "outputs": [],
   "source": [
    "# reindex columns, change the order of columns\n",
    "CareerKarma = CareerKarma.reindex(columns = ['school', 'overview', 'Course', 'Title', 'Review', 'Overall_rating', 'Instructors',\n",
    "       'Curriculum', 'Job Assistance', 'Overall Experience', 'pros',\n",
    "       'cons', 'Website'])"
   ]
  },
  {
   "cell_type": "code",
   "execution_count": 8,
   "id": "b7ba59b4",
   "metadata": {},
   "outputs": [],
   "source": [
    "# convert data range from 0-5 to 0-100\n",
    "CareerKarma['Overall_rating'] = CareerKarma['Overall_rating'] * 20\n",
    "\n",
    "CareerKarma['Instructors'] = CareerKarma['Instructors'] * 20\n",
    "\n",
    "CareerKarma['Curriculum'] = CareerKarma['Curriculum'] * 20\n",
    "\n",
    "CareerKarma['Job Assistance'] = CareerKarma['Job Assistance'] * 20\n",
    "\n",
    "CareerKarma['Overall Experience'] = CareerKarma['Overall Experience'] * 20"
   ]
  },
  {
   "cell_type": "code",
   "execution_count": 9,
   "id": "be3519bc",
   "metadata": {
    "scrolled": false
   },
   "outputs": [
    {
     "data": {
      "text/html": [
       "<div>\n",
       "<style scoped>\n",
       "    .dataframe tbody tr th:only-of-type {\n",
       "        vertical-align: middle;\n",
       "    }\n",
       "\n",
       "    .dataframe tbody tr th {\n",
       "        vertical-align: top;\n",
       "    }\n",
       "\n",
       "    .dataframe thead th {\n",
       "        text-align: right;\n",
       "    }\n",
       "</style>\n",
       "<table border=\"1\" class=\"dataframe\">\n",
       "  <thead>\n",
       "    <tr style=\"text-align: right;\">\n",
       "      <th></th>\n",
       "      <th>school</th>\n",
       "      <th>overview</th>\n",
       "      <th>Course</th>\n",
       "      <th>Title</th>\n",
       "      <th>Review</th>\n",
       "      <th>Overall_rating</th>\n",
       "      <th>Instructors</th>\n",
       "      <th>Curriculum</th>\n",
       "      <th>Job Assistance</th>\n",
       "      <th>Overall Experience</th>\n",
       "      <th>pros</th>\n",
       "      <th>cons</th>\n",
       "      <th>Website</th>\n",
       "    </tr>\n",
       "  </thead>\n",
       "  <tbody>\n",
       "    <tr>\n",
       "      <th>0</th>\n",
       "      <td>WeCloudData</td>\n",
       "      <td>4.8/5</td>\n",
       "      <td>NaN</td>\n",
       "      <td>Full Time DS Bootcamp Review</td>\n",
       "      <td>Overall a great program especially for career ...</td>\n",
       "      <td>100</td>\n",
       "      <td>80</td>\n",
       "      <td>100</td>\n",
       "      <td>60</td>\n",
       "      <td>100</td>\n",
       "      <td>- Knowledgeable and patient instructors and TA...</td>\n",
       "      <td>- Learning experience felt more individual rat...</td>\n",
       "      <td>CareerKarma</td>\n",
       "    </tr>\n",
       "    <tr>\n",
       "      <th>1</th>\n",
       "      <td>WeCloudData</td>\n",
       "      <td>4.8/5</td>\n",
       "      <td>NaN</td>\n",
       "      <td>A good bootcamp! its worth to make the decision</td>\n",
       "      <td>I attended the data and business analytics boo...</td>\n",
       "      <td>100</td>\n",
       "      <td>100</td>\n",
       "      <td>100</td>\n",
       "      <td>100</td>\n",
       "      <td>100</td>\n",
       "      <td>Great support, nice tutor, practical content</td>\n",
       "      <td>Time were a bit tight to learn everything</td>\n",
       "      <td>CareerKarma</td>\n",
       "    </tr>\n",
       "    <tr>\n",
       "      <th>2</th>\n",
       "      <td>WeCloudData</td>\n",
       "      <td>4.8/5</td>\n",
       "      <td>NaN</td>\n",
       "      <td>Best DS BootCamp in Canada</td>\n",
       "      <td>I arrived in Canada with a Bachelor's degree i...</td>\n",
       "      <td>100</td>\n",
       "      <td>100</td>\n",
       "      <td>100</td>\n",
       "      <td>100</td>\n",
       "      <td>100</td>\n",
       "      <td>Really straight forward wth projects that help...</td>\n",
       "      <td>Pretty Intense so it will be better if you are...</td>\n",
       "      <td>CareerKarma</td>\n",
       "    </tr>\n",
       "    <tr>\n",
       "      <th>3</th>\n",
       "      <td>WeCloudData</td>\n",
       "      <td>4.8/5</td>\n",
       "      <td>NaN</td>\n",
       "      <td>Best DS in Canada</td>\n",
       "      <td>I arrived in Canada with a Bachelor's degree i...</td>\n",
       "      <td>100</td>\n",
       "      <td>100</td>\n",
       "      <td>100</td>\n",
       "      <td>100</td>\n",
       "      <td>100</td>\n",
       "      <td>Really straight forward, with projects that he...</td>\n",
       "      <td>Intense, So It will be better if you don't hav...</td>\n",
       "      <td>CareerKarma</td>\n",
       "    </tr>\n",
       "    <tr>\n",
       "      <th>4</th>\n",
       "      <td>WeCloudData</td>\n",
       "      <td>4.8/5</td>\n",
       "      <td>NaN</td>\n",
       "      <td>Great program with helpful career guidance</td>\n",
       "      <td>I attended WeCloudData Applied BI program in 2...</td>\n",
       "      <td>100</td>\n",
       "      <td>100</td>\n",
       "      <td>80</td>\n",
       "      <td>100</td>\n",
       "      <td>100</td>\n",
       "      <td>Instructors/mentors/TAs are nice. My mentor Le...</td>\n",
       "      <td>A bit intensive or not that friendly for full ...</td>\n",
       "      <td>CareerKarma</td>\n",
       "    </tr>\n",
       "  </tbody>\n",
       "</table>\n",
       "</div>"
      ],
      "text/plain": [
       "        school overview Course  \\\n",
       "0  WeCloudData    4.8/5    NaN   \n",
       "1  WeCloudData    4.8/5    NaN   \n",
       "2  WeCloudData    4.8/5    NaN   \n",
       "3  WeCloudData    4.8/5    NaN   \n",
       "4  WeCloudData    4.8/5    NaN   \n",
       "\n",
       "                                             Title  \\\n",
       "0                     Full Time DS Bootcamp Review   \n",
       "1  A good bootcamp! its worth to make the decision   \n",
       "2                       Best DS BootCamp in Canada   \n",
       "3                                Best DS in Canada   \n",
       "4       Great program with helpful career guidance   \n",
       "\n",
       "                                              Review  Overall_rating  \\\n",
       "0  Overall a great program especially for career ...             100   \n",
       "1  I attended the data and business analytics boo...             100   \n",
       "2  I arrived in Canada with a Bachelor's degree i...             100   \n",
       "3  I arrived in Canada with a Bachelor's degree i...             100   \n",
       "4  I attended WeCloudData Applied BI program in 2...             100   \n",
       "\n",
       "   Instructors  Curriculum  Job Assistance  Overall Experience  \\\n",
       "0           80         100              60                 100   \n",
       "1          100         100             100                 100   \n",
       "2          100         100             100                 100   \n",
       "3          100         100             100                 100   \n",
       "4          100          80             100                 100   \n",
       "\n",
       "                                                pros  \\\n",
       "0  - Knowledgeable and patient instructors and TA...   \n",
       "1       Great support, nice tutor, practical content   \n",
       "2  Really straight forward wth projects that help...   \n",
       "3  Really straight forward, with projects that he...   \n",
       "4  Instructors/mentors/TAs are nice. My mentor Le...   \n",
       "\n",
       "                                                cons      Website  \n",
       "0  - Learning experience felt more individual rat...  CareerKarma  \n",
       "1          Time were a bit tight to learn everything  CareerKarma  \n",
       "2  Pretty Intense so it will be better if you are...  CareerKarma  \n",
       "3  Intense, So It will be better if you don't hav...  CareerKarma  \n",
       "4  A bit intensive or not that friendly for full ...  CareerKarma  "
      ]
     },
     "execution_count": 9,
     "metadata": {},
     "output_type": "execute_result"
    }
   ],
   "source": [
    "CareerKarma.head()"
   ]
  },
  {
   "cell_type": "code",
   "execution_count": 10,
   "id": "0043a563",
   "metadata": {
    "scrolled": true
   },
   "outputs": [
    {
     "data": {
      "text/html": [
       "<div>\n",
       "<style scoped>\n",
       "    .dataframe tbody tr th:only-of-type {\n",
       "        vertical-align: middle;\n",
       "    }\n",
       "\n",
       "    .dataframe tbody tr th {\n",
       "        vertical-align: top;\n",
       "    }\n",
       "\n",
       "    .dataframe thead th {\n",
       "        text-align: right;\n",
       "    }\n",
       "</style>\n",
       "<table border=\"1\" class=\"dataframe\">\n",
       "  <thead>\n",
       "    <tr style=\"text-align: right;\">\n",
       "      <th></th>\n",
       "      <th>Reviewer</th>\n",
       "      <th>Course</th>\n",
       "      <th>Date</th>\n",
       "      <th>Overall_rating</th>\n",
       "      <th>Curriculum_rating</th>\n",
       "      <th>Job_Support_rating</th>\n",
       "      <th>Instructors_rating</th>\n",
       "      <th>Title</th>\n",
       "      <th>Review</th>\n",
       "      <th>Location</th>\n",
       "      <th>Job</th>\n",
       "      <th>Year_graduated</th>\n",
       "      <th>Bootcamp</th>\n",
       "      <th>Website</th>\n",
       "    </tr>\n",
       "  </thead>\n",
       "  <tbody>\n",
       "    <tr>\n",
       "      <th>0</th>\n",
       "      <td>Sami Sidhik</td>\n",
       "      <td>Applied Business Intelligence Certificate</td>\n",
       "      <td>2022-05-24</td>\n",
       "      <td>100.0</td>\n",
       "      <td>100.0</td>\n",
       "      <td>100.0</td>\n",
       "      <td>100.0</td>\n",
       "      <td>Great way to enter into the world of Data Anal...</td>\n",
       "      <td>I had a great experience with the Business Int...</td>\n",
       "      <td>Vancouver</td>\n",
       "      <td>NaN</td>\n",
       "      <td>NaN</td>\n",
       "      <td>WeCloudData</td>\n",
       "      <td>CourseCompare</td>\n",
       "    </tr>\n",
       "    <tr>\n",
       "      <th>1</th>\n",
       "      <td>Kevin</td>\n",
       "      <td>Data Science Bootcamp</td>\n",
       "      <td>2022-05-01</td>\n",
       "      <td>80.0</td>\n",
       "      <td>100.0</td>\n",
       "      <td>80.0</td>\n",
       "      <td>100.0</td>\n",
       "      <td>A boost for your smooth career switch</td>\n",
       "      <td>I became familiar with WCD in early January 20...</td>\n",
       "      <td>Montreal</td>\n",
       "      <td>NaN</td>\n",
       "      <td>NaN</td>\n",
       "      <td>WeCloudData</td>\n",
       "      <td>CourseCompare</td>\n",
       "    </tr>\n",
       "    <tr>\n",
       "      <th>2</th>\n",
       "      <td>Anonymous</td>\n",
       "      <td>Applied Business Intelligence Certificate</td>\n",
       "      <td>2022-04-29</td>\n",
       "      <td>100.0</td>\n",
       "      <td>NaN</td>\n",
       "      <td>NaN</td>\n",
       "      <td>100.0</td>\n",
       "      <td>Part time data analytics course</td>\n",
       "      <td>It was an amazing experience highly recommend ...</td>\n",
       "      <td>Toronto</td>\n",
       "      <td>NaN</td>\n",
       "      <td>NaN</td>\n",
       "      <td>WeCloudData</td>\n",
       "      <td>CourseCompare</td>\n",
       "    </tr>\n",
       "    <tr>\n",
       "      <th>3</th>\n",
       "      <td>Manika Midha</td>\n",
       "      <td>Data Science Bootcamp</td>\n",
       "      <td>2022-04-13</td>\n",
       "      <td>100.0</td>\n",
       "      <td>100.0</td>\n",
       "      <td>60.0</td>\n",
       "      <td>80.0</td>\n",
       "      <td>Great Experience</td>\n",
       "      <td>I had a great experience. I liked the instruct...</td>\n",
       "      <td>Toronto</td>\n",
       "      <td>NaN</td>\n",
       "      <td>NaN</td>\n",
       "      <td>WeCloudData</td>\n",
       "      <td>CourseCompare</td>\n",
       "    </tr>\n",
       "    <tr>\n",
       "      <th>4</th>\n",
       "      <td>Harold Castillo</td>\n",
       "      <td>Applied Business Intelligence Certificate</td>\n",
       "      <td>2022-04-07</td>\n",
       "      <td>100.0</td>\n",
       "      <td>100.0</td>\n",
       "      <td>100.0</td>\n",
       "      <td>100.0</td>\n",
       "      <td>Great Experience</td>\n",
       "      <td>I had the pleasure to share this experience wi...</td>\n",
       "      <td>Toronto</td>\n",
       "      <td>NaN</td>\n",
       "      <td>NaN</td>\n",
       "      <td>WeCloudData</td>\n",
       "      <td>CourseCompare</td>\n",
       "    </tr>\n",
       "  </tbody>\n",
       "</table>\n",
       "</div>"
      ],
      "text/plain": [
       "          Reviewer                                     Course        Date  \\\n",
       "0      Sami Sidhik  Applied Business Intelligence Certificate  2022-05-24   \n",
       "1            Kevin                      Data Science Bootcamp  2022-05-01   \n",
       "2        Anonymous  Applied Business Intelligence Certificate  2022-04-29   \n",
       "3     Manika Midha                      Data Science Bootcamp  2022-04-13   \n",
       "4  Harold Castillo  Applied Business Intelligence Certificate  2022-04-07   \n",
       "\n",
       "   Overall_rating  Curriculum_rating  Job_Support_rating  Instructors_rating  \\\n",
       "0           100.0              100.0               100.0               100.0   \n",
       "1            80.0              100.0                80.0               100.0   \n",
       "2           100.0                NaN                 NaN               100.0   \n",
       "3           100.0              100.0                60.0                80.0   \n",
       "4           100.0              100.0               100.0               100.0   \n",
       "\n",
       "                                               Title  \\\n",
       "0  Great way to enter into the world of Data Anal...   \n",
       "1              A boost for your smooth career switch   \n",
       "2                    Part time data analytics course   \n",
       "3                                   Great Experience   \n",
       "4                                   Great Experience   \n",
       "\n",
       "                                              Review   Location  Job  \\\n",
       "0  I had a great experience with the Business Int...  Vancouver  NaN   \n",
       "1  I became familiar with WCD in early January 20...   Montreal  NaN   \n",
       "2  It was an amazing experience highly recommend ...    Toronto  NaN   \n",
       "3  I had a great experience. I liked the instruct...    Toronto  NaN   \n",
       "4  I had the pleasure to share this experience wi...    Toronto  NaN   \n",
       "\n",
       "   Year_graduated     Bootcamp        Website  \n",
       "0             NaN  WeCloudData  CourseCompare  \n",
       "1             NaN  WeCloudData  CourseCompare  \n",
       "2             NaN  WeCloudData  CourseCompare  \n",
       "3             NaN  WeCloudData  CourseCompare  \n",
       "4             NaN  WeCloudData  CourseCompare  "
      ]
     },
     "execution_count": 10,
     "metadata": {},
     "output_type": "execute_result"
    }
   ],
   "source": [
    "# import Switchup_cc data\n",
    "Switchup_cc = pd.read_csv(r\"C:\\Users\\Hanme\\Desktop\\WeCloudData\\Protfoilo Project\\Course Review Project\\Switchup_Coursecompare.csv\", encoding= 'unicode_escape', index_col=0)\n",
    "Switchup_cc.head()"
   ]
  },
  {
   "cell_type": "code",
   "execution_count": 11,
   "id": "f99ffb59",
   "metadata": {},
   "outputs": [
    {
     "data": {
      "text/plain": [
       "6682"
      ]
     },
     "execution_count": 11,
     "metadata": {},
     "output_type": "execute_result"
    }
   ],
   "source": [
    "len(Switchup_cc)"
   ]
  },
  {
   "cell_type": "code",
   "execution_count": 12,
   "id": "be3a2fca",
   "metadata": {},
   "outputs": [],
   "source": [
    "# drop reviewer, date, location, job, year_graduated\n",
    "Switchup_cc = Switchup_cc.drop(columns = ['Reviewer', 'Date', 'Location', 'Job', 'Year_graduated'])"
   ]
  },
  {
   "cell_type": "code",
   "execution_count": 13,
   "id": "6dd7511b",
   "metadata": {},
   "outputs": [],
   "source": [
    "# create pros, cons, overview, overall experience\n",
    "Switchup_cc['pros'] = 'NaN'\n",
    "Switchup_cc['cons'] = 'NaN'\n",
    "Switchup_cc['overview'] = 'NaN'\n",
    "Switchup_cc['Overall Experience'] = 'NaN'"
   ]
  },
  {
   "cell_type": "code",
   "execution_count": 14,
   "id": "0e3b32e3",
   "metadata": {},
   "outputs": [],
   "source": [
    "# rename columns\n",
    "Switchup_cc.rename(columns={'Bootcamp': 'school'}, inplace=True)\n",
    "Switchup_cc.rename(columns={'Curriculum_rating': 'Curriculum'}, inplace=True)\n",
    "Switchup_cc.rename(columns={'Job_Support_rating': 'Job Assistance'}, inplace=True)\n",
    "Switchup_cc.rename(columns={'Instructors_rating': 'Instructors'}, inplace=True)"
   ]
  },
  {
   "cell_type": "code",
   "execution_count": 15,
   "id": "70ecede1",
   "metadata": {},
   "outputs": [],
   "source": [
    "# reindex columns, switch order\n",
    "Switchup_cc = Switchup_cc.reindex(columns = ['school', 'overview', 'Course', 'Title', 'Review', 'Overall_rating', 'Instructors',\n",
    "       'Curriculum', 'Job Assistance', 'Overall Experience', 'pros',\n",
    "       'cons', 'Website'])"
   ]
  },
  {
   "cell_type": "code",
   "execution_count": 16,
   "id": "80ee67c5",
   "metadata": {
    "scrolled": false
   },
   "outputs": [
    {
     "data": {
      "text/html": [
       "<div>\n",
       "<style scoped>\n",
       "    .dataframe tbody tr th:only-of-type {\n",
       "        vertical-align: middle;\n",
       "    }\n",
       "\n",
       "    .dataframe tbody tr th {\n",
       "        vertical-align: top;\n",
       "    }\n",
       "\n",
       "    .dataframe thead th {\n",
       "        text-align: right;\n",
       "    }\n",
       "</style>\n",
       "<table border=\"1\" class=\"dataframe\">\n",
       "  <thead>\n",
       "    <tr style=\"text-align: right;\">\n",
       "      <th></th>\n",
       "      <th>school</th>\n",
       "      <th>overview</th>\n",
       "      <th>Course</th>\n",
       "      <th>Title</th>\n",
       "      <th>Review</th>\n",
       "      <th>Overall_rating</th>\n",
       "      <th>Instructors</th>\n",
       "      <th>Curriculum</th>\n",
       "      <th>Job Assistance</th>\n",
       "      <th>Overall Experience</th>\n",
       "      <th>pros</th>\n",
       "      <th>cons</th>\n",
       "      <th>Website</th>\n",
       "    </tr>\n",
       "  </thead>\n",
       "  <tbody>\n",
       "    <tr>\n",
       "      <th>0</th>\n",
       "      <td>WeCloudData</td>\n",
       "      <td>NaN</td>\n",
       "      <td>Applied Business Intelligence Certificate</td>\n",
       "      <td>Great way to enter into the world of Data Anal...</td>\n",
       "      <td>I had a great experience with the Business Int...</td>\n",
       "      <td>100.0</td>\n",
       "      <td>100.0</td>\n",
       "      <td>100.0</td>\n",
       "      <td>100.0</td>\n",
       "      <td>NaN</td>\n",
       "      <td>NaN</td>\n",
       "      <td>NaN</td>\n",
       "      <td>CourseCompare</td>\n",
       "    </tr>\n",
       "    <tr>\n",
       "      <th>1</th>\n",
       "      <td>WeCloudData</td>\n",
       "      <td>NaN</td>\n",
       "      <td>Data Science Bootcamp</td>\n",
       "      <td>A boost for your smooth career switch</td>\n",
       "      <td>I became familiar with WCD in early January 20...</td>\n",
       "      <td>80.0</td>\n",
       "      <td>100.0</td>\n",
       "      <td>100.0</td>\n",
       "      <td>80.0</td>\n",
       "      <td>NaN</td>\n",
       "      <td>NaN</td>\n",
       "      <td>NaN</td>\n",
       "      <td>CourseCompare</td>\n",
       "    </tr>\n",
       "    <tr>\n",
       "      <th>2</th>\n",
       "      <td>WeCloudData</td>\n",
       "      <td>NaN</td>\n",
       "      <td>Applied Business Intelligence Certificate</td>\n",
       "      <td>Part time data analytics course</td>\n",
       "      <td>It was an amazing experience highly recommend ...</td>\n",
       "      <td>100.0</td>\n",
       "      <td>100.0</td>\n",
       "      <td>NaN</td>\n",
       "      <td>NaN</td>\n",
       "      <td>NaN</td>\n",
       "      <td>NaN</td>\n",
       "      <td>NaN</td>\n",
       "      <td>CourseCompare</td>\n",
       "    </tr>\n",
       "    <tr>\n",
       "      <th>3</th>\n",
       "      <td>WeCloudData</td>\n",
       "      <td>NaN</td>\n",
       "      <td>Data Science Bootcamp</td>\n",
       "      <td>Great Experience</td>\n",
       "      <td>I had a great experience. I liked the instruct...</td>\n",
       "      <td>100.0</td>\n",
       "      <td>80.0</td>\n",
       "      <td>100.0</td>\n",
       "      <td>60.0</td>\n",
       "      <td>NaN</td>\n",
       "      <td>NaN</td>\n",
       "      <td>NaN</td>\n",
       "      <td>CourseCompare</td>\n",
       "    </tr>\n",
       "    <tr>\n",
       "      <th>4</th>\n",
       "      <td>WeCloudData</td>\n",
       "      <td>NaN</td>\n",
       "      <td>Applied Business Intelligence Certificate</td>\n",
       "      <td>Great Experience</td>\n",
       "      <td>I had the pleasure to share this experience wi...</td>\n",
       "      <td>100.0</td>\n",
       "      <td>100.0</td>\n",
       "      <td>100.0</td>\n",
       "      <td>100.0</td>\n",
       "      <td>NaN</td>\n",
       "      <td>NaN</td>\n",
       "      <td>NaN</td>\n",
       "      <td>CourseCompare</td>\n",
       "    </tr>\n",
       "  </tbody>\n",
       "</table>\n",
       "</div>"
      ],
      "text/plain": [
       "        school overview                                     Course  \\\n",
       "0  WeCloudData      NaN  Applied Business Intelligence Certificate   \n",
       "1  WeCloudData      NaN                      Data Science Bootcamp   \n",
       "2  WeCloudData      NaN  Applied Business Intelligence Certificate   \n",
       "3  WeCloudData      NaN                      Data Science Bootcamp   \n",
       "4  WeCloudData      NaN  Applied Business Intelligence Certificate   \n",
       "\n",
       "                                               Title  \\\n",
       "0  Great way to enter into the world of Data Anal...   \n",
       "1              A boost for your smooth career switch   \n",
       "2                    Part time data analytics course   \n",
       "3                                   Great Experience   \n",
       "4                                   Great Experience   \n",
       "\n",
       "                                              Review  Overall_rating  \\\n",
       "0  I had a great experience with the Business Int...           100.0   \n",
       "1  I became familiar with WCD in early January 20...            80.0   \n",
       "2  It was an amazing experience highly recommend ...           100.0   \n",
       "3  I had a great experience. I liked the instruct...           100.0   \n",
       "4  I had the pleasure to share this experience wi...           100.0   \n",
       "\n",
       "   Instructors  Curriculum  Job Assistance Overall Experience pros cons  \\\n",
       "0        100.0       100.0           100.0                NaN  NaN  NaN   \n",
       "1        100.0       100.0            80.0                NaN  NaN  NaN   \n",
       "2        100.0         NaN             NaN                NaN  NaN  NaN   \n",
       "3         80.0       100.0            60.0                NaN  NaN  NaN   \n",
       "4        100.0       100.0           100.0                NaN  NaN  NaN   \n",
       "\n",
       "         Website  \n",
       "0  CourseCompare  \n",
       "1  CourseCompare  \n",
       "2  CourseCompare  \n",
       "3  CourseCompare  \n",
       "4  CourseCompare  "
      ]
     },
     "execution_count": 16,
     "metadata": {},
     "output_type": "execute_result"
    }
   ],
   "source": [
    "Switchup_cc.head()"
   ]
  },
  {
   "cell_type": "code",
   "execution_count": 17,
   "id": "2830dc6d",
   "metadata": {},
   "outputs": [],
   "source": [
    "# contact two tables as data\n",
    "data = pd.concat([CareerKarma,Switchup_cc])"
   ]
  },
  {
   "cell_type": "code",
   "execution_count": 18,
   "id": "20a80a23",
   "metadata": {},
   "outputs": [
    {
     "data": {
      "text/plain": [
       "9453"
      ]
     },
     "execution_count": 18,
     "metadata": {},
     "output_type": "execute_result"
    }
   ],
   "source": [
    "len(data)"
   ]
  },
  {
   "cell_type": "code",
   "execution_count": 19,
   "id": "04045518",
   "metadata": {},
   "outputs": [],
   "source": [
    "# save data to csv\n",
    "data.to_csv('data.csv', index=False)"
   ]
  },
  {
   "cell_type": "markdown",
   "id": "da93f1a2",
   "metadata": {},
   "source": [
    "## 2. EDA analysis"
   ]
  },
  {
   "cell_type": "code",
   "execution_count": 20,
   "id": "e79d8df3",
   "metadata": {},
   "outputs": [],
   "source": [
    "# read data\n",
    "data = pd.read_csv('data.csv', index_col=0)"
   ]
  },
  {
   "cell_type": "code",
   "execution_count": 21,
   "id": "4064f209",
   "metadata": {},
   "outputs": [],
   "source": [
    "# remove'/5' from overview\n",
    "data['overview'] = data['overview'].str.replace('/5','')"
   ]
  },
  {
   "cell_type": "code",
   "execution_count": 22,
   "id": "f657595d",
   "metadata": {
    "scrolled": true
   },
   "outputs": [
    {
     "data": {
      "text/html": [
       "<div>\n",
       "<style scoped>\n",
       "    .dataframe tbody tr th:only-of-type {\n",
       "        vertical-align: middle;\n",
       "    }\n",
       "\n",
       "    .dataframe tbody tr th {\n",
       "        vertical-align: top;\n",
       "    }\n",
       "\n",
       "    .dataframe thead th {\n",
       "        text-align: right;\n",
       "    }\n",
       "</style>\n",
       "<table border=\"1\" class=\"dataframe\">\n",
       "  <thead>\n",
       "    <tr style=\"text-align: right;\">\n",
       "      <th></th>\n",
       "      <th>overview</th>\n",
       "      <th>Course</th>\n",
       "      <th>Title</th>\n",
       "      <th>Review</th>\n",
       "      <th>Overall_rating</th>\n",
       "      <th>Instructors</th>\n",
       "      <th>Curriculum</th>\n",
       "      <th>Job Assistance</th>\n",
       "      <th>Overall Experience</th>\n",
       "      <th>pros</th>\n",
       "      <th>cons</th>\n",
       "      <th>Website</th>\n",
       "    </tr>\n",
       "    <tr>\n",
       "      <th>school</th>\n",
       "      <th></th>\n",
       "      <th></th>\n",
       "      <th></th>\n",
       "      <th></th>\n",
       "      <th></th>\n",
       "      <th></th>\n",
       "      <th></th>\n",
       "      <th></th>\n",
       "      <th></th>\n",
       "      <th></th>\n",
       "      <th></th>\n",
       "      <th></th>\n",
       "    </tr>\n",
       "  </thead>\n",
       "  <tbody>\n",
       "    <tr>\n",
       "      <th>WeCloudData</th>\n",
       "      <td>4.8</td>\n",
       "      <td>NaN</td>\n",
       "      <td>Full Time DS Bootcamp Review</td>\n",
       "      <td>Overall a great program especially for career ...</td>\n",
       "      <td>100.0</td>\n",
       "      <td>80.0</td>\n",
       "      <td>100.0</td>\n",
       "      <td>60.0</td>\n",
       "      <td>100.0</td>\n",
       "      <td>- Knowledgeable and patient instructors and TA...</td>\n",
       "      <td>- Learning experience felt more individual rat...</td>\n",
       "      <td>CareerKarma</td>\n",
       "    </tr>\n",
       "    <tr>\n",
       "      <th>WeCloudData</th>\n",
       "      <td>4.8</td>\n",
       "      <td>NaN</td>\n",
       "      <td>A good bootcamp! its worth to make the decision</td>\n",
       "      <td>I attended the data and business analytics boo...</td>\n",
       "      <td>100.0</td>\n",
       "      <td>100.0</td>\n",
       "      <td>100.0</td>\n",
       "      <td>100.0</td>\n",
       "      <td>100.0</td>\n",
       "      <td>Great support, nice tutor, practical content</td>\n",
       "      <td>Time were a bit tight to learn everything</td>\n",
       "      <td>CareerKarma</td>\n",
       "    </tr>\n",
       "    <tr>\n",
       "      <th>WeCloudData</th>\n",
       "      <td>4.8</td>\n",
       "      <td>NaN</td>\n",
       "      <td>Best DS BootCamp in Canada</td>\n",
       "      <td>I arrived in Canada with a Bachelor's degree i...</td>\n",
       "      <td>100.0</td>\n",
       "      <td>100.0</td>\n",
       "      <td>100.0</td>\n",
       "      <td>100.0</td>\n",
       "      <td>100.0</td>\n",
       "      <td>Really straight forward wth projects that help...</td>\n",
       "      <td>Pretty Intense so it will be better if you are...</td>\n",
       "      <td>CareerKarma</td>\n",
       "    </tr>\n",
       "    <tr>\n",
       "      <th>WeCloudData</th>\n",
       "      <td>4.8</td>\n",
       "      <td>NaN</td>\n",
       "      <td>Best DS in Canada</td>\n",
       "      <td>I arrived in Canada with a Bachelor's degree i...</td>\n",
       "      <td>100.0</td>\n",
       "      <td>100.0</td>\n",
       "      <td>100.0</td>\n",
       "      <td>100.0</td>\n",
       "      <td>100.0</td>\n",
       "      <td>Really straight forward, with projects that he...</td>\n",
       "      <td>Intense, So It will be better if you don't hav...</td>\n",
       "      <td>CareerKarma</td>\n",
       "    </tr>\n",
       "    <tr>\n",
       "      <th>WeCloudData</th>\n",
       "      <td>4.8</td>\n",
       "      <td>NaN</td>\n",
       "      <td>Great program with helpful career guidance</td>\n",
       "      <td>I attended WeCloudData Applied BI program in 2...</td>\n",
       "      <td>100.0</td>\n",
       "      <td>100.0</td>\n",
       "      <td>80.0</td>\n",
       "      <td>100.0</td>\n",
       "      <td>100.0</td>\n",
       "      <td>Instructors/mentors/TAs are nice. My mentor Le...</td>\n",
       "      <td>A bit intensive or not that friendly for full ...</td>\n",
       "      <td>CareerKarma</td>\n",
       "    </tr>\n",
       "  </tbody>\n",
       "</table>\n",
       "</div>"
      ],
      "text/plain": [
       "            overview Course                                            Title  \\\n",
       "school                                                                         \n",
       "WeCloudData      4.8    NaN                     Full Time DS Bootcamp Review   \n",
       "WeCloudData      4.8    NaN  A good bootcamp! its worth to make the decision   \n",
       "WeCloudData      4.8    NaN                       Best DS BootCamp in Canada   \n",
       "WeCloudData      4.8    NaN                                Best DS in Canada   \n",
       "WeCloudData      4.8    NaN       Great program with helpful career guidance   \n",
       "\n",
       "                                                        Review  \\\n",
       "school                                                           \n",
       "WeCloudData  Overall a great program especially for career ...   \n",
       "WeCloudData  I attended the data and business analytics boo...   \n",
       "WeCloudData  I arrived in Canada with a Bachelor's degree i...   \n",
       "WeCloudData  I arrived in Canada with a Bachelor's degree i...   \n",
       "WeCloudData  I attended WeCloudData Applied BI program in 2...   \n",
       "\n",
       "             Overall_rating  Instructors  Curriculum  Job Assistance  \\\n",
       "school                                                                 \n",
       "WeCloudData           100.0         80.0       100.0            60.0   \n",
       "WeCloudData           100.0        100.0       100.0           100.0   \n",
       "WeCloudData           100.0        100.0       100.0           100.0   \n",
       "WeCloudData           100.0        100.0       100.0           100.0   \n",
       "WeCloudData           100.0        100.0        80.0           100.0   \n",
       "\n",
       "             Overall Experience  \\\n",
       "school                            \n",
       "WeCloudData               100.0   \n",
       "WeCloudData               100.0   \n",
       "WeCloudData               100.0   \n",
       "WeCloudData               100.0   \n",
       "WeCloudData               100.0   \n",
       "\n",
       "                                                          pros  \\\n",
       "school                                                           \n",
       "WeCloudData  - Knowledgeable and patient instructors and TA...   \n",
       "WeCloudData       Great support, nice tutor, practical content   \n",
       "WeCloudData  Really straight forward wth projects that help...   \n",
       "WeCloudData  Really straight forward, with projects that he...   \n",
       "WeCloudData  Instructors/mentors/TAs are nice. My mentor Le...   \n",
       "\n",
       "                                                          cons      Website  \n",
       "school                                                                       \n",
       "WeCloudData  - Learning experience felt more individual rat...  CareerKarma  \n",
       "WeCloudData          Time were a bit tight to learn everything  CareerKarma  \n",
       "WeCloudData  Pretty Intense so it will be better if you are...  CareerKarma  \n",
       "WeCloudData  Intense, So It will be better if you don't hav...  CareerKarma  \n",
       "WeCloudData  A bit intensive or not that friendly for full ...  CareerKarma  "
      ]
     },
     "execution_count": 22,
     "metadata": {},
     "output_type": "execute_result"
    }
   ],
   "source": [
    "data.head()"
   ]
  },
  {
   "cell_type": "code",
   "execution_count": 23,
   "id": "46de0cef",
   "metadata": {},
   "outputs": [
    {
     "data": {
      "text/plain": [
       "9453"
      ]
     },
     "execution_count": 23,
     "metadata": {},
     "output_type": "execute_result"
    }
   ],
   "source": [
    "len(data)"
   ]
  },
  {
   "cell_type": "code",
   "execution_count": 24,
   "id": "4dac8735",
   "metadata": {
    "scrolled": true
   },
   "outputs": [
    {
     "name": "stdout",
     "output_type": "stream",
     "text": [
      "<class 'pandas.core.frame.DataFrame'>\n",
      "Index: 9453 entries, WeCloudData to Le Wagon\n",
      "Data columns (total 12 columns):\n",
      " #   Column              Non-Null Count  Dtype  \n",
      "---  ------              --------------  -----  \n",
      " 0   overview            2771 non-null   object \n",
      " 1   Course              5433 non-null   object \n",
      " 2   Title               9449 non-null   object \n",
      " 3   Review              9453 non-null   object \n",
      " 4   Overall_rating      9453 non-null   float64\n",
      " 5   Instructors         3281 non-null   float64\n",
      " 6   Curriculum          9450 non-null   float64\n",
      " 7   Job Assistance      9267 non-null   float64\n",
      " 8   Overall Experience  2771 non-null   float64\n",
      " 9   pros                2771 non-null   object \n",
      " 10  cons                2771 non-null   object \n",
      " 11  Website             9453 non-null   object \n",
      "dtypes: float64(5), object(7)\n",
      "memory usage: 960.1+ KB\n"
     ]
    }
   ],
   "source": [
    "# check datatype\n",
    "data.info()"
   ]
  },
  {
   "cell_type": "code",
   "execution_count": 25,
   "id": "d8eb3a2f",
   "metadata": {},
   "outputs": [
    {
     "data": {
      "text/plain": [
       "overview              6682\n",
       "Course                4020\n",
       "Title                    4\n",
       "Review                   0\n",
       "Overall_rating           0\n",
       "Instructors           6172\n",
       "Curriculum               3\n",
       "Job Assistance         186\n",
       "Overall Experience    6682\n",
       "pros                  6682\n",
       "cons                  6682\n",
       "Website                  0\n",
       "dtype: int64"
      ]
     },
     "execution_count": 25,
     "metadata": {},
     "output_type": "execute_result"
    }
   ],
   "source": [
    "# check null values\n",
    "data.isnull().sum()"
   ]
  },
  {
   "cell_type": "code",
   "execution_count": 26,
   "id": "f8982d10",
   "metadata": {},
   "outputs": [],
   "source": [
    "# dropna of curriculum (3 lines)\n",
    "data.dropna(subset=['Curriculum'], inplace=True)"
   ]
  },
  {
   "cell_type": "code",
   "execution_count": 27,
   "id": "3f89138a",
   "metadata": {},
   "outputs": [],
   "source": [
    "# dropna of title (4 lines)\n",
    "data.dropna(subset=['Title'], inplace=True)"
   ]
  },
  {
   "cell_type": "code",
   "execution_count": 28,
   "id": "ebb44e43",
   "metadata": {},
   "outputs": [],
   "source": [
    "# drop course(a lot null), overall experience (similar to overview)\n",
    "data.drop(['Overall Experience'], axis=1, inplace=True)"
   ]
  },
  {
   "cell_type": "code",
   "execution_count": 29,
   "id": "22052ceb",
   "metadata": {
    "scrolled": true
   },
   "outputs": [],
   "source": [
    "# assign average of instructors and curriculum to null in job assistance\n",
    "data = data.reset_index()\n",
    "data.loc[data['Job Assistance'].isnull(), 'Job Assistance'] = (data['Instructors'] + data['Curriculum']) / 2"
   ]
  },
  {
   "cell_type": "code",
   "execution_count": 30,
   "id": "afddd529",
   "metadata": {},
   "outputs": [],
   "source": [
    "# assign average of job assistance and curriculum to null in instructors\n",
    "data.loc[data['Instructors'].isnull(), 'Instructors'] = (data['Job Assistance'] + data['Curriculum']) / 2"
   ]
  },
  {
   "cell_type": "code",
   "execution_count": 31,
   "id": "f3a44fad",
   "metadata": {},
   "outputs": [],
   "source": [
    "# organize school name\n",
    "data['school'] = data['school'].replace('Brainstation', 'BrainStation')\n",
    "data['school'] = data['school'].replace('LighthouseLabs', 'Lighthouse Labs')\n",
    "data['school'] = data['school'].replace('JunoCollege', 'Juno College')"
   ]
  },
  {
   "cell_type": "code",
   "execution_count": 32,
   "id": "53841d83",
   "metadata": {
    "scrolled": true
   },
   "outputs": [
    {
     "data": {
      "text/plain": [
       "school               0\n",
       "overview          6675\n",
       "Course            4016\n",
       "Title                0\n",
       "Review               0\n",
       "Overall_rating       0\n",
       "Instructors          0\n",
       "Curriculum           0\n",
       "Job Assistance       0\n",
       "pros              6675\n",
       "cons              6675\n",
       "Website              0\n",
       "dtype: int64"
      ]
     },
     "execution_count": 32,
     "metadata": {},
     "output_type": "execute_result"
    }
   ],
   "source": [
    "data.isnull().sum()"
   ]
  },
  {
   "cell_type": "code",
   "execution_count": 33,
   "id": "dcf03581",
   "metadata": {
    "scrolled": true
   },
   "outputs": [
    {
     "data": {
      "text/html": [
       "<div>\n",
       "<style scoped>\n",
       "    .dataframe tbody tr th:only-of-type {\n",
       "        vertical-align: middle;\n",
       "    }\n",
       "\n",
       "    .dataframe tbody tr th {\n",
       "        vertical-align: top;\n",
       "    }\n",
       "\n",
       "    .dataframe thead th {\n",
       "        text-align: right;\n",
       "    }\n",
       "</style>\n",
       "<table border=\"1\" class=\"dataframe\">\n",
       "  <thead>\n",
       "    <tr style=\"text-align: right;\">\n",
       "      <th></th>\n",
       "      <th>school</th>\n",
       "      <th>overview</th>\n",
       "      <th>Course</th>\n",
       "      <th>Title</th>\n",
       "      <th>Review</th>\n",
       "      <th>Overall_rating</th>\n",
       "      <th>Instructors</th>\n",
       "      <th>Curriculum</th>\n",
       "      <th>Job Assistance</th>\n",
       "      <th>pros</th>\n",
       "      <th>cons</th>\n",
       "      <th>Website</th>\n",
       "    </tr>\n",
       "  </thead>\n",
       "  <tbody>\n",
       "    <tr>\n",
       "      <th>0</th>\n",
       "      <td>WeCloudData</td>\n",
       "      <td>4.8</td>\n",
       "      <td>NaN</td>\n",
       "      <td>Full Time DS Bootcamp Review</td>\n",
       "      <td>Overall a great program especially for career ...</td>\n",
       "      <td>100.0</td>\n",
       "      <td>80.0</td>\n",
       "      <td>100.0</td>\n",
       "      <td>60.0</td>\n",
       "      <td>- Knowledgeable and patient instructors and TA...</td>\n",
       "      <td>- Learning experience felt more individual rat...</td>\n",
       "      <td>CareerKarma</td>\n",
       "    </tr>\n",
       "    <tr>\n",
       "      <th>1</th>\n",
       "      <td>WeCloudData</td>\n",
       "      <td>4.8</td>\n",
       "      <td>NaN</td>\n",
       "      <td>A good bootcamp! its worth to make the decision</td>\n",
       "      <td>I attended the data and business analytics boo...</td>\n",
       "      <td>100.0</td>\n",
       "      <td>100.0</td>\n",
       "      <td>100.0</td>\n",
       "      <td>100.0</td>\n",
       "      <td>Great support, nice tutor, practical content</td>\n",
       "      <td>Time were a bit tight to learn everything</td>\n",
       "      <td>CareerKarma</td>\n",
       "    </tr>\n",
       "    <tr>\n",
       "      <th>2</th>\n",
       "      <td>WeCloudData</td>\n",
       "      <td>4.8</td>\n",
       "      <td>NaN</td>\n",
       "      <td>Best DS BootCamp in Canada</td>\n",
       "      <td>I arrived in Canada with a Bachelor's degree i...</td>\n",
       "      <td>100.0</td>\n",
       "      <td>100.0</td>\n",
       "      <td>100.0</td>\n",
       "      <td>100.0</td>\n",
       "      <td>Really straight forward wth projects that help...</td>\n",
       "      <td>Pretty Intense so it will be better if you are...</td>\n",
       "      <td>CareerKarma</td>\n",
       "    </tr>\n",
       "    <tr>\n",
       "      <th>3</th>\n",
       "      <td>WeCloudData</td>\n",
       "      <td>4.8</td>\n",
       "      <td>NaN</td>\n",
       "      <td>Best DS in Canada</td>\n",
       "      <td>I arrived in Canada with a Bachelor's degree i...</td>\n",
       "      <td>100.0</td>\n",
       "      <td>100.0</td>\n",
       "      <td>100.0</td>\n",
       "      <td>100.0</td>\n",
       "      <td>Really straight forward, with projects that he...</td>\n",
       "      <td>Intense, So It will be better if you don't hav...</td>\n",
       "      <td>CareerKarma</td>\n",
       "    </tr>\n",
       "    <tr>\n",
       "      <th>4</th>\n",
       "      <td>WeCloudData</td>\n",
       "      <td>4.8</td>\n",
       "      <td>NaN</td>\n",
       "      <td>Great program with helpful career guidance</td>\n",
       "      <td>I attended WeCloudData Applied BI program in 2...</td>\n",
       "      <td>100.0</td>\n",
       "      <td>100.0</td>\n",
       "      <td>80.0</td>\n",
       "      <td>100.0</td>\n",
       "      <td>Instructors/mentors/TAs are nice. My mentor Le...</td>\n",
       "      <td>A bit intensive or not that friendly for full ...</td>\n",
       "      <td>CareerKarma</td>\n",
       "    </tr>\n",
       "  </tbody>\n",
       "</table>\n",
       "</div>"
      ],
      "text/plain": [
       "        school overview Course  \\\n",
       "0  WeCloudData      4.8    NaN   \n",
       "1  WeCloudData      4.8    NaN   \n",
       "2  WeCloudData      4.8    NaN   \n",
       "3  WeCloudData      4.8    NaN   \n",
       "4  WeCloudData      4.8    NaN   \n",
       "\n",
       "                                             Title  \\\n",
       "0                     Full Time DS Bootcamp Review   \n",
       "1  A good bootcamp! its worth to make the decision   \n",
       "2                       Best DS BootCamp in Canada   \n",
       "3                                Best DS in Canada   \n",
       "4       Great program with helpful career guidance   \n",
       "\n",
       "                                              Review  Overall_rating  \\\n",
       "0  Overall a great program especially for career ...           100.0   \n",
       "1  I attended the data and business analytics boo...           100.0   \n",
       "2  I arrived in Canada with a Bachelor's degree i...           100.0   \n",
       "3  I arrived in Canada with a Bachelor's degree i...           100.0   \n",
       "4  I attended WeCloudData Applied BI program in 2...           100.0   \n",
       "\n",
       "   Instructors  Curriculum  Job Assistance  \\\n",
       "0         80.0       100.0            60.0   \n",
       "1        100.0       100.0           100.0   \n",
       "2        100.0       100.0           100.0   \n",
       "3        100.0       100.0           100.0   \n",
       "4        100.0        80.0           100.0   \n",
       "\n",
       "                                                pros  \\\n",
       "0  - Knowledgeable and patient instructors and TA...   \n",
       "1       Great support, nice tutor, practical content   \n",
       "2  Really straight forward wth projects that help...   \n",
       "3  Really straight forward, with projects that he...   \n",
       "4  Instructors/mentors/TAs are nice. My mentor Le...   \n",
       "\n",
       "                                                cons      Website  \n",
       "0  - Learning experience felt more individual rat...  CareerKarma  \n",
       "1          Time were a bit tight to learn everything  CareerKarma  \n",
       "2  Pretty Intense so it will be better if you are...  CareerKarma  \n",
       "3  Intense, So It will be better if you don't hav...  CareerKarma  \n",
       "4  A bit intensive or not that friendly for full ...  CareerKarma  "
      ]
     },
     "execution_count": 33,
     "metadata": {},
     "output_type": "execute_result"
    }
   ],
   "source": [
    "data.head()"
   ]
  },
  {
   "cell_type": "code",
   "execution_count": 34,
   "id": "eaa92d41",
   "metadata": {
    "scrolled": true
   },
   "outputs": [
    {
     "name": "stdout",
     "output_type": "stream",
     "text": [
      "<class 'pandas.core.frame.DataFrame'>\n",
      "RangeIndex: 9446 entries, 0 to 9445\n",
      "Data columns (total 12 columns):\n",
      " #   Column          Non-Null Count  Dtype  \n",
      "---  ------          --------------  -----  \n",
      " 0   school          9446 non-null   object \n",
      " 1   overview        2771 non-null   object \n",
      " 2   Course          5430 non-null   object \n",
      " 3   Title           9446 non-null   object \n",
      " 4   Review          9446 non-null   object \n",
      " 5   Overall_rating  9446 non-null   float64\n",
      " 6   Instructors     9446 non-null   float64\n",
      " 7   Curriculum      9446 non-null   float64\n",
      " 8   Job Assistance  9446 non-null   float64\n",
      " 9   pros            2771 non-null   object \n",
      " 10  cons            2771 non-null   object \n",
      " 11  Website         9446 non-null   object \n",
      "dtypes: float64(4), object(8)\n",
      "memory usage: 885.7+ KB\n"
     ]
    }
   ],
   "source": [
    "data.info()"
   ]
  },
  {
   "cell_type": "code",
   "execution_count": 35,
   "id": "f45bbafd",
   "metadata": {
    "scrolled": true
   },
   "outputs": [
    {
     "data": {
      "text/plain": [
       "180"
      ]
     },
     "execution_count": 35,
     "metadata": {},
     "output_type": "execute_result"
    }
   ],
   "source": [
    "# check Course's unique value\n",
    "data['Course'].nunique()"
   ]
  },
  {
   "cell_type": "markdown",
   "id": "be070867",
   "metadata": {},
   "source": [
    "### 2.1 NLP analysis"
   ]
  },
  {
   "cell_type": "code",
   "execution_count": 50,
   "id": "24f5a5e3",
   "metadata": {
    "scrolled": true
   },
   "outputs": [
    {
     "data": {
      "text/html": [
       "<div>\n",
       "<style scoped>\n",
       "    .dataframe tbody tr th:only-of-type {\n",
       "        vertical-align: middle;\n",
       "    }\n",
       "\n",
       "    .dataframe tbody tr th {\n",
       "        vertical-align: top;\n",
       "    }\n",
       "\n",
       "    .dataframe thead th {\n",
       "        text-align: right;\n",
       "    }\n",
       "</style>\n",
       "<table border=\"1\" class=\"dataframe\">\n",
       "  <thead>\n",
       "    <tr style=\"text-align: right;\">\n",
       "      <th></th>\n",
       "      <th>school</th>\n",
       "      <th>overview</th>\n",
       "      <th>Course</th>\n",
       "      <th>Title</th>\n",
       "      <th>Review</th>\n",
       "      <th>Overall_rating</th>\n",
       "      <th>Instructors</th>\n",
       "      <th>Curriculum</th>\n",
       "      <th>Job Assistance</th>\n",
       "      <th>pros</th>\n",
       "      <th>cons</th>\n",
       "      <th>Website</th>\n",
       "      <th>Review_clean</th>\n",
       "    </tr>\n",
       "  </thead>\n",
       "  <tbody>\n",
       "    <tr>\n",
       "      <th>0</th>\n",
       "      <td>WeCloudData</td>\n",
       "      <td>4.8</td>\n",
       "      <td>NaN</td>\n",
       "      <td>Full Time DS Bootcamp Review</td>\n",
       "      <td>Overall a great program especially for career ...</td>\n",
       "      <td>100.0</td>\n",
       "      <td>80.0</td>\n",
       "      <td>100.0</td>\n",
       "      <td>60.0</td>\n",
       "      <td>- Knowledgeable and patient instructors and TA...</td>\n",
       "      <td>- Learning experience felt more individual rat...</td>\n",
       "      <td>CareerKarma</td>\n",
       "      <td>[v, e, r, l, l,  ,  , g, r, e,  , p, r, g, r, ...</td>\n",
       "    </tr>\n",
       "    <tr>\n",
       "      <th>1</th>\n",
       "      <td>WeCloudData</td>\n",
       "      <td>4.8</td>\n",
       "      <td>NaN</td>\n",
       "      <td>A good bootcamp! its worth to make the decision</td>\n",
       "      <td>I attended the data and business analytics boo...</td>\n",
       "      <td>100.0</td>\n",
       "      <td>100.0</td>\n",
       "      <td>100.0</td>\n",
       "      <td>100.0</td>\n",
       "      <td>Great support, nice tutor, practical content</td>\n",
       "      <td>Time were a bit tight to learn everything</td>\n",
       "      <td>CareerKarma</td>\n",
       "      <td>[ , e, n, e,  , h, e,  ,  , n,  , b, u, n, e, ...</td>\n",
       "    </tr>\n",
       "    <tr>\n",
       "      <th>2</th>\n",
       "      <td>WeCloudData</td>\n",
       "      <td>4.8</td>\n",
       "      <td>NaN</td>\n",
       "      <td>Best DS BootCamp in Canada</td>\n",
       "      <td>I arrived in Canada with a Bachelor's degree i...</td>\n",
       "      <td>100.0</td>\n",
       "      <td>100.0</td>\n",
       "      <td>100.0</td>\n",
       "      <td>100.0</td>\n",
       "      <td>Really straight forward wth projects that help...</td>\n",
       "      <td>Pretty Intense so it will be better if you are...</td>\n",
       "      <td>CareerKarma</td>\n",
       "      <td>[ , r, r, v, e,  , n,  , c, n,  , w, h,  ,  , ...</td>\n",
       "    </tr>\n",
       "    <tr>\n",
       "      <th>3</th>\n",
       "      <td>WeCloudData</td>\n",
       "      <td>4.8</td>\n",
       "      <td>NaN</td>\n",
       "      <td>Best DS in Canada</td>\n",
       "      <td>I arrived in Canada with a Bachelor's degree i...</td>\n",
       "      <td>100.0</td>\n",
       "      <td>100.0</td>\n",
       "      <td>100.0</td>\n",
       "      <td>100.0</td>\n",
       "      <td>Really straight forward, with projects that he...</td>\n",
       "      <td>Intense, So It will be better if you don't hav...</td>\n",
       "      <td>CareerKarma</td>\n",
       "      <td>[ , r, r, v, e,  , n,  , c, n,  , w, h,  ,  , ...</td>\n",
       "    </tr>\n",
       "    <tr>\n",
       "      <th>4</th>\n",
       "      <td>WeCloudData</td>\n",
       "      <td>4.8</td>\n",
       "      <td>NaN</td>\n",
       "      <td>Great program with helpful career guidance</td>\n",
       "      <td>I attended WeCloudData Applied BI program in 2...</td>\n",
       "      <td>100.0</td>\n",
       "      <td>100.0</td>\n",
       "      <td>80.0</td>\n",
       "      <td>100.0</td>\n",
       "      <td>Instructors/mentors/TAs are nice. My mentor Le...</td>\n",
       "      <td>A bit intensive or not that friendly for full ...</td>\n",
       "      <td>CareerKarma</td>\n",
       "      <td>[ , e, n, e,  , w, e, c, l, u,  , p, p, l, e, ...</td>\n",
       "    </tr>\n",
       "  </tbody>\n",
       "</table>\n",
       "</div>"
      ],
      "text/plain": [
       "        school overview Course  \\\n",
       "0  WeCloudData      4.8    NaN   \n",
       "1  WeCloudData      4.8    NaN   \n",
       "2  WeCloudData      4.8    NaN   \n",
       "3  WeCloudData      4.8    NaN   \n",
       "4  WeCloudData      4.8    NaN   \n",
       "\n",
       "                                             Title  \\\n",
       "0                     Full Time DS Bootcamp Review   \n",
       "1  A good bootcamp! its worth to make the decision   \n",
       "2                       Best DS BootCamp in Canada   \n",
       "3                                Best DS in Canada   \n",
       "4       Great program with helpful career guidance   \n",
       "\n",
       "                                              Review  Overall_rating  \\\n",
       "0  Overall a great program especially for career ...           100.0   \n",
       "1  I attended the data and business analytics boo...           100.0   \n",
       "2  I arrived in Canada with a Bachelor's degree i...           100.0   \n",
       "3  I arrived in Canada with a Bachelor's degree i...           100.0   \n",
       "4  I attended WeCloudData Applied BI program in 2...           100.0   \n",
       "\n",
       "   Instructors  Curriculum  Job Assistance  \\\n",
       "0         80.0       100.0            60.0   \n",
       "1        100.0       100.0           100.0   \n",
       "2        100.0       100.0           100.0   \n",
       "3        100.0       100.0           100.0   \n",
       "4        100.0        80.0           100.0   \n",
       "\n",
       "                                                pros  \\\n",
       "0  - Knowledgeable and patient instructors and TA...   \n",
       "1       Great support, nice tutor, practical content   \n",
       "2  Really straight forward wth projects that help...   \n",
       "3  Really straight forward, with projects that he...   \n",
       "4  Instructors/mentors/TAs are nice. My mentor Le...   \n",
       "\n",
       "                                                cons      Website  \\\n",
       "0  - Learning experience felt more individual rat...  CareerKarma   \n",
       "1          Time were a bit tight to learn everything  CareerKarma   \n",
       "2  Pretty Intense so it will be better if you are...  CareerKarma   \n",
       "3  Intense, So It will be better if you don't hav...  CareerKarma   \n",
       "4  A bit intensive or not that friendly for full ...  CareerKarma   \n",
       "\n",
       "                                        Review_clean  \n",
       "0  [v, e, r, l, l,  ,  , g, r, e,  , p, r, g, r, ...  \n",
       "1  [ , e, n, e,  , h, e,  ,  , n,  , b, u, n, e, ...  \n",
       "2  [ , r, r, v, e,  , n,  , c, n,  , w, h,  ,  , ...  \n",
       "3  [ , r, r, v, e,  , n,  , c, n,  , w, h,  ,  , ...  \n",
       "4  [ , e, n, e,  , w, e, c, l, u,  , p, p, l, e, ...  "
      ]
     },
     "execution_count": 50,
     "metadata": {},
     "output_type": "execute_result"
    }
   ],
   "source": [
    "# make a copy of data as data_ml\n",
    "data_ml = data\n",
    "data_ml.head()"
   ]
  },
  {
   "cell_type": "code",
   "execution_count": 51,
   "id": "cb0a91a6",
   "metadata": {
    "scrolled": true
   },
   "outputs": [
    {
     "data": {
      "text/html": [
       "<div>\n",
       "<style scoped>\n",
       "    .dataframe tbody tr th:only-of-type {\n",
       "        vertical-align: middle;\n",
       "    }\n",
       "\n",
       "    .dataframe tbody tr th {\n",
       "        vertical-align: top;\n",
       "    }\n",
       "\n",
       "    .dataframe thead th {\n",
       "        text-align: right;\n",
       "    }\n",
       "</style>\n",
       "<table border=\"1\" class=\"dataframe\">\n",
       "  <thead>\n",
       "    <tr style=\"text-align: right;\">\n",
       "      <th></th>\n",
       "      <th>school</th>\n",
       "      <th>overview</th>\n",
       "      <th>Course</th>\n",
       "      <th>Title</th>\n",
       "      <th>Review</th>\n",
       "      <th>Overall_rating</th>\n",
       "      <th>Instructors</th>\n",
       "      <th>Curriculum</th>\n",
       "      <th>Job Assistance</th>\n",
       "      <th>pros</th>\n",
       "      <th>cons</th>\n",
       "      <th>Website</th>\n",
       "      <th>Review_clean</th>\n",
       "    </tr>\n",
       "  </thead>\n",
       "  <tbody>\n",
       "    <tr>\n",
       "      <th>0</th>\n",
       "      <td>WeCloudData</td>\n",
       "      <td>4.8</td>\n",
       "      <td>NaN</td>\n",
       "      <td>Full Time DS Bootcamp Review</td>\n",
       "      <td>Overall a great program especially for career ...</td>\n",
       "      <td>100.0</td>\n",
       "      <td>80.0</td>\n",
       "      <td>100.0</td>\n",
       "      <td>60.0</td>\n",
       "      <td>- Knowledgeable and patient instructors and TA...</td>\n",
       "      <td>- Learning experience felt more individual rat...</td>\n",
       "      <td>CareerKarma</td>\n",
       "      <td>[v, e, r, l, l,  ,  , g, r, e,  , p, r, g, r, ...</td>\n",
       "    </tr>\n",
       "    <tr>\n",
       "      <th>1</th>\n",
       "      <td>WeCloudData</td>\n",
       "      <td>4.8</td>\n",
       "      <td>NaN</td>\n",
       "      <td>A good bootcamp! its worth to make the decision</td>\n",
       "      <td>I attended the data and business analytics boo...</td>\n",
       "      <td>100.0</td>\n",
       "      <td>100.0</td>\n",
       "      <td>100.0</td>\n",
       "      <td>100.0</td>\n",
       "      <td>Great support, nice tutor, practical content</td>\n",
       "      <td>Time were a bit tight to learn everything</td>\n",
       "      <td>CareerKarma</td>\n",
       "      <td>[ , e, n, e,  , h, e,  ,  , n,  , b, u, n, e, ...</td>\n",
       "    </tr>\n",
       "    <tr>\n",
       "      <th>2</th>\n",
       "      <td>WeCloudData</td>\n",
       "      <td>4.8</td>\n",
       "      <td>NaN</td>\n",
       "      <td>Best DS BootCamp in Canada</td>\n",
       "      <td>I arrived in Canada with a Bachelor's degree i...</td>\n",
       "      <td>100.0</td>\n",
       "      <td>100.0</td>\n",
       "      <td>100.0</td>\n",
       "      <td>100.0</td>\n",
       "      <td>Really straight forward wth projects that help...</td>\n",
       "      <td>Pretty Intense so it will be better if you are...</td>\n",
       "      <td>CareerKarma</td>\n",
       "      <td>[ , r, r, v, e,  , n,  , c, n,  , w, h,  ,  , ...</td>\n",
       "    </tr>\n",
       "    <tr>\n",
       "      <th>3</th>\n",
       "      <td>WeCloudData</td>\n",
       "      <td>4.8</td>\n",
       "      <td>NaN</td>\n",
       "      <td>Best DS in Canada</td>\n",
       "      <td>I arrived in Canada with a Bachelor's degree i...</td>\n",
       "      <td>100.0</td>\n",
       "      <td>100.0</td>\n",
       "      <td>100.0</td>\n",
       "      <td>100.0</td>\n",
       "      <td>Really straight forward, with projects that he...</td>\n",
       "      <td>Intense, So It will be better if you don't hav...</td>\n",
       "      <td>CareerKarma</td>\n",
       "      <td>[ , r, r, v, e,  , n,  , c, n,  , w, h,  ,  , ...</td>\n",
       "    </tr>\n",
       "    <tr>\n",
       "      <th>4</th>\n",
       "      <td>WeCloudData</td>\n",
       "      <td>4.8</td>\n",
       "      <td>NaN</td>\n",
       "      <td>Great program with helpful career guidance</td>\n",
       "      <td>I attended WeCloudData Applied BI program in 2...</td>\n",
       "      <td>100.0</td>\n",
       "      <td>100.0</td>\n",
       "      <td>80.0</td>\n",
       "      <td>100.0</td>\n",
       "      <td>Instructors/mentors/TAs are nice. My mentor Le...</td>\n",
       "      <td>A bit intensive or not that friendly for full ...</td>\n",
       "      <td>CareerKarma</td>\n",
       "      <td>[ , e, n, e,  , w, e, c, l, u,  , p, p, l, e, ...</td>\n",
       "    </tr>\n",
       "  </tbody>\n",
       "</table>\n",
       "</div>"
      ],
      "text/plain": [
       "        school overview Course  \\\n",
       "0  WeCloudData      4.8    NaN   \n",
       "1  WeCloudData      4.8    NaN   \n",
       "2  WeCloudData      4.8    NaN   \n",
       "3  WeCloudData      4.8    NaN   \n",
       "4  WeCloudData      4.8    NaN   \n",
       "\n",
       "                                             Title  \\\n",
       "0                     Full Time DS Bootcamp Review   \n",
       "1  A good bootcamp! its worth to make the decision   \n",
       "2                       Best DS BootCamp in Canada   \n",
       "3                                Best DS in Canada   \n",
       "4       Great program with helpful career guidance   \n",
       "\n",
       "                                              Review  Overall_rating  \\\n",
       "0  Overall a great program especially for career ...           100.0   \n",
       "1  I attended the data and business analytics boo...           100.0   \n",
       "2  I arrived in Canada with a Bachelor's degree i...           100.0   \n",
       "3  I arrived in Canada with a Bachelor's degree i...           100.0   \n",
       "4  I attended WeCloudData Applied BI program in 2...           100.0   \n",
       "\n",
       "   Instructors  Curriculum  Job Assistance  \\\n",
       "0         80.0       100.0            60.0   \n",
       "1        100.0       100.0           100.0   \n",
       "2        100.0       100.0           100.0   \n",
       "3        100.0       100.0           100.0   \n",
       "4        100.0        80.0           100.0   \n",
       "\n",
       "                                                pros  \\\n",
       "0  - Knowledgeable and patient instructors and TA...   \n",
       "1       Great support, nice tutor, practical content   \n",
       "2  Really straight forward wth projects that help...   \n",
       "3  Really straight forward, with projects that he...   \n",
       "4  Instructors/mentors/TAs are nice. My mentor Le...   \n",
       "\n",
       "                                                cons      Website  \\\n",
       "0  - Learning experience felt more individual rat...  CareerKarma   \n",
       "1          Time were a bit tight to learn everything  CareerKarma   \n",
       "2  Pretty Intense so it will be better if you are...  CareerKarma   \n",
       "3  Intense, So It will be better if you don't hav...  CareerKarma   \n",
       "4  A bit intensive or not that friendly for full ...  CareerKarma   \n",
       "\n",
       "                                        Review_clean  \n",
       "0  [v, e, r, l, l,  ,  , g, r, e,  , p, r, g, r, ...  \n",
       "1  [ , e, n, e,  , h, e,  ,  , n,  , b, u, n, e, ...  \n",
       "2  [ , r, r, v, e,  , n,  , c, n,  , w, h,  ,  , ...  \n",
       "3  [ , r, r, v, e,  , n,  , c, n,  , w, h,  ,  , ...  \n",
       "4  [ , e, n, e,  , w, e, c, l, u,  , p, p, l, e, ...  "
      ]
     },
     "execution_count": 51,
     "metadata": {},
     "output_type": "execute_result"
    }
   ],
   "source": [
    "data_ml.head()"
   ]
  },
  {
   "cell_type": "code",
   "execution_count": 52,
   "id": "fbdf95dd",
   "metadata": {},
   "outputs": [
    {
     "data": {
      "text/plain": [
       "0       overall a great program especially for career ...\n",
       "1       i attended the data and business analytics boo...\n",
       "2       i arrived in canada with a bachelor is degree ...\n",
       "3       i arrived in canada with a bachelor is degree ...\n",
       "4       i attended weclouddata applied bi program in j...\n",
       "                              ...                        \n",
       "9441    put simply i knew nothing about development mo...\n",
       "9442    the training exceeded my expectations master i...\n",
       "9443    i attended the week bootcamp by le wagon in ea...\n",
       "9444    i entered le wagon program after being graduat...\n",
       "9445    i strongly recommend this bootcamp the team is...\n",
       "Name: Review_clean, Length: 9446, dtype: object"
      ]
     },
     "execution_count": 52,
     "metadata": {},
     "output_type": "execute_result"
    }
   ],
   "source": [
    "# fix contractions\n",
    "\n",
    "import re\n",
    "def cleaner(review):\n",
    "    review = re.sub(r\"(?:\\@|http?\\://|https?\\://|www)\\S+\", \" \", review) \n",
    "    \n",
    "    review = re.sub(r\"won\\'t\", \"will not\", review) \n",
    "    review = re.sub(r\"can\\'t\", \"can not\", review)\n",
    "    review = re.sub(r\"n\\'t\", \" not\", review)\n",
    "    review = re.sub(r\"\\'re\", \" are\", review)\n",
    "    review = re.sub(r\"\\'s\", \" is\", review)\n",
    "    review = re.sub(r\"\\'d\", \" would\", review)\n",
    "    review = re.sub(r\"\\'ll\", \" will\", review)\n",
    "    review = re.sub(r\"\\'t\", \" not\", review)\n",
    "    review = re.sub(r\"\\'ve\", \" have\", review)\n",
    "    review = re.sub(r\"\\'m\", \" am\", review)\n",
    "    \n",
    "    review = re.sub(r\"[^a-zA-z]\", \" \", review) \n",
    "    review = re.sub(\"(^|\\W)\\d+($|\\W)\", \" \", review)  \n",
    "    review = re.sub('\\W+',' ',review)\n",
    "    review = re.sub(r\"\\s+\", \" \", review) \n",
    "    review = review.lower()  \n",
    "    review = review.strip() \n",
    "    \n",
    "    return review\n",
    "\n",
    "data_ml['Review_clean'] = data_ml['Review'].apply(cleaner)\n",
    "data_ml['Review_clean']"
   ]
  },
  {
   "cell_type": "code",
   "execution_count": 53,
   "id": "2bce25dd",
   "metadata": {
    "scrolled": false
   },
   "outputs": [
    {
     "data": {
      "text/plain": [
       "0       [overall, a, great, program, especially, for, ...\n",
       "1       [i, attended, the, data, and, business, analyt...\n",
       "2       [i, arrived, in, canada, with, a, bachelor, is...\n",
       "3       [i, arrived, in, canada, with, a, bachelor, is...\n",
       "4       [i, attended, weclouddata, applied, bi, progra...\n",
       "                              ...                        \n",
       "9441    [put, simply, i, knew, nothing, about, develop...\n",
       "9442    [the, training, exceeded, my, expectations, ma...\n",
       "9443    [i, attended, the, week, bootcamp, by, le, wag...\n",
       "9444    [i, entered, le, wagon, program, after, being,...\n",
       "9445    [i, strongly, recommend, this, bootcamp, the, ...\n",
       "Name: Review_clean, Length: 9446, dtype: object"
      ]
     },
     "execution_count": 53,
     "metadata": {},
     "output_type": "execute_result"
    }
   ],
   "source": [
    "# tokenization\n",
    "from nltk.tokenize import word_tokenize\n",
    "data_ml['Review_clean'] = data_ml['Review_clean'].apply(word_tokenize) \n",
    "data_ml['Review_clean']"
   ]
  },
  {
   "cell_type": "code",
   "execution_count": 54,
   "id": "74027280",
   "metadata": {
    "scrolled": true
   },
   "outputs": [
    {
     "data": {
      "text/plain": [
       "0       [overall, great, program, especially, career, ...\n",
       "1       [attended, data, business, analytics, early, g...\n",
       "2       [arrived, canada, bachelor, degree, industrial...\n",
       "3       [arrived, canada, bachelor, degree, industrial...\n",
       "4       [attended, applied, bi, program, jan, finished...\n",
       "                              ...                        \n",
       "9441    [put, simply, knew, nothing, development, mont...\n",
       "9442    [training, exceeded, expectations, master, wee...\n",
       "9443    [attended, week, early, technical, background,...\n",
       "9444    [entered, program, graduated, one, top, french...\n",
       "9445    [strongly, recommend, team, really, really, go...\n",
       "Name: Review_clean, Length: 9446, dtype: object"
      ]
     },
     "execution_count": 54,
     "metadata": {},
     "output_type": "execute_result"
    }
   ],
   "source": [
    "# split review and remove stopwords\n",
    "from nltk.corpus import stopwords\n",
    "stoplist = stopwords.words('english')+['brainstation','brain','station','bs','retreat','datascienceretreat','dsr','general','assembly','generalassembly',\\\n",
    "              'ga','juno','college','junocollege','jc','le','wagon','lewagon','lw','lighthouselabs','lighthouse', 'labs','light','house','lhl','metis',\\\n",
    "              'nyc','nycdatascience','practicum','springboard','spring','board','sb','toronto','school','management',\\\n",
    "              'torontoschoolofmanagement','tsofm','incubator','thedataincubator','tdi','thinkful','weclouddata','wecloud','wcd','bootcamp','boot','camp','bootcamps']\n",
    "data_ml['Review_clean'] = data_ml['Review_clean'].apply(lambda x: [word for word in x if word not in stoplist])\n",
    "data_ml['Review_clean']"
   ]
  },
  {
   "cell_type": "code",
   "execution_count": 55,
   "id": "0cc3a150",
   "metadata": {},
   "outputs": [
    {
     "data": {
      "text/plain": [
       "0       [overal, great, program, especi, career, switc...\n",
       "1       [attend, data, busi, analyt, earli, got, dream...\n",
       "2       [arriv, canada, bachelor, degre, industri, eng...\n",
       "3       [arriv, canada, bachelor, degre, industri, eng...\n",
       "4       [attend, appli, bi, program, jan, finish, earl...\n",
       "                              ...                        \n",
       "9441    [put, simpli, knew, noth, develop, month, ago,...\n",
       "9442    [train, exceed, expect, master, week, basi, de...\n",
       "9443    [attend, week, earli, technic, background, wha...\n",
       "9444    [enter, program, graduat, one, top, french, bu...\n",
       "9445    [strong, recommend, team, realli, realli, good...\n",
       "Name: Review_clean, Length: 9446, dtype: object"
      ]
     },
     "execution_count": 55,
     "metadata": {},
     "output_type": "execute_result"
    }
   ],
   "source": [
    "# stemming\n",
    "from nltk.stem.snowball import SnowballStemmer\n",
    "stemmer = SnowballStemmer('english')\n",
    "data_ml['Review_clean'] = data_ml['Review_clean'].apply(lambda x : [stemmer.stem(y) for y in x])\n",
    "data_ml['Review_clean']"
   ]
  },
  {
   "cell_type": "code",
   "execution_count": 56,
   "id": "7a340148",
   "metadata": {},
   "outputs": [
    {
     "data": {
      "text/plain": [
       "0       [overal, great, program, especi, career, switc...\n",
       "1       [attend, data, busi, analyt, earli, got, dream...\n",
       "2       [arriv, canada, bachelor, degre, industri, eng...\n",
       "3       [arriv, canada, bachelor, degre, industri, eng...\n",
       "4       [attend, appli, bi, program, jan, finish, earl...\n",
       "                              ...                        \n",
       "9441    [put, simpli, knew, noth, develop, month, ago,...\n",
       "9442    [train, exceed, expect, master, week, basi, de...\n",
       "9443    [attend, week, earli, technic, background, wha...\n",
       "9444    [enter, program, graduat, one, top, french, bu...\n",
       "9445    [strong, recommend, team, realli, realli, good...\n",
       "Name: Review_clean, Length: 9446, dtype: object"
      ]
     },
     "execution_count": 56,
     "metadata": {},
     "output_type": "execute_result"
    }
   ],
   "source": [
    "# lemmatization\n",
    "from nltk.stem import WordNetLemmatizer\n",
    "lemmatizer = WordNetLemmatizer()\n",
    "data_ml['Review_clean'] = data_ml['Review_clean'].apply(lambda lst:[lemmatizer.lemmatize(word) for word in lst])\n",
    "data_ml['Review_clean']"
   ]
  },
  {
   "cell_type": "code",
   "execution_count": 57,
   "id": "efc8d4bb",
   "metadata": {
    "scrolled": true
   },
   "outputs": [
    {
     "data": {
      "text/html": [
       "<div>\n",
       "<style scoped>\n",
       "    .dataframe tbody tr th:only-of-type {\n",
       "        vertical-align: middle;\n",
       "    }\n",
       "\n",
       "    .dataframe tbody tr th {\n",
       "        vertical-align: top;\n",
       "    }\n",
       "\n",
       "    .dataframe thead th {\n",
       "        text-align: right;\n",
       "    }\n",
       "</style>\n",
       "<table border=\"1\" class=\"dataframe\">\n",
       "  <thead>\n",
       "    <tr style=\"text-align: right;\">\n",
       "      <th></th>\n",
       "      <th>school</th>\n",
       "      <th>overview</th>\n",
       "      <th>Course</th>\n",
       "      <th>Title</th>\n",
       "      <th>Review</th>\n",
       "      <th>Overall_rating</th>\n",
       "      <th>Instructors</th>\n",
       "      <th>Curriculum</th>\n",
       "      <th>Job Assistance</th>\n",
       "      <th>pros</th>\n",
       "      <th>cons</th>\n",
       "      <th>Website</th>\n",
       "      <th>Review_clean</th>\n",
       "    </tr>\n",
       "  </thead>\n",
       "  <tbody>\n",
       "    <tr>\n",
       "      <th>0</th>\n",
       "      <td>WeCloudData</td>\n",
       "      <td>4.8</td>\n",
       "      <td>NaN</td>\n",
       "      <td>Full Time DS Bootcamp Review</td>\n",
       "      <td>Overall a great program especially for career ...</td>\n",
       "      <td>100.0</td>\n",
       "      <td>80.0</td>\n",
       "      <td>100.0</td>\n",
       "      <td>60.0</td>\n",
       "      <td>- Knowledgeable and patient instructors and TA...</td>\n",
       "      <td>- Learning experience felt more individual rat...</td>\n",
       "      <td>CareerKarma</td>\n",
       "      <td>[overal, great, program, especi, career, switc...</td>\n",
       "    </tr>\n",
       "    <tr>\n",
       "      <th>1</th>\n",
       "      <td>WeCloudData</td>\n",
       "      <td>4.8</td>\n",
       "      <td>NaN</td>\n",
       "      <td>A good bootcamp! its worth to make the decision</td>\n",
       "      <td>I attended the data and business analytics boo...</td>\n",
       "      <td>100.0</td>\n",
       "      <td>100.0</td>\n",
       "      <td>100.0</td>\n",
       "      <td>100.0</td>\n",
       "      <td>Great support, nice tutor, practical content</td>\n",
       "      <td>Time were a bit tight to learn everything</td>\n",
       "      <td>CareerKarma</td>\n",
       "      <td>[attend, data, busi, analyt, earli, got, dream...</td>\n",
       "    </tr>\n",
       "    <tr>\n",
       "      <th>2</th>\n",
       "      <td>WeCloudData</td>\n",
       "      <td>4.8</td>\n",
       "      <td>NaN</td>\n",
       "      <td>Best DS BootCamp in Canada</td>\n",
       "      <td>I arrived in Canada with a Bachelor's degree i...</td>\n",
       "      <td>100.0</td>\n",
       "      <td>100.0</td>\n",
       "      <td>100.0</td>\n",
       "      <td>100.0</td>\n",
       "      <td>Really straight forward wth projects that help...</td>\n",
       "      <td>Pretty Intense so it will be better if you are...</td>\n",
       "      <td>CareerKarma</td>\n",
       "      <td>[arriv, canada, bachelor, degre, industri, eng...</td>\n",
       "    </tr>\n",
       "    <tr>\n",
       "      <th>3</th>\n",
       "      <td>WeCloudData</td>\n",
       "      <td>4.8</td>\n",
       "      <td>NaN</td>\n",
       "      <td>Best DS in Canada</td>\n",
       "      <td>I arrived in Canada with a Bachelor's degree i...</td>\n",
       "      <td>100.0</td>\n",
       "      <td>100.0</td>\n",
       "      <td>100.0</td>\n",
       "      <td>100.0</td>\n",
       "      <td>Really straight forward, with projects that he...</td>\n",
       "      <td>Intense, So It will be better if you don't hav...</td>\n",
       "      <td>CareerKarma</td>\n",
       "      <td>[arriv, canada, bachelor, degre, industri, eng...</td>\n",
       "    </tr>\n",
       "    <tr>\n",
       "      <th>4</th>\n",
       "      <td>WeCloudData</td>\n",
       "      <td>4.8</td>\n",
       "      <td>NaN</td>\n",
       "      <td>Great program with helpful career guidance</td>\n",
       "      <td>I attended WeCloudData Applied BI program in 2...</td>\n",
       "      <td>100.0</td>\n",
       "      <td>100.0</td>\n",
       "      <td>80.0</td>\n",
       "      <td>100.0</td>\n",
       "      <td>Instructors/mentors/TAs are nice. My mentor Le...</td>\n",
       "      <td>A bit intensive or not that friendly for full ...</td>\n",
       "      <td>CareerKarma</td>\n",
       "      <td>[attend, appli, bi, program, jan, finish, earl...</td>\n",
       "    </tr>\n",
       "  </tbody>\n",
       "</table>\n",
       "</div>"
      ],
      "text/plain": [
       "        school overview Course  \\\n",
       "0  WeCloudData      4.8    NaN   \n",
       "1  WeCloudData      4.8    NaN   \n",
       "2  WeCloudData      4.8    NaN   \n",
       "3  WeCloudData      4.8    NaN   \n",
       "4  WeCloudData      4.8    NaN   \n",
       "\n",
       "                                             Title  \\\n",
       "0                     Full Time DS Bootcamp Review   \n",
       "1  A good bootcamp! its worth to make the decision   \n",
       "2                       Best DS BootCamp in Canada   \n",
       "3                                Best DS in Canada   \n",
       "4       Great program with helpful career guidance   \n",
       "\n",
       "                                              Review  Overall_rating  \\\n",
       "0  Overall a great program especially for career ...           100.0   \n",
       "1  I attended the data and business analytics boo...           100.0   \n",
       "2  I arrived in Canada with a Bachelor's degree i...           100.0   \n",
       "3  I arrived in Canada with a Bachelor's degree i...           100.0   \n",
       "4  I attended WeCloudData Applied BI program in 2...           100.0   \n",
       "\n",
       "   Instructors  Curriculum  Job Assistance  \\\n",
       "0         80.0       100.0            60.0   \n",
       "1        100.0       100.0           100.0   \n",
       "2        100.0       100.0           100.0   \n",
       "3        100.0       100.0           100.0   \n",
       "4        100.0        80.0           100.0   \n",
       "\n",
       "                                                pros  \\\n",
       "0  - Knowledgeable and patient instructors and TA...   \n",
       "1       Great support, nice tutor, practical content   \n",
       "2  Really straight forward wth projects that help...   \n",
       "3  Really straight forward, with projects that he...   \n",
       "4  Instructors/mentors/TAs are nice. My mentor Le...   \n",
       "\n",
       "                                                cons      Website  \\\n",
       "0  - Learning experience felt more individual rat...  CareerKarma   \n",
       "1          Time were a bit tight to learn everything  CareerKarma   \n",
       "2  Pretty Intense so it will be better if you are...  CareerKarma   \n",
       "3  Intense, So It will be better if you don't hav...  CareerKarma   \n",
       "4  A bit intensive or not that friendly for full ...  CareerKarma   \n",
       "\n",
       "                                        Review_clean  \n",
       "0  [overal, great, program, especi, career, switc...  \n",
       "1  [attend, data, busi, analyt, earli, got, dream...  \n",
       "2  [arriv, canada, bachelor, degre, industri, eng...  \n",
       "3  [arriv, canada, bachelor, degre, industri, eng...  \n",
       "4  [attend, appli, bi, program, jan, finish, earl...  "
      ]
     },
     "execution_count": 57,
     "metadata": {},
     "output_type": "execute_result"
    }
   ],
   "source": [
    "data_ml.head()"
   ]
  },
  {
   "cell_type": "code",
   "execution_count": 58,
   "id": "94b809a6",
   "metadata": {},
   "outputs": [],
   "source": [
    "data_ml.to_csv('data_ml.csv', index=False)"
   ]
  },
  {
   "cell_type": "markdown",
   "id": "2d0c0da4",
   "metadata": {},
   "source": [
    "## EDA analysis"
   ]
  },
  {
   "cell_type": "code",
   "execution_count": 59,
   "id": "7ade0aa7",
   "metadata": {},
   "outputs": [],
   "source": [
    "data_ml = pd.read_csv('data_ml.csv')"
   ]
  },
  {
   "cell_type": "code",
   "execution_count": 60,
   "id": "56aee473",
   "metadata": {},
   "outputs": [
    {
     "name": "stdout",
     "output_type": "stream",
     "text": [
      "<class 'pandas.core.frame.DataFrame'>\n",
      "RangeIndex: 9446 entries, 0 to 9445\n",
      "Data columns (total 13 columns):\n",
      " #   Column          Non-Null Count  Dtype  \n",
      "---  ------          --------------  -----  \n",
      " 0   school          9446 non-null   object \n",
      " 1   overview        2771 non-null   float64\n",
      " 2   Course          5430 non-null   object \n",
      " 3   Title           9446 non-null   object \n",
      " 4   Review          9446 non-null   object \n",
      " 5   Overall_rating  9446 non-null   float64\n",
      " 6   Instructors     9446 non-null   float64\n",
      " 7   Curriculum      9446 non-null   float64\n",
      " 8   Job Assistance  9446 non-null   float64\n",
      " 9   pros            2771 non-null   object \n",
      " 10  cons            2771 non-null   object \n",
      " 11  Website         9446 non-null   object \n",
      " 12  Review_clean    9446 non-null   object \n",
      "dtypes: float64(5), object(8)\n",
      "memory usage: 959.5+ KB\n"
     ]
    }
   ],
   "source": [
    "data_ml.info()"
   ]
  },
  {
   "cell_type": "code",
   "execution_count": 61,
   "id": "63839465",
   "metadata": {},
   "outputs": [],
   "source": [
    "data_ml['overview'] = data_ml['overview'].astype('float64')"
   ]
  },
  {
   "cell_type": "code",
   "execution_count": 62,
   "id": "5f38ed77",
   "metadata": {
    "scrolled": true
   },
   "outputs": [
    {
     "data": {
      "text/plain": [
       "94.43233489714905"
      ]
     },
     "execution_count": 62,
     "metadata": {},
     "output_type": "execute_result"
    }
   ],
   "source": [
    "data_ml['overview'].mean() * 20"
   ]
  },
  {
   "cell_type": "code",
   "execution_count": 63,
   "id": "dd4e9ed2",
   "metadata": {},
   "outputs": [
    {
     "data": {
      "text/plain": [
       "93.64556426000424"
      ]
     },
     "execution_count": 63,
     "metadata": {},
     "output_type": "execute_result"
    }
   ],
   "source": [
    "data_ml['Overall_rating'].mean()"
   ]
  },
  {
   "cell_type": "code",
   "execution_count": 64,
   "id": "25fb5635",
   "metadata": {
    "scrolled": true
   },
   "outputs": [],
   "source": [
    "data_ml = data_ml.drop('overview',axis=1)"
   ]
  },
  {
   "cell_type": "code",
   "execution_count": 65,
   "id": "6c02f2d9",
   "metadata": {
    "scrolled": true
   },
   "outputs": [
    {
     "data": {
      "text/html": [
       "<div>\n",
       "<style scoped>\n",
       "    .dataframe tbody tr th:only-of-type {\n",
       "        vertical-align: middle;\n",
       "    }\n",
       "\n",
       "    .dataframe tbody tr th {\n",
       "        vertical-align: top;\n",
       "    }\n",
       "\n",
       "    .dataframe thead th {\n",
       "        text-align: right;\n",
       "    }\n",
       "</style>\n",
       "<table border=\"1\" class=\"dataframe\">\n",
       "  <thead>\n",
       "    <tr style=\"text-align: right;\">\n",
       "      <th></th>\n",
       "      <th>school</th>\n",
       "      <th>Course</th>\n",
       "      <th>Title</th>\n",
       "      <th>Review</th>\n",
       "      <th>Overall_rating</th>\n",
       "      <th>Instructors</th>\n",
       "      <th>Curriculum</th>\n",
       "      <th>Job Assistance</th>\n",
       "      <th>pros</th>\n",
       "      <th>cons</th>\n",
       "      <th>Website</th>\n",
       "      <th>Review_clean</th>\n",
       "    </tr>\n",
       "  </thead>\n",
       "  <tbody>\n",
       "    <tr>\n",
       "      <th>0</th>\n",
       "      <td>WeCloudData</td>\n",
       "      <td>NaN</td>\n",
       "      <td>Full Time DS Bootcamp Review</td>\n",
       "      <td>Overall a great program especially for career ...</td>\n",
       "      <td>100.0</td>\n",
       "      <td>80.0</td>\n",
       "      <td>100.0</td>\n",
       "      <td>60.0</td>\n",
       "      <td>- Knowledgeable and patient instructors and TA...</td>\n",
       "      <td>- Learning experience felt more individual rat...</td>\n",
       "      <td>CareerKarma</td>\n",
       "      <td>['overal', 'great', 'program', 'especi', 'care...</td>\n",
       "    </tr>\n",
       "    <tr>\n",
       "      <th>1</th>\n",
       "      <td>WeCloudData</td>\n",
       "      <td>NaN</td>\n",
       "      <td>A good bootcamp! its worth to make the decision</td>\n",
       "      <td>I attended the data and business analytics boo...</td>\n",
       "      <td>100.0</td>\n",
       "      <td>100.0</td>\n",
       "      <td>100.0</td>\n",
       "      <td>100.0</td>\n",
       "      <td>Great support, nice tutor, practical content</td>\n",
       "      <td>Time were a bit tight to learn everything</td>\n",
       "      <td>CareerKarma</td>\n",
       "      <td>['attend', 'data', 'busi', 'analyt', 'earli', ...</td>\n",
       "    </tr>\n",
       "    <tr>\n",
       "      <th>2</th>\n",
       "      <td>WeCloudData</td>\n",
       "      <td>NaN</td>\n",
       "      <td>Best DS BootCamp in Canada</td>\n",
       "      <td>I arrived in Canada with a Bachelor's degree i...</td>\n",
       "      <td>100.0</td>\n",
       "      <td>100.0</td>\n",
       "      <td>100.0</td>\n",
       "      <td>100.0</td>\n",
       "      <td>Really straight forward wth projects that help...</td>\n",
       "      <td>Pretty Intense so it will be better if you are...</td>\n",
       "      <td>CareerKarma</td>\n",
       "      <td>['arriv', 'canada', 'bachelor', 'degre', 'indu...</td>\n",
       "    </tr>\n",
       "    <tr>\n",
       "      <th>3</th>\n",
       "      <td>WeCloudData</td>\n",
       "      <td>NaN</td>\n",
       "      <td>Best DS in Canada</td>\n",
       "      <td>I arrived in Canada with a Bachelor's degree i...</td>\n",
       "      <td>100.0</td>\n",
       "      <td>100.0</td>\n",
       "      <td>100.0</td>\n",
       "      <td>100.0</td>\n",
       "      <td>Really straight forward, with projects that he...</td>\n",
       "      <td>Intense, So It will be better if you don't hav...</td>\n",
       "      <td>CareerKarma</td>\n",
       "      <td>['arriv', 'canada', 'bachelor', 'degre', 'indu...</td>\n",
       "    </tr>\n",
       "    <tr>\n",
       "      <th>4</th>\n",
       "      <td>WeCloudData</td>\n",
       "      <td>NaN</td>\n",
       "      <td>Great program with helpful career guidance</td>\n",
       "      <td>I attended WeCloudData Applied BI program in 2...</td>\n",
       "      <td>100.0</td>\n",
       "      <td>100.0</td>\n",
       "      <td>80.0</td>\n",
       "      <td>100.0</td>\n",
       "      <td>Instructors/mentors/TAs are nice. My mentor Le...</td>\n",
       "      <td>A bit intensive or not that friendly for full ...</td>\n",
       "      <td>CareerKarma</td>\n",
       "      <td>['attend', 'appli', 'bi', 'program', 'jan', 'f...</td>\n",
       "    </tr>\n",
       "  </tbody>\n",
       "</table>\n",
       "</div>"
      ],
      "text/plain": [
       "        school Course                                            Title  \\\n",
       "0  WeCloudData    NaN                     Full Time DS Bootcamp Review   \n",
       "1  WeCloudData    NaN  A good bootcamp! its worth to make the decision   \n",
       "2  WeCloudData    NaN                       Best DS BootCamp in Canada   \n",
       "3  WeCloudData    NaN                                Best DS in Canada   \n",
       "4  WeCloudData    NaN       Great program with helpful career guidance   \n",
       "\n",
       "                                              Review  Overall_rating  \\\n",
       "0  Overall a great program especially for career ...           100.0   \n",
       "1  I attended the data and business analytics boo...           100.0   \n",
       "2  I arrived in Canada with a Bachelor's degree i...           100.0   \n",
       "3  I arrived in Canada with a Bachelor's degree i...           100.0   \n",
       "4  I attended WeCloudData Applied BI program in 2...           100.0   \n",
       "\n",
       "   Instructors  Curriculum  Job Assistance  \\\n",
       "0         80.0       100.0            60.0   \n",
       "1        100.0       100.0           100.0   \n",
       "2        100.0       100.0           100.0   \n",
       "3        100.0       100.0           100.0   \n",
       "4        100.0        80.0           100.0   \n",
       "\n",
       "                                                pros  \\\n",
       "0  - Knowledgeable and patient instructors and TA...   \n",
       "1       Great support, nice tutor, practical content   \n",
       "2  Really straight forward wth projects that help...   \n",
       "3  Really straight forward, with projects that he...   \n",
       "4  Instructors/mentors/TAs are nice. My mentor Le...   \n",
       "\n",
       "                                                cons      Website  \\\n",
       "0  - Learning experience felt more individual rat...  CareerKarma   \n",
       "1          Time were a bit tight to learn everything  CareerKarma   \n",
       "2  Pretty Intense so it will be better if you are...  CareerKarma   \n",
       "3  Intense, So It will be better if you don't hav...  CareerKarma   \n",
       "4  A bit intensive or not that friendly for full ...  CareerKarma   \n",
       "\n",
       "                                        Review_clean  \n",
       "0  ['overal', 'great', 'program', 'especi', 'care...  \n",
       "1  ['attend', 'data', 'busi', 'analyt', 'earli', ...  \n",
       "2  ['arriv', 'canada', 'bachelor', 'degre', 'indu...  \n",
       "3  ['arriv', 'canada', 'bachelor', 'degre', 'indu...  \n",
       "4  ['attend', 'appli', 'bi', 'program', 'jan', 'f...  "
      ]
     },
     "execution_count": 65,
     "metadata": {},
     "output_type": "execute_result"
    }
   ],
   "source": [
    "data_ml.head()"
   ]
  },
  {
   "cell_type": "code",
   "execution_count": 66,
   "id": "f7a17b43",
   "metadata": {
    "scrolled": true
   },
   "outputs": [
    {
     "data": {
      "image/png": "[encoded data removed]",
      "text/plain": [
       "<Figure size 640x480 with 1 Axes>"
      ]
     },
     "metadata": {},
     "output_type": "display_data"
    }
   ],
   "source": [
    "data_ml['school'].value_counts(normalize=True).plot(kind='bar')\n",
    "plt.title('school distribution');"
   ]
  },
  {
   "cell_type": "code",
   "execution_count": 67,
   "id": "e75d314d",
   "metadata": {
    "scrolled": true
   },
   "outputs": [
    {
     "data": {
      "image/png": "[encoded data removed]",
      "text/plain": [
       "<Figure size 640x480 with 1 Axes>"
      ]
     },
     "metadata": {},
     "output_type": "display_data"
    }
   ],
   "source": [
    "data_ml['Course'].value_counts(normalize=True).nlargest(10).plot(kind='bar')\n",
    "plt.title('Course distribution');"
   ]
  },
  {
   "cell_type": "code",
   "execution_count": 68,
   "id": "c7ed6813",
   "metadata": {
    "scrolled": true
   },
   "outputs": [
    {
     "data": {
      "image/png": "[encoded data removed]",
      "text/plain": [
       "<Figure size 640x480 with 1 Axes>"
      ]
     },
     "metadata": {},
     "output_type": "display_data"
    }
   ],
   "source": [
    "# school vs overall_rating\n",
    "data_ml.groupby(data_ml['school'])[['Overall_rating', 'Instructors','Curriculum', 'Job Assistance']].mean().plot(kind = 'bar')\n",
    "plt.title('school vs rating');"
   ]
  },
  {
   "cell_type": "markdown",
   "id": "195ee857",
   "metadata": {},
   "source": [
    "## Model development"
   ]
  },
  {
   "cell_type": "markdown",
   "id": "9d5ba579",
   "metadata": {},
   "source": [
    "1. use data from Coursecompare and Switchup as train and test data, predict course title in CareerKarma\n",
    "2. use data from CareerKarma as train and test data, predict pros and cons for Coursecompare and Switchup"
   ]
  },
  {
   "cell_type": "markdown",
   "id": "46d50a6f",
   "metadata": {},
   "source": [
    "### Model for Course/Program"
   ]
  },
  {
   "cell_type": "code",
   "execution_count": 69,
   "id": "85399342",
   "metadata": {},
   "outputs": [
    {
     "data": {
      "text/plain": [
       "['school',\n",
       " 'Course',\n",
       " 'Title',\n",
       " 'Review',\n",
       " 'Overall_rating',\n",
       " 'Instructors',\n",
       " 'Curriculum',\n",
       " 'Job Assistance',\n",
       " 'pros',\n",
       " 'cons',\n",
       " 'Website',\n",
       " 'Review_clean']"
      ]
     },
     "execution_count": 69,
     "metadata": {},
     "output_type": "execute_result"
    }
   ],
   "source": [
    "data_ml.columns.tolist()"
   ]
  },
  {
   "cell_type": "code",
   "execution_count": 70,
   "id": "d8061643",
   "metadata": {},
   "outputs": [],
   "source": [
    "data_course = data_ml[['Title', 'Review', 'Course']].copy()"
   ]
  },
  {
   "cell_type": "code",
   "execution_count": 71,
   "id": "70eb0484",
   "metadata": {
    "scrolled": true
   },
   "outputs": [
    {
     "data": {
      "text/html": [
       "<div>\n",
       "<style scoped>\n",
       "    .dataframe tbody tr th:only-of-type {\n",
       "        vertical-align: middle;\n",
       "    }\n",
       "\n",
       "    .dataframe tbody tr th {\n",
       "        vertical-align: top;\n",
       "    }\n",
       "\n",
       "    .dataframe thead th {\n",
       "        text-align: right;\n",
       "    }\n",
       "</style>\n",
       "<table border=\"1\" class=\"dataframe\">\n",
       "  <thead>\n",
       "    <tr style=\"text-align: right;\">\n",
       "      <th></th>\n",
       "      <th>Title</th>\n",
       "      <th>Review</th>\n",
       "      <th>Course</th>\n",
       "    </tr>\n",
       "  </thead>\n",
       "  <tbody>\n",
       "    <tr>\n",
       "      <th>0</th>\n",
       "      <td>Full Time DS Bootcamp Review</td>\n",
       "      <td>Overall a great program especially for career ...</td>\n",
       "      <td>NaN</td>\n",
       "    </tr>\n",
       "    <tr>\n",
       "      <th>1</th>\n",
       "      <td>A good bootcamp! its worth to make the decision</td>\n",
       "      <td>I attended the data and business analytics boo...</td>\n",
       "      <td>NaN</td>\n",
       "    </tr>\n",
       "    <tr>\n",
       "      <th>2</th>\n",
       "      <td>Best DS BootCamp in Canada</td>\n",
       "      <td>I arrived in Canada with a Bachelor's degree i...</td>\n",
       "      <td>NaN</td>\n",
       "    </tr>\n",
       "    <tr>\n",
       "      <th>3</th>\n",
       "      <td>Best DS in Canada</td>\n",
       "      <td>I arrived in Canada with a Bachelor's degree i...</td>\n",
       "      <td>NaN</td>\n",
       "    </tr>\n",
       "    <tr>\n",
       "      <th>4</th>\n",
       "      <td>Great program with helpful career guidance</td>\n",
       "      <td>I attended WeCloudData Applied BI program in 2...</td>\n",
       "      <td>NaN</td>\n",
       "    </tr>\n",
       "  </tbody>\n",
       "</table>\n",
       "</div>"
      ],
      "text/plain": [
       "                                             Title  \\\n",
       "0                     Full Time DS Bootcamp Review   \n",
       "1  A good bootcamp! its worth to make the decision   \n",
       "2                       Best DS BootCamp in Canada   \n",
       "3                                Best DS in Canada   \n",
       "4       Great program with helpful career guidance   \n",
       "\n",
       "                                              Review Course  \n",
       "0  Overall a great program especially for career ...    NaN  \n",
       "1  I attended the data and business analytics boo...    NaN  \n",
       "2  I arrived in Canada with a Bachelor's degree i...    NaN  \n",
       "3  I arrived in Canada with a Bachelor's degree i...    NaN  \n",
       "4  I attended WeCloudData Applied BI program in 2...    NaN  "
      ]
     },
     "execution_count": 71,
     "metadata": {},
     "output_type": "execute_result"
    }
   ],
   "source": [
    "data_course.head()"
   ]
  },
  {
   "cell_type": "code",
   "execution_count": 72,
   "id": "a511545b",
   "metadata": {},
   "outputs": [],
   "source": [
    "data_course.to_csv('data_course.csv', index=False)"
   ]
  },
  {
   "cell_type": "markdown",
   "id": "f9ffd882",
   "metadata": {},
   "source": [
    "#### NLP processing"
   ]
  },
  {
   "cell_type": "code",
   "execution_count": 73,
   "id": "a724c39f",
   "metadata": {
    "scrolled": true
   },
   "outputs": [
    {
     "data": {
      "text/html": [
       "<div>\n",
       "<style scoped>\n",
       "    .dataframe tbody tr th:only-of-type {\n",
       "        vertical-align: middle;\n",
       "    }\n",
       "\n",
       "    .dataframe tbody tr th {\n",
       "        vertical-align: top;\n",
       "    }\n",
       "\n",
       "    .dataframe thead th {\n",
       "        text-align: right;\n",
       "    }\n",
       "</style>\n",
       "<table border=\"1\" class=\"dataframe\">\n",
       "  <thead>\n",
       "    <tr style=\"text-align: right;\">\n",
       "      <th></th>\n",
       "      <th>Title</th>\n",
       "      <th>Review</th>\n",
       "      <th>Course</th>\n",
       "    </tr>\n",
       "  </thead>\n",
       "  <tbody>\n",
       "    <tr>\n",
       "      <th>0</th>\n",
       "      <td>Full Time DS Bootcamp Review</td>\n",
       "      <td>Overall a great program especially for career ...</td>\n",
       "      <td>NaN</td>\n",
       "    </tr>\n",
       "    <tr>\n",
       "      <th>1</th>\n",
       "      <td>A good bootcamp! its worth to make the decision</td>\n",
       "      <td>I attended the data and business analytics boo...</td>\n",
       "      <td>NaN</td>\n",
       "    </tr>\n",
       "    <tr>\n",
       "      <th>2</th>\n",
       "      <td>Best DS BootCamp in Canada</td>\n",
       "      <td>I arrived in Canada with a Bachelor's degree i...</td>\n",
       "      <td>NaN</td>\n",
       "    </tr>\n",
       "    <tr>\n",
       "      <th>3</th>\n",
       "      <td>Best DS in Canada</td>\n",
       "      <td>I arrived in Canada with a Bachelor's degree i...</td>\n",
       "      <td>NaN</td>\n",
       "    </tr>\n",
       "    <tr>\n",
       "      <th>4</th>\n",
       "      <td>Great program with helpful career guidance</td>\n",
       "      <td>I attended WeCloudData Applied BI program in 2...</td>\n",
       "      <td>NaN</td>\n",
       "    </tr>\n",
       "    <tr>\n",
       "      <th>...</th>\n",
       "      <td>...</td>\n",
       "      <td>...</td>\n",
       "      <td>...</td>\n",
       "    </tr>\n",
       "    <tr>\n",
       "      <th>9441</th>\n",
       "      <td>\"I entered \"le Wagon\" program et I and found a...</td>\n",
       "      <td>Put simply: I knew nothing about development 5...</td>\n",
       "      <td>NaN</td>\n",
       "    </tr>\n",
       "    <tr>\n",
       "      <th>9442</th>\n",
       "      <td>\"9 very intensive weeks and I recommend it to ...</td>\n",
       "      <td>The training exceeded my expectations:- Master...</td>\n",
       "      <td>NaN</td>\n",
       "    </tr>\n",
       "    <tr>\n",
       "      <th>9443</th>\n",
       "      <td>\"Le Wagon\"</td>\n",
       "      <td>I attended the 10-week bootcamp by Le Wagon in...</td>\n",
       "      <td>NaN</td>\n",
       "    </tr>\n",
       "    <tr>\n",
       "      <th>9444</th>\n",
       "      <td>\"From zero to a developer job in 9 weeks.\"</td>\n",
       "      <td>I entered \"le Wagon\" program after being gradu...</td>\n",
       "      <td>NaN</td>\n",
       "    </tr>\n",
       "    <tr>\n",
       "      <th>9445</th>\n",
       "      <td>\"best training ever\"</td>\n",
       "      <td>I strongly recommend this bootcamp :-the team ...</td>\n",
       "      <td>NaN</td>\n",
       "    </tr>\n",
       "  </tbody>\n",
       "</table>\n",
       "<p>9446 rows × 3 columns</p>\n",
       "</div>"
      ],
      "text/plain": [
       "                                                  Title  \\\n",
       "0                          Full Time DS Bootcamp Review   \n",
       "1       A good bootcamp! its worth to make the decision   \n",
       "2                            Best DS BootCamp in Canada   \n",
       "3                                     Best DS in Canada   \n",
       "4            Great program with helpful career guidance   \n",
       "...                                                 ...   \n",
       "9441  \"I entered \"le Wagon\" program et I and found a...   \n",
       "9442  \"9 very intensive weeks and I recommend it to ...   \n",
       "9443                                         \"Le Wagon\"   \n",
       "9444         \"From zero to a developer job in 9 weeks.\"   \n",
       "9445                               \"best training ever\"   \n",
       "\n",
       "                                                 Review Course  \n",
       "0     Overall a great program especially for career ...    NaN  \n",
       "1     I attended the data and business analytics boo...    NaN  \n",
       "2     I arrived in Canada with a Bachelor's degree i...    NaN  \n",
       "3     I arrived in Canada with a Bachelor's degree i...    NaN  \n",
       "4     I attended WeCloudData Applied BI program in 2...    NaN  \n",
       "...                                                 ...    ...  \n",
       "9441  Put simply: I knew nothing about development 5...    NaN  \n",
       "9442  The training exceeded my expectations:- Master...    NaN  \n",
       "9443  I attended the 10-week bootcamp by Le Wagon in...    NaN  \n",
       "9444  I entered \"le Wagon\" program after being gradu...    NaN  \n",
       "9445  I strongly recommend this bootcamp :-the team ...    NaN  \n",
       "\n",
       "[9446 rows x 3 columns]"
      ]
     },
     "execution_count": 73,
     "metadata": {},
     "output_type": "execute_result"
    }
   ],
   "source": [
    "data_course = pd.read_csv('data_course.csv')\n",
    "data_course"
   ]
  },
  {
   "cell_type": "code",
   "execution_count": 74,
   "id": "a6236f99",
   "metadata": {
    "scrolled": true
   },
   "outputs": [
    {
     "data": {
      "text/html": [
       "<div>\n",
       "<style scoped>\n",
       "    .dataframe tbody tr th:only-of-type {\n",
       "        vertical-align: middle;\n",
       "    }\n",
       "\n",
       "    .dataframe tbody tr th {\n",
       "        vertical-align: top;\n",
       "    }\n",
       "\n",
       "    .dataframe thead th {\n",
       "        text-align: right;\n",
       "    }\n",
       "</style>\n",
       "<table border=\"1\" class=\"dataframe\">\n",
       "  <thead>\n",
       "    <tr style=\"text-align: right;\">\n",
       "      <th></th>\n",
       "      <th>Title</th>\n",
       "      <th>Review</th>\n",
       "      <th>Course</th>\n",
       "    </tr>\n",
       "  </thead>\n",
       "  <tbody>\n",
       "    <tr>\n",
       "      <th>2771</th>\n",
       "      <td>Great way to enter into the world of Data Anal...</td>\n",
       "      <td>I had a great experience with the Business Int...</td>\n",
       "      <td>Applied Business Intelligence Certificate</td>\n",
       "    </tr>\n",
       "    <tr>\n",
       "      <th>2772</th>\n",
       "      <td>A boost for your smooth career switch</td>\n",
       "      <td>I became familiar with WCD in early January 20...</td>\n",
       "      <td>Data Science Bootcamp</td>\n",
       "    </tr>\n",
       "    <tr>\n",
       "      <th>2773</th>\n",
       "      <td>Great Experience</td>\n",
       "      <td>I had a great experience. I liked the instruct...</td>\n",
       "      <td>Data Science Bootcamp</td>\n",
       "    </tr>\n",
       "    <tr>\n",
       "      <th>2774</th>\n",
       "      <td>Great Experience</td>\n",
       "      <td>I had the pleasure to share this experience wi...</td>\n",
       "      <td>Applied Business Intelligence Certificate</td>\n",
       "    </tr>\n",
       "    <tr>\n",
       "      <th>2775</th>\n",
       "      <td>Great data analytics program</td>\n",
       "      <td>Definitely one of the best data analyst progra...</td>\n",
       "      <td>Applied Business Intelligence Certificate</td>\n",
       "    </tr>\n",
       "    <tr>\n",
       "      <th>...</th>\n",
       "      <td>...</td>\n",
       "      <td>...</td>\n",
       "      <td>...</td>\n",
       "    </tr>\n",
       "    <tr>\n",
       "      <th>9386</th>\n",
       "      <td>\"A transformational experience!\"</td>\n",
       "      <td>I would definitely recommend Le Wagon Brussels...</td>\n",
       "      <td>FullStack program - 35+ locations</td>\n",
       "    </tr>\n",
       "    <tr>\n",
       "      <th>9387</th>\n",
       "      <td>\"A real game changer!\"</td>\n",
       "      <td>## How I joined Le WagonI first heard about Le...</td>\n",
       "      <td>FullStack program - 35+ locations</td>\n",
       "    </tr>\n",
       "    <tr>\n",
       "      <th>9390</th>\n",
       "      <td>\"I have just graduated from Le Wagon this mont...</td>\n",
       "      <td>I was a consultant for three years and always ...</td>\n",
       "      <td>FullStack program - 35+ locations</td>\n",
       "    </tr>\n",
       "    <tr>\n",
       "      <th>9406</th>\n",
       "      <td>\"Amazing experience\"</td>\n",
       "      <td>Before Le WagonBefore I started the Le Wagon B...</td>\n",
       "      <td>FullStack program - 35+ locations</td>\n",
       "    </tr>\n",
       "    <tr>\n",
       "      <th>9411</th>\n",
       "      <td>\"An Experience that goes beyond the 9 weeks\"</td>\n",
       "      <td>I was a student at Lewagon (batch #6) and then...</td>\n",
       "      <td>FullStack program - 35+ locations</td>\n",
       "    </tr>\n",
       "  </tbody>\n",
       "</table>\n",
       "<p>5430 rows × 3 columns</p>\n",
       "</div>"
      ],
      "text/plain": [
       "                                                  Title  \\\n",
       "2771  Great way to enter into the world of Data Anal...   \n",
       "2772              A boost for your smooth career switch   \n",
       "2773                                   Great Experience   \n",
       "2774                                   Great Experience   \n",
       "2775                       Great data analytics program   \n",
       "...                                                 ...   \n",
       "9386                   \"A transformational experience!\"   \n",
       "9387                             \"A real game changer!\"   \n",
       "9390  \"I have just graduated from Le Wagon this mont...   \n",
       "9406                               \"Amazing experience\"   \n",
       "9411       \"An Experience that goes beyond the 9 weeks\"   \n",
       "\n",
       "                                                 Review  \\\n",
       "2771  I had a great experience with the Business Int...   \n",
       "2772  I became familiar with WCD in early January 20...   \n",
       "2773  I had a great experience. I liked the instruct...   \n",
       "2774  I had the pleasure to share this experience wi...   \n",
       "2775  Definitely one of the best data analyst progra...   \n",
       "...                                                 ...   \n",
       "9386  I would definitely recommend Le Wagon Brussels...   \n",
       "9387  ## How I joined Le WagonI first heard about Le...   \n",
       "9390  I was a consultant for three years and always ...   \n",
       "9406  Before Le WagonBefore I started the Le Wagon B...   \n",
       "9411  I was a student at Lewagon (batch #6) and then...   \n",
       "\n",
       "                                         Course  \n",
       "2771  Applied Business Intelligence Certificate  \n",
       "2772                      Data Science Bootcamp  \n",
       "2773                      Data Science Bootcamp  \n",
       "2774  Applied Business Intelligence Certificate  \n",
       "2775  Applied Business Intelligence Certificate  \n",
       "...                                         ...  \n",
       "9386          FullStack program - 35+ locations  \n",
       "9387          FullStack program - 35+ locations  \n",
       "9390          FullStack program - 35+ locations  \n",
       "9406          FullStack program - 35+ locations  \n",
       "9411          FullStack program - 35+ locations  \n",
       "\n",
       "[5430 rows x 3 columns]"
      ]
     },
     "execution_count": 74,
     "metadata": {},
     "output_type": "execute_result"
    }
   ],
   "source": [
    "data_course = data_course.dropna()\n",
    "data_course"
   ]
  },
  {
   "cell_type": "code",
   "execution_count": 75,
   "id": "7bb7f99f",
   "metadata": {},
   "outputs": [
    {
     "name": "stdout",
     "output_type": "stream",
     "text": [
      "Cluster 0:\n",
      "7904                    FullStack program\n",
      "7905                    FullStack program\n",
      "7906                    FullStack program\n",
      "7907                    FullStack program\n",
      "7908                    FullStack program\n",
      "                      ...                \n",
      "9386    FullStack program - 35+ locations\n",
      "9387    FullStack program - 35+ locations\n",
      "9390    FullStack program - 35+ locations\n",
      "9406    FullStack program - 35+ locations\n",
      "9411    FullStack program - 35+ locations\n",
      "Name: Course, Length: 1345, dtype: object\n",
      "\n",
      "Cluster 1:\n",
      "4930    Software Engineering Career Track Prep\n",
      "4942         Software Engineering Career Track\n",
      "4946         Software Engineering Career Track\n",
      "4950         Software Engineering Career Track\n",
      "4953         Software Engineering Career Track\n",
      "                         ...                  \n",
      "7167            Software Engineering Immersive\n",
      "7169            Software Engineering Immersive\n",
      "7173            Software Engineering Immersive\n",
      "7174            Software Engineering Immersive\n",
      "7178            Software Engineering Immersive\n",
      "Name: Course, Length: 256, dtype: object\n",
      "\n",
      "Cluster 2:\n",
      "2772        Data Science Bootcamp\n",
      "2773        Data Science Bootcamp\n",
      "2776        Data Science Bootcamp\n",
      "2778    Data Engineering Bootcamp\n",
      "2779        Data Science Bootcamp\n",
      "                  ...            \n",
      "7796     Data Science - Full-Time\n",
      "7818     Data Science - Full-Time\n",
      "7830     Data Science - Full-Time\n",
      "7845     Data Science - Full-Time\n",
      "7848     Data Science - Full-Time\n",
      "Name: Course, Length: 889, dtype: object\n",
      "\n",
      "Cluster 3:\n",
      "2843    Online User Experience Design Diploma\n",
      "2853                    User Interface Design\n",
      "2859                   User Experience Design\n",
      "2865            User Experience Design Online\n",
      "2878                   User Experience Design\n",
      "                        ...                  \n",
      "7133         User Experience Design Immersive\n",
      "7150         User Experience Design Immersive\n",
      "7159         User Experience Design Immersive\n",
      "7164         User Experience Design Immersive\n",
      "7166         User Experience Design Immersive\n",
      "Name: Course, Length: 309, dtype: object\n",
      "\n",
      "Cluster 4:\n",
      "2869           Data Analytics\n",
      "2874    Data Analytics Online\n",
      "2881    Data Analytics Online\n",
      "2884    Data Analytics Online\n",
      "2893    Data Analytics Online\n",
      "                ...          \n",
      "6944           Data Analytics\n",
      "6957           Data Analytics\n",
      "6973           Data Analytics\n",
      "6990           Data Analytics\n",
      "7018           Data Analytics\n",
      "Name: Course, Length: 554, dtype: object\n",
      "\n",
      "Cluster 5:\n",
      "2771    Applied Business Intelligence Certificate\n",
      "2774    Applied Business Intelligence Certificate\n",
      "2775    Applied Business Intelligence Certificate\n",
      "2777    Applied Business Intelligence Certificate\n",
      "2786                     Data Engineering Diploma\n",
      "                          ...                    \n",
      "7034                           Product Management\n",
      "7097                           Product Management\n",
      "7104                                Visual Design\n",
      "7117                           Product Management\n",
      "7160                           Product Management\n",
      "Name: Course, Length: 621, dtype: object\n",
      "\n",
      "Cluster 6:\n",
      "2846         Web Development Diploma\n",
      "2857                 Web Development\n",
      "2864          Online Web Development\n",
      "2875          Online Web Development\n",
      "2890                 Web Development\n",
      "                    ...             \n",
      "7899    Web Development  - Full-Time\n",
      "7900    Web Development  - Full-Time\n",
      "7901    Web Development  - Full-Time\n",
      "7902    Web Development  - Full-Time\n",
      "7903    Web Development  - Full-Time\n",
      "Name: Course, Length: 773, dtype: object\n",
      "\n",
      "Cluster 7:\n",
      "3051       UX & Product Design\n",
      "3089    UX Design Fundamentals\n",
      "3100    UX Design Fundamentals\n",
      "3108    UX Design Fundamentals\n",
      "3109        Advanced UX Design\n",
      "                 ...          \n",
      "6201                 UX Design\n",
      "6202                 UX Design\n",
      "6203                 UX Design\n",
      "6204                 UX Design\n",
      "6205                 UX Design\n",
      "Name: Course, Length: 504, dtype: object\n",
      "\n",
      "Cluster 8:\n",
      "2839    Digital Marketing Diploma\n",
      "2854     Digital Marketing Online\n",
      "2856            Digital Marketing\n",
      "2858    Digital Marketing Diploma\n",
      "2871            Digital Marketing\n",
      "                  ...            \n",
      "7025            Digital Marketing\n",
      "7105            Digital Marketing\n",
      "7152            Digital Marketing\n",
      "7154            Digital Marketing\n",
      "7155            Digital Marketing\n",
      "Name: Course, Length: 179, dtype: object\n",
      "\n"
     ]
    }
   ],
   "source": [
    "from sklearn.cluster import KMeans\n",
    "from sklearn.feature_extraction.text import TfidfVectorizer\n",
    "\n",
    "# Define a function to clean and standardize the course names\n",
    "def clean_course_name(course_name):\n",
    "    # Replace any non-alphanumeric characters with spaces\n",
    "    course_name = ''.join(c if c.isalnum() else ' ' for c in course_name)\n",
    "    # Convert to lowercase\n",
    "    course_name = course_name.lower()\n",
    "    # Remove leading/trailing whitespace\n",
    "    course_name = course_name.strip()\n",
    "    # Replace multiple spaces with a single space\n",
    "    course_name = ' '.join(course_name.split())\n",
    "    return course_name\n",
    "\n",
    "# Load your DataFrame with course names\n",
    "data_course = pd.read_csv('data_course.csv').dropna()\n",
    "\n",
    "# Apply the cleaning function to the 'Course' column of the DataFrame\n",
    "data_course['Course_clean'] = data_course['Course'].apply(clean_course_name)\n",
    "\n",
    "# Use a vectorizer to convert the cleaned course names into feature vectors\n",
    "vectorizer = TfidfVectorizer()\n",
    "X = vectorizer.fit_transform(data_course['Course_clean'])\n",
    "\n",
    "# Use KMeans clustering to group the course names into clusters\n",
    "kmeans = KMeans(n_clusters=9, n_init = 10, random_state=42)\n",
    "kmeans.fit(X)\n",
    "\n",
    "# Assign the cluster labels back to the DataFrame\n",
    "data_course['Cluster'] = kmeans.labels_\n",
    "\n",
    "# Print the clusters and their courses\n",
    "for cluster_id in range(kmeans.n_clusters):\n",
    "    print(f\"Cluster {cluster_id}:\")\n",
    "    print(data_course.loc[data_course['Cluster'] == cluster_id, 'Course'])\n",
    "    print()"
   ]
  },
  {
   "cell_type": "code",
   "execution_count": 76,
   "id": "a8d5cbd8",
   "metadata": {},
   "outputs": [
    {
     "name": "stdout",
     "output_type": "stream",
     "text": [
      "<class 'pandas.core.frame.DataFrame'>\n",
      "Index: 5430 entries, 2771 to 9411\n",
      "Data columns (total 5 columns):\n",
      " #   Column        Non-Null Count  Dtype \n",
      "---  ------        --------------  ----- \n",
      " 0   Title         5430 non-null   object\n",
      " 1   Review        5430 non-null   object\n",
      " 2   Course        5430 non-null   object\n",
      " 3   Course_clean  5430 non-null   object\n",
      " 4   Cluster       5430 non-null   int32 \n",
      "dtypes: int32(1), object(4)\n",
      "memory usage: 233.3+ KB\n"
     ]
    }
   ],
   "source": [
    "data_course.info()"
   ]
  },
  {
   "cell_type": "code",
   "execution_count": 77,
   "id": "23bf27ab",
   "metadata": {},
   "outputs": [
    {
     "data": {
      "image/png": "[encoded data removed]",
      "text/plain": [
       "<Figure size 640x480 with 1 Axes>"
      ]
     },
     "metadata": {},
     "output_type": "display_data"
    }
   ],
   "source": [
    "data_course['Cluster'].value_counts(normalize=True).plot(kind='bar');"
   ]
  },
  {
   "cell_type": "code",
   "execution_count": 78,
   "id": "4828ec22",
   "metadata": {},
   "outputs": [],
   "source": [
    "data_course['text'] = data_course['Title'] + '' + data_course['Review']"
   ]
  },
  {
   "cell_type": "code",
   "execution_count": 79,
   "id": "ba796ac6",
   "metadata": {},
   "outputs": [],
   "source": [
    "data_course['text_clean'] = data_course['text'].apply(cleaner)"
   ]
  },
  {
   "cell_type": "code",
   "execution_count": 80,
   "id": "68788274",
   "metadata": {
    "scrolled": true
   },
   "outputs": [
    {
     "data": {
      "text/html": [
       "<div>\n",
       "<style scoped>\n",
       "    .dataframe tbody tr th:only-of-type {\n",
       "        vertical-align: middle;\n",
       "    }\n",
       "\n",
       "    .dataframe tbody tr th {\n",
       "        vertical-align: top;\n",
       "    }\n",
       "\n",
       "    .dataframe thead th {\n",
       "        text-align: right;\n",
       "    }\n",
       "</style>\n",
       "<table border=\"1\" class=\"dataframe\">\n",
       "  <thead>\n",
       "    <tr style=\"text-align: right;\">\n",
       "      <th></th>\n",
       "      <th>Title</th>\n",
       "      <th>Review</th>\n",
       "      <th>Course</th>\n",
       "      <th>Course_clean</th>\n",
       "      <th>Cluster</th>\n",
       "      <th>text</th>\n",
       "      <th>text_clean</th>\n",
       "    </tr>\n",
       "  </thead>\n",
       "  <tbody>\n",
       "    <tr>\n",
       "      <th>2771</th>\n",
       "      <td>Great way to enter into the world of Data Anal...</td>\n",
       "      <td>I had a great experience with the Business Int...</td>\n",
       "      <td>Applied Business Intelligence Certificate</td>\n",
       "      <td>applied business intelligence certificate</td>\n",
       "      <td>5</td>\n",
       "      <td>Great way to enter into the world of Data Anal...</td>\n",
       "      <td>great way to enter into the world of data anal...</td>\n",
       "    </tr>\n",
       "    <tr>\n",
       "      <th>2772</th>\n",
       "      <td>A boost for your smooth career switch</td>\n",
       "      <td>I became familiar with WCD in early January 20...</td>\n",
       "      <td>Data Science Bootcamp</td>\n",
       "      <td>data science bootcamp</td>\n",
       "      <td>2</td>\n",
       "      <td>A boost for your smooth career switchI became ...</td>\n",
       "      <td>a boost for your smooth career switchi became ...</td>\n",
       "    </tr>\n",
       "    <tr>\n",
       "      <th>2773</th>\n",
       "      <td>Great Experience</td>\n",
       "      <td>I had a great experience. I liked the instruct...</td>\n",
       "      <td>Data Science Bootcamp</td>\n",
       "      <td>data science bootcamp</td>\n",
       "      <td>2</td>\n",
       "      <td>Great ExperienceI had a great experience. I li...</td>\n",
       "      <td>great experiencei had a great experience i lik...</td>\n",
       "    </tr>\n",
       "    <tr>\n",
       "      <th>2774</th>\n",
       "      <td>Great Experience</td>\n",
       "      <td>I had the pleasure to share this experience wi...</td>\n",
       "      <td>Applied Business Intelligence Certificate</td>\n",
       "      <td>applied business intelligence certificate</td>\n",
       "      <td>5</td>\n",
       "      <td>Great ExperienceI had the pleasure to share th...</td>\n",
       "      <td>great experiencei had the pleasure to share th...</td>\n",
       "    </tr>\n",
       "    <tr>\n",
       "      <th>2775</th>\n",
       "      <td>Great data analytics program</td>\n",
       "      <td>Definitely one of the best data analyst progra...</td>\n",
       "      <td>Applied Business Intelligence Certificate</td>\n",
       "      <td>applied business intelligence certificate</td>\n",
       "      <td>5</td>\n",
       "      <td>Great data analytics programDefinitely one of ...</td>\n",
       "      <td>great data analytics programdefinitely one of ...</td>\n",
       "    </tr>\n",
       "  </tbody>\n",
       "</table>\n",
       "</div>"
      ],
      "text/plain": [
       "                                                  Title  \\\n",
       "2771  Great way to enter into the world of Data Anal...   \n",
       "2772              A boost for your smooth career switch   \n",
       "2773                                   Great Experience   \n",
       "2774                                   Great Experience   \n",
       "2775                       Great data analytics program   \n",
       "\n",
       "                                                 Review  \\\n",
       "2771  I had a great experience with the Business Int...   \n",
       "2772  I became familiar with WCD in early January 20...   \n",
       "2773  I had a great experience. I liked the instruct...   \n",
       "2774  I had the pleasure to share this experience wi...   \n",
       "2775  Definitely one of the best data analyst progra...   \n",
       "\n",
       "                                         Course  \\\n",
       "2771  Applied Business Intelligence Certificate   \n",
       "2772                      Data Science Bootcamp   \n",
       "2773                      Data Science Bootcamp   \n",
       "2774  Applied Business Intelligence Certificate   \n",
       "2775  Applied Business Intelligence Certificate   \n",
       "\n",
       "                                   Course_clean  Cluster  \\\n",
       "2771  applied business intelligence certificate        5   \n",
       "2772                      data science bootcamp        2   \n",
       "2773                      data science bootcamp        2   \n",
       "2774  applied business intelligence certificate        5   \n",
       "2775  applied business intelligence certificate        5   \n",
       "\n",
       "                                                   text  \\\n",
       "2771  Great way to enter into the world of Data Anal...   \n",
       "2772  A boost for your smooth career switchI became ...   \n",
       "2773  Great ExperienceI had a great experience. I li...   \n",
       "2774  Great ExperienceI had the pleasure to share th...   \n",
       "2775  Great data analytics programDefinitely one of ...   \n",
       "\n",
       "                                             text_clean  \n",
       "2771  great way to enter into the world of data anal...  \n",
       "2772  a boost for your smooth career switchi became ...  \n",
       "2773  great experiencei had a great experience i lik...  \n",
       "2774  great experiencei had the pleasure to share th...  \n",
       "2775  great data analytics programdefinitely one of ...  "
      ]
     },
     "execution_count": 80,
     "metadata": {},
     "output_type": "execute_result"
    }
   ],
   "source": [
    "data_course.head()"
   ]
  },
  {
   "cell_type": "code",
   "execution_count": 81,
   "id": "3ad09490",
   "metadata": {},
   "outputs": [],
   "source": [
    "# define features\n",
    "X = data_course['text_clean']"
   ]
  },
  {
   "cell_type": "code",
   "execution_count": 82,
   "id": "d67f05ac",
   "metadata": {
    "scrolled": true
   },
   "outputs": [
    {
     "data": {
      "text/plain": [
       "(5430,)"
      ]
     },
     "execution_count": 82,
     "metadata": {},
     "output_type": "execute_result"
    }
   ],
   "source": [
    "X.shape"
   ]
  },
  {
   "cell_type": "code",
   "execution_count": 83,
   "id": "63f208c8",
   "metadata": {},
   "outputs": [],
   "source": [
    "# define label\n",
    "y = data_course['Cluster']"
   ]
  },
  {
   "cell_type": "code",
   "execution_count": 84,
   "id": "328e1718",
   "metadata": {},
   "outputs": [],
   "source": [
    "# split data\n",
    "X_train, X_test, y_train, y_test = train_test_split(X, y, test_size=0.33, random_state=42)"
   ]
  },
  {
   "cell_type": "code",
   "execution_count": 85,
   "id": "48c743f0",
   "metadata": {},
   "outputs": [
    {
     "data": {
      "text/plain": [
       "(3638,)"
      ]
     },
     "execution_count": 85,
     "metadata": {},
     "output_type": "execute_result"
    }
   ],
   "source": [
    "X_train.shape"
   ]
  },
  {
   "cell_type": "code",
   "execution_count": 86,
   "id": "e5c6efbf",
   "metadata": {
    "scrolled": true
   },
   "outputs": [
    {
     "data": {
      "text/plain": [
       "(1792,)"
      ]
     },
     "execution_count": 86,
     "metadata": {},
     "output_type": "execute_result"
    }
   ],
   "source": [
    "X_test.shape"
   ]
  },
  {
   "cell_type": "code",
   "execution_count": 87,
   "id": "fe182826",
   "metadata": {},
   "outputs": [
    {
     "data": {
      "text/plain": [
       "(3638,)"
      ]
     },
     "execution_count": 87,
     "metadata": {},
     "output_type": "execute_result"
    }
   ],
   "source": [
    "y_train.shape"
   ]
  },
  {
   "cell_type": "code",
   "execution_count": 88,
   "id": "36e34a04",
   "metadata": {},
   "outputs": [
    {
     "data": {
      "text/plain": [
       "(1792,)"
      ]
     },
     "execution_count": 88,
     "metadata": {},
     "output_type": "execute_result"
    }
   ],
   "source": [
    "y_test.shape"
   ]
  },
  {
   "cell_type": "markdown",
   "id": "4fdfcf32",
   "metadata": {},
   "source": [
    "### Baseline Model"
   ]
  },
  {
   "cell_type": "markdown",
   "id": "94a2d666",
   "metadata": {},
   "source": [
    "###### DT"
   ]
  },
  {
   "cell_type": "code",
   "execution_count": 89,
   "id": "69f63934",
   "metadata": {
    "scrolled": false
   },
   "outputs": [
    {
     "data": {
      "text/plain": [
       "8855    my time at le wagon barcelona i recently finis...\n",
       "9249    technical boost having been working in a frenc...\n",
       "5066    transition to ux with no experience what drive...\n",
       "6520    best as a something i started off my general a...\n",
       "7618    practical learning done well i joined le wagon...\n",
       "                              ...                        \n",
       "7554    intensive and exhaustive dev training after ye...\n",
       "9144    hard work and lot of fun le wagon barcelona ga...\n",
       "9179    you will never regret it le wagon is the great...\n",
       "9351    le wagon bordeaux batch hello i was a student ...\n",
       "3737    great bootcamp first off my background i have ...\n",
       "Name: text_clean, Length: 3638, dtype: object"
      ]
     },
     "execution_count": 89,
     "metadata": {},
     "output_type": "execute_result"
    }
   ],
   "source": [
    "X_train"
   ]
  },
  {
   "cell_type": "code",
   "execution_count": 90,
   "id": "14764740",
   "metadata": {},
   "outputs": [],
   "source": [
    "vectorizer = TfidfVectorizer(stop_words='english', ngram_range=(1,5), max_features = 1000)\n",
    "# fit_transform for X_train\n",
    "X_train_vec = vectorizer.fit_transform(X_train).toarray()\n",
    "# transforn for X_test\n",
    "X_test_vec = vectorizer.transform(X_test)"
   ]
  },
  {
   "cell_type": "code",
   "execution_count": 91,
   "id": "f959f239",
   "metadata": {},
   "outputs": [
    {
     "data": {
      "text/plain": [
       "(3638,)"
      ]
     },
     "execution_count": 91,
     "metadata": {},
     "output_type": "execute_result"
    }
   ],
   "source": [
    "X_train.shape"
   ]
  },
  {
   "cell_type": "code",
   "execution_count": 92,
   "id": "13414fa7",
   "metadata": {
    "scrolled": false
   },
   "outputs": [
    {
     "data": {
      "text/plain": [
       "(3638, 1000)"
      ]
     },
     "execution_count": 92,
     "metadata": {},
     "output_type": "execute_result"
    }
   ],
   "source": [
    "X_train_vec.shape"
   ]
  },
  {
   "cell_type": "code",
   "execution_count": 93,
   "id": "66c76c77",
   "metadata": {},
   "outputs": [],
   "source": [
    "model = DecisionTreeClassifier()\n",
    "model.fit(X_train_vec, y_train)\n",
    "y_pred = model.predict(X_test_vec)"
   ]
  },
  {
   "cell_type": "code",
   "execution_count": 94,
   "id": "2360a9aa",
   "metadata": {},
   "outputs": [
    {
     "data": {
      "text/plain": [
       "0.6633346821094913"
      ]
     },
     "execution_count": 94,
     "metadata": {},
     "output_type": "execute_result"
    }
   ],
   "source": [
    "f1_score(y_test, y_pred, average='weighted')"
   ]
  },
  {
   "cell_type": "code",
   "execution_count": 95,
   "id": "9b0fb724",
   "metadata": {},
   "outputs": [
    {
     "data": {
      "text/plain": [
       "0.6660188571601243"
      ]
     },
     "execution_count": 95,
     "metadata": {},
     "output_type": "execute_result"
    }
   ],
   "source": [
    "# count vectorizer for 1, 2, 3, 4, 5-grams\n",
    "steps = [('vec', CountVectorizer(stop_words='english', ngram_range=(1,5), max_features = 1000)), \n",
    "         ('tfidf', TfidfTransformer()),\n",
    "         ('dt', DecisionTreeClassifier(random_state=42))]\n",
    "\n",
    "pipeline = Pipeline(steps=steps)\n",
    "\n",
    "pipeline.fit(X_train, y_train)\n",
    "\n",
    "y_pred = pipeline.predict(X_test)\n",
    "\n",
    "# Calculate the F1 score\n",
    "f1_score(y_test, y_pred, average='weighted')"
   ]
  },
  {
   "cell_type": "markdown",
   "id": "31fa3c0a",
   "metadata": {},
   "source": [
    "###### KNN"
   ]
  },
  {
   "cell_type": "code",
   "execution_count": 96,
   "id": "cf239a87",
   "metadata": {},
   "outputs": [
    {
     "data": {
      "text/plain": [
       "0.7129138256267454"
      ]
     },
     "execution_count": 96,
     "metadata": {},
     "output_type": "execute_result"
    }
   ],
   "source": [
    "# count vectorizer for 1, 2, 3, 4, 5-grams\n",
    "steps = [('vec', CountVectorizer(stop_words='english', ngram_range=(1,5), max_features = 1000)), \n",
    "         ('tfidf', TfidfTransformer()),\n",
    "         ('knn', KNeighborsClassifier())]\n",
    "\n",
    "pipeline = Pipeline(steps=steps)\n",
    "\n",
    "pipeline.fit(X_train, y_train)\n",
    "\n",
    "y_pred = pipeline.predict(X_test)\n",
    "\n",
    "f1_score(y_test, y_pred, average='weighted')"
   ]
  },
  {
   "cell_type": "markdown",
   "id": "71f5bcf9",
   "metadata": {},
   "source": [
    "###### MultinomialNB"
   ]
  },
  {
   "cell_type": "code",
   "execution_count": 97,
   "id": "502891cd",
   "metadata": {},
   "outputs": [
    {
     "data": {
      "text/plain": [
       "0.6997863234612659"
      ]
     },
     "execution_count": 97,
     "metadata": {},
     "output_type": "execute_result"
    }
   ],
   "source": [
    "from sklearn.naive_bayes import MultinomialNB\n",
    "\n",
    "steps = [('vec', CountVectorizer(stop_words='english', ngram_range=(1,5), max_features = 1000)), \n",
    "         ('tfidf', TfidfTransformer()),\n",
    "         ('clf', MultinomialNB())]\n",
    "\n",
    "pipeline = Pipeline(steps=steps)\n",
    "\n",
    "pipeline.fit(X_train, y_train)\n",
    "\n",
    "y_pred = pipeline.predict(X_test)\n",
    "\n",
    "f1_score(y_test, y_pred, average='weighted')"
   ]
  },
  {
   "cell_type": "code",
   "execution_count": 98,
   "id": "6b493007",
   "metadata": {
    "scrolled": true
   },
   "outputs": [
    {
     "name": "stdout",
     "output_type": "stream",
     "text": [
      "              precision    recall  f1-score   support\n",
      "\n",
      "           0       0.70      0.95      0.80       447\n",
      "           1       0.88      0.38      0.54        78\n",
      "           2       0.81      0.83      0.82       317\n",
      "           3       0.93      0.62      0.75       101\n",
      "           4       0.76      0.70      0.73       187\n",
      "           5       0.55      0.63      0.59       198\n",
      "           6       0.63      0.27      0.38       256\n",
      "           7       0.72      0.96      0.83       155\n",
      "           8       0.85      0.64      0.73        53\n",
      "\n",
      "    accuracy                           0.72      1792\n",
      "   macro avg       0.76      0.67      0.68      1792\n",
      "weighted avg       0.73      0.72      0.70      1792\n",
      "\n"
     ]
    }
   ],
   "source": [
    "print(classification_report(y_test, y_pred))"
   ]
  },
  {
   "cell_type": "markdown",
   "id": "e857c31d",
   "metadata": {},
   "source": [
    "###### LR"
   ]
  },
  {
   "cell_type": "code",
   "execution_count": 99,
   "id": "5e0028cb",
   "metadata": {},
   "outputs": [
    {
     "data": {
      "text/plain": [
       "0.7574301735159175"
      ]
     },
     "execution_count": 99,
     "metadata": {},
     "output_type": "execute_result"
    }
   ],
   "source": [
    "# count vectorizer for 1, 2, 3, 4, 5-grams\n",
    "steps = [('vec', CountVectorizer(stop_words='english', ngram_range=(1,5), max_features = 1000)), \n",
    "         ('tfidf', TfidfTransformer()),\n",
    "         ('lr', LogisticRegression(random_state=42))]\n",
    "\n",
    "pipeline = Pipeline(steps=steps)\n",
    "\n",
    "pipeline.fit(X_train, y_train)\n",
    "\n",
    "y_pred = pipeline.predict(X_test)\n",
    "\n",
    "f1_score(y_test, y_pred, average='weighted')\n",
    "#cross_val_score(pipeline, X, y, cv=3, scoring='f1')"
   ]
  },
  {
   "cell_type": "code",
   "execution_count": 100,
   "id": "6faf733a",
   "metadata": {},
   "outputs": [
    {
     "data": {
      "text/plain": [
       "{'C': 1.0,\n",
       " 'class_weight': None,\n",
       " 'dual': False,\n",
       " 'fit_intercept': True,\n",
       " 'intercept_scaling': 1,\n",
       " 'l1_ratio': None,\n",
       " 'max_iter': 100,\n",
       " 'multi_class': 'auto',\n",
       " 'n_jobs': None,\n",
       " 'penalty': 'l2',\n",
       " 'random_state': 42,\n",
       " 'solver': 'lbfgs',\n",
       " 'tol': 0.0001,\n",
       " 'verbose': 0,\n",
       " 'warm_start': False}"
      ]
     },
     "execution_count": 100,
     "metadata": {},
     "output_type": "execute_result"
    }
   ],
   "source": [
    "pipeline.steps[-1][1].get_params()"
   ]
  },
  {
   "cell_type": "markdown",
   "id": "5cc90aab",
   "metadata": {},
   "source": [
    "###### SVC"
   ]
  },
  {
   "cell_type": "code",
   "execution_count": 101,
   "id": "5c13eded",
   "metadata": {},
   "outputs": [
    {
     "data": {
      "text/plain": [
       "0.765880325904379"
      ]
     },
     "execution_count": 101,
     "metadata": {},
     "output_type": "execute_result"
    }
   ],
   "source": [
    "# count vectorizer for 1, 2, 3, 4, 5-grams\n",
    "steps = [('vec', CountVectorizer(stop_words='english', ngram_range=(1,5), max_features = 1000)),\n",
    "         ('tfidf', TfidfTransformer()),\n",
    "         ('svc', SVC(random_state=42))]\n",
    "\n",
    "pipeline = Pipeline(steps=steps)\n",
    "\n",
    "pipeline.fit(X_train, y_train)\n",
    "\n",
    "y_pred = pipeline.predict(X_test)\n",
    "\n",
    "f1_score(y_test, y_pred, average='weighted')"
   ]
  },
  {
   "cell_type": "code",
   "execution_count": 102,
   "id": "17f340a6",
   "metadata": {
    "scrolled": true
   },
   "outputs": [
    {
     "data": {
      "text/plain": [
       "{'C': 1.0,\n",
       " 'break_ties': False,\n",
       " 'cache_size': 200,\n",
       " 'class_weight': None,\n",
       " 'coef0': 0.0,\n",
       " 'decision_function_shape': 'ovr',\n",
       " 'degree': 3,\n",
       " 'gamma': 'scale',\n",
       " 'kernel': 'rbf',\n",
       " 'max_iter': -1,\n",
       " 'probability': False,\n",
       " 'random_state': 42,\n",
       " 'shrinking': True,\n",
       " 'tol': 0.001,\n",
       " 'verbose': False}"
      ]
     },
     "execution_count": 102,
     "metadata": {},
     "output_type": "execute_result"
    }
   ],
   "source": [
    "pipeline.steps[-1][1].get_params()"
   ]
  },
  {
   "cell_type": "markdown",
   "id": "abe4f070",
   "metadata": {},
   "source": [
    "###### Random Forest"
   ]
  },
  {
   "cell_type": "code",
   "execution_count": 103,
   "id": "6b0bbd34",
   "metadata": {},
   "outputs": [
    {
     "data": {
      "text/plain": [
       "0.758785375837497"
      ]
     },
     "execution_count": 103,
     "metadata": {},
     "output_type": "execute_result"
    }
   ],
   "source": [
    "# count vectorizer for 1, 2, 3, 4, 5-grams\n",
    "steps = [('vec', CountVectorizer(stop_words='english', ngram_range=(1,5), max_features = 1000)), \n",
    "         ('tfidf', TfidfTransformer()),\n",
    "         ('rf', RandomForestClassifier(random_state=42))]\n",
    "\n",
    "pipeline = Pipeline(steps=steps)\n",
    "\n",
    "pipeline.fit(X_train, y_train)\n",
    "\n",
    "y_pred = pipeline.predict(X_test)\n",
    "\n",
    "f1_score(y_test, y_pred, average='weighted')"
   ]
  },
  {
   "cell_type": "code",
   "execution_count": 104,
   "id": "2c455689",
   "metadata": {},
   "outputs": [
    {
     "data": {
      "text/plain": [
       "{'bootstrap': True,\n",
       " 'ccp_alpha': 0.0,\n",
       " 'class_weight': None,\n",
       " 'criterion': 'gini',\n",
       " 'max_depth': None,\n",
       " 'max_features': 'sqrt',\n",
       " 'max_leaf_nodes': None,\n",
       " 'max_samples': None,\n",
       " 'min_impurity_decrease': 0.0,\n",
       " 'min_samples_leaf': 1,\n",
       " 'min_samples_split': 2,\n",
       " 'min_weight_fraction_leaf': 0.0,\n",
       " 'n_estimators': 100,\n",
       " 'n_jobs': None,\n",
       " 'oob_score': False,\n",
       " 'random_state': 42,\n",
       " 'verbose': 0,\n",
       " 'warm_start': False}"
      ]
     },
     "execution_count": 104,
     "metadata": {},
     "output_type": "execute_result"
    }
   ],
   "source": [
    "pipeline.steps[-1][1].get_params()"
   ]
  },
  {
   "cell_type": "markdown",
   "id": "52da3d8c",
   "metadata": {},
   "source": [
    "###### XGBoost"
   ]
  },
  {
   "cell_type": "code",
   "execution_count": 105,
   "id": "43a5793e",
   "metadata": {
    "scrolled": true
   },
   "outputs": [
    {
     "data": {
      "text/plain": [
       "0.7573845440751842"
      ]
     },
     "execution_count": 105,
     "metadata": {},
     "output_type": "execute_result"
    }
   ],
   "source": [
    "# count vectorizer for 1, 2, 3, 4, 5-grams\n",
    "steps = [('vec', CountVectorizer(stop_words='english', ngram_range=(1,5), max_features = 1000)), \n",
    "         ('tfidf', TfidfTransformer()),\n",
    "         ('xgb', XGBClassifier())]\n",
    "\n",
    "pipeline = Pipeline(steps=steps)\n",
    "\n",
    "pipeline.fit(X_train, y_train)\n",
    "\n",
    "y_pred = pipeline.predict(X_test)\n",
    "\n",
    "f1_score(y_test, y_pred, average='weighted')"
   ]
  },
  {
   "cell_type": "code",
   "execution_count": 106,
   "id": "87b328a2",
   "metadata": {},
   "outputs": [
    {
     "data": {
      "text/plain": [
       "{'objective': 'multi:softprob',\n",
       " 'use_label_encoder': None,\n",
       " 'base_score': None,\n",
       " 'booster': None,\n",
       " 'callbacks': None,\n",
       " 'colsample_bylevel': None,\n",
       " 'colsample_bynode': None,\n",
       " 'colsample_bytree': None,\n",
       " 'early_stopping_rounds': None,\n",
       " 'enable_categorical': False,\n",
       " 'eval_metric': None,\n",
       " 'feature_types': None,\n",
       " 'gamma': None,\n",
       " 'gpu_id': None,\n",
       " 'grow_policy': None,\n",
       " 'importance_type': None,\n",
       " 'interaction_constraints': None,\n",
       " 'learning_rate': None,\n",
       " 'max_bin': None,\n",
       " 'max_cat_threshold': None,\n",
       " 'max_cat_to_onehot': None,\n",
       " 'max_delta_step': None,\n",
       " 'max_depth': None,\n",
       " 'max_leaves': None,\n",
       " 'min_child_weight': None,\n",
       " 'missing': nan,\n",
       " 'monotone_constraints': None,\n",
       " 'n_estimators': 100,\n",
       " 'n_jobs': None,\n",
       " 'num_parallel_tree': None,\n",
       " 'predictor': None,\n",
       " 'random_state': None,\n",
       " 'reg_alpha': None,\n",
       " 'reg_lambda': None,\n",
       " 'sampling_method': None,\n",
       " 'scale_pos_weight': None,\n",
       " 'subsample': None,\n",
       " 'tree_method': None,\n",
       " 'validate_parameters': None,\n",
       " 'verbosity': None}"
      ]
     },
     "execution_count": 106,
     "metadata": {},
     "output_type": "execute_result"
    }
   ],
   "source": [
    "pipeline.steps[-1][1].get_params()"
   ]
  },
  {
   "cell_type": "markdown",
   "id": "97698fb6",
   "metadata": {},
   "source": [
    "#### How to run multipule model in one frame?"
   ]
  },
  {
   "cell_type": "code",
   "execution_count": 107,
   "id": "7b2c9538",
   "metadata": {},
   "outputs": [],
   "source": [
    "def vectorizing(algo):   \n",
    "    steps = [('vec', CountVectorizer(stop_words='english', ngram_range=(1,5), max_features = 1000)),\n",
    "             ('tfidf', TfidfTransformer()), \n",
    "             ('model', algo)]\n",
    "\n",
    "    pipeline = Pipeline(steps=steps)\n",
    "\n",
    "    pipeline.fit(X_train, y_train)\n",
    "    \n",
    "    y_pred = pipeline.predict(X_test)\n",
    "    \n",
    "    return classification_report(y_pred, y_test)"
   ]
  },
  {
   "cell_type": "code",
   "execution_count": 108,
   "id": "3c6050ee",
   "metadata": {
    "scrolled": true
   },
   "outputs": [
    {
     "name": "stdout",
     "output_type": "stream",
     "text": [
      "              precision    recall  f1-score   support\n",
      "\n",
      "           0       0.90      0.79      0.84       514\n",
      "           1       0.62      0.76      0.68        63\n",
      "           2       0.80      0.86      0.83       297\n",
      "           3       0.72      0.84      0.78        87\n",
      "           4       0.73      0.75      0.74       181\n",
      "           5       0.77      0.58      0.66       263\n",
      "           6       0.49      0.71      0.58       177\n",
      "           7       0.86      0.80      0.83       168\n",
      "           8       0.70      0.88      0.78        42\n",
      "\n",
      "    accuracy                           0.76      1792\n",
      "   macro avg       0.73      0.77      0.75      1792\n",
      "weighted avg       0.78      0.76      0.76      1792\n",
      "\n",
      "              precision    recall  f1-score   support\n",
      "\n",
      "           0       0.91      0.78      0.84       521\n",
      "           1       0.64      0.78      0.70        64\n",
      "           2       0.79      0.88      0.84       284\n",
      "           3       0.73      0.91      0.81        81\n",
      "           4       0.77      0.76      0.76       190\n",
      "           5       0.81      0.56      0.66       286\n",
      "           6       0.47      0.71      0.57       168\n",
      "           7       0.85      0.85      0.85       154\n",
      "           8       0.75      0.91      0.82        44\n",
      "\n",
      "    accuracy                           0.77      1792\n",
      "   macro avg       0.75      0.79      0.76      1792\n",
      "weighted avg       0.79      0.77      0.77      1792\n",
      "\n",
      "              precision    recall  f1-score   support\n",
      "\n",
      "           0       0.95      0.76      0.85       554\n",
      "           1       0.49      0.84      0.62        45\n",
      "           2       0.84      0.86      0.85       308\n",
      "           3       0.80      0.83      0.81        98\n",
      "           4       0.73      0.80      0.76       172\n",
      "           5       0.76      0.59      0.66       258\n",
      "           6       0.38      0.73      0.50       133\n",
      "           7       0.92      0.79      0.85       179\n",
      "           8       0.77      0.91      0.84        45\n",
      "\n",
      "    accuracy                           0.77      1792\n",
      "   macro avg       0.74      0.79      0.75      1792\n",
      "weighted avg       0.81      0.77      0.78      1792\n",
      "\n",
      "              precision    recall  f1-score   support\n",
      "\n",
      "           0       0.87      0.79      0.83       494\n",
      "           1       0.68      0.74      0.71        72\n",
      "           2       0.83      0.85      0.84       310\n",
      "           3       0.77      0.80      0.79        97\n",
      "           4       0.76      0.76      0.76       187\n",
      "           5       0.73      0.61      0.66       239\n",
      "           6       0.48      0.62      0.54       201\n",
      "           7       0.82      0.86      0.84       147\n",
      "           8       0.77      0.91      0.84        45\n",
      "\n",
      "    accuracy                           0.76      1792\n",
      "   macro avg       0.75      0.77      0.76      1792\n",
      "weighted avg       0.77      0.76      0.76      1792\n",
      "\n"
     ]
    }
   ],
   "source": [
    "list_of_algos = [LogisticRegression(), SVC(), RandomForestClassifier(), XGBClassifier()]\n",
    "\n",
    "for x in list_of_algos:\n",
    "    print(vectorizing(x))"
   ]
  },
  {
   "cell_type": "markdown",
   "id": "1e9ac380",
   "metadata": {},
   "source": [
    "#### Hyperparemeter Tuning"
   ]
  },
  {
   "cell_type": "code",
   "execution_count": 109,
   "id": "c831fa52",
   "metadata": {},
   "outputs": [],
   "source": [
    "# shift+tab to check the default parameter setting\n",
    "# LogisticRegression()"
   ]
  },
  {
   "cell_type": "code",
   "execution_count": 110,
   "id": "6b9c7cdc",
   "metadata": {
    "scrolled": true
   },
   "outputs": [
    {
     "name": "stdout",
     "output_type": "stream",
     "text": [
      "Fitting 3 folds for each of 12 candidates, totalling 36 fits\n",
      "Best hyperparameters:  {'svc__C': 10, 'svc__gamma': 'scale', 'svc__kernel': 'rbf'}\n",
      "Best model:  Pipeline(steps=[('vec',\n",
      "                 CountVectorizer(max_features=1000, ngram_range=(1, 5),\n",
      "                                 stop_words='english')),\n",
      "                ('tfidf', TfidfTransformer()),\n",
      "                ('svc', SVC(C=10, random_state=42))])\n",
      "Best accuracy score:  0.7517361209493011\n"
     ]
    }
   ],
   "source": [
    "# Define pipeline for SVC\n",
    "svc_steps = [('vec', CountVectorizer(stop_words='english', ngram_range=(1, 5), max_features=1000)), \n",
    "             ('tfidf', TfidfTransformer()),\n",
    "             ('svc', SVC(random_state=42))]\n",
    "\n",
    "svc_pipeline = Pipeline(steps=svc_steps)\n",
    "\n",
    "# Define the hyperparameters and their possible values to be searched for SVC\n",
    "svc_hyperparameters = {\n",
    "    'svc__C': [0.1, 1.0, 10],\n",
    "    'svc__kernel': ['linear', 'rbf'],\n",
    "    'svc__gamma': ['scale', 'auto'],\n",
    "}\n",
    "\n",
    "f1_weighted_score = make_scorer(f1_score, average='weighted')\n",
    "\n",
    "# Create the GridSearchCV object for SVC with multiple scoring metrics\n",
    "svc_grid_search = GridSearchCV(svc_pipeline, svc_hyperparameters, cv=3, \n",
    "                               scoring=f1_weighted_score, \n",
    "                               n_jobs=2, verbose=2)\n",
    "\n",
    "# Fit the GridSearchCV object on the training data to search for the best hyperparameters\n",
    "svc_grid_search.fit(X_train, y_train)\n",
    "\n",
    "# Print the best hyperparameters and accuracy score\n",
    "print(\"Best hyperparameters: \", svc_grid_search.best_params_)\n",
    "print(\"Best model: \", svc_grid_search.best_estimator_)\n",
    "print(\"Best accuracy score: \", svc_grid_search.best_score_)"
   ]
  },
  {
   "cell_type": "code",
   "execution_count": 111,
   "id": "dbd27291",
   "metadata": {
    "scrolled": true
   },
   "outputs": [
    {
     "name": "stdout",
     "output_type": "stream",
     "text": [
      "Fitting 3 folds for each of 9 candidates, totalling 27 fits\n",
      "Best hyperparameters:  {'lr__C': 1.0, 'lr__penalty': 'l2', 'lr__solver': 'saga'}\n",
      "Best model:  Pipeline(steps=[('vec',\n",
      "                 CountVectorizer(max_features=1000, ngram_range=(1, 5),\n",
      "                                 stop_words='english')),\n",
      "                ('tfidf', TfidfTransformer()),\n",
      "                ('lr', LogisticRegression(random_state=42, solver='saga'))])\n",
      "Best accuracy score:  0.742383795548973\n"
     ]
    }
   ],
   "source": [
    "# Define pipeline\n",
    "steps = [('vec', CountVectorizer(stop_words='english', ngram_range=(1,5), max_features = 1000)), \n",
    "         ('tfidf', TfidfTransformer()),\n",
    "         ('lr', LogisticRegression(random_state=42))]\n",
    "\n",
    "pipeline = Pipeline(steps=steps)\n",
    "\n",
    "# Define the hyperparameters and their possible values to be searched\n",
    "hyperparameters = {\n",
    "    'lr__penalty': ['l2'],\n",
    "    'lr__C': [0.1, 1.0, 10],\n",
    "    'lr__solver': ['lbfgs','newton-cg','saga']\n",
    "}\n",
    "\n",
    "f1_weighted_score = make_scorer(f1_score, average='weighted')\n",
    "\n",
    "# Create the GridSearchCV object with multiple scoring metrics\n",
    "grid_search = GridSearchCV(pipeline, hyperparameters, cv=3, \n",
    "                           scoring=f1_weighted_score, \n",
    "                           n_jobs=2, verbose=2)\n",
    "\n",
    "# Fit the GridSearchCV object on the training data to search for best hyperparameters\n",
    "grid_search.fit(X_train, y_train)\n",
    "\n",
    "# Print the best hyperparameters and F1 score\n",
    "print(\"Best hyperparameters: \", grid_search.best_params_)\n",
    "print(\"Best model: \", grid_search.best_estimator_)\n",
    "print(\"Best accuracy score: \", grid_search.best_score_)"
   ]
  },
  {
   "cell_type": "code",
   "execution_count": 112,
   "id": "514f8e01",
   "metadata": {
    "scrolled": true
   },
   "outputs": [
    {
     "name": "stdout",
     "output_type": "stream",
     "text": [
      "Fitting 3 folds for each of 18 candidates, totalling 54 fits\n",
      "Best hyperparameters:  {'xgb__learning_rate': 0.1, 'xgb__max_depth': 5, 'xgb__n_estimators': 300}\n",
      "Best model:  Pipeline(steps=[('vec',\n",
      "                 CountVectorizer(max_features=1000, ngram_range=(1, 5),\n",
      "                                 stop_words='english')),\n",
      "                ('tfidf', TfidfTransformer()),\n",
      "                ('xgb',\n",
      "                 XGBClassifier(base_score=None, booster=None, callbacks=None,\n",
      "                               colsample_bylevel=None, colsample_bynode=None,\n",
      "                               colsample_bytree=None,\n",
      "                               early_stopping_rounds=None,\n",
      "                               enable_categorical=False, eval_metric=None,\n",
      "                               feature_types=None, gam...\n",
      "                               grow_policy=None, importance_type=None,\n",
      "                               interaction_constraints=None, learning_rate=0.1,\n",
      "                               max_bin=None, max_cat_threshold=None,\n",
      "                               max_cat_to_onehot=None, max_delta_step=None,\n",
      "                               max_depth=5, max_leaves=None,\n",
      "                               min_child_weight=None, missing=nan,\n",
      "                               monotone_constraints=None, n_estimators=300,\n",
      "                               n_jobs=None, num_parallel_tree=None,\n",
      "                               objective='multi:softprob', predictor=None, ...))])\n",
      "Best accuracy score:  0.7437923371648184\n"
     ]
    }
   ],
   "source": [
    "# Define pipeline\n",
    "steps = [('vec', CountVectorizer(stop_words='english', ngram_range=(1,5), max_features = 1000)), \n",
    "         ('tfidf', TfidfTransformer()),\n",
    "         ('xgb', XGBClassifier(random_state=42))]\n",
    "\n",
    "pipeline = Pipeline(steps=steps)\n",
    "\n",
    "# Define the hyperparameters and their possible values to be searched\n",
    "hyperparameters = {\n",
    "    'xgb__max_depth': [1, 5, 10],\n",
    "    'xgb__learning_rate': [0.1, 1],\n",
    "    'xgb__n_estimators': [200, 300, 400],\n",
    "}\n",
    "\n",
    "f1_weighted_score = make_scorer(f1_score, average='weighted')\n",
    "\n",
    "# Create the GridSearchCV object with multiple scoring metrics\n",
    "grid_search = GridSearchCV(pipeline, hyperparameters, cv=3, \n",
    "                           scoring=f1_weighted_score, \n",
    "                           n_jobs=2, verbose=2)\n",
    "\n",
    "# Fit the GridSearchCV object on the training data to search for best hyperparameters\n",
    "grid_search.fit(X_train, y_train)\n",
    "\n",
    "# Print the best hyperparameters and accuracy score\n",
    "print(\"Best hyperparameters: \", grid_search.best_params_)\n",
    "print(\"Best model: \", grid_search.best_estimator_)\n",
    "print(\"Best accuracy score: \", grid_search.best_score_)"
   ]
  },
  {
   "cell_type": "markdown",
   "id": "b8a9612e",
   "metadata": {},
   "source": [
    "### Stacking"
   ]
  },
  {
   "cell_type": "code",
   "execution_count": 113,
   "id": "c954056e",
   "metadata": {},
   "outputs": [],
   "source": [
    "# stacking\n",
    "estimators = [\n",
    "    ('rf', RandomForestClassifier()),\n",
    "    ('xgb', XGBClassifier()),\n",
    "    ('lr', LogisticRegression()),\n",
    "    ('svc', SVC())\n",
    "]\n",
    "\n",
    "clf = StackingClassifier(\n",
    "    estimators=estimators, final_estimator=LogisticRegression()\n",
    ")"
   ]
  },
  {
   "cell_type": "code",
   "execution_count": 114,
   "id": "b8fe7507",
   "metadata": {},
   "outputs": [],
   "source": [
    "steps = [('vec', CountVectorizer(stop_words='english', ngram_range=(1,5), max_features = 1000)), \n",
    "         ('tfidf', TfidfTransformer()),\n",
    "         ('xgb', XGBClassifier())]\n",
    "\n",
    "stacking_pipeline = Pipeline(steps=steps)"
   ]
  },
  {
   "cell_type": "code",
   "execution_count": 115,
   "id": "eb16fcf1",
   "metadata": {},
   "outputs": [
    {
     "data": {
      "text/plain": [
       "0.7573845440751842"
      ]
     },
     "execution_count": 115,
     "metadata": {},
     "output_type": "execute_result"
    }
   ],
   "source": [
    "stacking_pipeline.fit(X_train, y_train)\n",
    "\n",
    "y_pred = stacking_pipeline.predict(X_test)\n",
    "\n",
    "f1_score(y_test, y_pred, average='weighted')"
   ]
  },
  {
   "cell_type": "markdown",
   "id": "c225e4cc",
   "metadata": {},
   "source": [
    "## Course prediction DL modeling"
   ]
  },
  {
   "cell_type": "code",
   "execution_count": 116,
   "id": "0da5ca6d",
   "metadata": {
    "scrolled": true
   },
   "outputs": [
    {
     "data": {
      "text/html": [
       "<div>\n",
       "<style scoped>\n",
       "    .dataframe tbody tr th:only-of-type {\n",
       "        vertical-align: middle;\n",
       "    }\n",
       "\n",
       "    .dataframe tbody tr th {\n",
       "        vertical-align: top;\n",
       "    }\n",
       "\n",
       "    .dataframe thead th {\n",
       "        text-align: right;\n",
       "    }\n",
       "</style>\n",
       "<table border=\"1\" class=\"dataframe\">\n",
       "  <thead>\n",
       "    <tr style=\"text-align: right;\">\n",
       "      <th></th>\n",
       "      <th>Title</th>\n",
       "      <th>Review</th>\n",
       "      <th>Course</th>\n",
       "    </tr>\n",
       "  </thead>\n",
       "  <tbody>\n",
       "    <tr>\n",
       "      <th>0</th>\n",
       "      <td>Full Time DS Bootcamp Review</td>\n",
       "      <td>Overall a great program especially for career ...</td>\n",
       "      <td>NaN</td>\n",
       "    </tr>\n",
       "    <tr>\n",
       "      <th>1</th>\n",
       "      <td>A good bootcamp! its worth to make the decision</td>\n",
       "      <td>I attended the data and business analytics boo...</td>\n",
       "      <td>NaN</td>\n",
       "    </tr>\n",
       "    <tr>\n",
       "      <th>2</th>\n",
       "      <td>Best DS BootCamp in Canada</td>\n",
       "      <td>I arrived in Canada with a Bachelor's degree i...</td>\n",
       "      <td>NaN</td>\n",
       "    </tr>\n",
       "    <tr>\n",
       "      <th>3</th>\n",
       "      <td>Best DS in Canada</td>\n",
       "      <td>I arrived in Canada with a Bachelor's degree i...</td>\n",
       "      <td>NaN</td>\n",
       "    </tr>\n",
       "    <tr>\n",
       "      <th>4</th>\n",
       "      <td>Great program with helpful career guidance</td>\n",
       "      <td>I attended WeCloudData Applied BI program in 2...</td>\n",
       "      <td>NaN</td>\n",
       "    </tr>\n",
       "  </tbody>\n",
       "</table>\n",
       "</div>"
      ],
      "text/plain": [
       "                                             Title  \\\n",
       "0                     Full Time DS Bootcamp Review   \n",
       "1  A good bootcamp! its worth to make the decision   \n",
       "2                       Best DS BootCamp in Canada   \n",
       "3                                Best DS in Canada   \n",
       "4       Great program with helpful career guidance   \n",
       "\n",
       "                                              Review Course  \n",
       "0  Overall a great program especially for career ...    NaN  \n",
       "1  I attended the data and business analytics boo...    NaN  \n",
       "2  I arrived in Canada with a Bachelor's degree i...    NaN  \n",
       "3  I arrived in Canada with a Bachelor's degree i...    NaN  \n",
       "4  I attended WeCloudData Applied BI program in 2...    NaN  "
      ]
     },
     "execution_count": 116,
     "metadata": {},
     "output_type": "execute_result"
    }
   ],
   "source": [
    "df = pd.read_csv('data_course.csv')\n",
    "df.head()"
   ]
  },
  {
   "cell_type": "code",
   "execution_count": 117,
   "id": "424ecf81",
   "metadata": {},
   "outputs": [
    {
     "data": {
      "text/plain": [
       "[nan,\n",
       " 'Applied Business Intelligence Certificate',\n",
       " 'Data Science Bootcamp',\n",
       " 'Data Engineering Bootcamp',\n",
       " 'Data Science Diploma',\n",
       " 'Data Engineering Diploma',\n",
       " 'Programming for Data Engineers',\n",
       " 'Data Science Immersive Bootcamp',\n",
       " 'AWS Big Data Development',\n",
       " 'SQL for Data Science',\n",
       " 'Excel',\n",
       " 'Data Science with Python',\n",
       " 'Hadoop for Data Scientists',\n",
       " 'Big Data at Scale',\n",
       " 'Product Management Online',\n",
       " 'Digital Marketing Diploma',\n",
       " 'Product Management',\n",
       " 'Cyber Security',\n",
       " 'Online User Experience Design Diploma',\n",
       " 'Online Data Science Diploma',\n",
       " 'Web Development Diploma',\n",
       " 'Online Social Media Marketing',\n",
       " 'Design Thinking',\n",
       " 'Data Science Course',\n",
       " 'User Interface Design',\n",
       " 'Digital Marketing Online',\n",
       " 'Data Science Online',\n",
       " 'Digital Marketing',\n",
       " 'Web Development',\n",
       " 'User Experience Design',\n",
       " 'Online Product Management',\n",
       " 'Online Web Development',\n",
       " 'User Experience Design Online',\n",
       " 'Data Analytics',\n",
       " 'Social Media Marketing',\n",
       " 'Social Media Marketing Online',\n",
       " 'Online Machine Learning',\n",
       " 'Data Analytics Online',\n",
       " 'Machine Learning',\n",
       " 'Online User Experience Design',\n",
       " 'Search Engine Marketing',\n",
       " 'Online Web Development Diploma',\n",
       " 'User Interface Design Online',\n",
       " 'Python Programming',\n",
       " 'iOS Development Online',\n",
       " 'Online Search Engine Marketing',\n",
       " 'User Experience Design Diploma',\n",
       " 'Web Development Bootcamp',\n",
       " 'User Experience Design Bootcamp',\n",
       " 'Search Engine Optimization',\n",
       " 'Data Science Immersive',\n",
       " 'User Experience Design Immersive',\n",
       " 'UX & Product Design',\n",
       " 'Accelerated JavaScript',\n",
       " 'Accelerated Web Development',\n",
       " 'JavaScript',\n",
       " 'Web Development Immersive',\n",
       " 'Full-Stack Development',\n",
       " 'Accelerated Web Development ',\n",
       " 'React',\n",
       " 'Full-Stack Masterclass',\n",
       " 'Advanced Web Development',\n",
       " 'UX Design Fundamentals',\n",
       " 'JavaScript Fundamentals',\n",
       " 'Advanced JavaScript and jQuery',\n",
       " 'Advanced UX Design',\n",
       " 'Online Web Development Bootcamp',\n",
       " 'Online Data Science Bootcamp',\n",
       " 'Intro to Front-End with JavaScript',\n",
       " 'iOS Development Bootcamp',\n",
       " 'Diploma in Cybersecurity Specialist Co-op',\n",
       " 'Advanced Diploma in Hospitality and Tourism Management Co-Op',\n",
       " 'Preparatory Course for ACCA Examination',\n",
       " 'Certificate in Business Essentials Co-op',\n",
       " 'Diploma in Business Management Co-op',\n",
       " 'Diploma in Data Analytics Co-op',\n",
       " 'Diploma in Business Administration Co-op',\n",
       " 'Diploma in Digital Marketing Specialist Co-op',\n",
       " 'Diploma in Digital Business Management Co-Op',\n",
       " 'Diploma in Business Management',\n",
       " 'Data Science Bootcamp (Part-Time)',\n",
       " 'Applied Data Science and Big Data Diploma Program',\n",
       " 'Applied Data Engineering Online Live',\n",
       " 'Applied Business Intelligence and Data Analytics Online Live',\n",
       " 'Data Science Full-time Bootcamp',\n",
       " 'Software Engineer',\n",
       " 'Data Scientist',\n",
       " 'Data Analyst',\n",
       " 'Web Developer',\n",
       " 'Data Science & Machine Learning Bootcamp',\n",
       " 'Beginner Python & Math for Data Science - Live Online',\n",
       " 'Introduction to Data Science  - Live Online',\n",
       " 'Data Science',\n",
       " '12-Week Data Science Bootcamp',\n",
       " 'Data Science with Python: Machine Learning',\n",
       " 'Deep Learning',\n",
       " 'Introductory Python',\n",
       " 'Data Science with Python: Data Analysis and Visualization',\n",
       " 'Data Science with R: Machine Learning',\n",
       " 'Data Science with R: Data Analysis and Visualization',\n",
       " 'Big Data with Hadoop and Spark',\n",
       " 'User Interface Design Certificate',\n",
       " 'Product Management Certificate',\n",
       " 'Web Development Diploma Program',\n",
       " 'Data Analytics Certificate',\n",
       " 'Data Science Diploma Program',\n",
       " 'Data Science Certificate',\n",
       " 'Digital Marketing Diploma Program',\n",
       " 'User Experience Design Certificate',\n",
       " 'Web Development Certificate',\n",
       " 'Machine Learning Certificate',\n",
       " 'Search Engine Marketing Certificate',\n",
       " 'Design Thinking Training',\n",
       " 'Search Engine Optimization Training',\n",
       " 'iOS Development',\n",
       " 'Web Design',\n",
       " 'UX/UI Flex',\n",
       " 'Data Analytics Flex',\n",
       " 'Engineering Immersion',\n",
       " 'Digital Marketing Flex',\n",
       " 'Data Science Flex',\n",
       " 'UX/UI Design Immersion',\n",
       " 'Engineering Flex Program',\n",
       " 'Data Science Immersion',\n",
       " 'Digital Marketing Immersion',\n",
       " 'Flexible Data Science Program',\n",
       " 'Full Stack Flex',\n",
       " 'Engineering Nights & Weekends',\n",
       " 'Full Stack Flex - Online',\n",
       " 'Engineering Immersion - Online',\n",
       " 'Data Science - Online',\n",
       " 'Full Stack Flex: Atlanta',\n",
       " 'Data Science: San Diego',\n",
       " 'Full Stack Flex: Chicago',\n",
       " 'Full Stack Flex: Dallas',\n",
       " 'Full Stack Flex: Houston',\n",
       " 'Data Science: Washington D.C.',\n",
       " 'Full Stack Flex: Portland',\n",
       " 'Full Stack Flex: Los Angeles',\n",
       " 'Engineering Immersion: Atlanta',\n",
       " 'Frontend Web Development - Online',\n",
       " 'UX Career Track',\n",
       " 'Data Science Career Track',\n",
       " 'UI/UX Design Career Track',\n",
       " 'Software Engineering Career Track Prep',\n",
       " 'Data Analytics Career Track',\n",
       " 'Cyber Security Career Track',\n",
       " 'Software Engineering Career Track',\n",
       " 'Introduction to Design',\n",
       " 'Machine Learning Engineering Career Track',\n",
       " 'Data Engineering Career Track',\n",
       " 'Data Science Career Track Prep',\n",
       " 'Digital Marketing Career Track',\n",
       " 'Business Analytics',\n",
       " 'UX Design',\n",
       " 'Introduction to Data Science',\n",
       " 'Digital Marketing for Professionals',\n",
       " 'Intermediate Data Science',\n",
       " 'Introduction to Cybersecurity',\n",
       " 'Cybersecurity Career Track',\n",
       " 'Software Engineering Immersive',\n",
       " 'Data Science Part Time',\n",
       " 'User Experience Design Part Time',\n",
       " 'Front-End Web Development',\n",
       " 'Visual Design',\n",
       " 'React Development',\n",
       " 'Software Engineering Immersive - Flex',\n",
       " 'User Experience Design Remote',\n",
       " 'Digital Marketing Remote',\n",
       " 'JavaScript Development',\n",
       " 'Product Management Remote',\n",
       " 'iOS Development Immersive',\n",
       " 'Android Development Immersive',\n",
       " 'Web Development - Part-Time',\n",
       " 'Web Development - Full-Time',\n",
       " 'Data Science - Full-Time',\n",
       " 'Data Science - Part-Time',\n",
       " 'Web Development  - Full-Time',\n",
       " 'Web Development  - Part-Time',\n",
       " 'FullStack program',\n",
       " 'FullStack program - 35+ locations']"
      ]
     },
     "execution_count": 117,
     "metadata": {},
     "output_type": "execute_result"
    }
   ],
   "source": [
    "df['Course'].unique().tolist()"
   ]
  },
  {
   "cell_type": "code",
   "execution_count": 118,
   "id": "955255d4",
   "metadata": {
    "scrolled": true
   },
   "outputs": [
    {
     "name": "stdout",
     "output_type": "stream",
     "text": [
      "Cluster 0:\n",
      "2869           Data Analytics\n",
      "2874    Data Analytics Online\n",
      "2881    Data Analytics Online\n",
      "2884    Data Analytics Online\n",
      "2893    Data Analytics Online\n",
      "                ...          \n",
      "6944           Data Analytics\n",
      "6957           Data Analytics\n",
      "6973           Data Analytics\n",
      "6990           Data Analytics\n",
      "7018           Data Analytics\n",
      "Name: Course, Length: 285, dtype: object\n",
      "\n",
      "Cluster 1:\n",
      "7904                    FullStack program\n",
      "7905                    FullStack program\n",
      "7906                    FullStack program\n",
      "7907                    FullStack program\n",
      "7908                    FullStack program\n",
      "                      ...                \n",
      "9386    FullStack program - 35+ locations\n",
      "9387    FullStack program - 35+ locations\n",
      "9390    FullStack program - 35+ locations\n",
      "9406    FullStack program - 35+ locations\n",
      "9411    FullStack program - 35+ locations\n",
      "Name: Course, Length: 1345, dtype: object\n",
      "\n",
      "Cluster 2:\n",
      "2843    Online User Experience Design Diploma\n",
      "2853                    User Interface Design\n",
      "2859                   User Experience Design\n",
      "2865            User Experience Design Online\n",
      "2878                   User Experience Design\n",
      "                        ...                  \n",
      "7133         User Experience Design Immersive\n",
      "7150         User Experience Design Immersive\n",
      "7159         User Experience Design Immersive\n",
      "7164         User Experience Design Immersive\n",
      "7166         User Experience Design Immersive\n",
      "Name: Course, Length: 309, dtype: object\n",
      "\n",
      "Cluster 3:\n",
      "4930    Software Engineering Career Track Prep\n",
      "4942         Software Engineering Career Track\n",
      "4946         Software Engineering Career Track\n",
      "4950         Software Engineering Career Track\n",
      "4953         Software Engineering Career Track\n",
      "                         ...                  \n",
      "7167            Software Engineering Immersive\n",
      "7169            Software Engineering Immersive\n",
      "7173            Software Engineering Immersive\n",
      "7174            Software Engineering Immersive\n",
      "7178            Software Engineering Immersive\n",
      "Name: Course, Length: 256, dtype: object\n",
      "\n",
      "Cluster 4:\n",
      "2772       Data Science Bootcamp\n",
      "2773       Data Science Bootcamp\n",
      "2776       Data Science Bootcamp\n",
      "2779       Data Science Bootcamp\n",
      "2780       Data Science Bootcamp\n",
      "                  ...           \n",
      "7796    Data Science - Full-Time\n",
      "7818    Data Science - Full-Time\n",
      "7830    Data Science - Full-Time\n",
      "7845    Data Science - Full-Time\n",
      "7848    Data Science - Full-Time\n",
      "Name: Course, Length: 920, dtype: object\n",
      "\n",
      "Cluster 5:\n",
      "2771    Applied Business Intelligence Certificate\n",
      "2774    Applied Business Intelligence Certificate\n",
      "2775    Applied Business Intelligence Certificate\n",
      "2777    Applied Business Intelligence Certificate\n",
      "2778                    Data Engineering Bootcamp\n",
      "                          ...                    \n",
      "7126                    Front-End Web Development\n",
      "7151                    Front-End Web Development\n",
      "7153                    Front-End Web Development\n",
      "7156                    Front-End Web Development\n",
      "7160                           Product Management\n",
      "Name: Course, Length: 806, dtype: object\n",
      "\n",
      "Cluster 6:\n",
      "2857                 Web Development\n",
      "2890                 Web Development\n",
      "2946                 Web Development\n",
      "2962                 Web Development\n",
      "2996                 Web Development\n",
      "                    ...             \n",
      "7899    Web Development  - Full-Time\n",
      "7900    Web Development  - Full-Time\n",
      "7901    Web Development  - Full-Time\n",
      "7902    Web Development  - Full-Time\n",
      "7903    Web Development  - Full-Time\n",
      "Name: Course, Length: 645, dtype: object\n",
      "\n",
      "Cluster 7:\n",
      "3051       UX & Product Design\n",
      "3089    UX Design Fundamentals\n",
      "3100    UX Design Fundamentals\n",
      "3108    UX Design Fundamentals\n",
      "3109        Advanced UX Design\n",
      "                 ...          \n",
      "6201                 UX Design\n",
      "6202                 UX Design\n",
      "6203                 UX Design\n",
      "6204                 UX Design\n",
      "6205                 UX Design\n",
      "Name: Course, Length: 504, dtype: object\n",
      "\n",
      "Cluster 8:\n",
      "2839    Digital Marketing Diploma\n",
      "2854     Digital Marketing Online\n",
      "2856            Digital Marketing\n",
      "2858    Digital Marketing Diploma\n",
      "2871            Digital Marketing\n",
      "                  ...            \n",
      "7025            Digital Marketing\n",
      "7105            Digital Marketing\n",
      "7152            Digital Marketing\n",
      "7154            Digital Marketing\n",
      "7155            Digital Marketing\n",
      "Name: Course, Length: 179, dtype: object\n",
      "\n",
      "Cluster 9:\n",
      "3599    12-Week Data Science Bootcamp\n",
      "3600    12-Week Data Science Bootcamp\n",
      "3601    12-Week Data Science Bootcamp\n",
      "3602    12-Week Data Science Bootcamp\n",
      "3603    12-Week Data Science Bootcamp\n",
      "                    ...              \n",
      "3868    12-Week Data Science Bootcamp\n",
      "3869    12-Week Data Science Bootcamp\n",
      "3871    12-Week Data Science Bootcamp\n",
      "3876    12-Week Data Science Bootcamp\n",
      "3878    12-Week Data Science Bootcamp\n",
      "Name: Course, Length: 181, dtype: object\n",
      "\n"
     ]
    }
   ],
   "source": [
    "from sklearn.cluster import KMeans\n",
    "from sklearn.feature_extraction.text import TfidfVectorizer\n",
    "\n",
    "# Define a function to clean and standardize the course names\n",
    "def clean_course_name(course_name):\n",
    "    # Replace any non-alphanumeric characters with spaces\n",
    "    course_name = ''.join(c if c.isalnum() else ' ' for c in course_name)\n",
    "    # Convert to lowercase\n",
    "    course_name = course_name.lower()\n",
    "    # Remove leading/trailing whitespace\n",
    "    course_name = course_name.strip()\n",
    "    # Replace multiple spaces with a single space\n",
    "    course_name = ' '.join(course_name.split())\n",
    "    return course_name\n",
    "\n",
    "# Load your DataFrame with course names\n",
    "df = pd.read_csv('data_course.csv').dropna()\n",
    "\n",
    "# Apply the cleaning function to the 'Course' column of the DataFrame\n",
    "df['Course_clean'] = df['Course'].apply(clean_course_name)\n",
    "\n",
    "# Use a vectorizer to convert the cleaned course names into feature vectors\n",
    "vectorizer = TfidfVectorizer()\n",
    "X = vectorizer.fit_transform(df['Course_clean'])\n",
    "\n",
    "# Use KMeans clustering to group the course names into clusters\n",
    "kmeans = KMeans(n_clusters=10, n_init = 10, random_state=42)\n",
    "kmeans.fit(X)\n",
    "\n",
    "# Assign the cluster labels back to the DataFrame\n",
    "df['Cluster'] = kmeans.labels_\n",
    "\n",
    "# Print the clusters and their courses\n",
    "for cluster_id in range(kmeans.n_clusters):\n",
    "    print(f\"Cluster {cluster_id}:\")\n",
    "    print(df.loc[df['Cluster'] == cluster_id, 'Course'])\n",
    "    print()"
   ]
  },
  {
   "cell_type": "code",
   "execution_count": 119,
   "id": "33810c76",
   "metadata": {},
   "outputs": [],
   "source": [
    "df['text'] = df['Title'] + '' + df['Review']"
   ]
  },
  {
   "cell_type": "code",
   "execution_count": 120,
   "id": "3224584b",
   "metadata": {},
   "outputs": [],
   "source": [
    "df['text_clean'] = df['text'].apply(cleaner)"
   ]
  },
  {
   "cell_type": "code",
   "execution_count": 121,
   "id": "dccdb406",
   "metadata": {
    "scrolled": true
   },
   "outputs": [
    {
     "data": {
      "text/html": [
       "<div>\n",
       "<style scoped>\n",
       "    .dataframe tbody tr th:only-of-type {\n",
       "        vertical-align: middle;\n",
       "    }\n",
       "\n",
       "    .dataframe tbody tr th {\n",
       "        vertical-align: top;\n",
       "    }\n",
       "\n",
       "    .dataframe thead th {\n",
       "        text-align: right;\n",
       "    }\n",
       "</style>\n",
       "<table border=\"1\" class=\"dataframe\">\n",
       "  <thead>\n",
       "    <tr style=\"text-align: right;\">\n",
       "      <th></th>\n",
       "      <th>Title</th>\n",
       "      <th>Review</th>\n",
       "      <th>Course</th>\n",
       "      <th>Course_clean</th>\n",
       "      <th>Cluster</th>\n",
       "      <th>text</th>\n",
       "      <th>text_clean</th>\n",
       "    </tr>\n",
       "  </thead>\n",
       "  <tbody>\n",
       "    <tr>\n",
       "      <th>2771</th>\n",
       "      <td>Great way to enter into the world of Data Anal...</td>\n",
       "      <td>I had a great experience with the Business Int...</td>\n",
       "      <td>Applied Business Intelligence Certificate</td>\n",
       "      <td>applied business intelligence certificate</td>\n",
       "      <td>5</td>\n",
       "      <td>Great way to enter into the world of Data Anal...</td>\n",
       "      <td>great way to enter into the world of data anal...</td>\n",
       "    </tr>\n",
       "    <tr>\n",
       "      <th>2772</th>\n",
       "      <td>A boost for your smooth career switch</td>\n",
       "      <td>I became familiar with WCD in early January 20...</td>\n",
       "      <td>Data Science Bootcamp</td>\n",
       "      <td>data science bootcamp</td>\n",
       "      <td>4</td>\n",
       "      <td>A boost for your smooth career switchI became ...</td>\n",
       "      <td>a boost for your smooth career switchi became ...</td>\n",
       "    </tr>\n",
       "    <tr>\n",
       "      <th>2773</th>\n",
       "      <td>Great Experience</td>\n",
       "      <td>I had a great experience. I liked the instruct...</td>\n",
       "      <td>Data Science Bootcamp</td>\n",
       "      <td>data science bootcamp</td>\n",
       "      <td>4</td>\n",
       "      <td>Great ExperienceI had a great experience. I li...</td>\n",
       "      <td>great experiencei had a great experience i lik...</td>\n",
       "    </tr>\n",
       "    <tr>\n",
       "      <th>2774</th>\n",
       "      <td>Great Experience</td>\n",
       "      <td>I had the pleasure to share this experience wi...</td>\n",
       "      <td>Applied Business Intelligence Certificate</td>\n",
       "      <td>applied business intelligence certificate</td>\n",
       "      <td>5</td>\n",
       "      <td>Great ExperienceI had the pleasure to share th...</td>\n",
       "      <td>great experiencei had the pleasure to share th...</td>\n",
       "    </tr>\n",
       "    <tr>\n",
       "      <th>2775</th>\n",
       "      <td>Great data analytics program</td>\n",
       "      <td>Definitely one of the best data analyst progra...</td>\n",
       "      <td>Applied Business Intelligence Certificate</td>\n",
       "      <td>applied business intelligence certificate</td>\n",
       "      <td>5</td>\n",
       "      <td>Great data analytics programDefinitely one of ...</td>\n",
       "      <td>great data analytics programdefinitely one of ...</td>\n",
       "    </tr>\n",
       "  </tbody>\n",
       "</table>\n",
       "</div>"
      ],
      "text/plain": [
       "                                                  Title  \\\n",
       "2771  Great way to enter into the world of Data Anal...   \n",
       "2772              A boost for your smooth career switch   \n",
       "2773                                   Great Experience   \n",
       "2774                                   Great Experience   \n",
       "2775                       Great data analytics program   \n",
       "\n",
       "                                                 Review  \\\n",
       "2771  I had a great experience with the Business Int...   \n",
       "2772  I became familiar with WCD in early January 20...   \n",
       "2773  I had a great experience. I liked the instruct...   \n",
       "2774  I had the pleasure to share this experience wi...   \n",
       "2775  Definitely one of the best data analyst progra...   \n",
       "\n",
       "                                         Course  \\\n",
       "2771  Applied Business Intelligence Certificate   \n",
       "2772                      Data Science Bootcamp   \n",
       "2773                      Data Science Bootcamp   \n",
       "2774  Applied Business Intelligence Certificate   \n",
       "2775  Applied Business Intelligence Certificate   \n",
       "\n",
       "                                   Course_clean  Cluster  \\\n",
       "2771  applied business intelligence certificate        5   \n",
       "2772                      data science bootcamp        4   \n",
       "2773                      data science bootcamp        4   \n",
       "2774  applied business intelligence certificate        5   \n",
       "2775  applied business intelligence certificate        5   \n",
       "\n",
       "                                                   text  \\\n",
       "2771  Great way to enter into the world of Data Anal...   \n",
       "2772  A boost for your smooth career switchI became ...   \n",
       "2773  Great ExperienceI had a great experience. I li...   \n",
       "2774  Great ExperienceI had the pleasure to share th...   \n",
       "2775  Great data analytics programDefinitely one of ...   \n",
       "\n",
       "                                             text_clean  \n",
       "2771  great way to enter into the world of data anal...  \n",
       "2772  a boost for your smooth career switchi became ...  \n",
       "2773  great experiencei had a great experience i lik...  \n",
       "2774  great experiencei had the pleasure to share th...  \n",
       "2775  great data analytics programdefinitely one of ...  "
      ]
     },
     "execution_count": 121,
     "metadata": {},
     "output_type": "execute_result"
    }
   ],
   "source": [
    "df.head()"
   ]
  },
  {
   "cell_type": "code",
   "execution_count": 122,
   "id": "2216fd30",
   "metadata": {},
   "outputs": [],
   "source": [
    "X = df['text_clean']\n",
    "y = df['Cluster']"
   ]
  },
  {
   "cell_type": "code",
   "execution_count": 123,
   "id": "b41f45b7",
   "metadata": {},
   "outputs": [],
   "source": [
    "X_train, X_test, y_train, y_test = train_test_split(X, y, test_size=0.33, random_state=42)"
   ]
  },
  {
   "cell_type": "code",
   "execution_count": 124,
   "id": "20463013",
   "metadata": {
    "scrolled": true
   },
   "outputs": [
    {
     "name": "stdout",
     "output_type": "stream",
     "text": [
      "Epoch 1/10\n",
      "57/57 [==============================] - 7s 85ms/step - loss: 2.1458 - accuracy: 0.2455 - val_loss: 2.0584 - val_accuracy: 0.2494\n",
      "Epoch 2/10\n",
      "57/57 [==============================] - 4s 78ms/step - loss: 1.9010 - accuracy: 0.3098 - val_loss: 1.6794 - val_accuracy: 0.4018\n",
      "Epoch 3/10\n",
      "57/57 [==============================] - 5s 89ms/step - loss: 1.6145 - accuracy: 0.3964 - val_loss: 1.5791 - val_accuracy: 0.4235\n",
      "Epoch 4/10\n",
      "57/57 [==============================] - 6s 102ms/step - loss: 1.5035 - accuracy: 0.4294 - val_loss: 1.5326 - val_accuracy: 0.4453\n",
      "Epoch 5/10\n",
      "57/57 [==============================] - 6s 101ms/step - loss: 1.3939 - accuracy: 0.4821 - val_loss: 1.4765 - val_accuracy: 0.4816\n",
      "Epoch 6/10\n",
      "57/57 [==============================] - 6s 112ms/step - loss: 1.2212 - accuracy: 0.5602 - val_loss: 1.3520 - val_accuracy: 0.5223\n",
      "Epoch 7/10\n",
      "57/57 [==============================] - 5s 85ms/step - loss: 1.1265 - accuracy: 0.5720 - val_loss: 1.3468 - val_accuracy: 0.5329\n",
      "Epoch 8/10\n",
      "57/57 [==============================] - 5s 80ms/step - loss: 1.0484 - accuracy: 0.5979 - val_loss: 1.3838 - val_accuracy: 0.5240\n",
      "Epoch 9/10\n",
      "57/57 [==============================] - 5s 85ms/step - loss: 0.9459 - accuracy: 0.6410 - val_loss: 1.3248 - val_accuracy: 0.5229\n",
      "Epoch 10/10\n",
      "57/57 [==============================] - 5s 87ms/step - loss: 0.9014 - accuracy: 0.6619 - val_loss: 1.3636 - val_accuracy: 0.5011\n",
      "56/56 [==============================] - 2s 18ms/step - loss: 1.3636 - accuracy: 0.5011\n"
     ]
    },
    {
     "data": {
      "text/plain": [
       "[1.3636302947998047, 0.5011160969734192]"
      ]
     },
     "execution_count": 124,
     "metadata": {},
     "output_type": "execute_result"
    }
   ],
   "source": [
    "from tensorflow.keras.models import Sequential\n",
    "from tensorflow.keras.layers import Embedding, LSTM, Dense\n",
    "from tensorflow.keras.preprocessing.text import Tokenizer\n",
    "from tensorflow.keras.preprocessing.sequence import pad_sequences\n",
    "\n",
    "# Prepare text data for training\n",
    "max_words = 5000  # maximum number of words to keep\n",
    "max_len = 100  # maximum length of input sequences\n",
    "\n",
    "# Tokenize the text data\n",
    "tokenizer = Tokenizer(num_words=max_words, lower=True)\n",
    "tokenizer.fit_on_texts(X_train)\n",
    "train_sequences = tokenizer.texts_to_sequences(X_train)\n",
    "val_sequences = tokenizer.texts_to_sequences(X_test)\n",
    "\n",
    "# Pad the tokenized sequences to have the same length\n",
    "X_train = pad_sequences(train_sequences, maxlen=max_len)\n",
    "X_test = pad_sequences(val_sequences, maxlen=max_len)\n",
    "\n",
    "# Define the deep learning model\n",
    "model = Sequential()\n",
    "model.add(Embedding(max_words, 32))\n",
    "model.add(LSTM(64))\n",
    "# model.add(LSTM(64, dropout=0.2, recurrent_dropout=0.2))\n",
    "model.add(Dense(10, activation='softmax')) \n",
    "\n",
    "# Compile the model\n",
    "model.compile(optimizer='adam', loss='sparse_categorical_crossentropy', metrics=['accuracy'])\n",
    "\n",
    "# Train the model\n",
    "model.fit(X_train, y_train, validation_data=(X_test, y_test), epochs=10, batch_size=64)\n",
    "\n",
    "# Evaluate the model\n",
    "model.evaluate(X_test, y_test)"
   ]
  },
  {
   "cell_type": "markdown",
   "id": "ae8eef69",
   "metadata": {},
   "source": [
    "## Final Model and Prediction"
   ]
  },
  {
   "cell_type": "code",
   "execution_count": 125,
   "id": "ec0f2a7e",
   "metadata": {},
   "outputs": [],
   "source": [
    "data_course = pd.read_csv('data_course.csv').dropna()"
   ]
  },
  {
   "cell_type": "code",
   "execution_count": 126,
   "id": "6a8f25e4",
   "metadata": {
    "scrolled": true
   },
   "outputs": [
    {
     "name": "stdout",
     "output_type": "stream",
     "text": [
      "Cluster 0:\n",
      "7904                    FullStack program\n",
      "7905                    FullStack program\n",
      "7906                    FullStack program\n",
      "7907                    FullStack program\n",
      "7908                    FullStack program\n",
      "                      ...                \n",
      "9386    FullStack program - 35+ locations\n",
      "9387    FullStack program - 35+ locations\n",
      "9390    FullStack program - 35+ locations\n",
      "9406    FullStack program - 35+ locations\n",
      "9411    FullStack program - 35+ locations\n",
      "Name: Course, Length: 1345, dtype: object\n",
      "\n",
      "Cluster 1:\n",
      "4930    Software Engineering Career Track Prep\n",
      "4942         Software Engineering Career Track\n",
      "4946         Software Engineering Career Track\n",
      "4950         Software Engineering Career Track\n",
      "4953         Software Engineering Career Track\n",
      "                         ...                  \n",
      "7167            Software Engineering Immersive\n",
      "7169            Software Engineering Immersive\n",
      "7173            Software Engineering Immersive\n",
      "7174            Software Engineering Immersive\n",
      "7178            Software Engineering Immersive\n",
      "Name: Course, Length: 256, dtype: object\n",
      "\n",
      "Cluster 2:\n",
      "2772        Data Science Bootcamp\n",
      "2773        Data Science Bootcamp\n",
      "2776        Data Science Bootcamp\n",
      "2778    Data Engineering Bootcamp\n",
      "2779        Data Science Bootcamp\n",
      "                  ...            \n",
      "7796     Data Science - Full-Time\n",
      "7818     Data Science - Full-Time\n",
      "7830     Data Science - Full-Time\n",
      "7845     Data Science - Full-Time\n",
      "7848     Data Science - Full-Time\n",
      "Name: Course, Length: 889, dtype: object\n",
      "\n",
      "Cluster 3:\n",
      "2843    Online User Experience Design Diploma\n",
      "2853                    User Interface Design\n",
      "2859                   User Experience Design\n",
      "2865            User Experience Design Online\n",
      "2878                   User Experience Design\n",
      "                        ...                  \n",
      "7133         User Experience Design Immersive\n",
      "7150         User Experience Design Immersive\n",
      "7159         User Experience Design Immersive\n",
      "7164         User Experience Design Immersive\n",
      "7166         User Experience Design Immersive\n",
      "Name: Course, Length: 309, dtype: object\n",
      "\n",
      "Cluster 4:\n",
      "2869           Data Analytics\n",
      "2874    Data Analytics Online\n",
      "2881    Data Analytics Online\n",
      "2884    Data Analytics Online\n",
      "2893    Data Analytics Online\n",
      "                ...          \n",
      "6944           Data Analytics\n",
      "6957           Data Analytics\n",
      "6973           Data Analytics\n",
      "6990           Data Analytics\n",
      "7018           Data Analytics\n",
      "Name: Course, Length: 554, dtype: object\n",
      "\n",
      "Cluster 5:\n",
      "2771    Applied Business Intelligence Certificate\n",
      "2774    Applied Business Intelligence Certificate\n",
      "2775    Applied Business Intelligence Certificate\n",
      "2777    Applied Business Intelligence Certificate\n",
      "2786                     Data Engineering Diploma\n",
      "                          ...                    \n",
      "7034                           Product Management\n",
      "7097                           Product Management\n",
      "7104                                Visual Design\n",
      "7117                           Product Management\n",
      "7160                           Product Management\n",
      "Name: Course, Length: 621, dtype: object\n",
      "\n",
      "Cluster 6:\n",
      "2846         Web Development Diploma\n",
      "2857                 Web Development\n",
      "2864          Online Web Development\n",
      "2875          Online Web Development\n",
      "2890                 Web Development\n",
      "                    ...             \n",
      "7899    Web Development  - Full-Time\n",
      "7900    Web Development  - Full-Time\n",
      "7901    Web Development  - Full-Time\n",
      "7902    Web Development  - Full-Time\n",
      "7903    Web Development  - Full-Time\n",
      "Name: Course, Length: 773, dtype: object\n",
      "\n",
      "Cluster 7:\n",
      "3051       UX & Product Design\n",
      "3089    UX Design Fundamentals\n",
      "3100    UX Design Fundamentals\n",
      "3108    UX Design Fundamentals\n",
      "3109        Advanced UX Design\n",
      "                 ...          \n",
      "6201                 UX Design\n",
      "6202                 UX Design\n",
      "6203                 UX Design\n",
      "6204                 UX Design\n",
      "6205                 UX Design\n",
      "Name: Course, Length: 504, dtype: object\n",
      "\n",
      "Cluster 8:\n",
      "2839    Digital Marketing Diploma\n",
      "2854     Digital Marketing Online\n",
      "2856            Digital Marketing\n",
      "2858    Digital Marketing Diploma\n",
      "2871            Digital Marketing\n",
      "                  ...            \n",
      "7025            Digital Marketing\n",
      "7105            Digital Marketing\n",
      "7152            Digital Marketing\n",
      "7154            Digital Marketing\n",
      "7155            Digital Marketing\n",
      "Name: Course, Length: 179, dtype: object\n",
      "\n"
     ]
    }
   ],
   "source": [
    "# Define a function to clean and standardize the course names\n",
    "def clean_course_name(course_name):\n",
    "    # Replace any non-alphanumeric characters with spaces\n",
    "    course_name = ''.join(c if c.isalnum() else ' ' for c in course_name)\n",
    "    # Convert to lowercase\n",
    "    course_name = course_name.lower()\n",
    "    # Remove leading/trailing whitespace\n",
    "    course_name = course_name.strip()\n",
    "    # Replace multiple spaces with a single space\n",
    "    course_name = ' '.join(course_name.split())\n",
    "    return course_name\n",
    "\n",
    "# Load your DataFrame with course names\n",
    "data_course = pd.read_csv('data_course.csv').dropna()\n",
    "\n",
    "# Apply the cleaning function to the 'Course' column of the DataFrame\n",
    "data_course['Course_clean'] = data_course['Course'].apply(clean_course_name)\n",
    "\n",
    "# Use a vectorizer to convert the cleaned course names into feature vectors\n",
    "vectorizer = TfidfVectorizer()\n",
    "X = vectorizer.fit_transform(data_course['Course_clean'])\n",
    "\n",
    "# Use KMeans clustering to group the course names into clusters\n",
    "kmeans = KMeans(n_clusters=9, n_init = 10, random_state=42)\n",
    "kmeans.fit(X)\n",
    "\n",
    "# Assign the cluster labels back to the DataFrame\n",
    "data_course['Cluster'] = kmeans.labels_\n",
    "\n",
    "# Print the clusters and their courses\n",
    "for cluster_id in range(kmeans.n_clusters):\n",
    "    print(f\"Cluster {cluster_id}:\")\n",
    "    print(data_course.loc[data_course['Cluster'] == cluster_id, 'Course'])\n",
    "    print()"
   ]
  },
  {
   "cell_type": "code",
   "execution_count": 127,
   "id": "f02ff23b",
   "metadata": {
    "scrolled": true
   },
   "outputs": [
    {
     "data": {
      "text/plain": [
       "array(['FullStack program', 'FullStack program - 35+ locations'],\n",
       "      dtype=object)"
      ]
     },
     "execution_count": 127,
     "metadata": {},
     "output_type": "execute_result"
    }
   ],
   "source": [
    "data_course.loc[data_course['Cluster'] == 0, 'Course'].unique()"
   ]
  },
  {
   "cell_type": "code",
   "execution_count": 128,
   "id": "05fdce5c",
   "metadata": {},
   "outputs": [],
   "source": [
    "data_course['text'] = data_course['Title'] + '' + data_course['Review']"
   ]
  },
  {
   "cell_type": "code",
   "execution_count": 129,
   "id": "d8cd1b06",
   "metadata": {},
   "outputs": [],
   "source": [
    "data_course['text_clean'] = data_course['text'].apply(cleaner)"
   ]
  },
  {
   "cell_type": "code",
   "execution_count": 130,
   "id": "efd8f279",
   "metadata": {},
   "outputs": [
    {
     "name": "stdout",
     "output_type": "stream",
     "text": [
      "<class 'pandas.core.frame.DataFrame'>\n",
      "Index: 5430 entries, 2771 to 9411\n",
      "Data columns (total 7 columns):\n",
      " #   Column        Non-Null Count  Dtype \n",
      "---  ------        --------------  ----- \n",
      " 0   Title         5430 non-null   object\n",
      " 1   Review        5430 non-null   object\n",
      " 2   Course        5430 non-null   object\n",
      " 3   Course_clean  5430 non-null   object\n",
      " 4   Cluster       5430 non-null   int32 \n",
      " 5   text          5430 non-null   object\n",
      " 6   text_clean    5430 non-null   object\n",
      "dtypes: int32(1), object(6)\n",
      "memory usage: 318.2+ KB\n"
     ]
    }
   ],
   "source": [
    "data_course.info()"
   ]
  },
  {
   "cell_type": "code",
   "execution_count": 131,
   "id": "f6c30011",
   "metadata": {},
   "outputs": [],
   "source": [
    "# define features\n",
    "X = data_course['text_clean']"
   ]
  },
  {
   "cell_type": "code",
   "execution_count": 132,
   "id": "95414701",
   "metadata": {},
   "outputs": [],
   "source": [
    "# define label\n",
    "y = data_course['Cluster']"
   ]
  },
  {
   "cell_type": "code",
   "execution_count": 133,
   "id": "1c5474f5",
   "metadata": {},
   "outputs": [],
   "source": [
    "# split data\n",
    "X_train, X_test, y_train, y_test = train_test_split(X, y, test_size=0.33, random_state=42, stratify=y)"
   ]
  },
  {
   "cell_type": "code",
   "execution_count": 134,
   "id": "d2d77dc3",
   "metadata": {},
   "outputs": [
    {
     "data": {
      "text/plain": [
       "0.7801509625369629"
      ]
     },
     "execution_count": 134,
     "metadata": {},
     "output_type": "execute_result"
    }
   ],
   "source": [
    "# Define pipeline\n",
    "steps = [('vec', CountVectorizer(stop_words='english', ngram_range=(1,8), max_features = 10000)), \n",
    "         ('tfidf', TfidfTransformer()),\n",
    "         ('xgb', XGBClassifier(max_depth=3, learning_rate=0.1, n_estimators=300, random_state=42))]\n",
    "\n",
    "pipeline = Pipeline(steps=steps)\n",
    "\n",
    "pipeline.fit(X_train, y_train)\n",
    "\n",
    "y_pred = pipeline.predict(X_test)\n",
    "\n",
    "f1_score(y_test, y_pred, average='weighted')"
   ]
  },
  {
   "cell_type": "code",
   "execution_count": 135,
   "id": "00747136",
   "metadata": {},
   "outputs": [
    {
     "data": {
      "text/plain": [
       "0.7848774517602913"
      ]
     },
     "execution_count": 135,
     "metadata": {},
     "output_type": "execute_result"
    }
   ],
   "source": [
    "# Define pipeline\n",
    "steps = [('vec', CountVectorizer(stop_words='english', ngram_range=(1,8), max_features = 10000)), \n",
    "         ('tfidf', TfidfTransformer()),\n",
    "         ('svc',SVC(C=10, gamma='scale', kernel='rbf'))]\n",
    "\n",
    "pipeline = Pipeline(steps=steps)\n",
    "\n",
    "pipeline.fit(X_train, y_train)\n",
    "\n",
    "y_pred = pipeline.predict(X_test)\n",
    "\n",
    "f1_score(y_test, y_pred, average='weighted')"
   ]
  },
  {
   "cell_type": "code",
   "execution_count": 136,
   "id": "c7c9ae5f",
   "metadata": {},
   "outputs": [],
   "source": [
    "df = pd.read_csv('data_ml.csv')"
   ]
  },
  {
   "cell_type": "code",
   "execution_count": 137,
   "id": "0463e2f1",
   "metadata": {},
   "outputs": [],
   "source": [
    "null_course = df[df['Course'].isnull()]"
   ]
  },
  {
   "cell_type": "code",
   "execution_count": 138,
   "id": "6ad13363",
   "metadata": {
    "scrolled": false
   },
   "outputs": [
    {
     "name": "stderr",
     "output_type": "stream",
     "text": [
      "C:\\Users\\Hanme\\AppData\\Local\\Temp\\ipykernel_20572\\1693507433.py:1: SettingWithCopyWarning: \n",
      "A value is trying to be set on a copy of a slice from a DataFrame.\n",
      "Try using .loc[row_indexer,col_indexer] = value instead\n",
      "\n",
      "See the caveats in the documentation: https://pandas.pydata.org/pandas-docs/stable/user_guide/indexing.html#returning-a-view-versus-a-copy\n",
      "  null_course['text'] = null_course['Title'] + ' ' + null_course['Review']\n"
     ]
    }
   ],
   "source": [
    "null_course['text'] = null_course['Title'] + ' ' + null_course['Review']"
   ]
  },
  {
   "cell_type": "code",
   "execution_count": 139,
   "id": "330371c7",
   "metadata": {},
   "outputs": [],
   "source": [
    "course_pred = pipeline.predict(null_course['text'])"
   ]
  },
  {
   "cell_type": "code",
   "execution_count": 140,
   "id": "e9f16da1",
   "metadata": {},
   "outputs": [
    {
     "data": {
      "text/plain": [
       "array([2, 4, 2, ..., 0, 0, 6])"
      ]
     },
     "execution_count": 140,
     "metadata": {},
     "output_type": "execute_result"
    }
   ],
   "source": [
    "course_pred"
   ]
  },
  {
   "cell_type": "code",
   "execution_count": 141,
   "id": "e7808d9b",
   "metadata": {},
   "outputs": [
    {
     "name": "stderr",
     "output_type": "stream",
     "text": [
      "C:\\Users\\Hanme\\AppData\\Local\\Temp\\ipykernel_20572\\1375923025.py:1: SettingWithCopyWarning: \n",
      "A value is trying to be set on a copy of a slice from a DataFrame.\n",
      "Try using .loc[row_indexer,col_indexer] = value instead\n",
      "\n",
      "See the caveats in the documentation: https://pandas.pydata.org/pandas-docs/stable/user_guide/indexing.html#returning-a-view-versus-a-copy\n",
      "  null_course['Course']=course_pred\n"
     ]
    }
   ],
   "source": [
    "null_course['Course']=course_pred"
   ]
  },
  {
   "cell_type": "code",
   "execution_count": 142,
   "id": "fac852bd",
   "metadata": {
    "scrolled": true
   },
   "outputs": [],
   "source": [
    "course = df[df['Course'].notnull()]"
   ]
  },
  {
   "cell_type": "code",
   "execution_count": 143,
   "id": "0bd987d8",
   "metadata": {},
   "outputs": [
    {
     "name": "stderr",
     "output_type": "stream",
     "text": [
      "C:\\Users\\Hanme\\AppData\\Local\\Temp\\ipykernel_20572\\1166379649.py:2: SettingWithCopyWarning: \n",
      "A value is trying to be set on a copy of a slice from a DataFrame.\n",
      "Try using .loc[row_indexer,col_indexer] = value instead\n",
      "\n",
      "See the caveats in the documentation: https://pandas.pydata.org/pandas-docs/stable/user_guide/indexing.html#returning-a-view-versus-a-copy\n",
      "  course['Course_clean'] = course['Course'].apply(clean_course_name)\n",
      "C:\\Users\\Hanme\\AppData\\Local\\Temp\\ipykernel_20572\\1166379649.py:13: SettingWithCopyWarning: \n",
      "A value is trying to be set on a copy of a slice from a DataFrame.\n",
      "Try using .loc[row_indexer,col_indexer] = value instead\n",
      "\n",
      "See the caveats in the documentation: https://pandas.pydata.org/pandas-docs/stable/user_guide/indexing.html#returning-a-view-versus-a-copy\n",
      "  course['Cluster'] = kmeans.labels_\n"
     ]
    }
   ],
   "source": [
    "# Apply the cleaning function to the 'Course' column of the DataFrame\n",
    "course['Course_clean'] = course['Course'].apply(clean_course_name)\n",
    "\n",
    "# Use a vectorizer to convert the cleaned course names into feature vectors\n",
    "vectorizer = TfidfVectorizer()\n",
    "X = vectorizer.fit_transform(course['Course_clean'])\n",
    "\n",
    "# Use KMeans clustering to group the course names into clusters\n",
    "kmeans = KMeans(n_clusters=9, n_init = 10, random_state=42)\n",
    "kmeans.fit(X)\n",
    "\n",
    "# Assign the cluster labels back to the DataFrame\n",
    "course['Cluster'] = kmeans.labels_"
   ]
  },
  {
   "cell_type": "code",
   "execution_count": 144,
   "id": "0488157e",
   "metadata": {
    "scrolled": false
   },
   "outputs": [
    {
     "name": "stderr",
     "output_type": "stream",
     "text": [
      "C:\\Users\\Hanme\\AppData\\Local\\Temp\\ipykernel_20572\\2672659475.py:1: SettingWithCopyWarning: \n",
      "A value is trying to be set on a copy of a slice from a DataFrame.\n",
      "Try using .loc[row_indexer,col_indexer] = value instead\n",
      "\n",
      "See the caveats in the documentation: https://pandas.pydata.org/pandas-docs/stable/user_guide/indexing.html#returning-a-view-versus-a-copy\n",
      "  course['Course'] = course['Cluster']\n"
     ]
    }
   ],
   "source": [
    "course['Course'] = course['Cluster']"
   ]
  },
  {
   "cell_type": "code",
   "execution_count": 145,
   "id": "52075f6b",
   "metadata": {
    "scrolled": true
   },
   "outputs": [],
   "source": [
    "course = course.iloc[:, :-5]"
   ]
  },
  {
   "cell_type": "code",
   "execution_count": 146,
   "id": "b281ed81",
   "metadata": {
    "scrolled": true
   },
   "outputs": [],
   "source": [
    "null_course = null_course.iloc[:, :-4]"
   ]
  },
  {
   "cell_type": "code",
   "execution_count": 147,
   "id": "27e6d579",
   "metadata": {},
   "outputs": [],
   "source": [
    "# full data with predicted course\n",
    "pred_data = pd.concat([course, null_course]).sort_index()"
   ]
  },
  {
   "cell_type": "code",
   "execution_count": 148,
   "id": "7ec209ad",
   "metadata": {
    "scrolled": true
   },
   "outputs": [
    {
     "name": "stdout",
     "output_type": "stream",
     "text": [
      "<class 'pandas.core.frame.DataFrame'>\n",
      "Index: 9446 entries, 0 to 9445\n",
      "Data columns (total 10 columns):\n",
      " #   Column          Non-Null Count  Dtype  \n",
      "---  ------          --------------  -----  \n",
      " 0   school          9446 non-null   object \n",
      " 1   overview        2771 non-null   float64\n",
      " 2   Course          9446 non-null   int32  \n",
      " 3   Title           9446 non-null   object \n",
      " 4   Review          9446 non-null   object \n",
      " 5   Overall_rating  9446 non-null   float64\n",
      " 6   Instructors     9446 non-null   float64\n",
      " 7   Curriculum      9446 non-null   float64\n",
      " 8   Job Assistance  9446 non-null   float64\n",
      " 9   pros            2771 non-null   object \n",
      "dtypes: float64(5), int32(1), object(4)\n",
      "memory usage: 774.9+ KB\n"
     ]
    }
   ],
   "source": [
    "pred_data.info()"
   ]
  },
  {
   "cell_type": "code",
   "execution_count": 149,
   "id": "4cf8d95d",
   "metadata": {},
   "outputs": [],
   "source": [
    "course_dict = {\n",
    "    0: 'Full Stack',\n",
    "    1: 'Software Engineering',\n",
    "    2: 'Data Science',\n",
    "    3: 'User Experience Design',\n",
    "    4: 'Data Analytics',\n",
    "    5: 'Business Intelligence & Product Management',\n",
    "    6: 'Web Development',\n",
    "    7: 'UX Design',\n",
    "    8: 'Digital Marketing'\n",
    "}\n",
    "\n",
    "pred_data['Course'] = pred_data['Course'].map(course_dict)"
   ]
  },
  {
   "cell_type": "code",
   "execution_count": 150,
   "id": "ca1c8e09",
   "metadata": {
    "scrolled": true
   },
   "outputs": [
    {
     "data": {
      "text/html": [
       "<div>\n",
       "<style scoped>\n",
       "    .dataframe tbody tr th:only-of-type {\n",
       "        vertical-align: middle;\n",
       "    }\n",
       "\n",
       "    .dataframe tbody tr th {\n",
       "        vertical-align: top;\n",
       "    }\n",
       "\n",
       "    .dataframe thead th {\n",
       "        text-align: right;\n",
       "    }\n",
       "</style>\n",
       "<table border=\"1\" class=\"dataframe\">\n",
       "  <thead>\n",
       "    <tr style=\"text-align: right;\">\n",
       "      <th></th>\n",
       "      <th>school</th>\n",
       "      <th>overview</th>\n",
       "      <th>Course</th>\n",
       "      <th>Title</th>\n",
       "      <th>Review</th>\n",
       "      <th>Overall_rating</th>\n",
       "      <th>Instructors</th>\n",
       "      <th>Curriculum</th>\n",
       "      <th>Job Assistance</th>\n",
       "      <th>pros</th>\n",
       "    </tr>\n",
       "  </thead>\n",
       "  <tbody>\n",
       "    <tr>\n",
       "      <th>0</th>\n",
       "      <td>WeCloudData</td>\n",
       "      <td>4.8</td>\n",
       "      <td>Data Science</td>\n",
       "      <td>Full Time DS Bootcamp Review</td>\n",
       "      <td>Overall a great program especially for career ...</td>\n",
       "      <td>100.0</td>\n",
       "      <td>80.0</td>\n",
       "      <td>100.0</td>\n",
       "      <td>60.0</td>\n",
       "      <td>- Knowledgeable and patient instructors and TA...</td>\n",
       "    </tr>\n",
       "    <tr>\n",
       "      <th>1</th>\n",
       "      <td>WeCloudData</td>\n",
       "      <td>4.8</td>\n",
       "      <td>Data Analytics</td>\n",
       "      <td>A good bootcamp! its worth to make the decision</td>\n",
       "      <td>I attended the data and business analytics boo...</td>\n",
       "      <td>100.0</td>\n",
       "      <td>100.0</td>\n",
       "      <td>100.0</td>\n",
       "      <td>100.0</td>\n",
       "      <td>Great support, nice tutor, practical content</td>\n",
       "    </tr>\n",
       "    <tr>\n",
       "      <th>2</th>\n",
       "      <td>WeCloudData</td>\n",
       "      <td>4.8</td>\n",
       "      <td>Data Science</td>\n",
       "      <td>Best DS BootCamp in Canada</td>\n",
       "      <td>I arrived in Canada with a Bachelor's degree i...</td>\n",
       "      <td>100.0</td>\n",
       "      <td>100.0</td>\n",
       "      <td>100.0</td>\n",
       "      <td>100.0</td>\n",
       "      <td>Really straight forward wth projects that help...</td>\n",
       "    </tr>\n",
       "    <tr>\n",
       "      <th>3</th>\n",
       "      <td>WeCloudData</td>\n",
       "      <td>4.8</td>\n",
       "      <td>Data Science</td>\n",
       "      <td>Best DS in Canada</td>\n",
       "      <td>I arrived in Canada with a Bachelor's degree i...</td>\n",
       "      <td>100.0</td>\n",
       "      <td>100.0</td>\n",
       "      <td>100.0</td>\n",
       "      <td>100.0</td>\n",
       "      <td>Really straight forward, with projects that he...</td>\n",
       "    </tr>\n",
       "    <tr>\n",
       "      <th>4</th>\n",
       "      <td>WeCloudData</td>\n",
       "      <td>4.8</td>\n",
       "      <td>Business Intelligence &amp; Product Management</td>\n",
       "      <td>Great program with helpful career guidance</td>\n",
       "      <td>I attended WeCloudData Applied BI program in 2...</td>\n",
       "      <td>100.0</td>\n",
       "      <td>100.0</td>\n",
       "      <td>80.0</td>\n",
       "      <td>100.0</td>\n",
       "      <td>Instructors/mentors/TAs are nice. My mentor Le...</td>\n",
       "    </tr>\n",
       "  </tbody>\n",
       "</table>\n",
       "</div>"
      ],
      "text/plain": [
       "        school  overview                                      Course  \\\n",
       "0  WeCloudData       4.8                                Data Science   \n",
       "1  WeCloudData       4.8                              Data Analytics   \n",
       "2  WeCloudData       4.8                                Data Science   \n",
       "3  WeCloudData       4.8                                Data Science   \n",
       "4  WeCloudData       4.8  Business Intelligence & Product Management   \n",
       "\n",
       "                                             Title  \\\n",
       "0                     Full Time DS Bootcamp Review   \n",
       "1  A good bootcamp! its worth to make the decision   \n",
       "2                       Best DS BootCamp in Canada   \n",
       "3                                Best DS in Canada   \n",
       "4       Great program with helpful career guidance   \n",
       "\n",
       "                                              Review  Overall_rating  \\\n",
       "0  Overall a great program especially for career ...           100.0   \n",
       "1  I attended the data and business analytics boo...           100.0   \n",
       "2  I arrived in Canada with a Bachelor's degree i...           100.0   \n",
       "3  I arrived in Canada with a Bachelor's degree i...           100.0   \n",
       "4  I attended WeCloudData Applied BI program in 2...           100.0   \n",
       "\n",
       "   Instructors  Curriculum  Job Assistance  \\\n",
       "0         80.0       100.0            60.0   \n",
       "1        100.0       100.0           100.0   \n",
       "2        100.0       100.0           100.0   \n",
       "3        100.0       100.0           100.0   \n",
       "4        100.0        80.0           100.0   \n",
       "\n",
       "                                                pros  \n",
       "0  - Knowledgeable and patient instructors and TA...  \n",
       "1       Great support, nice tutor, practical content  \n",
       "2  Really straight forward wth projects that help...  \n",
       "3  Really straight forward, with projects that he...  \n",
       "4  Instructors/mentors/TAs are nice. My mentor Le...  "
      ]
     },
     "execution_count": 150,
     "metadata": {},
     "output_type": "execute_result"
    }
   ],
   "source": [
    "pred_data.head()"
   ]
  },
  {
   "cell_type": "code",
   "execution_count": 151,
   "id": "51a0fcd1",
   "metadata": {},
   "outputs": [],
   "source": [
    "pred_data.to_csv('pred_data.csv', index=False)"
   ]
  },
  {
   "cell_type": "code",
   "execution_count": null,
   "id": "3b75736a",
   "metadata": {},
   "outputs": [],
   "source": []
  }
 ],
 "metadata": {
  "kernelspec": {
   "display_name": "Python 3 (ipykernel)",
   "language": "python",
   "name": "python3"
  },
  "language_info": {
   "codemirror_mode": {
    "name": "ipython",
    "version": 3
   },
   "file_extension": ".py",
   "mimetype": "text/x-python",
   "name": "python",
   "nbconvert_exporter": "python",
   "pygments_lexer": "ipython3",
   "version": "3.11.3"
  }
 },
 "nbformat": 4,
 "nbformat_minor": 5
}
