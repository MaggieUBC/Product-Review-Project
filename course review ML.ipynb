{
 "cells": [
  {
   "cell_type": "markdown",
   "id": "57b2de91",
   "metadata": {},
   "source": [
    "\n",
    "<center><h1>Course Review Project</h1></center>\n",
    "<center><h3> Maggie Han </h3> </center>"
   ]
  },
  {
   "cell_type": "markdown",
   "id": "90c242fd",
   "metadata": {},
   "source": [
    "## Import requried library"
   ]
  },
  {
   "cell_type": "code",
   "execution_count": 1,
   "id": "c8f07f58",
   "metadata": {},
   "outputs": [],
   "source": [
    "import pandas as pd\n",
    "import numpy as np\n",
    "import matplotlib.pyplot as plt\n",
    "%matplotlib inline\n",
    "\n",
    "from sklearn import datasets\n",
    "from sklearn import metrics\n",
    "\n",
    "from sklearn.tree import DecisionTreeClassifier\n",
    "from sklearn.ensemble import RandomForestClassifier\n",
    "from sklearn.ensemble import GradientBoostingClassifier\n",
    "from xgboost import XGBClassifier\n",
    "\n",
    "from sklearn.linear_model import LogisticRegression\n",
    "from sklearn.linear_model import SGDRegressor\n",
    "from sklearn.neighbors import KNeighborsClassifier\n",
    "\n",
    "from sklearn.model_selection import train_test_split\n",
    "from sklearn.model_selection import cross_val_score\n",
    "from sklearn.model_selection import KFold\n",
    "from sklearn.model_selection import StratifiedKFold\n",
    "from sklearn.model_selection import GridSearchCV\n",
    "from sklearn.svm import SVC\n",
    "\n",
    "from sklearn.metrics import mean_squared_error, r2_score, mean_absolute_error\n",
    "from sklearn.metrics import accuracy_score # continuous is not supported\n",
    "from sklearn.metrics import classification_report\n",
    "from sklearn.metrics import confusion_matrix\n",
    "from sklearn.metrics import precision_score, recall_score, f1_score\n",
    "from sklearn.metrics import roc_auc_score\n",
    "\n",
    "from sklearn.preprocessing import OneHotEncoder,OrdinalEncoder, LabelEncoder\n",
    "from sklearn.preprocessing import MinMaxScaler, StandardScaler, RobustScaler\n",
    "from imblearn.over_sampling import RandomOverSampler, SMOTE\n",
    "from sklearn.compose import ColumnTransformer\n",
    "from sklearn.impute import SimpleImputer\n",
    "\n",
    "from sklearn.pipeline import make_pipeline\n",
    "from sklearn.pipeline import Pipeline\n",
    "from imblearn.pipeline import Pipeline\n",
    "from sklearn.feature_extraction.text import CountVectorizer, TfidfVectorizer, TfidfTransformer\n",
    "from sklearn.ensemble import StackingClassifier\n",
    "\n",
    "from mlxtend.plotting import plot_decision_regions\n",
    "from mlxtend.plotting import category_scatter\n",
    "import seaborn as sns\n",
    "from ydata_profiling import ProfileReport"
   ]
  },
  {
   "cell_type": "markdown",
   "id": "e11ae0eb",
   "metadata": {},
   "source": [
    "## 1. Concat data from CareerKarma, Switchup, coursecompare"
   ]
  },
  {
   "cell_type": "code",
   "execution_count": 2,
   "id": "b2ae417d",
   "metadata": {
    "scrolled": false
   },
   "outputs": [
    {
     "data": {
      "text/html": [
       "<div>\n",
       "<style scoped>\n",
       "    .dataframe tbody tr th:only-of-type {\n",
       "        vertical-align: middle;\n",
       "    }\n",
       "\n",
       "    .dataframe tbody tr th {\n",
       "        vertical-align: top;\n",
       "    }\n",
       "\n",
       "    .dataframe thead th {\n",
       "        text-align: right;\n",
       "    }\n",
       "</style>\n",
       "<table border=\"1\" class=\"dataframe\">\n",
       "  <thead>\n",
       "    <tr style=\"text-align: right;\">\n",
       "      <th></th>\n",
       "      <th>school</th>\n",
       "      <th>overview</th>\n",
       "      <th>review title</th>\n",
       "      <th>review star</th>\n",
       "      <th>Instructors</th>\n",
       "      <th>Curriculum</th>\n",
       "      <th>Job Assistance</th>\n",
       "      <th>Overall Experience</th>\n",
       "      <th>Comments</th>\n",
       "      <th>pros</th>\n",
       "      <th>cons</th>\n",
       "    </tr>\n",
       "  </thead>\n",
       "  <tbody>\n",
       "    <tr>\n",
       "      <th>0</th>\n",
       "      <td>WeCloudData</td>\n",
       "      <td>4.8/5</td>\n",
       "      <td>Full Time DS Bootcamp Review</td>\n",
       "      <td>5</td>\n",
       "      <td>4</td>\n",
       "      <td>5</td>\n",
       "      <td>3</td>\n",
       "      <td>5</td>\n",
       "      <td>Overall a great program especially for career ...</td>\n",
       "      <td>- Knowledgeable and patient instructors and TA...</td>\n",
       "      <td>- Learning experience felt more individual rat...</td>\n",
       "    </tr>\n",
       "    <tr>\n",
       "      <th>1</th>\n",
       "      <td>WeCloudData</td>\n",
       "      <td>4.8/5</td>\n",
       "      <td>A good bootcamp! its worth to make the decision</td>\n",
       "      <td>5</td>\n",
       "      <td>5</td>\n",
       "      <td>5</td>\n",
       "      <td>5</td>\n",
       "      <td>5</td>\n",
       "      <td>I attended the data and business analytics boo...</td>\n",
       "      <td>Great support, nice tutor, practical content</td>\n",
       "      <td>Time were a bit tight to learn everything</td>\n",
       "    </tr>\n",
       "    <tr>\n",
       "      <th>2</th>\n",
       "      <td>WeCloudData</td>\n",
       "      <td>4.8/5</td>\n",
       "      <td>Best DS BootCamp in Canada</td>\n",
       "      <td>5</td>\n",
       "      <td>5</td>\n",
       "      <td>5</td>\n",
       "      <td>5</td>\n",
       "      <td>5</td>\n",
       "      <td>I arrived in Canada with a Bachelor's degree i...</td>\n",
       "      <td>Really straight forward wth projects that help...</td>\n",
       "      <td>Pretty Intense so it will be better if you are...</td>\n",
       "    </tr>\n",
       "    <tr>\n",
       "      <th>3</th>\n",
       "      <td>WeCloudData</td>\n",
       "      <td>4.8/5</td>\n",
       "      <td>Best DS in Canada</td>\n",
       "      <td>5</td>\n",
       "      <td>5</td>\n",
       "      <td>5</td>\n",
       "      <td>5</td>\n",
       "      <td>5</td>\n",
       "      <td>I arrived in Canada with a Bachelor's degree i...</td>\n",
       "      <td>Really straight forward, with projects that he...</td>\n",
       "      <td>Intense, So It will be better if you don't hav...</td>\n",
       "    </tr>\n",
       "    <tr>\n",
       "      <th>4</th>\n",
       "      <td>WeCloudData</td>\n",
       "      <td>4.8/5</td>\n",
       "      <td>Great program with helpful career guidance</td>\n",
       "      <td>5</td>\n",
       "      <td>5</td>\n",
       "      <td>4</td>\n",
       "      <td>5</td>\n",
       "      <td>5</td>\n",
       "      <td>I attended WeCloudData Applied BI program in 2...</td>\n",
       "      <td>Instructors/mentors/TAs are nice. My mentor Le...</td>\n",
       "      <td>A bit intensive or not that friendly for full ...</td>\n",
       "    </tr>\n",
       "  </tbody>\n",
       "</table>\n",
       "</div>"
      ],
      "text/plain": [
       "        school overview                                     review title  \\\n",
       "0  WeCloudData    4.8/5                     Full Time DS Bootcamp Review   \n",
       "1  WeCloudData    4.8/5  A good bootcamp! its worth to make the decision   \n",
       "2  WeCloudData    4.8/5                       Best DS BootCamp in Canada   \n",
       "3  WeCloudData    4.8/5                                Best DS in Canada   \n",
       "4  WeCloudData    4.8/5       Great program with helpful career guidance   \n",
       "\n",
       "   review star  Instructors  Curriculum  Job Assistance  Overall Experience  \\\n",
       "0            5            4           5               3                   5   \n",
       "1            5            5           5               5                   5   \n",
       "2            5            5           5               5                   5   \n",
       "3            5            5           5               5                   5   \n",
       "4            5            5           4               5                   5   \n",
       "\n",
       "                                            Comments  \\\n",
       "0  Overall a great program especially for career ...   \n",
       "1  I attended the data and business analytics boo...   \n",
       "2  I arrived in Canada with a Bachelor's degree i...   \n",
       "3  I arrived in Canada with a Bachelor's degree i...   \n",
       "4  I attended WeCloudData Applied BI program in 2...   \n",
       "\n",
       "                                                pros  \\\n",
       "0  - Knowledgeable and patient instructors and TA...   \n",
       "1       Great support, nice tutor, practical content   \n",
       "2  Really straight forward wth projects that help...   \n",
       "3  Really straight forward, with projects that he...   \n",
       "4  Instructors/mentors/TAs are nice. My mentor Le...   \n",
       "\n",
       "                                                cons  \n",
       "0  - Learning experience felt more individual rat...  \n",
       "1          Time were a bit tight to learn everything  \n",
       "2  Pretty Intense so it will be better if you are...  \n",
       "3  Intense, So It will be better if you don't hav...  \n",
       "4  A bit intensive or not that friendly for full ...  "
      ]
     },
     "execution_count": 2,
     "metadata": {},
     "output_type": "execute_result"
    }
   ],
   "source": [
    "# import CareerKarma data\n",
    "CareerKarma = pd.read_csv('C://Users//Hanme//Desktop//WeCloudData//Course Review Project//CareerKarma.csv', index_col=0)\n",
    "CareerKarma.head()"
   ]
  },
  {
   "cell_type": "code",
   "execution_count": 3,
   "id": "3d5e9106",
   "metadata": {},
   "outputs": [
    {
     "data": {
      "text/plain": [
       "2771"
      ]
     },
     "execution_count": 3,
     "metadata": {},
     "output_type": "execute_result"
    }
   ],
   "source": [
    "len(CareerKarma)"
   ]
  },
  {
   "cell_type": "code",
   "execution_count": 4,
   "id": "d9a2259b",
   "metadata": {},
   "outputs": [],
   "source": [
    "# create column website\n",
    "CareerKarma['Website'] = 'CareerKarma'"
   ]
  },
  {
   "cell_type": "code",
   "execution_count": 5,
   "id": "2890d50d",
   "metadata": {},
   "outputs": [],
   "source": [
    "# create column course\n",
    "CareerKarma['Course'] = 'NaN'"
   ]
  },
  {
   "cell_type": "code",
   "execution_count": 6,
   "id": "076ef46a",
   "metadata": {},
   "outputs": [],
   "source": [
    "# rename columns\n",
    "CareerKarma.rename(columns={'review star': 'Overall_rating'}, inplace=True)\n",
    "CareerKarma.rename(columns={'review title': 'Title'}, inplace=True)\n",
    "CareerKarma.rename(columns={'Comments': 'Review'}, inplace=True)"
   ]
  },
  {
   "cell_type": "code",
   "execution_count": 7,
   "id": "7856f319",
   "metadata": {},
   "outputs": [],
   "source": [
    "# reindex columns, change the order of columns\n",
    "CareerKarma = CareerKarma.reindex(columns = ['school', 'overview', 'Course', 'Title', 'Review', 'Overall_rating', 'Instructors',\n",
    "       'Curriculum', 'Job Assistance', 'Overall Experience', 'pros',\n",
    "       'cons', 'Website'])"
   ]
  },
  {
   "cell_type": "code",
   "execution_count": 8,
   "id": "b7ba59b4",
   "metadata": {},
   "outputs": [],
   "source": [
    "# convert data range from 0-5 to 0-100\n",
    "CareerKarma['Overall_rating'] = CareerKarma['Overall_rating'] * 20\n",
    "\n",
    "CareerKarma['Instructors'] = CareerKarma['Instructors'] * 20\n",
    "\n",
    "CareerKarma['Curriculum'] = CareerKarma['Curriculum'] * 20\n",
    "\n",
    "CareerKarma['Job Assistance'] = CareerKarma['Job Assistance'] * 20\n",
    "\n",
    "CareerKarma['Overall Experience'] = CareerKarma['Overall Experience'] * 20"
   ]
  },
  {
   "cell_type": "code",
   "execution_count": 9,
   "id": "be3519bc",
   "metadata": {
    "scrolled": false
   },
   "outputs": [
    {
     "data": {
      "text/html": [
       "<div>\n",
       "<style scoped>\n",
       "    .dataframe tbody tr th:only-of-type {\n",
       "        vertical-align: middle;\n",
       "    }\n",
       "\n",
       "    .dataframe tbody tr th {\n",
       "        vertical-align: top;\n",
       "    }\n",
       "\n",
       "    .dataframe thead th {\n",
       "        text-align: right;\n",
       "    }\n",
       "</style>\n",
       "<table border=\"1\" class=\"dataframe\">\n",
       "  <thead>\n",
       "    <tr style=\"text-align: right;\">\n",
       "      <th></th>\n",
       "      <th>school</th>\n",
       "      <th>overview</th>\n",
       "      <th>Course</th>\n",
       "      <th>Title</th>\n",
       "      <th>Review</th>\n",
       "      <th>Overall_rating</th>\n",
       "      <th>Instructors</th>\n",
       "      <th>Curriculum</th>\n",
       "      <th>Job Assistance</th>\n",
       "      <th>Overall Experience</th>\n",
       "      <th>pros</th>\n",
       "      <th>cons</th>\n",
       "      <th>Website</th>\n",
       "    </tr>\n",
       "  </thead>\n",
       "  <tbody>\n",
       "    <tr>\n",
       "      <th>0</th>\n",
       "      <td>WeCloudData</td>\n",
       "      <td>4.8/5</td>\n",
       "      <td>NaN</td>\n",
       "      <td>Full Time DS Bootcamp Review</td>\n",
       "      <td>Overall a great program especially for career ...</td>\n",
       "      <td>100</td>\n",
       "      <td>80</td>\n",
       "      <td>100</td>\n",
       "      <td>60</td>\n",
       "      <td>100</td>\n",
       "      <td>- Knowledgeable and patient instructors and TA...</td>\n",
       "      <td>- Learning experience felt more individual rat...</td>\n",
       "      <td>CareerKarma</td>\n",
       "    </tr>\n",
       "    <tr>\n",
       "      <th>1</th>\n",
       "      <td>WeCloudData</td>\n",
       "      <td>4.8/5</td>\n",
       "      <td>NaN</td>\n",
       "      <td>A good bootcamp! its worth to make the decision</td>\n",
       "      <td>I attended the data and business analytics boo...</td>\n",
       "      <td>100</td>\n",
       "      <td>100</td>\n",
       "      <td>100</td>\n",
       "      <td>100</td>\n",
       "      <td>100</td>\n",
       "      <td>Great support, nice tutor, practical content</td>\n",
       "      <td>Time were a bit tight to learn everything</td>\n",
       "      <td>CareerKarma</td>\n",
       "    </tr>\n",
       "    <tr>\n",
       "      <th>2</th>\n",
       "      <td>WeCloudData</td>\n",
       "      <td>4.8/5</td>\n",
       "      <td>NaN</td>\n",
       "      <td>Best DS BootCamp in Canada</td>\n",
       "      <td>I arrived in Canada with a Bachelor's degree i...</td>\n",
       "      <td>100</td>\n",
       "      <td>100</td>\n",
       "      <td>100</td>\n",
       "      <td>100</td>\n",
       "      <td>100</td>\n",
       "      <td>Really straight forward wth projects that help...</td>\n",
       "      <td>Pretty Intense so it will be better if you are...</td>\n",
       "      <td>CareerKarma</td>\n",
       "    </tr>\n",
       "    <tr>\n",
       "      <th>3</th>\n",
       "      <td>WeCloudData</td>\n",
       "      <td>4.8/5</td>\n",
       "      <td>NaN</td>\n",
       "      <td>Best DS in Canada</td>\n",
       "      <td>I arrived in Canada with a Bachelor's degree i...</td>\n",
       "      <td>100</td>\n",
       "      <td>100</td>\n",
       "      <td>100</td>\n",
       "      <td>100</td>\n",
       "      <td>100</td>\n",
       "      <td>Really straight forward, with projects that he...</td>\n",
       "      <td>Intense, So It will be better if you don't hav...</td>\n",
       "      <td>CareerKarma</td>\n",
       "    </tr>\n",
       "    <tr>\n",
       "      <th>4</th>\n",
       "      <td>WeCloudData</td>\n",
       "      <td>4.8/5</td>\n",
       "      <td>NaN</td>\n",
       "      <td>Great program with helpful career guidance</td>\n",
       "      <td>I attended WeCloudData Applied BI program in 2...</td>\n",
       "      <td>100</td>\n",
       "      <td>100</td>\n",
       "      <td>80</td>\n",
       "      <td>100</td>\n",
       "      <td>100</td>\n",
       "      <td>Instructors/mentors/TAs are nice. My mentor Le...</td>\n",
       "      <td>A bit intensive or not that friendly for full ...</td>\n",
       "      <td>CareerKarma</td>\n",
       "    </tr>\n",
       "  </tbody>\n",
       "</table>\n",
       "</div>"
      ],
      "text/plain": [
       "        school overview Course  \\\n",
       "0  WeCloudData    4.8/5    NaN   \n",
       "1  WeCloudData    4.8/5    NaN   \n",
       "2  WeCloudData    4.8/5    NaN   \n",
       "3  WeCloudData    4.8/5    NaN   \n",
       "4  WeCloudData    4.8/5    NaN   \n",
       "\n",
       "                                             Title  \\\n",
       "0                     Full Time DS Bootcamp Review   \n",
       "1  A good bootcamp! its worth to make the decision   \n",
       "2                       Best DS BootCamp in Canada   \n",
       "3                                Best DS in Canada   \n",
       "4       Great program with helpful career guidance   \n",
       "\n",
       "                                              Review  Overall_rating  \\\n",
       "0  Overall a great program especially for career ...             100   \n",
       "1  I attended the data and business analytics boo...             100   \n",
       "2  I arrived in Canada with a Bachelor's degree i...             100   \n",
       "3  I arrived in Canada with a Bachelor's degree i...             100   \n",
       "4  I attended WeCloudData Applied BI program in 2...             100   \n",
       "\n",
       "   Instructors  Curriculum  Job Assistance  Overall Experience  \\\n",
       "0           80         100              60                 100   \n",
       "1          100         100             100                 100   \n",
       "2          100         100             100                 100   \n",
       "3          100         100             100                 100   \n",
       "4          100          80             100                 100   \n",
       "\n",
       "                                                pros  \\\n",
       "0  - Knowledgeable and patient instructors and TA...   \n",
       "1       Great support, nice tutor, practical content   \n",
       "2  Really straight forward wth projects that help...   \n",
       "3  Really straight forward, with projects that he...   \n",
       "4  Instructors/mentors/TAs are nice. My mentor Le...   \n",
       "\n",
       "                                                cons      Website  \n",
       "0  - Learning experience felt more individual rat...  CareerKarma  \n",
       "1          Time were a bit tight to learn everything  CareerKarma  \n",
       "2  Pretty Intense so it will be better if you are...  CareerKarma  \n",
       "3  Intense, So It will be better if you don't hav...  CareerKarma  \n",
       "4  A bit intensive or not that friendly for full ...  CareerKarma  "
      ]
     },
     "execution_count": 9,
     "metadata": {},
     "output_type": "execute_result"
    }
   ],
   "source": [
    "CareerKarma.head()"
   ]
  },
  {
   "cell_type": "code",
   "execution_count": 10,
   "id": "0043a563",
   "metadata": {
    "scrolled": true
   },
   "outputs": [
    {
     "data": {
      "text/html": [
       "<div>\n",
       "<style scoped>\n",
       "    .dataframe tbody tr th:only-of-type {\n",
       "        vertical-align: middle;\n",
       "    }\n",
       "\n",
       "    .dataframe tbody tr th {\n",
       "        vertical-align: top;\n",
       "    }\n",
       "\n",
       "    .dataframe thead th {\n",
       "        text-align: right;\n",
       "    }\n",
       "</style>\n",
       "<table border=\"1\" class=\"dataframe\">\n",
       "  <thead>\n",
       "    <tr style=\"text-align: right;\">\n",
       "      <th></th>\n",
       "      <th>Reviewer</th>\n",
       "      <th>Course</th>\n",
       "      <th>Date</th>\n",
       "      <th>Overall_rating</th>\n",
       "      <th>Curriculum_rating</th>\n",
       "      <th>Job_Support_rating</th>\n",
       "      <th>Instructors_rating</th>\n",
       "      <th>Title</th>\n",
       "      <th>Review</th>\n",
       "      <th>Location</th>\n",
       "      <th>Job</th>\n",
       "      <th>Year_graduated</th>\n",
       "      <th>Bootcamp</th>\n",
       "      <th>Website</th>\n",
       "    </tr>\n",
       "  </thead>\n",
       "  <tbody>\n",
       "    <tr>\n",
       "      <th>0</th>\n",
       "      <td>Sami Sidhik</td>\n",
       "      <td>Applied Business Intelligence Certificate</td>\n",
       "      <td>2022-05-24</td>\n",
       "      <td>100.0</td>\n",
       "      <td>100.0</td>\n",
       "      <td>100.0</td>\n",
       "      <td>100.0</td>\n",
       "      <td>Great way to enter into the world of Data Anal...</td>\n",
       "      <td>I had a great experience with the Business Int...</td>\n",
       "      <td>Vancouver</td>\n",
       "      <td>NaN</td>\n",
       "      <td>NaN</td>\n",
       "      <td>WeCloudData</td>\n",
       "      <td>CourseCompare</td>\n",
       "    </tr>\n",
       "    <tr>\n",
       "      <th>1</th>\n",
       "      <td>Kevin</td>\n",
       "      <td>Data Science Bootcamp</td>\n",
       "      <td>2022-05-01</td>\n",
       "      <td>80.0</td>\n",
       "      <td>100.0</td>\n",
       "      <td>80.0</td>\n",
       "      <td>100.0</td>\n",
       "      <td>A boost for your smooth career switch</td>\n",
       "      <td>I became familiar with WCD in early January 20...</td>\n",
       "      <td>Montreal</td>\n",
       "      <td>NaN</td>\n",
       "      <td>NaN</td>\n",
       "      <td>WeCloudData</td>\n",
       "      <td>CourseCompare</td>\n",
       "    </tr>\n",
       "    <tr>\n",
       "      <th>2</th>\n",
       "      <td>Anonymous</td>\n",
       "      <td>Applied Business Intelligence Certificate</td>\n",
       "      <td>2022-04-29</td>\n",
       "      <td>100.0</td>\n",
       "      <td>NaN</td>\n",
       "      <td>NaN</td>\n",
       "      <td>100.0</td>\n",
       "      <td>Part time data analytics course</td>\n",
       "      <td>It was an amazing experience highly recommend ...</td>\n",
       "      <td>Toronto</td>\n",
       "      <td>NaN</td>\n",
       "      <td>NaN</td>\n",
       "      <td>WeCloudData</td>\n",
       "      <td>CourseCompare</td>\n",
       "    </tr>\n",
       "    <tr>\n",
       "      <th>3</th>\n",
       "      <td>Manika Midha</td>\n",
       "      <td>Data Science Bootcamp</td>\n",
       "      <td>2022-04-13</td>\n",
       "      <td>100.0</td>\n",
       "      <td>100.0</td>\n",
       "      <td>60.0</td>\n",
       "      <td>80.0</td>\n",
       "      <td>Great Experience</td>\n",
       "      <td>I had a great experience. I liked the instruct...</td>\n",
       "      <td>Toronto</td>\n",
       "      <td>NaN</td>\n",
       "      <td>NaN</td>\n",
       "      <td>WeCloudData</td>\n",
       "      <td>CourseCompare</td>\n",
       "    </tr>\n",
       "    <tr>\n",
       "      <th>4</th>\n",
       "      <td>Harold Castillo</td>\n",
       "      <td>Applied Business Intelligence Certificate</td>\n",
       "      <td>2022-04-07</td>\n",
       "      <td>100.0</td>\n",
       "      <td>100.0</td>\n",
       "      <td>100.0</td>\n",
       "      <td>100.0</td>\n",
       "      <td>Great Experience</td>\n",
       "      <td>I had the pleasure to share this experience wi...</td>\n",
       "      <td>Toronto</td>\n",
       "      <td>NaN</td>\n",
       "      <td>NaN</td>\n",
       "      <td>WeCloudData</td>\n",
       "      <td>CourseCompare</td>\n",
       "    </tr>\n",
       "  </tbody>\n",
       "</table>\n",
       "</div>"
      ],
      "text/plain": [
       "          Reviewer                                     Course        Date  \\\n",
       "0      Sami Sidhik  Applied Business Intelligence Certificate  2022-05-24   \n",
       "1            Kevin                      Data Science Bootcamp  2022-05-01   \n",
       "2        Anonymous  Applied Business Intelligence Certificate  2022-04-29   \n",
       "3     Manika Midha                      Data Science Bootcamp  2022-04-13   \n",
       "4  Harold Castillo  Applied Business Intelligence Certificate  2022-04-07   \n",
       "\n",
       "   Overall_rating  Curriculum_rating  Job_Support_rating  Instructors_rating  \\\n",
       "0           100.0              100.0               100.0               100.0   \n",
       "1            80.0              100.0                80.0               100.0   \n",
       "2           100.0                NaN                 NaN               100.0   \n",
       "3           100.0              100.0                60.0                80.0   \n",
       "4           100.0              100.0               100.0               100.0   \n",
       "\n",
       "                                               Title  \\\n",
       "0  Great way to enter into the world of Data Anal...   \n",
       "1              A boost for your smooth career switch   \n",
       "2                    Part time data analytics course   \n",
       "3                                   Great Experience   \n",
       "4                                   Great Experience   \n",
       "\n",
       "                                              Review   Location  Job  \\\n",
       "0  I had a great experience with the Business Int...  Vancouver  NaN   \n",
       "1  I became familiar with WCD in early January 20...   Montreal  NaN   \n",
       "2  It was an amazing experience highly recommend ...    Toronto  NaN   \n",
       "3  I had a great experience. I liked the instruct...    Toronto  NaN   \n",
       "4  I had the pleasure to share this experience wi...    Toronto  NaN   \n",
       "\n",
       "   Year_graduated     Bootcamp        Website  \n",
       "0             NaN  WeCloudData  CourseCompare  \n",
       "1             NaN  WeCloudData  CourseCompare  \n",
       "2             NaN  WeCloudData  CourseCompare  \n",
       "3             NaN  WeCloudData  CourseCompare  \n",
       "4             NaN  WeCloudData  CourseCompare  "
      ]
     },
     "execution_count": 10,
     "metadata": {},
     "output_type": "execute_result"
    }
   ],
   "source": [
    "# import Switchup_cc data\n",
    "Switchup_cc = pd.read_csv('C://Users//Hanme//Desktop//WeCloudData//Course Review Project//Switchup_Coursecompare.csv', encoding= 'unicode_escape', index_col=0)\n",
    "Switchup_cc.head()"
   ]
  },
  {
   "cell_type": "code",
   "execution_count": 11,
   "id": "f99ffb59",
   "metadata": {},
   "outputs": [
    {
     "data": {
      "text/plain": [
       "6682"
      ]
     },
     "execution_count": 11,
     "metadata": {},
     "output_type": "execute_result"
    }
   ],
   "source": [
    "len(Switchup_cc)"
   ]
  },
  {
   "cell_type": "code",
   "execution_count": 12,
   "id": "be3a2fca",
   "metadata": {},
   "outputs": [],
   "source": [
    "# drop reviewer, date, location, job, year_graduated\n",
    "Switchup_cc = Switchup_cc.drop(columns = ['Reviewer', 'Date', 'Location', 'Job', 'Year_graduated'])"
   ]
  },
  {
   "cell_type": "code",
   "execution_count": 13,
   "id": "6dd7511b",
   "metadata": {},
   "outputs": [],
   "source": [
    "# create pros, cons, overview, overall experience\n",
    "Switchup_cc['pros'] = 'NaN'\n",
    "Switchup_cc['cons'] = 'NaN'\n",
    "Switchup_cc['overview'] = 'NaN'\n",
    "Switchup_cc['Overall Experience'] = 'NaN'"
   ]
  },
  {
   "cell_type": "code",
   "execution_count": 14,
   "id": "0e3b32e3",
   "metadata": {},
   "outputs": [],
   "source": [
    "# rename columns\n",
    "Switchup_cc.rename(columns={'Bootcamp': 'school'}, inplace=True)\n",
    "Switchup_cc.rename(columns={'Curriculum_rating': 'Curriculum'}, inplace=True)\n",
    "Switchup_cc.rename(columns={'Job_Support_rating': 'Job Assistance'}, inplace=True)\n",
    "Switchup_cc.rename(columns={'Instructors_rating': 'Instructors'}, inplace=True)"
   ]
  },
  {
   "cell_type": "code",
   "execution_count": 15,
   "id": "70ecede1",
   "metadata": {},
   "outputs": [],
   "source": [
    "# reindex columns, switch order\n",
    "Switchup_cc = Switchup_cc.reindex(columns = ['school', 'overview', 'Course', 'Title', 'Review', 'Overall_rating', 'Instructors',\n",
    "       'Curriculum', 'Job Assistance', 'Overall Experience', 'pros',\n",
    "       'cons', 'Website'])"
   ]
  },
  {
   "cell_type": "code",
   "execution_count": 16,
   "id": "80ee67c5",
   "metadata": {
    "scrolled": false
   },
   "outputs": [
    {
     "data": {
      "text/html": [
       "<div>\n",
       "<style scoped>\n",
       "    .dataframe tbody tr th:only-of-type {\n",
       "        vertical-align: middle;\n",
       "    }\n",
       "\n",
       "    .dataframe tbody tr th {\n",
       "        vertical-align: top;\n",
       "    }\n",
       "\n",
       "    .dataframe thead th {\n",
       "        text-align: right;\n",
       "    }\n",
       "</style>\n",
       "<table border=\"1\" class=\"dataframe\">\n",
       "  <thead>\n",
       "    <tr style=\"text-align: right;\">\n",
       "      <th></th>\n",
       "      <th>school</th>\n",
       "      <th>overview</th>\n",
       "      <th>Course</th>\n",
       "      <th>Title</th>\n",
       "      <th>Review</th>\n",
       "      <th>Overall_rating</th>\n",
       "      <th>Instructors</th>\n",
       "      <th>Curriculum</th>\n",
       "      <th>Job Assistance</th>\n",
       "      <th>Overall Experience</th>\n",
       "      <th>pros</th>\n",
       "      <th>cons</th>\n",
       "      <th>Website</th>\n",
       "    </tr>\n",
       "  </thead>\n",
       "  <tbody>\n",
       "    <tr>\n",
       "      <th>0</th>\n",
       "      <td>WeCloudData</td>\n",
       "      <td>NaN</td>\n",
       "      <td>Applied Business Intelligence Certificate</td>\n",
       "      <td>Great way to enter into the world of Data Anal...</td>\n",
       "      <td>I had a great experience with the Business Int...</td>\n",
       "      <td>100.0</td>\n",
       "      <td>100.0</td>\n",
       "      <td>100.0</td>\n",
       "      <td>100.0</td>\n",
       "      <td>NaN</td>\n",
       "      <td>NaN</td>\n",
       "      <td>NaN</td>\n",
       "      <td>CourseCompare</td>\n",
       "    </tr>\n",
       "    <tr>\n",
       "      <th>1</th>\n",
       "      <td>WeCloudData</td>\n",
       "      <td>NaN</td>\n",
       "      <td>Data Science Bootcamp</td>\n",
       "      <td>A boost for your smooth career switch</td>\n",
       "      <td>I became familiar with WCD in early January 20...</td>\n",
       "      <td>80.0</td>\n",
       "      <td>100.0</td>\n",
       "      <td>100.0</td>\n",
       "      <td>80.0</td>\n",
       "      <td>NaN</td>\n",
       "      <td>NaN</td>\n",
       "      <td>NaN</td>\n",
       "      <td>CourseCompare</td>\n",
       "    </tr>\n",
       "    <tr>\n",
       "      <th>2</th>\n",
       "      <td>WeCloudData</td>\n",
       "      <td>NaN</td>\n",
       "      <td>Applied Business Intelligence Certificate</td>\n",
       "      <td>Part time data analytics course</td>\n",
       "      <td>It was an amazing experience highly recommend ...</td>\n",
       "      <td>100.0</td>\n",
       "      <td>100.0</td>\n",
       "      <td>NaN</td>\n",
       "      <td>NaN</td>\n",
       "      <td>NaN</td>\n",
       "      <td>NaN</td>\n",
       "      <td>NaN</td>\n",
       "      <td>CourseCompare</td>\n",
       "    </tr>\n",
       "    <tr>\n",
       "      <th>3</th>\n",
       "      <td>WeCloudData</td>\n",
       "      <td>NaN</td>\n",
       "      <td>Data Science Bootcamp</td>\n",
       "      <td>Great Experience</td>\n",
       "      <td>I had a great experience. I liked the instruct...</td>\n",
       "      <td>100.0</td>\n",
       "      <td>80.0</td>\n",
       "      <td>100.0</td>\n",
       "      <td>60.0</td>\n",
       "      <td>NaN</td>\n",
       "      <td>NaN</td>\n",
       "      <td>NaN</td>\n",
       "      <td>CourseCompare</td>\n",
       "    </tr>\n",
       "    <tr>\n",
       "      <th>4</th>\n",
       "      <td>WeCloudData</td>\n",
       "      <td>NaN</td>\n",
       "      <td>Applied Business Intelligence Certificate</td>\n",
       "      <td>Great Experience</td>\n",
       "      <td>I had the pleasure to share this experience wi...</td>\n",
       "      <td>100.0</td>\n",
       "      <td>100.0</td>\n",
       "      <td>100.0</td>\n",
       "      <td>100.0</td>\n",
       "      <td>NaN</td>\n",
       "      <td>NaN</td>\n",
       "      <td>NaN</td>\n",
       "      <td>CourseCompare</td>\n",
       "    </tr>\n",
       "  </tbody>\n",
       "</table>\n",
       "</div>"
      ],
      "text/plain": [
       "        school overview                                     Course  \\\n",
       "0  WeCloudData      NaN  Applied Business Intelligence Certificate   \n",
       "1  WeCloudData      NaN                      Data Science Bootcamp   \n",
       "2  WeCloudData      NaN  Applied Business Intelligence Certificate   \n",
       "3  WeCloudData      NaN                      Data Science Bootcamp   \n",
       "4  WeCloudData      NaN  Applied Business Intelligence Certificate   \n",
       "\n",
       "                                               Title  \\\n",
       "0  Great way to enter into the world of Data Anal...   \n",
       "1              A boost for your smooth career switch   \n",
       "2                    Part time data analytics course   \n",
       "3                                   Great Experience   \n",
       "4                                   Great Experience   \n",
       "\n",
       "                                              Review  Overall_rating  \\\n",
       "0  I had a great experience with the Business Int...           100.0   \n",
       "1  I became familiar with WCD in early January 20...            80.0   \n",
       "2  It was an amazing experience highly recommend ...           100.0   \n",
       "3  I had a great experience. I liked the instruct...           100.0   \n",
       "4  I had the pleasure to share this experience wi...           100.0   \n",
       "\n",
       "   Instructors  Curriculum  Job Assistance Overall Experience pros cons  \\\n",
       "0        100.0       100.0           100.0                NaN  NaN  NaN   \n",
       "1        100.0       100.0            80.0                NaN  NaN  NaN   \n",
       "2        100.0         NaN             NaN                NaN  NaN  NaN   \n",
       "3         80.0       100.0            60.0                NaN  NaN  NaN   \n",
       "4        100.0       100.0           100.0                NaN  NaN  NaN   \n",
       "\n",
       "         Website  \n",
       "0  CourseCompare  \n",
       "1  CourseCompare  \n",
       "2  CourseCompare  \n",
       "3  CourseCompare  \n",
       "4  CourseCompare  "
      ]
     },
     "execution_count": 16,
     "metadata": {},
     "output_type": "execute_result"
    }
   ],
   "source": [
    "Switchup_cc.head()"
   ]
  },
  {
   "cell_type": "code",
   "execution_count": 17,
   "id": "2830dc6d",
   "metadata": {},
   "outputs": [],
   "source": [
    "# contact two tables as data\n",
    "data = pd.concat([CareerKarma,Switchup_cc])"
   ]
  },
  {
   "cell_type": "code",
   "execution_count": 18,
   "id": "20a80a23",
   "metadata": {},
   "outputs": [
    {
     "data": {
      "text/plain": [
       "9453"
      ]
     },
     "execution_count": 18,
     "metadata": {},
     "output_type": "execute_result"
    }
   ],
   "source": [
    "len(data)"
   ]
  },
  {
   "cell_type": "code",
   "execution_count": 19,
   "id": "04045518",
   "metadata": {},
   "outputs": [],
   "source": [
    "# save data to csv\n",
    "data.to_csv('data.csv', index=False)"
   ]
  },
  {
   "cell_type": "markdown",
   "id": "da93f1a2",
   "metadata": {},
   "source": [
    "## 2. EDA analysis"
   ]
  },
  {
   "cell_type": "code",
   "execution_count": 20,
   "id": "e79d8df3",
   "metadata": {},
   "outputs": [],
   "source": [
    "# read data\n",
    "data = pd.read_csv('C://Users//Hanme//Desktop//WeCloudData//Course Review Project//data.csv', index_col=0)"
   ]
  },
  {
   "cell_type": "code",
   "execution_count": 21,
   "id": "4064f209",
   "metadata": {},
   "outputs": [],
   "source": [
    "# remove'/5' from overview\n",
    "data['overview'] = data['overview'].str.replace('/5','')"
   ]
  },
  {
   "cell_type": "code",
   "execution_count": 22,
   "id": "f657595d",
   "metadata": {
    "scrolled": true
   },
   "outputs": [
    {
     "data": {
      "text/html": [
       "<div>\n",
       "<style scoped>\n",
       "    .dataframe tbody tr th:only-of-type {\n",
       "        vertical-align: middle;\n",
       "    }\n",
       "\n",
       "    .dataframe tbody tr th {\n",
       "        vertical-align: top;\n",
       "    }\n",
       "\n",
       "    .dataframe thead th {\n",
       "        text-align: right;\n",
       "    }\n",
       "</style>\n",
       "<table border=\"1\" class=\"dataframe\">\n",
       "  <thead>\n",
       "    <tr style=\"text-align: right;\">\n",
       "      <th></th>\n",
       "      <th>overview</th>\n",
       "      <th>Course</th>\n",
       "      <th>Title</th>\n",
       "      <th>Review</th>\n",
       "      <th>Overall_rating</th>\n",
       "      <th>Instructors</th>\n",
       "      <th>Curriculum</th>\n",
       "      <th>Job Assistance</th>\n",
       "      <th>Overall Experience</th>\n",
       "      <th>pros</th>\n",
       "      <th>cons</th>\n",
       "      <th>Website</th>\n",
       "    </tr>\n",
       "    <tr>\n",
       "      <th>school</th>\n",
       "      <th></th>\n",
       "      <th></th>\n",
       "      <th></th>\n",
       "      <th></th>\n",
       "      <th></th>\n",
       "      <th></th>\n",
       "      <th></th>\n",
       "      <th></th>\n",
       "      <th></th>\n",
       "      <th></th>\n",
       "      <th></th>\n",
       "      <th></th>\n",
       "    </tr>\n",
       "  </thead>\n",
       "  <tbody>\n",
       "    <tr>\n",
       "      <th>WeCloudData</th>\n",
       "      <td>4.8</td>\n",
       "      <td>NaN</td>\n",
       "      <td>Full Time DS Bootcamp Review</td>\n",
       "      <td>Overall a great program especially for career ...</td>\n",
       "      <td>100.0</td>\n",
       "      <td>80.0</td>\n",
       "      <td>100.0</td>\n",
       "      <td>60.0</td>\n",
       "      <td>100.0</td>\n",
       "      <td>- Knowledgeable and patient instructors and TA...</td>\n",
       "      <td>- Learning experience felt more individual rat...</td>\n",
       "      <td>CareerKarma</td>\n",
       "    </tr>\n",
       "    <tr>\n",
       "      <th>WeCloudData</th>\n",
       "      <td>4.8</td>\n",
       "      <td>NaN</td>\n",
       "      <td>A good bootcamp! its worth to make the decision</td>\n",
       "      <td>I attended the data and business analytics boo...</td>\n",
       "      <td>100.0</td>\n",
       "      <td>100.0</td>\n",
       "      <td>100.0</td>\n",
       "      <td>100.0</td>\n",
       "      <td>100.0</td>\n",
       "      <td>Great support, nice tutor, practical content</td>\n",
       "      <td>Time were a bit tight to learn everything</td>\n",
       "      <td>CareerKarma</td>\n",
       "    </tr>\n",
       "    <tr>\n",
       "      <th>WeCloudData</th>\n",
       "      <td>4.8</td>\n",
       "      <td>NaN</td>\n",
       "      <td>Best DS BootCamp in Canada</td>\n",
       "      <td>I arrived in Canada with a Bachelor's degree i...</td>\n",
       "      <td>100.0</td>\n",
       "      <td>100.0</td>\n",
       "      <td>100.0</td>\n",
       "      <td>100.0</td>\n",
       "      <td>100.0</td>\n",
       "      <td>Really straight forward wth projects that help...</td>\n",
       "      <td>Pretty Intense so it will be better if you are...</td>\n",
       "      <td>CareerKarma</td>\n",
       "    </tr>\n",
       "    <tr>\n",
       "      <th>WeCloudData</th>\n",
       "      <td>4.8</td>\n",
       "      <td>NaN</td>\n",
       "      <td>Best DS in Canada</td>\n",
       "      <td>I arrived in Canada with a Bachelor's degree i...</td>\n",
       "      <td>100.0</td>\n",
       "      <td>100.0</td>\n",
       "      <td>100.0</td>\n",
       "      <td>100.0</td>\n",
       "      <td>100.0</td>\n",
       "      <td>Really straight forward, with projects that he...</td>\n",
       "      <td>Intense, So It will be better if you don't hav...</td>\n",
       "      <td>CareerKarma</td>\n",
       "    </tr>\n",
       "    <tr>\n",
       "      <th>WeCloudData</th>\n",
       "      <td>4.8</td>\n",
       "      <td>NaN</td>\n",
       "      <td>Great program with helpful career guidance</td>\n",
       "      <td>I attended WeCloudData Applied BI program in 2...</td>\n",
       "      <td>100.0</td>\n",
       "      <td>100.0</td>\n",
       "      <td>80.0</td>\n",
       "      <td>100.0</td>\n",
       "      <td>100.0</td>\n",
       "      <td>Instructors/mentors/TAs are nice. My mentor Le...</td>\n",
       "      <td>A bit intensive or not that friendly for full ...</td>\n",
       "      <td>CareerKarma</td>\n",
       "    </tr>\n",
       "  </tbody>\n",
       "</table>\n",
       "</div>"
      ],
      "text/plain": [
       "            overview Course                                            Title  \\\n",
       "school                                                                         \n",
       "WeCloudData      4.8    NaN                     Full Time DS Bootcamp Review   \n",
       "WeCloudData      4.8    NaN  A good bootcamp! its worth to make the decision   \n",
       "WeCloudData      4.8    NaN                       Best DS BootCamp in Canada   \n",
       "WeCloudData      4.8    NaN                                Best DS in Canada   \n",
       "WeCloudData      4.8    NaN       Great program with helpful career guidance   \n",
       "\n",
       "                                                        Review  \\\n",
       "school                                                           \n",
       "WeCloudData  Overall a great program especially for career ...   \n",
       "WeCloudData  I attended the data and business analytics boo...   \n",
       "WeCloudData  I arrived in Canada with a Bachelor's degree i...   \n",
       "WeCloudData  I arrived in Canada with a Bachelor's degree i...   \n",
       "WeCloudData  I attended WeCloudData Applied BI program in 2...   \n",
       "\n",
       "             Overall_rating  Instructors  Curriculum  Job Assistance  \\\n",
       "school                                                                 \n",
       "WeCloudData           100.0         80.0       100.0            60.0   \n",
       "WeCloudData           100.0        100.0       100.0           100.0   \n",
       "WeCloudData           100.0        100.0       100.0           100.0   \n",
       "WeCloudData           100.0        100.0       100.0           100.0   \n",
       "WeCloudData           100.0        100.0        80.0           100.0   \n",
       "\n",
       "             Overall Experience  \\\n",
       "school                            \n",
       "WeCloudData               100.0   \n",
       "WeCloudData               100.0   \n",
       "WeCloudData               100.0   \n",
       "WeCloudData               100.0   \n",
       "WeCloudData               100.0   \n",
       "\n",
       "                                                          pros  \\\n",
       "school                                                           \n",
       "WeCloudData  - Knowledgeable and patient instructors and TA...   \n",
       "WeCloudData       Great support, nice tutor, practical content   \n",
       "WeCloudData  Really straight forward wth projects that help...   \n",
       "WeCloudData  Really straight forward, with projects that he...   \n",
       "WeCloudData  Instructors/mentors/TAs are nice. My mentor Le...   \n",
       "\n",
       "                                                          cons      Website  \n",
       "school                                                                       \n",
       "WeCloudData  - Learning experience felt more individual rat...  CareerKarma  \n",
       "WeCloudData          Time were a bit tight to learn everything  CareerKarma  \n",
       "WeCloudData  Pretty Intense so it will be better if you are...  CareerKarma  \n",
       "WeCloudData  Intense, So It will be better if you don't hav...  CareerKarma  \n",
       "WeCloudData  A bit intensive or not that friendly for full ...  CareerKarma  "
      ]
     },
     "execution_count": 22,
     "metadata": {},
     "output_type": "execute_result"
    }
   ],
   "source": [
    "data.head()"
   ]
  },
  {
   "cell_type": "code",
   "execution_count": 23,
   "id": "46de0cef",
   "metadata": {},
   "outputs": [
    {
     "data": {
      "text/plain": [
       "9453"
      ]
     },
     "execution_count": 23,
     "metadata": {},
     "output_type": "execute_result"
    }
   ],
   "source": [
    "len(data)"
   ]
  },
  {
   "cell_type": "code",
   "execution_count": 24,
   "id": "4dac8735",
   "metadata": {
    "scrolled": true
   },
   "outputs": [
    {
     "name": "stdout",
     "output_type": "stream",
     "text": [
      "<class 'pandas.core.frame.DataFrame'>\n",
      "Index: 9453 entries, WeCloudData to Le Wagon\n",
      "Data columns (total 12 columns):\n",
      " #   Column              Non-Null Count  Dtype  \n",
      "---  ------              --------------  -----  \n",
      " 0   overview            2771 non-null   object \n",
      " 1   Course              5433 non-null   object \n",
      " 2   Title               9449 non-null   object \n",
      " 3   Review              9453 non-null   object \n",
      " 4   Overall_rating      9453 non-null   float64\n",
      " 5   Instructors         3281 non-null   float64\n",
      " 6   Curriculum          9450 non-null   float64\n",
      " 7   Job Assistance      9267 non-null   float64\n",
      " 8   Overall Experience  2771 non-null   float64\n",
      " 9   pros                2771 non-null   object \n",
      " 10  cons                2771 non-null   object \n",
      " 11  Website             9453 non-null   object \n",
      "dtypes: float64(5), object(7)\n",
      "memory usage: 960.1+ KB\n"
     ]
    }
   ],
   "source": [
    "# check datatype\n",
    "data.info()"
   ]
  },
  {
   "cell_type": "code",
   "execution_count": 25,
   "id": "d8eb3a2f",
   "metadata": {},
   "outputs": [
    {
     "data": {
      "text/plain": [
       "overview              6682\n",
       "Course                4020\n",
       "Title                    4\n",
       "Review                   0\n",
       "Overall_rating           0\n",
       "Instructors           6172\n",
       "Curriculum               3\n",
       "Job Assistance         186\n",
       "Overall Experience    6682\n",
       "pros                  6682\n",
       "cons                  6682\n",
       "Website                  0\n",
       "dtype: int64"
      ]
     },
     "execution_count": 25,
     "metadata": {},
     "output_type": "execute_result"
    }
   ],
   "source": [
    "# check null values\n",
    "data.isnull().sum()"
   ]
  },
  {
   "cell_type": "code",
   "execution_count": 26,
   "id": "f8982d10",
   "metadata": {},
   "outputs": [],
   "source": [
    "# dropna of curriculum (3 lines)\n",
    "data.dropna(subset=['Curriculum'], inplace=True)"
   ]
  },
  {
   "cell_type": "code",
   "execution_count": 27,
   "id": "3f89138a",
   "metadata": {},
   "outputs": [],
   "source": [
    "# dropna of title (4 lines)\n",
    "data.dropna(subset=['Title'], inplace=True)"
   ]
  },
  {
   "cell_type": "code",
   "execution_count": 28,
   "id": "ebb44e43",
   "metadata": {},
   "outputs": [],
   "source": [
    "# drop course(a lot null), overall experience (similar to overview)\n",
    "data.drop(['Overall Experience'], axis=1, inplace=True)"
   ]
  },
  {
   "cell_type": "code",
   "execution_count": 29,
   "id": "22052ceb",
   "metadata": {
    "scrolled": true
   },
   "outputs": [],
   "source": [
    "# assign average of instructors and curriculum to null in job assistance\n",
    "data = data.reset_index()\n",
    "data.loc[data['Job Assistance'].isnull(), 'Job Assistance'] = (data['Instructors'] + data['Curriculum']) / 2"
   ]
  },
  {
   "cell_type": "code",
   "execution_count": 30,
   "id": "afddd529",
   "metadata": {},
   "outputs": [],
   "source": [
    "# assign average of job assistance and curriculum to null in instructors\n",
    "data.loc[data['Instructors'].isnull(), 'Instructors'] = (data['Job Assistance'] + data['Curriculum']) / 2"
   ]
  },
  {
   "cell_type": "code",
   "execution_count": 31,
   "id": "f3a44fad",
   "metadata": {},
   "outputs": [],
   "source": [
    "# organize school name\n",
    "data['school'] = data['school'].replace('Brainstation', 'BrainStation')\n",
    "data['school'] = data['school'].replace('LighthouseLabs', 'Lighthouse Labs')\n",
    "data['school'] = data['school'].replace('JunoCollege', 'Juno College')"
   ]
  },
  {
   "cell_type": "code",
   "execution_count": 32,
   "id": "53841d83",
   "metadata": {
    "scrolled": true
   },
   "outputs": [
    {
     "data": {
      "text/plain": [
       "school               0\n",
       "overview          6675\n",
       "Course            4016\n",
       "Title                0\n",
       "Review               0\n",
       "Overall_rating       0\n",
       "Instructors          0\n",
       "Curriculum           0\n",
       "Job Assistance       0\n",
       "pros              6675\n",
       "cons              6675\n",
       "Website              0\n",
       "dtype: int64"
      ]
     },
     "execution_count": 32,
     "metadata": {},
     "output_type": "execute_result"
    }
   ],
   "source": [
    "data.isnull().sum()"
   ]
  },
  {
   "cell_type": "code",
   "execution_count": 33,
   "id": "dcf03581",
   "metadata": {
    "scrolled": true
   },
   "outputs": [
    {
     "data": {
      "text/html": [
       "<div>\n",
       "<style scoped>\n",
       "    .dataframe tbody tr th:only-of-type {\n",
       "        vertical-align: middle;\n",
       "    }\n",
       "\n",
       "    .dataframe tbody tr th {\n",
       "        vertical-align: top;\n",
       "    }\n",
       "\n",
       "    .dataframe thead th {\n",
       "        text-align: right;\n",
       "    }\n",
       "</style>\n",
       "<table border=\"1\" class=\"dataframe\">\n",
       "  <thead>\n",
       "    <tr style=\"text-align: right;\">\n",
       "      <th></th>\n",
       "      <th>school</th>\n",
       "      <th>overview</th>\n",
       "      <th>Course</th>\n",
       "      <th>Title</th>\n",
       "      <th>Review</th>\n",
       "      <th>Overall_rating</th>\n",
       "      <th>Instructors</th>\n",
       "      <th>Curriculum</th>\n",
       "      <th>Job Assistance</th>\n",
       "      <th>pros</th>\n",
       "      <th>cons</th>\n",
       "      <th>Website</th>\n",
       "    </tr>\n",
       "  </thead>\n",
       "  <tbody>\n",
       "    <tr>\n",
       "      <th>0</th>\n",
       "      <td>WeCloudData</td>\n",
       "      <td>4.8</td>\n",
       "      <td>NaN</td>\n",
       "      <td>Full Time DS Bootcamp Review</td>\n",
       "      <td>Overall a great program especially for career ...</td>\n",
       "      <td>100.0</td>\n",
       "      <td>80.0</td>\n",
       "      <td>100.0</td>\n",
       "      <td>60.0</td>\n",
       "      <td>- Knowledgeable and patient instructors and TA...</td>\n",
       "      <td>- Learning experience felt more individual rat...</td>\n",
       "      <td>CareerKarma</td>\n",
       "    </tr>\n",
       "    <tr>\n",
       "      <th>1</th>\n",
       "      <td>WeCloudData</td>\n",
       "      <td>4.8</td>\n",
       "      <td>NaN</td>\n",
       "      <td>A good bootcamp! its worth to make the decision</td>\n",
       "      <td>I attended the data and business analytics boo...</td>\n",
       "      <td>100.0</td>\n",
       "      <td>100.0</td>\n",
       "      <td>100.0</td>\n",
       "      <td>100.0</td>\n",
       "      <td>Great support, nice tutor, practical content</td>\n",
       "      <td>Time were a bit tight to learn everything</td>\n",
       "      <td>CareerKarma</td>\n",
       "    </tr>\n",
       "    <tr>\n",
       "      <th>2</th>\n",
       "      <td>WeCloudData</td>\n",
       "      <td>4.8</td>\n",
       "      <td>NaN</td>\n",
       "      <td>Best DS BootCamp in Canada</td>\n",
       "      <td>I arrived in Canada with a Bachelor's degree i...</td>\n",
       "      <td>100.0</td>\n",
       "      <td>100.0</td>\n",
       "      <td>100.0</td>\n",
       "      <td>100.0</td>\n",
       "      <td>Really straight forward wth projects that help...</td>\n",
       "      <td>Pretty Intense so it will be better if you are...</td>\n",
       "      <td>CareerKarma</td>\n",
       "    </tr>\n",
       "    <tr>\n",
       "      <th>3</th>\n",
       "      <td>WeCloudData</td>\n",
       "      <td>4.8</td>\n",
       "      <td>NaN</td>\n",
       "      <td>Best DS in Canada</td>\n",
       "      <td>I arrived in Canada with a Bachelor's degree i...</td>\n",
       "      <td>100.0</td>\n",
       "      <td>100.0</td>\n",
       "      <td>100.0</td>\n",
       "      <td>100.0</td>\n",
       "      <td>Really straight forward, with projects that he...</td>\n",
       "      <td>Intense, So It will be better if you don't hav...</td>\n",
       "      <td>CareerKarma</td>\n",
       "    </tr>\n",
       "    <tr>\n",
       "      <th>4</th>\n",
       "      <td>WeCloudData</td>\n",
       "      <td>4.8</td>\n",
       "      <td>NaN</td>\n",
       "      <td>Great program with helpful career guidance</td>\n",
       "      <td>I attended WeCloudData Applied BI program in 2...</td>\n",
       "      <td>100.0</td>\n",
       "      <td>100.0</td>\n",
       "      <td>80.0</td>\n",
       "      <td>100.0</td>\n",
       "      <td>Instructors/mentors/TAs are nice. My mentor Le...</td>\n",
       "      <td>A bit intensive or not that friendly for full ...</td>\n",
       "      <td>CareerKarma</td>\n",
       "    </tr>\n",
       "  </tbody>\n",
       "</table>\n",
       "</div>"
      ],
      "text/plain": [
       "        school overview Course  \\\n",
       "0  WeCloudData      4.8    NaN   \n",
       "1  WeCloudData      4.8    NaN   \n",
       "2  WeCloudData      4.8    NaN   \n",
       "3  WeCloudData      4.8    NaN   \n",
       "4  WeCloudData      4.8    NaN   \n",
       "\n",
       "                                             Title  \\\n",
       "0                     Full Time DS Bootcamp Review   \n",
       "1  A good bootcamp! its worth to make the decision   \n",
       "2                       Best DS BootCamp in Canada   \n",
       "3                                Best DS in Canada   \n",
       "4       Great program with helpful career guidance   \n",
       "\n",
       "                                              Review  Overall_rating  \\\n",
       "0  Overall a great program especially for career ...           100.0   \n",
       "1  I attended the data and business analytics boo...           100.0   \n",
       "2  I arrived in Canada with a Bachelor's degree i...           100.0   \n",
       "3  I arrived in Canada with a Bachelor's degree i...           100.0   \n",
       "4  I attended WeCloudData Applied BI program in 2...           100.0   \n",
       "\n",
       "   Instructors  Curriculum  Job Assistance  \\\n",
       "0         80.0       100.0            60.0   \n",
       "1        100.0       100.0           100.0   \n",
       "2        100.0       100.0           100.0   \n",
       "3        100.0       100.0           100.0   \n",
       "4        100.0        80.0           100.0   \n",
       "\n",
       "                                                pros  \\\n",
       "0  - Knowledgeable and patient instructors and TA...   \n",
       "1       Great support, nice tutor, practical content   \n",
       "2  Really straight forward wth projects that help...   \n",
       "3  Really straight forward, with projects that he...   \n",
       "4  Instructors/mentors/TAs are nice. My mentor Le...   \n",
       "\n",
       "                                                cons      Website  \n",
       "0  - Learning experience felt more individual rat...  CareerKarma  \n",
       "1          Time were a bit tight to learn everything  CareerKarma  \n",
       "2  Pretty Intense so it will be better if you are...  CareerKarma  \n",
       "3  Intense, So It will be better if you don't hav...  CareerKarma  \n",
       "4  A bit intensive or not that friendly for full ...  CareerKarma  "
      ]
     },
     "execution_count": 33,
     "metadata": {},
     "output_type": "execute_result"
    }
   ],
   "source": [
    "data.head()"
   ]
  },
  {
   "cell_type": "code",
   "execution_count": 34,
   "id": "eaa92d41",
   "metadata": {
    "scrolled": true
   },
   "outputs": [
    {
     "name": "stdout",
     "output_type": "stream",
     "text": [
      "<class 'pandas.core.frame.DataFrame'>\n",
      "RangeIndex: 9446 entries, 0 to 9445\n",
      "Data columns (total 12 columns):\n",
      " #   Column          Non-Null Count  Dtype  \n",
      "---  ------          --------------  -----  \n",
      " 0   school          9446 non-null   object \n",
      " 1   overview        2771 non-null   object \n",
      " 2   Course          5430 non-null   object \n",
      " 3   Title           9446 non-null   object \n",
      " 4   Review          9446 non-null   object \n",
      " 5   Overall_rating  9446 non-null   float64\n",
      " 6   Instructors     9446 non-null   float64\n",
      " 7   Curriculum      9446 non-null   float64\n",
      " 8   Job Assistance  9446 non-null   float64\n",
      " 9   pros            2771 non-null   object \n",
      " 10  cons            2771 non-null   object \n",
      " 11  Website         9446 non-null   object \n",
      "dtypes: float64(4), object(8)\n",
      "memory usage: 885.7+ KB\n"
     ]
    }
   ],
   "source": [
    "data.info()"
   ]
  },
  {
   "cell_type": "code",
   "execution_count": 35,
   "id": "f45bbafd",
   "metadata": {
    "scrolled": true
   },
   "outputs": [
    {
     "data": {
      "text/plain": [
       "180"
      ]
     },
     "execution_count": 35,
     "metadata": {},
     "output_type": "execute_result"
    }
   ],
   "source": [
    "# check Course's unique value\n",
    "data['Course'].nunique()"
   ]
  },
  {
   "cell_type": "markdown",
   "id": "be070867",
   "metadata": {},
   "source": [
    "### 2.1 NLP analysis"
   ]
  },
  {
   "cell_type": "code",
   "execution_count": 36,
   "id": "24f5a5e3",
   "metadata": {
    "scrolled": true
   },
   "outputs": [
    {
     "data": {
      "text/html": [
       "<div>\n",
       "<style scoped>\n",
       "    .dataframe tbody tr th:only-of-type {\n",
       "        vertical-align: middle;\n",
       "    }\n",
       "\n",
       "    .dataframe tbody tr th {\n",
       "        vertical-align: top;\n",
       "    }\n",
       "\n",
       "    .dataframe thead th {\n",
       "        text-align: right;\n",
       "    }\n",
       "</style>\n",
       "<table border=\"1\" class=\"dataframe\">\n",
       "  <thead>\n",
       "    <tr style=\"text-align: right;\">\n",
       "      <th></th>\n",
       "      <th>school</th>\n",
       "      <th>overview</th>\n",
       "      <th>Course</th>\n",
       "      <th>Title</th>\n",
       "      <th>Review</th>\n",
       "      <th>Overall_rating</th>\n",
       "      <th>Instructors</th>\n",
       "      <th>Curriculum</th>\n",
       "      <th>Job Assistance</th>\n",
       "      <th>pros</th>\n",
       "      <th>cons</th>\n",
       "      <th>Website</th>\n",
       "    </tr>\n",
       "  </thead>\n",
       "  <tbody>\n",
       "    <tr>\n",
       "      <th>0</th>\n",
       "      <td>WeCloudData</td>\n",
       "      <td>4.8</td>\n",
       "      <td>NaN</td>\n",
       "      <td>Full Time DS Bootcamp Review</td>\n",
       "      <td>Overall a great program especially for career ...</td>\n",
       "      <td>100.0</td>\n",
       "      <td>80.0</td>\n",
       "      <td>100.0</td>\n",
       "      <td>60.0</td>\n",
       "      <td>- Knowledgeable and patient instructors and TA...</td>\n",
       "      <td>- Learning experience felt more individual rat...</td>\n",
       "      <td>CareerKarma</td>\n",
       "    </tr>\n",
       "    <tr>\n",
       "      <th>1</th>\n",
       "      <td>WeCloudData</td>\n",
       "      <td>4.8</td>\n",
       "      <td>NaN</td>\n",
       "      <td>A good bootcamp! its worth to make the decision</td>\n",
       "      <td>I attended the data and business analytics boo...</td>\n",
       "      <td>100.0</td>\n",
       "      <td>100.0</td>\n",
       "      <td>100.0</td>\n",
       "      <td>100.0</td>\n",
       "      <td>Great support, nice tutor, practical content</td>\n",
       "      <td>Time were a bit tight to learn everything</td>\n",
       "      <td>CareerKarma</td>\n",
       "    </tr>\n",
       "    <tr>\n",
       "      <th>2</th>\n",
       "      <td>WeCloudData</td>\n",
       "      <td>4.8</td>\n",
       "      <td>NaN</td>\n",
       "      <td>Best DS BootCamp in Canada</td>\n",
       "      <td>I arrived in Canada with a Bachelor's degree i...</td>\n",
       "      <td>100.0</td>\n",
       "      <td>100.0</td>\n",
       "      <td>100.0</td>\n",
       "      <td>100.0</td>\n",
       "      <td>Really straight forward wth projects that help...</td>\n",
       "      <td>Pretty Intense so it will be better if you are...</td>\n",
       "      <td>CareerKarma</td>\n",
       "    </tr>\n",
       "    <tr>\n",
       "      <th>3</th>\n",
       "      <td>WeCloudData</td>\n",
       "      <td>4.8</td>\n",
       "      <td>NaN</td>\n",
       "      <td>Best DS in Canada</td>\n",
       "      <td>I arrived in Canada with a Bachelor's degree i...</td>\n",
       "      <td>100.0</td>\n",
       "      <td>100.0</td>\n",
       "      <td>100.0</td>\n",
       "      <td>100.0</td>\n",
       "      <td>Really straight forward, with projects that he...</td>\n",
       "      <td>Intense, So It will be better if you don't hav...</td>\n",
       "      <td>CareerKarma</td>\n",
       "    </tr>\n",
       "    <tr>\n",
       "      <th>4</th>\n",
       "      <td>WeCloudData</td>\n",
       "      <td>4.8</td>\n",
       "      <td>NaN</td>\n",
       "      <td>Great program with helpful career guidance</td>\n",
       "      <td>I attended WeCloudData Applied BI program in 2...</td>\n",
       "      <td>100.0</td>\n",
       "      <td>100.0</td>\n",
       "      <td>80.0</td>\n",
       "      <td>100.0</td>\n",
       "      <td>Instructors/mentors/TAs are nice. My mentor Le...</td>\n",
       "      <td>A bit intensive or not that friendly for full ...</td>\n",
       "      <td>CareerKarma</td>\n",
       "    </tr>\n",
       "  </tbody>\n",
       "</table>\n",
       "</div>"
      ],
      "text/plain": [
       "        school overview Course  \\\n",
       "0  WeCloudData      4.8    NaN   \n",
       "1  WeCloudData      4.8    NaN   \n",
       "2  WeCloudData      4.8    NaN   \n",
       "3  WeCloudData      4.8    NaN   \n",
       "4  WeCloudData      4.8    NaN   \n",
       "\n",
       "                                             Title  \\\n",
       "0                     Full Time DS Bootcamp Review   \n",
       "1  A good bootcamp! its worth to make the decision   \n",
       "2                       Best DS BootCamp in Canada   \n",
       "3                                Best DS in Canada   \n",
       "4       Great program with helpful career guidance   \n",
       "\n",
       "                                              Review  Overall_rating  \\\n",
       "0  Overall a great program especially for career ...           100.0   \n",
       "1  I attended the data and business analytics boo...           100.0   \n",
       "2  I arrived in Canada with a Bachelor's degree i...           100.0   \n",
       "3  I arrived in Canada with a Bachelor's degree i...           100.0   \n",
       "4  I attended WeCloudData Applied BI program in 2...           100.0   \n",
       "\n",
       "   Instructors  Curriculum  Job Assistance  \\\n",
       "0         80.0       100.0            60.0   \n",
       "1        100.0       100.0           100.0   \n",
       "2        100.0       100.0           100.0   \n",
       "3        100.0       100.0           100.0   \n",
       "4        100.0        80.0           100.0   \n",
       "\n",
       "                                                pros  \\\n",
       "0  - Knowledgeable and patient instructors and TA...   \n",
       "1       Great support, nice tutor, practical content   \n",
       "2  Really straight forward wth projects that help...   \n",
       "3  Really straight forward, with projects that he...   \n",
       "4  Instructors/mentors/TAs are nice. My mentor Le...   \n",
       "\n",
       "                                                cons      Website  \n",
       "0  - Learning experience felt more individual rat...  CareerKarma  \n",
       "1          Time were a bit tight to learn everything  CareerKarma  \n",
       "2  Pretty Intense so it will be better if you are...  CareerKarma  \n",
       "3  Intense, So It will be better if you don't hav...  CareerKarma  \n",
       "4  A bit intensive or not that friendly for full ...  CareerKarma  "
      ]
     },
     "execution_count": 36,
     "metadata": {},
     "output_type": "execute_result"
    }
   ],
   "source": [
    "# make a copy of data as data_ml\n",
    "data_ml = data\n",
    "data_ml.head()"
   ]
  },
  {
   "cell_type": "code",
   "execution_count": 37,
   "id": "117cce10",
   "metadata": {},
   "outputs": [],
   "source": [
    "# create polarity and subjective column from review\n",
    "from textblob import TextBlob\n",
    "data_ml['polarity_re'] = data_ml['Review'].apply(lambda x: TextBlob(x).polarity)\n",
    "data_ml['subjective_re'] = data_ml['Review'].apply(lambda x: TextBlob(x).subjectivity)"
   ]
  },
  {
   "cell_type": "code",
   "execution_count": 38,
   "id": "cb0a91a6",
   "metadata": {
    "scrolled": true
   },
   "outputs": [
    {
     "data": {
      "text/html": [
       "<div>\n",
       "<style scoped>\n",
       "    .dataframe tbody tr th:only-of-type {\n",
       "        vertical-align: middle;\n",
       "    }\n",
       "\n",
       "    .dataframe tbody tr th {\n",
       "        vertical-align: top;\n",
       "    }\n",
       "\n",
       "    .dataframe thead th {\n",
       "        text-align: right;\n",
       "    }\n",
       "</style>\n",
       "<table border=\"1\" class=\"dataframe\">\n",
       "  <thead>\n",
       "    <tr style=\"text-align: right;\">\n",
       "      <th></th>\n",
       "      <th>school</th>\n",
       "      <th>overview</th>\n",
       "      <th>Course</th>\n",
       "      <th>Title</th>\n",
       "      <th>Review</th>\n",
       "      <th>Overall_rating</th>\n",
       "      <th>Instructors</th>\n",
       "      <th>Curriculum</th>\n",
       "      <th>Job Assistance</th>\n",
       "      <th>pros</th>\n",
       "      <th>cons</th>\n",
       "      <th>Website</th>\n",
       "      <th>polarity_re</th>\n",
       "      <th>subjective_re</th>\n",
       "    </tr>\n",
       "  </thead>\n",
       "  <tbody>\n",
       "    <tr>\n",
       "      <th>0</th>\n",
       "      <td>WeCloudData</td>\n",
       "      <td>4.8</td>\n",
       "      <td>NaN</td>\n",
       "      <td>Full Time DS Bootcamp Review</td>\n",
       "      <td>Overall a great program especially for career ...</td>\n",
       "      <td>100.0</td>\n",
       "      <td>80.0</td>\n",
       "      <td>100.0</td>\n",
       "      <td>60.0</td>\n",
       "      <td>- Knowledgeable and patient instructors and TA...</td>\n",
       "      <td>- Learning experience felt more individual rat...</td>\n",
       "      <td>CareerKarma</td>\n",
       "      <td>0.15000</td>\n",
       "      <td>0.40625</td>\n",
       "    </tr>\n",
       "    <tr>\n",
       "      <th>1</th>\n",
       "      <td>WeCloudData</td>\n",
       "      <td>4.8</td>\n",
       "      <td>NaN</td>\n",
       "      <td>A good bootcamp! its worth to make the decision</td>\n",
       "      <td>I attended the data and business analytics boo...</td>\n",
       "      <td>100.0</td>\n",
       "      <td>100.0</td>\n",
       "      <td>100.0</td>\n",
       "      <td>100.0</td>\n",
       "      <td>Great support, nice tutor, practical content</td>\n",
       "      <td>Time were a bit tight to learn everything</td>\n",
       "      <td>CareerKarma</td>\n",
       "      <td>0.38500</td>\n",
       "      <td>0.58000</td>\n",
       "    </tr>\n",
       "    <tr>\n",
       "      <th>2</th>\n",
       "      <td>WeCloudData</td>\n",
       "      <td>4.8</td>\n",
       "      <td>NaN</td>\n",
       "      <td>Best DS BootCamp in Canada</td>\n",
       "      <td>I arrived in Canada with a Bachelor's degree i...</td>\n",
       "      <td>100.0</td>\n",
       "      <td>100.0</td>\n",
       "      <td>100.0</td>\n",
       "      <td>100.0</td>\n",
       "      <td>Really straight forward wth projects that help...</td>\n",
       "      <td>Pretty Intense so it will be better if you are...</td>\n",
       "      <td>CareerKarma</td>\n",
       "      <td>0.16500</td>\n",
       "      <td>0.30000</td>\n",
       "    </tr>\n",
       "    <tr>\n",
       "      <th>3</th>\n",
       "      <td>WeCloudData</td>\n",
       "      <td>4.8</td>\n",
       "      <td>NaN</td>\n",
       "      <td>Best DS in Canada</td>\n",
       "      <td>I arrived in Canada with a Bachelor's degree i...</td>\n",
       "      <td>100.0</td>\n",
       "      <td>100.0</td>\n",
       "      <td>100.0</td>\n",
       "      <td>100.0</td>\n",
       "      <td>Really straight forward, with projects that he...</td>\n",
       "      <td>Intense, So It will be better if you don't hav...</td>\n",
       "      <td>CareerKarma</td>\n",
       "      <td>0.16500</td>\n",
       "      <td>0.30000</td>\n",
       "    </tr>\n",
       "    <tr>\n",
       "      <th>4</th>\n",
       "      <td>WeCloudData</td>\n",
       "      <td>4.8</td>\n",
       "      <td>NaN</td>\n",
       "      <td>Great program with helpful career guidance</td>\n",
       "      <td>I attended WeCloudData Applied BI program in 2...</td>\n",
       "      <td>100.0</td>\n",
       "      <td>100.0</td>\n",
       "      <td>80.0</td>\n",
       "      <td>100.0</td>\n",
       "      <td>Instructors/mentors/TAs are nice. My mentor Le...</td>\n",
       "      <td>A bit intensive or not that friendly for full ...</td>\n",
       "      <td>CareerKarma</td>\n",
       "      <td>0.26875</td>\n",
       "      <td>0.49375</td>\n",
       "    </tr>\n",
       "  </tbody>\n",
       "</table>\n",
       "</div>"
      ],
      "text/plain": [
       "        school overview Course  \\\n",
       "0  WeCloudData      4.8    NaN   \n",
       "1  WeCloudData      4.8    NaN   \n",
       "2  WeCloudData      4.8    NaN   \n",
       "3  WeCloudData      4.8    NaN   \n",
       "4  WeCloudData      4.8    NaN   \n",
       "\n",
       "                                             Title  \\\n",
       "0                     Full Time DS Bootcamp Review   \n",
       "1  A good bootcamp! its worth to make the decision   \n",
       "2                       Best DS BootCamp in Canada   \n",
       "3                                Best DS in Canada   \n",
       "4       Great program with helpful career guidance   \n",
       "\n",
       "                                              Review  Overall_rating  \\\n",
       "0  Overall a great program especially for career ...           100.0   \n",
       "1  I attended the data and business analytics boo...           100.0   \n",
       "2  I arrived in Canada with a Bachelor's degree i...           100.0   \n",
       "3  I arrived in Canada with a Bachelor's degree i...           100.0   \n",
       "4  I attended WeCloudData Applied BI program in 2...           100.0   \n",
       "\n",
       "   Instructors  Curriculum  Job Assistance  \\\n",
       "0         80.0       100.0            60.0   \n",
       "1        100.0       100.0           100.0   \n",
       "2        100.0       100.0           100.0   \n",
       "3        100.0       100.0           100.0   \n",
       "4        100.0        80.0           100.0   \n",
       "\n",
       "                                                pros  \\\n",
       "0  - Knowledgeable and patient instructors and TA...   \n",
       "1       Great support, nice tutor, practical content   \n",
       "2  Really straight forward wth projects that help...   \n",
       "3  Really straight forward, with projects that he...   \n",
       "4  Instructors/mentors/TAs are nice. My mentor Le...   \n",
       "\n",
       "                                                cons      Website  \\\n",
       "0  - Learning experience felt more individual rat...  CareerKarma   \n",
       "1          Time were a bit tight to learn everything  CareerKarma   \n",
       "2  Pretty Intense so it will be better if you are...  CareerKarma   \n",
       "3  Intense, So It will be better if you don't hav...  CareerKarma   \n",
       "4  A bit intensive or not that friendly for full ...  CareerKarma   \n",
       "\n",
       "   polarity_re  subjective_re  \n",
       "0      0.15000        0.40625  \n",
       "1      0.38500        0.58000  \n",
       "2      0.16500        0.30000  \n",
       "3      0.16500        0.30000  \n",
       "4      0.26875        0.49375  "
      ]
     },
     "execution_count": 38,
     "metadata": {},
     "output_type": "execute_result"
    }
   ],
   "source": [
    "data_ml.head()"
   ]
  },
  {
   "cell_type": "code",
   "execution_count": 39,
   "id": "fbdf95dd",
   "metadata": {},
   "outputs": [],
   "source": [
    "# fix contractions\n",
    "\n",
    "import re\n",
    "def cleaner(review):\n",
    "    review = re.sub(r\"(?:\\@|http?\\://|https?\\://|www)\\S+\", \" \", review) \n",
    "    \n",
    "    review = re.sub(r\"won\\'t\", \"will not\", review) \n",
    "    review = re.sub(r\"can\\'t\", \"can not\", review)\n",
    "    review = re.sub(r\"n\\'t\", \" not\", review)\n",
    "    review = re.sub(r\"\\'re\", \" are\", review)\n",
    "    review = re.sub(r\"\\'s\", \" is\", review)\n",
    "    review = re.sub(r\"\\'d\", \" would\", review)\n",
    "    review = re.sub(r\"\\'ll\", \" will\", review)\n",
    "    review = re.sub(r\"\\'t\", \" not\", review)\n",
    "    review = re.sub(r\"\\'ve\", \" have\", review)\n",
    "    review = re.sub(r\"\\'m\", \" am\", review)\n",
    "    \n",
    "    review = re.sub(r\"[^a-zA-z]\", \" \", review) \n",
    "    review = re.sub(\"(^|\\W)\\d+($|\\W)\", \" \", review)  \n",
    "    review = re.sub('\\W+',' ',review)\n",
    "    review = re.sub(r\"\\s+\", \" \", review) \n",
    "    review = review.lower()  \n",
    "    review = review.strip() \n",
    "    \n",
    "    return review\n",
    "\n",
    "data_ml['Review_clean'] = data_ml['Review'].apply(cleaner)"
   ]
  },
  {
   "cell_type": "code",
   "execution_count": 40,
   "id": "74027280",
   "metadata": {
    "scrolled": true
   },
   "outputs": [
    {
     "data": {
      "text/plain": [
       "0       overall great program especially career switch...\n",
       "1       attended business analytics early got dream jo...\n",
       "2       arrived canada bachelor degree industrial engi...\n",
       "3       arrived canada bachelor degree industrial engi...\n",
       "4       attended applied bi program jan finished early...\n",
       "                              ...                        \n",
       "9441    put simply knew nothing development month ago ...\n",
       "9442    training exceeded expectations master weeks ba...\n",
       "9443    attended week early technical background whats...\n",
       "9444    entered program graduated one top french busin...\n",
       "9445    strongly recommend team really really good mee...\n",
       "Name: Review_clean, Length: 9446, dtype: object"
      ]
     },
     "execution_count": 40,
     "metadata": {},
     "output_type": "execute_result"
    }
   ],
   "source": [
    "# split review and remove stopwords\n",
    "from nltk.corpus import stopwords\n",
    "stoplist = stopwords.words('english')+['brainstation','brain','station','bs','data','science','retreat','datascienceretreat','dsr','general','assembly','generalassembly',\\\n",
    "              'ga','juno','college','junocollege','jc','le','wagon','lewagon','lw','lighthouselabs','lighthouse', 'labs','light','house','lhl','metis',\\\n",
    "              'nyc','nycdatascience','practicum','springboard','spring','board','sb','toronto','school','management',\\\n",
    "              'torontoschoolofmanagement','tsofm','incubator','thedataincubator','tdi','thinkful','weclouddata','wecloud','wcd','bootcamp','boot','camp','bootcamps']\n",
    "data_ml['Review_clean'] = data_ml['Review_clean'].apply(lambda x: ' '.join([word for word in x.split() if word not in (stoplist)]))\n",
    "data_ml['Review_clean']"
   ]
  },
  {
   "cell_type": "code",
   "execution_count": 41,
   "id": "2bce25dd",
   "metadata": {
    "scrolled": false
   },
   "outputs": [
    {
     "data": {
      "text/plain": [
       "0       [overall, great, program, especially, career, ...\n",
       "1       [attended, business, analytics, early, got, dr...\n",
       "2       [arrived, canada, bachelor, degree, industrial...\n",
       "3       [arrived, canada, bachelor, degree, industrial...\n",
       "4       [attended, applied, bi, program, jan, finished...\n",
       "                              ...                        \n",
       "9441    [put, simply, knew, nothing, development, mont...\n",
       "9442    [training, exceeded, expectations, master, wee...\n",
       "9443    [attended, week, early, technical, background,...\n",
       "9444    [entered, program, graduated, one, top, french...\n",
       "9445    [strongly, recommend, team, really, really, go...\n",
       "Name: Review_clean, Length: 9446, dtype: object"
      ]
     },
     "execution_count": 41,
     "metadata": {},
     "output_type": "execute_result"
    }
   ],
   "source": [
    "# tokenization\n",
    "from nltk.tokenize import word_tokenize\n",
    "data_ml['Review_clean'] = data_ml['Review_clean'].apply(word_tokenize) \n",
    "data_ml['Review_clean']"
   ]
  },
  {
   "cell_type": "code",
   "execution_count": 42,
   "id": "0cc3a150",
   "metadata": {},
   "outputs": [],
   "source": [
    "# stemming\n",
    "from nltk.stem.snowball import SnowballStemmer\n",
    "stemmer = SnowballStemmer('english')\n",
    "data_ml['Review_clean'] = data_ml['Review_clean'].apply(lambda x : [stemmer.stem(y) for y in x])"
   ]
  },
  {
   "cell_type": "code",
   "execution_count": 43,
   "id": "7a340148",
   "metadata": {},
   "outputs": [],
   "source": [
    "# lemmatization\n",
    "from nltk.stem import WordNetLemmatizer\n",
    "lemmatizer = WordNetLemmatizer()\n",
    "data_ml['Review_clean'] = data_ml['Review_clean'].apply(lambda lst:[lemmatizer.lemmatize(word) for word in lst])"
   ]
  },
  {
   "cell_type": "code",
   "execution_count": 44,
   "id": "efc8d4bb",
   "metadata": {
    "scrolled": true
   },
   "outputs": [
    {
     "data": {
      "text/html": [
       "<div>\n",
       "<style scoped>\n",
       "    .dataframe tbody tr th:only-of-type {\n",
       "        vertical-align: middle;\n",
       "    }\n",
       "\n",
       "    .dataframe tbody tr th {\n",
       "        vertical-align: top;\n",
       "    }\n",
       "\n",
       "    .dataframe thead th {\n",
       "        text-align: right;\n",
       "    }\n",
       "</style>\n",
       "<table border=\"1\" class=\"dataframe\">\n",
       "  <thead>\n",
       "    <tr style=\"text-align: right;\">\n",
       "      <th></th>\n",
       "      <th>school</th>\n",
       "      <th>overview</th>\n",
       "      <th>Course</th>\n",
       "      <th>Title</th>\n",
       "      <th>Review</th>\n",
       "      <th>Overall_rating</th>\n",
       "      <th>Instructors</th>\n",
       "      <th>Curriculum</th>\n",
       "      <th>Job Assistance</th>\n",
       "      <th>pros</th>\n",
       "      <th>cons</th>\n",
       "      <th>Website</th>\n",
       "      <th>polarity_re</th>\n",
       "      <th>subjective_re</th>\n",
       "      <th>Review_clean</th>\n",
       "    </tr>\n",
       "  </thead>\n",
       "  <tbody>\n",
       "    <tr>\n",
       "      <th>0</th>\n",
       "      <td>WeCloudData</td>\n",
       "      <td>4.8</td>\n",
       "      <td>NaN</td>\n",
       "      <td>Full Time DS Bootcamp Review</td>\n",
       "      <td>Overall a great program especially for career ...</td>\n",
       "      <td>100.0</td>\n",
       "      <td>80.0</td>\n",
       "      <td>100.0</td>\n",
       "      <td>60.0</td>\n",
       "      <td>- Knowledgeable and patient instructors and TA...</td>\n",
       "      <td>- Learning experience felt more individual rat...</td>\n",
       "      <td>CareerKarma</td>\n",
       "      <td>0.15000</td>\n",
       "      <td>0.40625</td>\n",
       "      <td>[overal, great, program, especi, career, switc...</td>\n",
       "    </tr>\n",
       "    <tr>\n",
       "      <th>1</th>\n",
       "      <td>WeCloudData</td>\n",
       "      <td>4.8</td>\n",
       "      <td>NaN</td>\n",
       "      <td>A good bootcamp! its worth to make the decision</td>\n",
       "      <td>I attended the data and business analytics boo...</td>\n",
       "      <td>100.0</td>\n",
       "      <td>100.0</td>\n",
       "      <td>100.0</td>\n",
       "      <td>100.0</td>\n",
       "      <td>Great support, nice tutor, practical content</td>\n",
       "      <td>Time were a bit tight to learn everything</td>\n",
       "      <td>CareerKarma</td>\n",
       "      <td>0.38500</td>\n",
       "      <td>0.58000</td>\n",
       "      <td>[attend, busi, analyt, earli, got, dream, job,...</td>\n",
       "    </tr>\n",
       "    <tr>\n",
       "      <th>2</th>\n",
       "      <td>WeCloudData</td>\n",
       "      <td>4.8</td>\n",
       "      <td>NaN</td>\n",
       "      <td>Best DS BootCamp in Canada</td>\n",
       "      <td>I arrived in Canada with a Bachelor's degree i...</td>\n",
       "      <td>100.0</td>\n",
       "      <td>100.0</td>\n",
       "      <td>100.0</td>\n",
       "      <td>100.0</td>\n",
       "      <td>Really straight forward wth projects that help...</td>\n",
       "      <td>Pretty Intense so it will be better if you are...</td>\n",
       "      <td>CareerKarma</td>\n",
       "      <td>0.16500</td>\n",
       "      <td>0.30000</td>\n",
       "      <td>[arriv, canada, bachelor, degre, industri, eng...</td>\n",
       "    </tr>\n",
       "    <tr>\n",
       "      <th>3</th>\n",
       "      <td>WeCloudData</td>\n",
       "      <td>4.8</td>\n",
       "      <td>NaN</td>\n",
       "      <td>Best DS in Canada</td>\n",
       "      <td>I arrived in Canada with a Bachelor's degree i...</td>\n",
       "      <td>100.0</td>\n",
       "      <td>100.0</td>\n",
       "      <td>100.0</td>\n",
       "      <td>100.0</td>\n",
       "      <td>Really straight forward, with projects that he...</td>\n",
       "      <td>Intense, So It will be better if you don't hav...</td>\n",
       "      <td>CareerKarma</td>\n",
       "      <td>0.16500</td>\n",
       "      <td>0.30000</td>\n",
       "      <td>[arriv, canada, bachelor, degre, industri, eng...</td>\n",
       "    </tr>\n",
       "    <tr>\n",
       "      <th>4</th>\n",
       "      <td>WeCloudData</td>\n",
       "      <td>4.8</td>\n",
       "      <td>NaN</td>\n",
       "      <td>Great program with helpful career guidance</td>\n",
       "      <td>I attended WeCloudData Applied BI program in 2...</td>\n",
       "      <td>100.0</td>\n",
       "      <td>100.0</td>\n",
       "      <td>80.0</td>\n",
       "      <td>100.0</td>\n",
       "      <td>Instructors/mentors/TAs are nice. My mentor Le...</td>\n",
       "      <td>A bit intensive or not that friendly for full ...</td>\n",
       "      <td>CareerKarma</td>\n",
       "      <td>0.26875</td>\n",
       "      <td>0.49375</td>\n",
       "      <td>[attend, appli, bi, program, jan, finish, earl...</td>\n",
       "    </tr>\n",
       "  </tbody>\n",
       "</table>\n",
       "</div>"
      ],
      "text/plain": [
       "        school overview Course  \\\n",
       "0  WeCloudData      4.8    NaN   \n",
       "1  WeCloudData      4.8    NaN   \n",
       "2  WeCloudData      4.8    NaN   \n",
       "3  WeCloudData      4.8    NaN   \n",
       "4  WeCloudData      4.8    NaN   \n",
       "\n",
       "                                             Title  \\\n",
       "0                     Full Time DS Bootcamp Review   \n",
       "1  A good bootcamp! its worth to make the decision   \n",
       "2                       Best DS BootCamp in Canada   \n",
       "3                                Best DS in Canada   \n",
       "4       Great program with helpful career guidance   \n",
       "\n",
       "                                              Review  Overall_rating  \\\n",
       "0  Overall a great program especially for career ...           100.0   \n",
       "1  I attended the data and business analytics boo...           100.0   \n",
       "2  I arrived in Canada with a Bachelor's degree i...           100.0   \n",
       "3  I arrived in Canada with a Bachelor's degree i...           100.0   \n",
       "4  I attended WeCloudData Applied BI program in 2...           100.0   \n",
       "\n",
       "   Instructors  Curriculum  Job Assistance  \\\n",
       "0         80.0       100.0            60.0   \n",
       "1        100.0       100.0           100.0   \n",
       "2        100.0       100.0           100.0   \n",
       "3        100.0       100.0           100.0   \n",
       "4        100.0        80.0           100.0   \n",
       "\n",
       "                                                pros  \\\n",
       "0  - Knowledgeable and patient instructors and TA...   \n",
       "1       Great support, nice tutor, practical content   \n",
       "2  Really straight forward wth projects that help...   \n",
       "3  Really straight forward, with projects that he...   \n",
       "4  Instructors/mentors/TAs are nice. My mentor Le...   \n",
       "\n",
       "                                                cons      Website  \\\n",
       "0  - Learning experience felt more individual rat...  CareerKarma   \n",
       "1          Time were a bit tight to learn everything  CareerKarma   \n",
       "2  Pretty Intense so it will be better if you are...  CareerKarma   \n",
       "3  Intense, So It will be better if you don't hav...  CareerKarma   \n",
       "4  A bit intensive or not that friendly for full ...  CareerKarma   \n",
       "\n",
       "   polarity_re  subjective_re  \\\n",
       "0      0.15000        0.40625   \n",
       "1      0.38500        0.58000   \n",
       "2      0.16500        0.30000   \n",
       "3      0.16500        0.30000   \n",
       "4      0.26875        0.49375   \n",
       "\n",
       "                                        Review_clean  \n",
       "0  [overal, great, program, especi, career, switc...  \n",
       "1  [attend, busi, analyt, earli, got, dream, job,...  \n",
       "2  [arriv, canada, bachelor, degre, industri, eng...  \n",
       "3  [arriv, canada, bachelor, degre, industri, eng...  \n",
       "4  [attend, appli, bi, program, jan, finish, earl...  "
      ]
     },
     "execution_count": 44,
     "metadata": {},
     "output_type": "execute_result"
    }
   ],
   "source": [
    "data_ml.head()"
   ]
  },
  {
   "cell_type": "code",
   "execution_count": 45,
   "id": "94b809a6",
   "metadata": {},
   "outputs": [],
   "source": [
    "data_ml.to_csv('data_ml.csv', index=False)"
   ]
  },
  {
   "cell_type": "markdown",
   "id": "2d0c0da4",
   "metadata": {},
   "source": [
    "## EDA analysis"
   ]
  },
  {
   "cell_type": "code",
   "execution_count": 46,
   "id": "7ade0aa7",
   "metadata": {},
   "outputs": [],
   "source": [
    "data_ml = pd.read_csv('data_ml.csv')"
   ]
  },
  {
   "cell_type": "code",
   "execution_count": 47,
   "id": "56aee473",
   "metadata": {},
   "outputs": [
    {
     "name": "stdout",
     "output_type": "stream",
     "text": [
      "<class 'pandas.core.frame.DataFrame'>\n",
      "RangeIndex: 9446 entries, 0 to 9445\n",
      "Data columns (total 15 columns):\n",
      " #   Column          Non-Null Count  Dtype  \n",
      "---  ------          --------------  -----  \n",
      " 0   school          9446 non-null   object \n",
      " 1   overview        2771 non-null   float64\n",
      " 2   Course          5430 non-null   object \n",
      " 3   Title           9446 non-null   object \n",
      " 4   Review          9446 non-null   object \n",
      " 5   Overall_rating  9446 non-null   float64\n",
      " 6   Instructors     9446 non-null   float64\n",
      " 7   Curriculum      9446 non-null   float64\n",
      " 8   Job Assistance  9446 non-null   float64\n",
      " 9   pros            2771 non-null   object \n",
      " 10  cons            2771 non-null   object \n",
      " 11  Website         9446 non-null   object \n",
      " 12  polarity_re     9446 non-null   float64\n",
      " 13  subjective_re   9446 non-null   float64\n",
      " 14  Review_clean    9446 non-null   object \n",
      "dtypes: float64(7), object(8)\n",
      "memory usage: 1.1+ MB\n"
     ]
    }
   ],
   "source": [
    "data_ml.info()"
   ]
  },
  {
   "cell_type": "code",
   "execution_count": 48,
   "id": "63839465",
   "metadata": {},
   "outputs": [],
   "source": [
    "data_ml['overview'] = data_ml['overview'].astype('float64')"
   ]
  },
  {
   "cell_type": "code",
   "execution_count": 49,
   "id": "5f38ed77",
   "metadata": {
    "scrolled": true
   },
   "outputs": [
    {
     "data": {
      "text/plain": [
       "94.43233489714905"
      ]
     },
     "execution_count": 49,
     "metadata": {},
     "output_type": "execute_result"
    }
   ],
   "source": [
    "data_ml['overview'].mean() * 20"
   ]
  },
  {
   "cell_type": "code",
   "execution_count": 50,
   "id": "dd4e9ed2",
   "metadata": {},
   "outputs": [
    {
     "data": {
      "text/plain": [
       "93.64556426000424"
      ]
     },
     "execution_count": 50,
     "metadata": {},
     "output_type": "execute_result"
    }
   ],
   "source": [
    "data_ml['Overall_rating'].mean()"
   ]
  },
  {
   "cell_type": "code",
   "execution_count": 51,
   "id": "25fb5635",
   "metadata": {
    "scrolled": true
   },
   "outputs": [],
   "source": [
    "data_ml = data_ml.drop('overview',axis=1)"
   ]
  },
  {
   "cell_type": "code",
   "execution_count": 52,
   "id": "6c02f2d9",
   "metadata": {
    "scrolled": true
   },
   "outputs": [
    {
     "data": {
      "text/html": [
       "<div>\n",
       "<style scoped>\n",
       "    .dataframe tbody tr th:only-of-type {\n",
       "        vertical-align: middle;\n",
       "    }\n",
       "\n",
       "    .dataframe tbody tr th {\n",
       "        vertical-align: top;\n",
       "    }\n",
       "\n",
       "    .dataframe thead th {\n",
       "        text-align: right;\n",
       "    }\n",
       "</style>\n",
       "<table border=\"1\" class=\"dataframe\">\n",
       "  <thead>\n",
       "    <tr style=\"text-align: right;\">\n",
       "      <th></th>\n",
       "      <th>school</th>\n",
       "      <th>Course</th>\n",
       "      <th>Title</th>\n",
       "      <th>Review</th>\n",
       "      <th>Overall_rating</th>\n",
       "      <th>Instructors</th>\n",
       "      <th>Curriculum</th>\n",
       "      <th>Job Assistance</th>\n",
       "      <th>pros</th>\n",
       "      <th>cons</th>\n",
       "      <th>Website</th>\n",
       "      <th>polarity_re</th>\n",
       "      <th>subjective_re</th>\n",
       "      <th>Review_clean</th>\n",
       "    </tr>\n",
       "  </thead>\n",
       "  <tbody>\n",
       "    <tr>\n",
       "      <th>0</th>\n",
       "      <td>WeCloudData</td>\n",
       "      <td>NaN</td>\n",
       "      <td>Full Time DS Bootcamp Review</td>\n",
       "      <td>Overall a great program especially for career ...</td>\n",
       "      <td>100.0</td>\n",
       "      <td>80.0</td>\n",
       "      <td>100.0</td>\n",
       "      <td>60.0</td>\n",
       "      <td>- Knowledgeable and patient instructors and TA...</td>\n",
       "      <td>- Learning experience felt more individual rat...</td>\n",
       "      <td>CareerKarma</td>\n",
       "      <td>0.15000</td>\n",
       "      <td>0.40625</td>\n",
       "      <td>['overal', 'great', 'program', 'especi', 'care...</td>\n",
       "    </tr>\n",
       "    <tr>\n",
       "      <th>1</th>\n",
       "      <td>WeCloudData</td>\n",
       "      <td>NaN</td>\n",
       "      <td>A good bootcamp! its worth to make the decision</td>\n",
       "      <td>I attended the data and business analytics boo...</td>\n",
       "      <td>100.0</td>\n",
       "      <td>100.0</td>\n",
       "      <td>100.0</td>\n",
       "      <td>100.0</td>\n",
       "      <td>Great support, nice tutor, practical content</td>\n",
       "      <td>Time were a bit tight to learn everything</td>\n",
       "      <td>CareerKarma</td>\n",
       "      <td>0.38500</td>\n",
       "      <td>0.58000</td>\n",
       "      <td>['attend', 'busi', 'analyt', 'earli', 'got', '...</td>\n",
       "    </tr>\n",
       "    <tr>\n",
       "      <th>2</th>\n",
       "      <td>WeCloudData</td>\n",
       "      <td>NaN</td>\n",
       "      <td>Best DS BootCamp in Canada</td>\n",
       "      <td>I arrived in Canada with a Bachelor's degree i...</td>\n",
       "      <td>100.0</td>\n",
       "      <td>100.0</td>\n",
       "      <td>100.0</td>\n",
       "      <td>100.0</td>\n",
       "      <td>Really straight forward wth projects that help...</td>\n",
       "      <td>Pretty Intense so it will be better if you are...</td>\n",
       "      <td>CareerKarma</td>\n",
       "      <td>0.16500</td>\n",
       "      <td>0.30000</td>\n",
       "      <td>['arriv', 'canada', 'bachelor', 'degre', 'indu...</td>\n",
       "    </tr>\n",
       "    <tr>\n",
       "      <th>3</th>\n",
       "      <td>WeCloudData</td>\n",
       "      <td>NaN</td>\n",
       "      <td>Best DS in Canada</td>\n",
       "      <td>I arrived in Canada with a Bachelor's degree i...</td>\n",
       "      <td>100.0</td>\n",
       "      <td>100.0</td>\n",
       "      <td>100.0</td>\n",
       "      <td>100.0</td>\n",
       "      <td>Really straight forward, with projects that he...</td>\n",
       "      <td>Intense, So It will be better if you don't hav...</td>\n",
       "      <td>CareerKarma</td>\n",
       "      <td>0.16500</td>\n",
       "      <td>0.30000</td>\n",
       "      <td>['arriv', 'canada', 'bachelor', 'degre', 'indu...</td>\n",
       "    </tr>\n",
       "    <tr>\n",
       "      <th>4</th>\n",
       "      <td>WeCloudData</td>\n",
       "      <td>NaN</td>\n",
       "      <td>Great program with helpful career guidance</td>\n",
       "      <td>I attended WeCloudData Applied BI program in 2...</td>\n",
       "      <td>100.0</td>\n",
       "      <td>100.0</td>\n",
       "      <td>80.0</td>\n",
       "      <td>100.0</td>\n",
       "      <td>Instructors/mentors/TAs are nice. My mentor Le...</td>\n",
       "      <td>A bit intensive or not that friendly for full ...</td>\n",
       "      <td>CareerKarma</td>\n",
       "      <td>0.26875</td>\n",
       "      <td>0.49375</td>\n",
       "      <td>['attend', 'appli', 'bi', 'program', 'jan', 'f...</td>\n",
       "    </tr>\n",
       "  </tbody>\n",
       "</table>\n",
       "</div>"
      ],
      "text/plain": [
       "        school Course                                            Title  \\\n",
       "0  WeCloudData    NaN                     Full Time DS Bootcamp Review   \n",
       "1  WeCloudData    NaN  A good bootcamp! its worth to make the decision   \n",
       "2  WeCloudData    NaN                       Best DS BootCamp in Canada   \n",
       "3  WeCloudData    NaN                                Best DS in Canada   \n",
       "4  WeCloudData    NaN       Great program with helpful career guidance   \n",
       "\n",
       "                                              Review  Overall_rating  \\\n",
       "0  Overall a great program especially for career ...           100.0   \n",
       "1  I attended the data and business analytics boo...           100.0   \n",
       "2  I arrived in Canada with a Bachelor's degree i...           100.0   \n",
       "3  I arrived in Canada with a Bachelor's degree i...           100.0   \n",
       "4  I attended WeCloudData Applied BI program in 2...           100.0   \n",
       "\n",
       "   Instructors  Curriculum  Job Assistance  \\\n",
       "0         80.0       100.0            60.0   \n",
       "1        100.0       100.0           100.0   \n",
       "2        100.0       100.0           100.0   \n",
       "3        100.0       100.0           100.0   \n",
       "4        100.0        80.0           100.0   \n",
       "\n",
       "                                                pros  \\\n",
       "0  - Knowledgeable and patient instructors and TA...   \n",
       "1       Great support, nice tutor, practical content   \n",
       "2  Really straight forward wth projects that help...   \n",
       "3  Really straight forward, with projects that he...   \n",
       "4  Instructors/mentors/TAs are nice. My mentor Le...   \n",
       "\n",
       "                                                cons      Website  \\\n",
       "0  - Learning experience felt more individual rat...  CareerKarma   \n",
       "1          Time were a bit tight to learn everything  CareerKarma   \n",
       "2  Pretty Intense so it will be better if you are...  CareerKarma   \n",
       "3  Intense, So It will be better if you don't hav...  CareerKarma   \n",
       "4  A bit intensive or not that friendly for full ...  CareerKarma   \n",
       "\n",
       "   polarity_re  subjective_re  \\\n",
       "0      0.15000        0.40625   \n",
       "1      0.38500        0.58000   \n",
       "2      0.16500        0.30000   \n",
       "3      0.16500        0.30000   \n",
       "4      0.26875        0.49375   \n",
       "\n",
       "                                        Review_clean  \n",
       "0  ['overal', 'great', 'program', 'especi', 'care...  \n",
       "1  ['attend', 'busi', 'analyt', 'earli', 'got', '...  \n",
       "2  ['arriv', 'canada', 'bachelor', 'degre', 'indu...  \n",
       "3  ['arriv', 'canada', 'bachelor', 'degre', 'indu...  \n",
       "4  ['attend', 'appli', 'bi', 'program', 'jan', 'f...  "
      ]
     },
     "execution_count": 52,
     "metadata": {},
     "output_type": "execute_result"
    }
   ],
   "source": [
    "data_ml.head()"
   ]
  },
  {
   "cell_type": "code",
   "execution_count": 53,
   "id": "f7a17b43",
   "metadata": {
    "scrolled": true
   },
   "outputs": [
    {
     "data": {
      "image/png": "[encoded data removed]",
      "text/plain": [
       "<Figure size 640x480 with 1 Axes>"
      ]
     },
     "metadata": {},
     "output_type": "display_data"
    }
   ],
   "source": [
    "data_ml['school'].value_counts(normalize=True).plot(kind='bar')\n",
    "plt.title('school distribution');"
   ]
  },
  {
   "cell_type": "code",
   "execution_count": 54,
   "id": "e75d314d",
   "metadata": {
    "scrolled": true
   },
   "outputs": [
    {
     "data": {
      "image/png": "[encoded data removed]",
      "text/plain": [
       "<Figure size 640x480 with 1 Axes>"
      ]
     },
     "metadata": {},
     "output_type": "display_data"
    }
   ],
   "source": [
    "data_ml['Course'].value_counts(normalize=True).nlargest(10).plot(kind='bar')\n",
    "plt.title('Course distribution');"
   ]
  },
  {
   "cell_type": "code",
   "execution_count": 55,
   "id": "c7ed6813",
   "metadata": {
    "scrolled": true
   },
   "outputs": [
    {
     "data": {
      "image/png": "[encoded data removed]",
      "text/plain": [
       "<Figure size 640x480 with 1 Axes>"
      ]
     },
     "metadata": {},
     "output_type": "display_data"
    }
   ],
   "source": [
    "# school vs overall_rating\n",
    "data_ml.groupby(data_ml['school'])[['Overall_rating', 'Instructors','Curriculum', 'Job Assistance']].mean().plot(kind = 'bar')\n",
    "plt.title('school vs rating');"
   ]
  },
  {
   "cell_type": "markdown",
   "id": "195ee857",
   "metadata": {},
   "source": [
    "## Model development"
   ]
  },
  {
   "cell_type": "markdown",
   "id": "9d5ba579",
   "metadata": {},
   "source": [
    "1. use data from Coursecompare and Switchup as train and test data, predict course title in CareerKarma\n",
    "2. use data from CareerKarma as train and test data, predict pros and cons for Coursecompare and Switchup"
   ]
  },
  {
   "cell_type": "markdown",
   "id": "46d50a6f",
   "metadata": {},
   "source": [
    "### Model for Course/Program"
   ]
  },
  {
   "cell_type": "code",
   "execution_count": 56,
   "id": "85399342",
   "metadata": {},
   "outputs": [
    {
     "data": {
      "text/plain": [
       "['school',\n",
       " 'Course',\n",
       " 'Title',\n",
       " 'Review',\n",
       " 'Overall_rating',\n",
       " 'Instructors',\n",
       " 'Curriculum',\n",
       " 'Job Assistance',\n",
       " 'pros',\n",
       " 'cons',\n",
       " 'Website',\n",
       " 'polarity_re',\n",
       " 'subjective_re',\n",
       " 'Review_clean']"
      ]
     },
     "execution_count": 56,
     "metadata": {},
     "output_type": "execute_result"
    }
   ],
   "source": [
    "data_ml.columns.tolist()"
   ]
  },
  {
   "cell_type": "code",
   "execution_count": 57,
   "id": "d8061643",
   "metadata": {},
   "outputs": [],
   "source": [
    "data_course = data_ml[['Title', 'Review', 'Course']].copy()"
   ]
  },
  {
   "cell_type": "code",
   "execution_count": 58,
   "id": "70eb0484",
   "metadata": {
    "scrolled": true
   },
   "outputs": [
    {
     "data": {
      "text/html": [
       "<div>\n",
       "<style scoped>\n",
       "    .dataframe tbody tr th:only-of-type {\n",
       "        vertical-align: middle;\n",
       "    }\n",
       "\n",
       "    .dataframe tbody tr th {\n",
       "        vertical-align: top;\n",
       "    }\n",
       "\n",
       "    .dataframe thead th {\n",
       "        text-align: right;\n",
       "    }\n",
       "</style>\n",
       "<table border=\"1\" class=\"dataframe\">\n",
       "  <thead>\n",
       "    <tr style=\"text-align: right;\">\n",
       "      <th></th>\n",
       "      <th>Title</th>\n",
       "      <th>Review</th>\n",
       "      <th>Course</th>\n",
       "    </tr>\n",
       "  </thead>\n",
       "  <tbody>\n",
       "    <tr>\n",
       "      <th>0</th>\n",
       "      <td>Full Time DS Bootcamp Review</td>\n",
       "      <td>Overall a great program especially for career ...</td>\n",
       "      <td>NaN</td>\n",
       "    </tr>\n",
       "    <tr>\n",
       "      <th>1</th>\n",
       "      <td>A good bootcamp! its worth to make the decision</td>\n",
       "      <td>I attended the data and business analytics boo...</td>\n",
       "      <td>NaN</td>\n",
       "    </tr>\n",
       "    <tr>\n",
       "      <th>2</th>\n",
       "      <td>Best DS BootCamp in Canada</td>\n",
       "      <td>I arrived in Canada with a Bachelor's degree i...</td>\n",
       "      <td>NaN</td>\n",
       "    </tr>\n",
       "    <tr>\n",
       "      <th>3</th>\n",
       "      <td>Best DS in Canada</td>\n",
       "      <td>I arrived in Canada with a Bachelor's degree i...</td>\n",
       "      <td>NaN</td>\n",
       "    </tr>\n",
       "    <tr>\n",
       "      <th>4</th>\n",
       "      <td>Great program with helpful career guidance</td>\n",
       "      <td>I attended WeCloudData Applied BI program in 2...</td>\n",
       "      <td>NaN</td>\n",
       "    </tr>\n",
       "  </tbody>\n",
       "</table>\n",
       "</div>"
      ],
      "text/plain": [
       "                                             Title  \\\n",
       "0                     Full Time DS Bootcamp Review   \n",
       "1  A good bootcamp! its worth to make the decision   \n",
       "2                       Best DS BootCamp in Canada   \n",
       "3                                Best DS in Canada   \n",
       "4       Great program with helpful career guidance   \n",
       "\n",
       "                                              Review Course  \n",
       "0  Overall a great program especially for career ...    NaN  \n",
       "1  I attended the data and business analytics boo...    NaN  \n",
       "2  I arrived in Canada with a Bachelor's degree i...    NaN  \n",
       "3  I arrived in Canada with a Bachelor's degree i...    NaN  \n",
       "4  I attended WeCloudData Applied BI program in 2...    NaN  "
      ]
     },
     "execution_count": 58,
     "metadata": {},
     "output_type": "execute_result"
    }
   ],
   "source": [
    "data_course.head()"
   ]
  },
  {
   "cell_type": "code",
   "execution_count": 59,
   "id": "a511545b",
   "metadata": {},
   "outputs": [],
   "source": [
    "data_course.to_csv('data_course.csv', index=False)"
   ]
  },
  {
   "cell_type": "markdown",
   "id": "f9ffd882",
   "metadata": {},
   "source": [
    "#### NLP processing"
   ]
  },
  {
   "cell_type": "code",
   "execution_count": 60,
   "id": "a724c39f",
   "metadata": {
    "scrolled": true
   },
   "outputs": [
    {
     "data": {
      "text/html": [
       "<div>\n",
       "<style scoped>\n",
       "    .dataframe tbody tr th:only-of-type {\n",
       "        vertical-align: middle;\n",
       "    }\n",
       "\n",
       "    .dataframe tbody tr th {\n",
       "        vertical-align: top;\n",
       "    }\n",
       "\n",
       "    .dataframe thead th {\n",
       "        text-align: right;\n",
       "    }\n",
       "</style>\n",
       "<table border=\"1\" class=\"dataframe\">\n",
       "  <thead>\n",
       "    <tr style=\"text-align: right;\">\n",
       "      <th></th>\n",
       "      <th>Title</th>\n",
       "      <th>Review</th>\n",
       "      <th>Course</th>\n",
       "    </tr>\n",
       "  </thead>\n",
       "  <tbody>\n",
       "    <tr>\n",
       "      <th>0</th>\n",
       "      <td>Full Time DS Bootcamp Review</td>\n",
       "      <td>Overall a great program especially for career ...</td>\n",
       "      <td>NaN</td>\n",
       "    </tr>\n",
       "    <tr>\n",
       "      <th>1</th>\n",
       "      <td>A good bootcamp! its worth to make the decision</td>\n",
       "      <td>I attended the data and business analytics boo...</td>\n",
       "      <td>NaN</td>\n",
       "    </tr>\n",
       "    <tr>\n",
       "      <th>2</th>\n",
       "      <td>Best DS BootCamp in Canada</td>\n",
       "      <td>I arrived in Canada with a Bachelor's degree i...</td>\n",
       "      <td>NaN</td>\n",
       "    </tr>\n",
       "    <tr>\n",
       "      <th>3</th>\n",
       "      <td>Best DS in Canada</td>\n",
       "      <td>I arrived in Canada with a Bachelor's degree i...</td>\n",
       "      <td>NaN</td>\n",
       "    </tr>\n",
       "    <tr>\n",
       "      <th>4</th>\n",
       "      <td>Great program with helpful career guidance</td>\n",
       "      <td>I attended WeCloudData Applied BI program in 2...</td>\n",
       "      <td>NaN</td>\n",
       "    </tr>\n",
       "    <tr>\n",
       "      <th>...</th>\n",
       "      <td>...</td>\n",
       "      <td>...</td>\n",
       "      <td>...</td>\n",
       "    </tr>\n",
       "    <tr>\n",
       "      <th>9441</th>\n",
       "      <td>\"I entered \"le Wagon\" program et I and found a...</td>\n",
       "      <td>Put simply: I knew nothing about development 5...</td>\n",
       "      <td>NaN</td>\n",
       "    </tr>\n",
       "    <tr>\n",
       "      <th>9442</th>\n",
       "      <td>\"9 very intensive weeks and I recommend it to ...</td>\n",
       "      <td>The training exceeded my expectations:- Master...</td>\n",
       "      <td>NaN</td>\n",
       "    </tr>\n",
       "    <tr>\n",
       "      <th>9443</th>\n",
       "      <td>\"Le Wagon\"</td>\n",
       "      <td>I attended the 10-week bootcamp by Le Wagon in...</td>\n",
       "      <td>NaN</td>\n",
       "    </tr>\n",
       "    <tr>\n",
       "      <th>9444</th>\n",
       "      <td>\"From zero to a developer job in 9 weeks.\"</td>\n",
       "      <td>I entered \"le Wagon\" program after being gradu...</td>\n",
       "      <td>NaN</td>\n",
       "    </tr>\n",
       "    <tr>\n",
       "      <th>9445</th>\n",
       "      <td>\"best training ever\"</td>\n",
       "      <td>I strongly recommend this bootcamp :-the team ...</td>\n",
       "      <td>NaN</td>\n",
       "    </tr>\n",
       "  </tbody>\n",
       "</table>\n",
       "<p>9446 rows × 3 columns</p>\n",
       "</div>"
      ],
      "text/plain": [
       "                                                  Title  \\\n",
       "0                          Full Time DS Bootcamp Review   \n",
       "1       A good bootcamp! its worth to make the decision   \n",
       "2                            Best DS BootCamp in Canada   \n",
       "3                                     Best DS in Canada   \n",
       "4            Great program with helpful career guidance   \n",
       "...                                                 ...   \n",
       "9441  \"I entered \"le Wagon\" program et I and found a...   \n",
       "9442  \"9 very intensive weeks and I recommend it to ...   \n",
       "9443                                         \"Le Wagon\"   \n",
       "9444         \"From zero to a developer job in 9 weeks.\"   \n",
       "9445                               \"best training ever\"   \n",
       "\n",
       "                                                 Review Course  \n",
       "0     Overall a great program especially for career ...    NaN  \n",
       "1     I attended the data and business analytics boo...    NaN  \n",
       "2     I arrived in Canada with a Bachelor's degree i...    NaN  \n",
       "3     I arrived in Canada with a Bachelor's degree i...    NaN  \n",
       "4     I attended WeCloudData Applied BI program in 2...    NaN  \n",
       "...                                                 ...    ...  \n",
       "9441  Put simply: I knew nothing about development 5...    NaN  \n",
       "9442  The training exceeded my expectations:- Master...    NaN  \n",
       "9443  I attended the 10-week bootcamp by Le Wagon in...    NaN  \n",
       "9444  I entered \"le Wagon\" program after being gradu...    NaN  \n",
       "9445  I strongly recommend this bootcamp :-the team ...    NaN  \n",
       "\n",
       "[9446 rows x 3 columns]"
      ]
     },
     "execution_count": 60,
     "metadata": {},
     "output_type": "execute_result"
    }
   ],
   "source": [
    "data_course = pd.read_csv('data_course.csv')\n",
    "data_course"
   ]
  },
  {
   "cell_type": "code",
   "execution_count": 61,
   "id": "a6236f99",
   "metadata": {
    "scrolled": true
   },
   "outputs": [
    {
     "data": {
      "text/html": [
       "<div>\n",
       "<style scoped>\n",
       "    .dataframe tbody tr th:only-of-type {\n",
       "        vertical-align: middle;\n",
       "    }\n",
       "\n",
       "    .dataframe tbody tr th {\n",
       "        vertical-align: top;\n",
       "    }\n",
       "\n",
       "    .dataframe thead th {\n",
       "        text-align: right;\n",
       "    }\n",
       "</style>\n",
       "<table border=\"1\" class=\"dataframe\">\n",
       "  <thead>\n",
       "    <tr style=\"text-align: right;\">\n",
       "      <th></th>\n",
       "      <th>Title</th>\n",
       "      <th>Review</th>\n",
       "      <th>Course</th>\n",
       "    </tr>\n",
       "  </thead>\n",
       "  <tbody>\n",
       "    <tr>\n",
       "      <th>2771</th>\n",
       "      <td>Great way to enter into the world of Data Anal...</td>\n",
       "      <td>I had a great experience with the Business Int...</td>\n",
       "      <td>Applied Business Intelligence Certificate</td>\n",
       "    </tr>\n",
       "    <tr>\n",
       "      <th>2772</th>\n",
       "      <td>A boost for your smooth career switch</td>\n",
       "      <td>I became familiar with WCD in early January 20...</td>\n",
       "      <td>Data Science Bootcamp</td>\n",
       "    </tr>\n",
       "    <tr>\n",
       "      <th>2773</th>\n",
       "      <td>Great Experience</td>\n",
       "      <td>I had a great experience. I liked the instruct...</td>\n",
       "      <td>Data Science Bootcamp</td>\n",
       "    </tr>\n",
       "    <tr>\n",
       "      <th>2774</th>\n",
       "      <td>Great Experience</td>\n",
       "      <td>I had the pleasure to share this experience wi...</td>\n",
       "      <td>Applied Business Intelligence Certificate</td>\n",
       "    </tr>\n",
       "    <tr>\n",
       "      <th>2775</th>\n",
       "      <td>Great data analytics program</td>\n",
       "      <td>Definitely one of the best data analyst progra...</td>\n",
       "      <td>Applied Business Intelligence Certificate</td>\n",
       "    </tr>\n",
       "    <tr>\n",
       "      <th>...</th>\n",
       "      <td>...</td>\n",
       "      <td>...</td>\n",
       "      <td>...</td>\n",
       "    </tr>\n",
       "    <tr>\n",
       "      <th>9386</th>\n",
       "      <td>\"A transformational experience!\"</td>\n",
       "      <td>I would definitely recommend Le Wagon Brussels...</td>\n",
       "      <td>FullStack program - 35+ locations</td>\n",
       "    </tr>\n",
       "    <tr>\n",
       "      <th>9387</th>\n",
       "      <td>\"A real game changer!\"</td>\n",
       "      <td>## How I joined Le WagonI first heard about Le...</td>\n",
       "      <td>FullStack program - 35+ locations</td>\n",
       "    </tr>\n",
       "    <tr>\n",
       "      <th>9390</th>\n",
       "      <td>\"I have just graduated from Le Wagon this mont...</td>\n",
       "      <td>I was a consultant for three years and always ...</td>\n",
       "      <td>FullStack program - 35+ locations</td>\n",
       "    </tr>\n",
       "    <tr>\n",
       "      <th>9406</th>\n",
       "      <td>\"Amazing experience\"</td>\n",
       "      <td>Before Le WagonBefore I started the Le Wagon B...</td>\n",
       "      <td>FullStack program - 35+ locations</td>\n",
       "    </tr>\n",
       "    <tr>\n",
       "      <th>9411</th>\n",
       "      <td>\"An Experience that goes beyond the 9 weeks\"</td>\n",
       "      <td>I was a student at Lewagon (batch #6) and then...</td>\n",
       "      <td>FullStack program - 35+ locations</td>\n",
       "    </tr>\n",
       "  </tbody>\n",
       "</table>\n",
       "<p>5430 rows × 3 columns</p>\n",
       "</div>"
      ],
      "text/plain": [
       "                                                  Title  \\\n",
       "2771  Great way to enter into the world of Data Anal...   \n",
       "2772              A boost for your smooth career switch   \n",
       "2773                                   Great Experience   \n",
       "2774                                   Great Experience   \n",
       "2775                       Great data analytics program   \n",
       "...                                                 ...   \n",
       "9386                   \"A transformational experience!\"   \n",
       "9387                             \"A real game changer!\"   \n",
       "9390  \"I have just graduated from Le Wagon this mont...   \n",
       "9406                               \"Amazing experience\"   \n",
       "9411       \"An Experience that goes beyond the 9 weeks\"   \n",
       "\n",
       "                                                 Review  \\\n",
       "2771  I had a great experience with the Business Int...   \n",
       "2772  I became familiar with WCD in early January 20...   \n",
       "2773  I had a great experience. I liked the instruct...   \n",
       "2774  I had the pleasure to share this experience wi...   \n",
       "2775  Definitely one of the best data analyst progra...   \n",
       "...                                                 ...   \n",
       "9386  I would definitely recommend Le Wagon Brussels...   \n",
       "9387  ## How I joined Le WagonI first heard about Le...   \n",
       "9390  I was a consultant for three years and always ...   \n",
       "9406  Before Le WagonBefore I started the Le Wagon B...   \n",
       "9411  I was a student at Lewagon (batch #6) and then...   \n",
       "\n",
       "                                         Course  \n",
       "2771  Applied Business Intelligence Certificate  \n",
       "2772                      Data Science Bootcamp  \n",
       "2773                      Data Science Bootcamp  \n",
       "2774  Applied Business Intelligence Certificate  \n",
       "2775  Applied Business Intelligence Certificate  \n",
       "...                                         ...  \n",
       "9386          FullStack program - 35+ locations  \n",
       "9387          FullStack program - 35+ locations  \n",
       "9390          FullStack program - 35+ locations  \n",
       "9406          FullStack program - 35+ locations  \n",
       "9411          FullStack program - 35+ locations  \n",
       "\n",
       "[5430 rows x 3 columns]"
      ]
     },
     "execution_count": 61,
     "metadata": {},
     "output_type": "execute_result"
    }
   ],
   "source": [
    "data_course = data_course.dropna()\n",
    "data_course"
   ]
  },
  {
   "cell_type": "code",
   "execution_count": 62,
   "id": "7bb7f99f",
   "metadata": {},
   "outputs": [
    {
     "name": "stdout",
     "output_type": "stream",
     "text": [
      "Cluster 0:\n",
      "2869           Data Analytics\n",
      "2874    Data Analytics Online\n",
      "2881    Data Analytics Online\n",
      "2884    Data Analytics Online\n",
      "2893    Data Analytics Online\n",
      "                ...          \n",
      "6944           Data Analytics\n",
      "6957           Data Analytics\n",
      "6973           Data Analytics\n",
      "6990           Data Analytics\n",
      "7018           Data Analytics\n",
      "Name: Course, Length: 285, dtype: object\n",
      "\n",
      "Cluster 1:\n",
      "7904                    FullStack program\n",
      "7905                    FullStack program\n",
      "7906                    FullStack program\n",
      "7907                    FullStack program\n",
      "7908                    FullStack program\n",
      "                      ...                \n",
      "9386    FullStack program - 35+ locations\n",
      "9387    FullStack program - 35+ locations\n",
      "9390    FullStack program - 35+ locations\n",
      "9406    FullStack program - 35+ locations\n",
      "9411    FullStack program - 35+ locations\n",
      "Name: Course, Length: 1345, dtype: object\n",
      "\n",
      "Cluster 2:\n",
      "2843    Online User Experience Design Diploma\n",
      "2853                    User Interface Design\n",
      "2859                   User Experience Design\n",
      "2865            User Experience Design Online\n",
      "2878                   User Experience Design\n",
      "                        ...                  \n",
      "7133         User Experience Design Immersive\n",
      "7150         User Experience Design Immersive\n",
      "7159         User Experience Design Immersive\n",
      "7164         User Experience Design Immersive\n",
      "7166         User Experience Design Immersive\n",
      "Name: Course, Length: 309, dtype: object\n",
      "\n",
      "Cluster 3:\n",
      "4930    Software Engineering Career Track Prep\n",
      "4942         Software Engineering Career Track\n",
      "4946         Software Engineering Career Track\n",
      "4950         Software Engineering Career Track\n",
      "4953         Software Engineering Career Track\n",
      "                         ...                  \n",
      "7167            Software Engineering Immersive\n",
      "7169            Software Engineering Immersive\n",
      "7173            Software Engineering Immersive\n",
      "7174            Software Engineering Immersive\n",
      "7178            Software Engineering Immersive\n",
      "Name: Course, Length: 256, dtype: object\n",
      "\n",
      "Cluster 4:\n",
      "2772       Data Science Bootcamp\n",
      "2773       Data Science Bootcamp\n",
      "2776       Data Science Bootcamp\n",
      "2779       Data Science Bootcamp\n",
      "2780       Data Science Bootcamp\n",
      "                  ...           \n",
      "7796    Data Science - Full-Time\n",
      "7818    Data Science - Full-Time\n",
      "7830    Data Science - Full-Time\n",
      "7845    Data Science - Full-Time\n",
      "7848    Data Science - Full-Time\n",
      "Name: Course, Length: 920, dtype: object\n",
      "\n",
      "Cluster 5:\n",
      "2771    Applied Business Intelligence Certificate\n",
      "2774    Applied Business Intelligence Certificate\n",
      "2775    Applied Business Intelligence Certificate\n",
      "2777    Applied Business Intelligence Certificate\n",
      "2778                    Data Engineering Bootcamp\n",
      "                          ...                    \n",
      "7126                    Front-End Web Development\n",
      "7151                    Front-End Web Development\n",
      "7153                    Front-End Web Development\n",
      "7156                    Front-End Web Development\n",
      "7160                           Product Management\n",
      "Name: Course, Length: 806, dtype: object\n",
      "\n",
      "Cluster 6:\n",
      "2857                 Web Development\n",
      "2890                 Web Development\n",
      "2946                 Web Development\n",
      "2962                 Web Development\n",
      "2996                 Web Development\n",
      "                    ...             \n",
      "7899    Web Development  - Full-Time\n",
      "7900    Web Development  - Full-Time\n",
      "7901    Web Development  - Full-Time\n",
      "7902    Web Development  - Full-Time\n",
      "7903    Web Development  - Full-Time\n",
      "Name: Course, Length: 645, dtype: object\n",
      "\n",
      "Cluster 7:\n",
      "3051       UX & Product Design\n",
      "3089    UX Design Fundamentals\n",
      "3100    UX Design Fundamentals\n",
      "3108    UX Design Fundamentals\n",
      "3109        Advanced UX Design\n",
      "                 ...          \n",
      "6201                 UX Design\n",
      "6202                 UX Design\n",
      "6203                 UX Design\n",
      "6204                 UX Design\n",
      "6205                 UX Design\n",
      "Name: Course, Length: 504, dtype: object\n",
      "\n",
      "Cluster 8:\n",
      "2839    Digital Marketing Diploma\n",
      "2854     Digital Marketing Online\n",
      "2856            Digital Marketing\n",
      "2858    Digital Marketing Diploma\n",
      "2871            Digital Marketing\n",
      "                  ...            \n",
      "7025            Digital Marketing\n",
      "7105            Digital Marketing\n",
      "7152            Digital Marketing\n",
      "7154            Digital Marketing\n",
      "7155            Digital Marketing\n",
      "Name: Course, Length: 179, dtype: object\n",
      "\n",
      "Cluster 9:\n",
      "3599    12-Week Data Science Bootcamp\n",
      "3600    12-Week Data Science Bootcamp\n",
      "3601    12-Week Data Science Bootcamp\n",
      "3602    12-Week Data Science Bootcamp\n",
      "3603    12-Week Data Science Bootcamp\n",
      "                    ...              \n",
      "3868    12-Week Data Science Bootcamp\n",
      "3869    12-Week Data Science Bootcamp\n",
      "3871    12-Week Data Science Bootcamp\n",
      "3876    12-Week Data Science Bootcamp\n",
      "3878    12-Week Data Science Bootcamp\n",
      "Name: Course, Length: 181, dtype: object\n",
      "\n"
     ]
    }
   ],
   "source": [
    "from sklearn.cluster import KMeans\n",
    "from sklearn.feature_extraction.text import TfidfVectorizer\n",
    "\n",
    "# Define a function to clean and standardize the course names\n",
    "def clean_course_name(course_name):\n",
    "    # Replace any non-alphanumeric characters with spaces\n",
    "    course_name = ''.join(c if c.isalnum() else ' ' for c in course_name)\n",
    "    # Convert to lowercase\n",
    "    course_name = course_name.lower()\n",
    "    # Remove leading/trailing whitespace\n",
    "    course_name = course_name.strip()\n",
    "    # Replace multiple spaces with a single space\n",
    "    course_name = ' '.join(course_name.split())\n",
    "    return course_name\n",
    "\n",
    "# Load your DataFrame with course names\n",
    "data_course = pd.read_csv('data_course.csv').dropna()\n",
    "\n",
    "# Apply the cleaning function to the 'Course' column of the DataFrame\n",
    "data_course['Course_clean'] = data_course['Course'].apply(clean_course_name)\n",
    "\n",
    "# Use a vectorizer to convert the cleaned course names into feature vectors\n",
    "vectorizer = TfidfVectorizer()\n",
    "X = vectorizer.fit_transform(data_course['Course_clean'])\n",
    "\n",
    "# Use KMeans clustering to group the course names into clusters\n",
    "kmeans = KMeans(n_clusters=10, n_init = 10, random_state=42)\n",
    "kmeans.fit(X)\n",
    "\n",
    "# Assign the cluster labels back to the DataFrame\n",
    "data_course['Cluster'] = kmeans.labels_\n",
    "\n",
    "# Print the clusters and their courses\n",
    "for cluster_id in range(kmeans.n_clusters):\n",
    "    print(f\"Cluster {cluster_id}:\")\n",
    "    print(data_course.loc[data_course['Cluster'] == cluster_id, 'Course'])\n",
    "    print()"
   ]
  },
  {
   "cell_type": "code",
   "execution_count": 63,
   "id": "a8d5cbd8",
   "metadata": {},
   "outputs": [
    {
     "name": "stdout",
     "output_type": "stream",
     "text": [
      "<class 'pandas.core.frame.DataFrame'>\n",
      "Int64Index: 5430 entries, 2771 to 9411\n",
      "Data columns (total 5 columns):\n",
      " #   Column        Non-Null Count  Dtype \n",
      "---  ------        --------------  ----- \n",
      " 0   Title         5430 non-null   object\n",
      " 1   Review        5430 non-null   object\n",
      " 2   Course        5430 non-null   object\n",
      " 3   Course_clean  5430 non-null   object\n",
      " 4   Cluster       5430 non-null   int32 \n",
      "dtypes: int32(1), object(4)\n",
      "memory usage: 233.3+ KB\n"
     ]
    }
   ],
   "source": [
    "data_course.info()"
   ]
  },
  {
   "cell_type": "code",
   "execution_count": 64,
   "id": "23bf27ab",
   "metadata": {},
   "outputs": [
    {
     "data": {
      "image/png": "[encoded data removed]",
      "text/plain": [
       "<Figure size 640x480 with 1 Axes>"
      ]
     },
     "metadata": {},
     "output_type": "display_data"
    }
   ],
   "source": [
    "data_course['Cluster'].value_counts(normalize=True).plot(kind='bar');"
   ]
  },
  {
   "cell_type": "code",
   "execution_count": 65,
   "id": "4828ec22",
   "metadata": {},
   "outputs": [],
   "source": [
    "data_course['text'] = data_course['Title'] + '' + data_course['Review']"
   ]
  },
  {
   "cell_type": "code",
   "execution_count": 66,
   "id": "68788274",
   "metadata": {
    "scrolled": false
   },
   "outputs": [
    {
     "data": {
      "text/html": [
       "<div>\n",
       "<style scoped>\n",
       "    .dataframe tbody tr th:only-of-type {\n",
       "        vertical-align: middle;\n",
       "    }\n",
       "\n",
       "    .dataframe tbody tr th {\n",
       "        vertical-align: top;\n",
       "    }\n",
       "\n",
       "    .dataframe thead th {\n",
       "        text-align: right;\n",
       "    }\n",
       "</style>\n",
       "<table border=\"1\" class=\"dataframe\">\n",
       "  <thead>\n",
       "    <tr style=\"text-align: right;\">\n",
       "      <th></th>\n",
       "      <th>Title</th>\n",
       "      <th>Review</th>\n",
       "      <th>Course</th>\n",
       "      <th>Course_clean</th>\n",
       "      <th>Cluster</th>\n",
       "      <th>text</th>\n",
       "    </tr>\n",
       "  </thead>\n",
       "  <tbody>\n",
       "    <tr>\n",
       "      <th>2771</th>\n",
       "      <td>Great way to enter into the world of Data Anal...</td>\n",
       "      <td>I had a great experience with the Business Int...</td>\n",
       "      <td>Applied Business Intelligence Certificate</td>\n",
       "      <td>applied business intelligence certificate</td>\n",
       "      <td>5</td>\n",
       "      <td>Great way to enter into the world of Data Anal...</td>\n",
       "    </tr>\n",
       "    <tr>\n",
       "      <th>2772</th>\n",
       "      <td>A boost for your smooth career switch</td>\n",
       "      <td>I became familiar with WCD in early January 20...</td>\n",
       "      <td>Data Science Bootcamp</td>\n",
       "      <td>data science bootcamp</td>\n",
       "      <td>4</td>\n",
       "      <td>A boost for your smooth career switchI became ...</td>\n",
       "    </tr>\n",
       "    <tr>\n",
       "      <th>2773</th>\n",
       "      <td>Great Experience</td>\n",
       "      <td>I had a great experience. I liked the instruct...</td>\n",
       "      <td>Data Science Bootcamp</td>\n",
       "      <td>data science bootcamp</td>\n",
       "      <td>4</td>\n",
       "      <td>Great ExperienceI had a great experience. I li...</td>\n",
       "    </tr>\n",
       "    <tr>\n",
       "      <th>2774</th>\n",
       "      <td>Great Experience</td>\n",
       "      <td>I had the pleasure to share this experience wi...</td>\n",
       "      <td>Applied Business Intelligence Certificate</td>\n",
       "      <td>applied business intelligence certificate</td>\n",
       "      <td>5</td>\n",
       "      <td>Great ExperienceI had the pleasure to share th...</td>\n",
       "    </tr>\n",
       "    <tr>\n",
       "      <th>2775</th>\n",
       "      <td>Great data analytics program</td>\n",
       "      <td>Definitely one of the best data analyst progra...</td>\n",
       "      <td>Applied Business Intelligence Certificate</td>\n",
       "      <td>applied business intelligence certificate</td>\n",
       "      <td>5</td>\n",
       "      <td>Great data analytics programDefinitely one of ...</td>\n",
       "    </tr>\n",
       "  </tbody>\n",
       "</table>\n",
       "</div>"
      ],
      "text/plain": [
       "                                                  Title  \\\n",
       "2771  Great way to enter into the world of Data Anal...   \n",
       "2772              A boost for your smooth career switch   \n",
       "2773                                   Great Experience   \n",
       "2774                                   Great Experience   \n",
       "2775                       Great data analytics program   \n",
       "\n",
       "                                                 Review  \\\n",
       "2771  I had a great experience with the Business Int...   \n",
       "2772  I became familiar with WCD in early January 20...   \n",
       "2773  I had a great experience. I liked the instruct...   \n",
       "2774  I had the pleasure to share this experience wi...   \n",
       "2775  Definitely one of the best data analyst progra...   \n",
       "\n",
       "                                         Course  \\\n",
       "2771  Applied Business Intelligence Certificate   \n",
       "2772                      Data Science Bootcamp   \n",
       "2773                      Data Science Bootcamp   \n",
       "2774  Applied Business Intelligence Certificate   \n",
       "2775  Applied Business Intelligence Certificate   \n",
       "\n",
       "                                   Course_clean  Cluster  \\\n",
       "2771  applied business intelligence certificate        5   \n",
       "2772                      data science bootcamp        4   \n",
       "2773                      data science bootcamp        4   \n",
       "2774  applied business intelligence certificate        5   \n",
       "2775  applied business intelligence certificate        5   \n",
       "\n",
       "                                                   text  \n",
       "2771  Great way to enter into the world of Data Anal...  \n",
       "2772  A boost for your smooth career switchI became ...  \n",
       "2773  Great ExperienceI had a great experience. I li...  \n",
       "2774  Great ExperienceI had the pleasure to share th...  \n",
       "2775  Great data analytics programDefinitely one of ...  "
      ]
     },
     "execution_count": 66,
     "metadata": {},
     "output_type": "execute_result"
    }
   ],
   "source": [
    "data_course.head()"
   ]
  },
  {
   "cell_type": "code",
   "execution_count": 67,
   "id": "3ad09490",
   "metadata": {},
   "outputs": [],
   "source": [
    "# define features\n",
    "X = data_course['text']"
   ]
  },
  {
   "cell_type": "code",
   "execution_count": 68,
   "id": "d67f05ac",
   "metadata": {
    "scrolled": true
   },
   "outputs": [
    {
     "data": {
      "text/plain": [
       "(5430,)"
      ]
     },
     "execution_count": 68,
     "metadata": {},
     "output_type": "execute_result"
    }
   ],
   "source": [
    "X.shape"
   ]
  },
  {
   "cell_type": "code",
   "execution_count": 69,
   "id": "63f208c8",
   "metadata": {},
   "outputs": [],
   "source": [
    "# define label\n",
    "y = data_course['Cluster']"
   ]
  },
  {
   "cell_type": "code",
   "execution_count": 70,
   "id": "328e1718",
   "metadata": {},
   "outputs": [],
   "source": [
    "# split data\n",
    "X_train, X_test, y_train, y_test = train_test_split(X, y, test_size=0.33, random_state=42)"
   ]
  },
  {
   "cell_type": "code",
   "execution_count": 71,
   "id": "48c743f0",
   "metadata": {},
   "outputs": [
    {
     "data": {
      "text/plain": [
       "(3638,)"
      ]
     },
     "execution_count": 71,
     "metadata": {},
     "output_type": "execute_result"
    }
   ],
   "source": [
    "X_train.shape"
   ]
  },
  {
   "cell_type": "code",
   "execution_count": 72,
   "id": "e5c6efbf",
   "metadata": {
    "scrolled": true
   },
   "outputs": [
    {
     "data": {
      "text/plain": [
       "(1792,)"
      ]
     },
     "execution_count": 72,
     "metadata": {},
     "output_type": "execute_result"
    }
   ],
   "source": [
    "X_test.shape"
   ]
  },
  {
   "cell_type": "code",
   "execution_count": 73,
   "id": "fe182826",
   "metadata": {},
   "outputs": [
    {
     "data": {
      "text/plain": [
       "(3638,)"
      ]
     },
     "execution_count": 73,
     "metadata": {},
     "output_type": "execute_result"
    }
   ],
   "source": [
    "y_train.shape"
   ]
  },
  {
   "cell_type": "code",
   "execution_count": 74,
   "id": "36e34a04",
   "metadata": {},
   "outputs": [
    {
     "data": {
      "text/plain": [
       "(1792,)"
      ]
     },
     "execution_count": 74,
     "metadata": {},
     "output_type": "execute_result"
    }
   ],
   "source": [
    "y_test.shape"
   ]
  },
  {
   "cell_type": "markdown",
   "id": "4fdfcf32",
   "metadata": {},
   "source": [
    "### Baseline Model"
   ]
  },
  {
   "cell_type": "markdown",
   "id": "94a2d666",
   "metadata": {},
   "source": [
    "###### DT"
   ]
  },
  {
   "cell_type": "code",
   "execution_count": 75,
   "id": "69f63934",
   "metadata": {
    "scrolled": true
   },
   "outputs": [
    {
     "data": {
      "text/plain": [
       "8855    \"My time at Le Wagon Barcelona\"I recently fini...\n",
       "9249    \"Technical boost\"Having been working in a Fren...\n",
       "5066    \"Transition to UX with no experience\"What driv...\n",
       "6520    \"Best\"As a 20 something, I started off my gene...\n",
       "7618    \"Practical learning done well!\"I joined Le Wag...\n",
       "                              ...                        \n",
       "7554    \"Intensive and exhaustive dev training\"After 1...\n",
       "9144    \"Hard work and lot of fun!\"Le Wagon Barcelona ...\n",
       "9179    \"You will never regret it !\"Le Wagon is the gr...\n",
       "9351    \"Le Wagon Bordeaux batch #40\"Hello! I was a st...\n",
       "3737    \"Great Bootcamp\"First off, my background: I ha...\n",
       "Name: text, Length: 3638, dtype: object"
      ]
     },
     "execution_count": 75,
     "metadata": {},
     "output_type": "execute_result"
    }
   ],
   "source": [
    "X_train"
   ]
  },
  {
   "cell_type": "code",
   "execution_count": 76,
   "id": "14764740",
   "metadata": {},
   "outputs": [],
   "source": [
    "vectorizer = TfidfVectorizer(stop_words='english', ngram_range=(1,5), max_features = 1000)\n",
    "# fit_transform for X_train\n",
    "X_train_vec = vectorizer.fit_transform(X_train).toarray()\n",
    "# transforn for X_test\n",
    "X_test_vec = vectorizer.transform(X_test)"
   ]
  },
  {
   "cell_type": "code",
   "execution_count": 77,
   "id": "f959f239",
   "metadata": {},
   "outputs": [
    {
     "data": {
      "text/plain": [
       "(3638,)"
      ]
     },
     "execution_count": 77,
     "metadata": {},
     "output_type": "execute_result"
    }
   ],
   "source": [
    "X_train.shape"
   ]
  },
  {
   "cell_type": "code",
   "execution_count": 78,
   "id": "13414fa7",
   "metadata": {
    "scrolled": false
   },
   "outputs": [
    {
     "data": {
      "text/plain": [
       "(3638, 1000)"
      ]
     },
     "execution_count": 78,
     "metadata": {},
     "output_type": "execute_result"
    }
   ],
   "source": [
    "X_train_vec.shape"
   ]
  },
  {
   "cell_type": "code",
   "execution_count": 79,
   "id": "66c76c77",
   "metadata": {},
   "outputs": [],
   "source": [
    "model = DecisionTreeClassifier()\n",
    "model.fit(X_train_vec, y_train)\n",
    "y_pred = model.predict(X_test_vec)"
   ]
  },
  {
   "cell_type": "code",
   "execution_count": 80,
   "id": "2360a9aa",
   "metadata": {},
   "outputs": [
    {
     "data": {
      "text/plain": [
       "0.6579241071428571"
      ]
     },
     "execution_count": 80,
     "metadata": {},
     "output_type": "execute_result"
    }
   ],
   "source": [
    "accuracy_score(y_test, y_pred)"
   ]
  },
  {
   "cell_type": "code",
   "execution_count": 81,
   "id": "9b0fb724",
   "metadata": {},
   "outputs": [
    {
     "data": {
      "text/plain": [
       "0.6590401785714286"
      ]
     },
     "execution_count": 81,
     "metadata": {},
     "output_type": "execute_result"
    }
   ],
   "source": [
    "# count vectorizer for 1, 2, 3, 4, 5-grams\n",
    "steps = [('vec', CountVectorizer(stop_words='english', ngram_range=(1,5), max_features = 1000)), \n",
    "         ('tfidf', TfidfTransformer()),\n",
    "         ('dt', DecisionTreeClassifier(random_state=42))]\n",
    "\n",
    "pipeline = Pipeline(steps=steps)\n",
    "\n",
    "pipeline.fit(X_train, y_train)\n",
    "\n",
    "y_pred = pipeline.predict(X_test)\n",
    "\n",
    "accuracy_score(y_test, y_pred)"
   ]
  },
  {
   "cell_type": "markdown",
   "id": "31fa3c0a",
   "metadata": {},
   "source": [
    "###### KNN"
   ]
  },
  {
   "cell_type": "code",
   "execution_count": 82,
   "id": "cf239a87",
   "metadata": {},
   "outputs": [
    {
     "data": {
      "text/plain": [
       "0.7047991071428571"
      ]
     },
     "execution_count": 82,
     "metadata": {},
     "output_type": "execute_result"
    }
   ],
   "source": [
    "# count vectorizer for 1, 2, 3, 4, 5-grams\n",
    "steps = [('vec', CountVectorizer(stop_words='english', ngram_range=(1,5), max_features = 1000)), \n",
    "         ('tfidf', TfidfTransformer()),\n",
    "         ('knn', KNeighborsClassifier())]\n",
    "\n",
    "pipeline = Pipeline(steps=steps)\n",
    "\n",
    "pipeline.fit(X_train, y_train)\n",
    "\n",
    "y_pred = pipeline.predict(X_test)\n",
    "\n",
    "accuracy_score(y_test, y_pred)"
   ]
  },
  {
   "cell_type": "markdown",
   "id": "71f5bcf9",
   "metadata": {},
   "source": [
    "###### MultinomialNB"
   ]
  },
  {
   "cell_type": "code",
   "execution_count": 83,
   "id": "502891cd",
   "metadata": {},
   "outputs": [
    {
     "data": {
      "text/plain": [
       "0.6847098214285714"
      ]
     },
     "execution_count": 83,
     "metadata": {},
     "output_type": "execute_result"
    }
   ],
   "source": [
    "from sklearn.naive_bayes import MultinomialNB\n",
    "\n",
    "steps = [('vec', CountVectorizer(stop_words='english', ngram_range=(1,5), max_features = 1000)), \n",
    "         ('tfidf', TfidfTransformer()),\n",
    "         ('clf', MultinomialNB())]\n",
    "\n",
    "pipeline = Pipeline(steps=steps)\n",
    "\n",
    "pipeline.fit(X_train, y_train)\n",
    "\n",
    "y_pred = pipeline.predict(X_test)\n",
    "\n",
    "accuracy_score(y_test, y_pred)"
   ]
  },
  {
   "cell_type": "code",
   "execution_count": 84,
   "id": "6b493007",
   "metadata": {
    "scrolled": true
   },
   "outputs": [
    {
     "name": "stdout",
     "output_type": "stream",
     "text": [
      "              precision    recall  f1-score   support\n",
      "\n",
      "           0       0.91      0.30      0.46       105\n",
      "           1       0.69      0.96      0.80       447\n",
      "           2       0.93      0.61      0.74       101\n",
      "           3       0.85      0.36      0.50        78\n",
      "           4       0.69      0.80      0.74       322\n",
      "           5       0.56      0.75      0.64       260\n",
      "           6       0.66      0.14      0.23       217\n",
      "           7       0.72      0.93      0.81       155\n",
      "           8       0.88      0.57      0.69        53\n",
      "           9       0.56      0.26      0.35        54\n",
      "\n",
      "    accuracy                           0.68      1792\n",
      "   macro avg       0.75      0.57      0.60      1792\n",
      "weighted avg       0.70      0.68      0.65      1792\n",
      "\n"
     ]
    }
   ],
   "source": [
    "print(classification_report(y_test, y_pred))"
   ]
  },
  {
   "cell_type": "markdown",
   "id": "e857c31d",
   "metadata": {},
   "source": [
    "###### LR"
   ]
  },
  {
   "cell_type": "code",
   "execution_count": 85,
   "id": "5e0028cb",
   "metadata": {},
   "outputs": [
    {
     "data": {
      "text/plain": [
       "0.7511160714285714"
      ]
     },
     "execution_count": 85,
     "metadata": {},
     "output_type": "execute_result"
    }
   ],
   "source": [
    "# count vectorizer for 1, 2, 3, 4, 5-grams\n",
    "steps = [('vec', CountVectorizer(stop_words='english', ngram_range=(1,5), max_features = 1000)), \n",
    "         ('tfidf', TfidfTransformer()),\n",
    "         ('lr', LogisticRegression(random_state=42))]\n",
    "\n",
    "pipeline = Pipeline(steps=steps)\n",
    "\n",
    "pipeline.fit(X_train, y_train)\n",
    "\n",
    "y_pred = pipeline.predict(X_test)\n",
    "\n",
    "accuracy_score(y_test, y_pred)\n",
    "#cross_val_score(pipeline, X, y, cv=3, scoring='accuracy')"
   ]
  },
  {
   "cell_type": "code",
   "execution_count": 86,
   "id": "6faf733a",
   "metadata": {},
   "outputs": [
    {
     "data": {
      "text/plain": [
       "{'C': 1.0,\n",
       " 'class_weight': None,\n",
       " 'dual': False,\n",
       " 'fit_intercept': True,\n",
       " 'intercept_scaling': 1,\n",
       " 'l1_ratio': None,\n",
       " 'max_iter': 100,\n",
       " 'multi_class': 'auto',\n",
       " 'n_jobs': None,\n",
       " 'penalty': 'l2',\n",
       " 'random_state': 42,\n",
       " 'solver': 'lbfgs',\n",
       " 'tol': 0.0001,\n",
       " 'verbose': 0,\n",
       " 'warm_start': False}"
      ]
     },
     "execution_count": 86,
     "metadata": {},
     "output_type": "execute_result"
    }
   ],
   "source": [
    "pipeline.steps[-1][1].get_params()"
   ]
  },
  {
   "cell_type": "markdown",
   "id": "5cc90aab",
   "metadata": {},
   "source": [
    "###### SVC"
   ]
  },
  {
   "cell_type": "code",
   "execution_count": 87,
   "id": "5c13eded",
   "metadata": {},
   "outputs": [
    {
     "data": {
      "text/plain": [
       "0.7544642857142857"
      ]
     },
     "execution_count": 87,
     "metadata": {},
     "output_type": "execute_result"
    }
   ],
   "source": [
    "# count vectorizer for 1, 2, 3, 4, 5-grams\n",
    "steps = [('vec', CountVectorizer(stop_words='english', ngram_range=(1,5), max_features = 1000)),\n",
    "         ('tfidf', TfidfTransformer()),\n",
    "         ('svc', SVC(random_state=42))]\n",
    "\n",
    "pipeline = Pipeline(steps=steps)\n",
    "\n",
    "pipeline.fit(X_train, y_train)\n",
    "\n",
    "y_pred = pipeline.predict(X_test)\n",
    "\n",
    "accuracy_score(y_test, y_pred)"
   ]
  },
  {
   "cell_type": "markdown",
   "id": "abe4f070",
   "metadata": {},
   "source": [
    "###### Random Forest"
   ]
  },
  {
   "cell_type": "code",
   "execution_count": 88,
   "id": "6b0bbd34",
   "metadata": {},
   "outputs": [
    {
     "data": {
      "text/plain": [
       "0.7399553571428571"
      ]
     },
     "execution_count": 88,
     "metadata": {},
     "output_type": "execute_result"
    }
   ],
   "source": [
    "# count vectorizer for 1, 2, 3, 4, 5-grams\n",
    "steps = [('vec', CountVectorizer(stop_words='english', ngram_range=(1,5), max_features = 1000)), \n",
    "         ('tfidf', TfidfTransformer()),\n",
    "         ('rf', RandomForestClassifier(random_state=42))]\n",
    "\n",
    "pipeline = Pipeline(steps=steps)\n",
    "\n",
    "pipeline.fit(X_train, y_train)\n",
    "\n",
    "y_pred = pipeline.predict(X_test)\n",
    "\n",
    "accuracy_score(y_test, y_pred)"
   ]
  },
  {
   "cell_type": "markdown",
   "id": "52da3d8c",
   "metadata": {},
   "source": [
    "###### XGBoost"
   ]
  },
  {
   "cell_type": "code",
   "execution_count": 89,
   "id": "43a5793e",
   "metadata": {
    "scrolled": true
   },
   "outputs": [
    {
     "data": {
      "text/plain": [
       "0.7555803571428571"
      ]
     },
     "execution_count": 89,
     "metadata": {},
     "output_type": "execute_result"
    }
   ],
   "source": [
    "# count vectorizer for 1, 2, 3, 4, 5-grams\n",
    "steps = [('vec', CountVectorizer(stop_words='english', ngram_range=(1,5), max_features = 1000)), \n",
    "         ('tfidf', TfidfTransformer()),\n",
    "         ('xgb', XGBClassifier())]\n",
    "\n",
    "pipeline = Pipeline(steps=steps)\n",
    "\n",
    "pipeline.fit(X_train, y_train)\n",
    "\n",
    "y_pred = pipeline.predict(X_test)\n",
    "\n",
    "accuracy_score(y_test, y_pred)"
   ]
  },
  {
   "cell_type": "markdown",
   "id": "97698fb6",
   "metadata": {},
   "source": [
    "#### How to run multipule model in one frame?"
   ]
  },
  {
   "cell_type": "code",
   "execution_count": 90,
   "id": "7b2c9538",
   "metadata": {},
   "outputs": [],
   "source": [
    "def vectorizing(algo):   \n",
    "    steps = [('vec', CountVectorizer(stop_words='english', ngram_range=(1,5), max_features = 1000)),\n",
    "             ('tfidf', TfidfTransformer()), \n",
    "             ('model', algo)]\n",
    "\n",
    "    pipeline = Pipeline(steps=steps)\n",
    "\n",
    "    pipeline.fit(X_train, y_train)\n",
    "    \n",
    "    y_pred = pipeline.predict(X_test)\n",
    "    \n",
    "    print(classification_report(y_pred, y_test))"
   ]
  },
  {
   "cell_type": "code",
   "execution_count": 91,
   "id": "3c6050ee",
   "metadata": {
    "scrolled": true
   },
   "outputs": [
    {
     "name": "stdout",
     "output_type": "stream",
     "text": [
      "              precision    recall  f1-score   support\n",
      "\n",
      "           0       0.60      0.86      0.71        73\n",
      "           1       0.91      0.78      0.84       518\n",
      "           2       0.70      0.89      0.78        80\n",
      "           3       0.59      0.77      0.67        60\n",
      "           4       0.76      0.79      0.77       308\n",
      "           5       0.82      0.60      0.69       353\n",
      "           6       0.42      0.72      0.53       128\n",
      "           7       0.90      0.77      0.83       181\n",
      "           8       0.72      0.88      0.79        43\n",
      "           9       0.63      0.71      0.67        48\n",
      "\n",
      "    accuracy                           0.75      1792\n",
      "   macro avg       0.70      0.78      0.73      1792\n",
      "weighted avg       0.78      0.75      0.76      1792\n",
      "\n",
      "              precision    recall  f1-score   support\n",
      "\n",
      "           0       0.62      0.92      0.74        71\n",
      "           1       0.93      0.78      0.85       533\n",
      "           2       0.72      0.92      0.81        79\n",
      "           3       0.55      0.81      0.66        53\n",
      "           4       0.76      0.78      0.77       311\n",
      "           5       0.84      0.59      0.69       372\n",
      "           6       0.37      0.78      0.50       104\n",
      "           7       0.88      0.77      0.82       176\n",
      "           8       0.77      0.89      0.83        46\n",
      "           9       0.61      0.70      0.65        47\n",
      "\n",
      "    accuracy                           0.75      1792\n",
      "   macro avg       0.71      0.80      0.73      1792\n",
      "weighted avg       0.80      0.75      0.76      1792\n",
      "\n",
      "              precision    recall  f1-score   support\n",
      "\n",
      "           0       0.64      0.92      0.75        73\n",
      "           1       0.94      0.75      0.84       560\n",
      "           2       0.79      0.82      0.81        97\n",
      "           3       0.50      0.81      0.62        48\n",
      "           4       0.79      0.79      0.79       321\n",
      "           5       0.79      0.60      0.68       339\n",
      "           6       0.23      0.77      0.35        65\n",
      "           7       0.94      0.74      0.83       196\n",
      "           8       0.75      0.93      0.83        43\n",
      "           9       0.61      0.66      0.63        50\n",
      "\n",
      "    accuracy                           0.74      1792\n",
      "   macro avg       0.70      0.78      0.71      1792\n",
      "weighted avg       0.81      0.74      0.76      1792\n",
      "\n",
      "              precision    recall  f1-score   support\n",
      "\n",
      "           0       0.71      0.84      0.77        89\n",
      "           1       0.87      0.79      0.83       487\n",
      "           2       0.75      0.80      0.78        95\n",
      "           3       0.65      0.72      0.68        71\n",
      "           4       0.80      0.80      0.80       321\n",
      "           5       0.81      0.63      0.71       333\n",
      "           6       0.41      0.61      0.49       146\n",
      "           7       0.83      0.84      0.83       154\n",
      "           8       0.77      0.91      0.84        45\n",
      "           9       0.72      0.76      0.74        51\n",
      "\n",
      "    accuracy                           0.76      1792\n",
      "   macro avg       0.73      0.77      0.75      1792\n",
      "weighted avg       0.77      0.76      0.76      1792\n",
      "\n"
     ]
    }
   ],
   "source": [
    "list_of_algos = [LogisticRegression(), SVC(), RandomForestClassifier(), XGBClassifier()]\n",
    "\n",
    "for x in list_of_algos:\n",
    "    vectorizing(x)"
   ]
  },
  {
   "cell_type": "markdown",
   "id": "1e9ac380",
   "metadata": {},
   "source": [
    "#### Hyperparemeter Tuning"
   ]
  },
  {
   "cell_type": "code",
   "execution_count": 92,
   "id": "c831fa52",
   "metadata": {},
   "outputs": [],
   "source": [
    "# shift+tab to check the default parameter setting\n",
    "# LogisticRegression()"
   ]
  },
  {
   "cell_type": "code",
   "execution_count": 93,
   "id": "dbd27291",
   "metadata": {
    "scrolled": true
   },
   "outputs": [
    {
     "name": "stdout",
     "output_type": "stream",
     "text": [
      "Fitting 3 folds for each of 9 candidates, totalling 27 fits\n",
      "Best hyperparameters:  {'lr__C': 10, 'lr__penalty': 'l2', 'lr__solver': 'newton-cg'}\n",
      "Best model:  Pipeline(steps=[('vec',\n",
      "                 CountVectorizer(max_features=1000, ngram_range=(1, 5),\n",
      "                                 stop_words='english')),\n",
      "                ('tfidf', TfidfTransformer()),\n",
      "                ('lr',\n",
      "                 LogisticRegression(C=10, random_state=42,\n",
      "                                    solver='newton-cg'))])\n",
      "Best accuracy score:  0.7504115209542389\n"
     ]
    }
   ],
   "source": [
    "# Define pipeline\n",
    "steps = [('vec', CountVectorizer(stop_words='english', ngram_range=(1,5), max_features = 1000)), \n",
    "         ('tfidf', TfidfTransformer()),\n",
    "         ('lr', LogisticRegression(random_state=42))]\n",
    "\n",
    "pipeline = Pipeline(steps=steps)\n",
    "\n",
    "# Define the hyperparameters and their possible values to be searched\n",
    "hyperparameters = {\n",
    "    'lr__penalty': ['l2'],\n",
    "    'lr__C': [0.1, 1.0, 10],\n",
    "    'lr__solver': ['lbfgs','newton-cg','saga']\n",
    "}\n",
    "\n",
    "# Create the GridSearchCV object with multiple scoring metrics\n",
    "grid_search = GridSearchCV(pipeline, hyperparameters, cv=3, \n",
    "                           scoring='accuracy', \n",
    "                           n_jobs=-1, verbose=2)\n",
    "\n",
    "# Fit the GridSearchCV object on the training data to search for best hyperparameters\n",
    "grid_search.fit(X_train, y_train)\n",
    "\n",
    "# Print the best hyperparameters and F1 score\n",
    "print(\"Best hyperparameters: \", grid_search.best_params_)\n",
    "print(\"Best model: \", grid_search.best_estimator_)\n",
    "print(\"Best accuracy score: \", grid_search.best_score_)"
   ]
  },
  {
   "cell_type": "code",
   "execution_count": 95,
   "id": "514f8e01",
   "metadata": {},
   "outputs": [
    {
     "name": "stdout",
     "output_type": "stream",
     "text": [
      "Fitting 3 folds for each of 18 candidates, totalling 54 fits\n",
      "Best hyperparameters:  {'xgb__learning_rate': 0.1, 'xgb__max_depth': 3, 'xgb__n_estimators': 300}\n",
      "Best model:  Pipeline(steps=[('vec',\n",
      "                 CountVectorizer(max_features=1000, ngram_range=(1, 5),\n",
      "                                 stop_words='english')),\n",
      "                ('tfidf', TfidfTransformer()),\n",
      "                ('xgb',\n",
      "                 XGBClassifier(base_score=None, booster=None, callbacks=None,\n",
      "                               colsample_bylevel=None, colsample_bynode=None,\n",
      "                               colsample_bytree=None,\n",
      "                               early_stopping_rounds=None,\n",
      "                               enable_categorical=False, eval_metric=None,\n",
      "                               feature_types=None, gam...\n",
      "                               grow_policy=None, importance_type=None,\n",
      "                               interaction_constraints=None, learning_rate=0.1,\n",
      "                               max_bin=None, max_cat_threshold=None,\n",
      "                               max_cat_to_onehot=None, max_delta_step=None,\n",
      "                               max_depth=3, max_leaves=None,\n",
      "                               min_child_weight=None, missing=nan,\n",
      "                               monotone_constraints=None, n_estimators=300,\n",
      "                               n_jobs=None, num_parallel_tree=None,\n",
      "                               objective='multi:softprob', predictor=None, ...))])\n",
      "Best accuracy score:  0.757283807523374\n"
     ]
    }
   ],
   "source": [
    "# Define pipeline\n",
    "steps = [('vec', CountVectorizer(stop_words='english', ngram_range=(1,5), max_features = 1000)), \n",
    "         ('tfidf', TfidfTransformer()),\n",
    "         ('xgb', XGBClassifier(random_state=42))]\n",
    "\n",
    "pipeline = Pipeline(steps=steps)\n",
    "\n",
    "# Define the hyperparameters and their possible values to be searched\n",
    "hyperparameters = {\n",
    "    'xgb__max_depth': [1, 3, 5],\n",
    "    'xgb__learning_rate': [0.1, 0.01],\n",
    "    'xgb__n_estimators': [100, 300, 500],\n",
    "}\n",
    "\n",
    "# Create the GridSearchCV object with multiple scoring metrics\n",
    "grid_search = GridSearchCV(pipeline, hyperparameters, cv=3, \n",
    "                           scoring='accuracy', \n",
    "                           n_jobs=-1, verbose=2)\n",
    "\n",
    "# Fit the GridSearchCV object on the training data to search for best hyperparameters\n",
    "grid_search.fit(X_train, y_train)\n",
    "\n",
    "# Print the best hyperparameters and accuracy score\n",
    "print(\"Best hyperparameters: \", grid_search.best_params_)\n",
    "print(\"Best model: \", grid_search.best_estimator_)\n",
    "print(\"Best accuracy score: \", grid_search.best_score_)"
   ]
  },
  {
   "cell_type": "markdown",
   "id": "b8a9612e",
   "metadata": {},
   "source": [
    "### Stacking"
   ]
  },
  {
   "cell_type": "code",
   "execution_count": null,
   "id": "c954056e",
   "metadata": {},
   "outputs": [],
   "source": [
    "# stacking\n",
    "estimators = [\n",
    "    ('rf', RandomForestClassifier()),\n",
    "    ('xgb', XGBClassifier()),\n",
    "    ('lr', LogisticRegression()),\n",
    "    ('svc', SVC())\n",
    "]\n",
    "\n",
    "clf = StackingClassifier(\n",
    "    estimators=estimators, final_estimator=LogisticRegression()\n",
    ")"
   ]
  },
  {
   "cell_type": "code",
   "execution_count": null,
   "id": "b8fe7507",
   "metadata": {},
   "outputs": [],
   "source": [
    "steps = [('vec', CountVectorizer(stop_words='english', ngram_range=(1,5), max_features = 1000)), \n",
    "         ('tfidf', TfidfTransformer()),\n",
    "         ('xgb', XGBClassifier())]\n",
    "\n",
    "stacking_pipeline = Pipeline(steps=steps)"
   ]
  },
  {
   "cell_type": "code",
   "execution_count": null,
   "id": "eb16fcf1",
   "metadata": {},
   "outputs": [],
   "source": [
    "stacking_pipeline.fit(X_train, y_train)\n",
    "\n",
    "y_pred = stacking_pipeline.predict(X_test)\n",
    "\n",
    "accuracy_score(y_test, y_pred)"
   ]
  },
  {
   "cell_type": "code",
   "execution_count": null,
   "id": "40c98e80",
   "metadata": {},
   "outputs": [],
   "source": []
  },
  {
   "cell_type": "markdown",
   "id": "c225e4cc",
   "metadata": {},
   "source": [
    "## Course prediction DL modeling"
   ]
  },
  {
   "cell_type": "code",
   "execution_count": null,
   "id": "0da5ca6d",
   "metadata": {
    "scrolled": true
   },
   "outputs": [],
   "source": [
    "df = pd.read_csv('data_course.csv')\n",
    "df.head()"
   ]
  },
  {
   "cell_type": "code",
   "execution_count": null,
   "id": "424ecf81",
   "metadata": {},
   "outputs": [],
   "source": [
    "df['Course'].unique().tolist()"
   ]
  },
  {
   "cell_type": "code",
   "execution_count": null,
   "id": "955255d4",
   "metadata": {
    "scrolled": true
   },
   "outputs": [],
   "source": [
    "from sklearn.cluster import KMeans\n",
    "from sklearn.feature_extraction.text import TfidfVectorizer\n",
    "\n",
    "# Define a function to clean and standardize the course names\n",
    "def clean_course_name(course_name):\n",
    "    # Replace any non-alphanumeric characters with spaces\n",
    "    course_name = ''.join(c if c.isalnum() else ' ' for c in course_name)\n",
    "    # Convert to lowercase\n",
    "    course_name = course_name.lower()\n",
    "    # Remove leading/trailing whitespace\n",
    "    course_name = course_name.strip()\n",
    "    # Replace multiple spaces with a single space\n",
    "    course_name = ' '.join(course_name.split())\n",
    "    return course_name\n",
    "\n",
    "# Load your DataFrame with course names\n",
    "df = pd.read_csv('data_course.csv').dropna()\n",
    "\n",
    "# Apply the cleaning function to the 'Course' column of the DataFrame\n",
    "df['Course_clean'] = df['Course'].apply(clean_course_name)\n",
    "\n",
    "# Use a vectorizer to convert the cleaned course names into feature vectors\n",
    "vectorizer = TfidfVectorizer()\n",
    "X = vectorizer.fit_transform(df['Course_clean'])\n",
    "\n",
    "# Use KMeans clustering to group the course names into clusters\n",
    "kmeans = KMeans(n_clusters=10, n_init = 10, random_state=42)\n",
    "kmeans.fit(X)\n",
    "\n",
    "# Assign the cluster labels back to the DataFrame\n",
    "df['Cluster'] = kmeans.labels_\n",
    "\n",
    "# Print the clusters and their courses\n",
    "for cluster_id in range(kmeans.n_clusters):\n",
    "    print(f\"Cluster {cluster_id}:\")\n",
    "    print(df.loc[df['Cluster'] == cluster_id, 'Course'])\n",
    "    print()"
   ]
  },
  {
   "cell_type": "code",
   "execution_count": null,
   "id": "33810c76",
   "metadata": {},
   "outputs": [],
   "source": [
    "df['text'] = df['Title'] + '' + df['Review']"
   ]
  },
  {
   "cell_type": "code",
   "execution_count": null,
   "id": "dccdb406",
   "metadata": {
    "scrolled": true
   },
   "outputs": [],
   "source": [
    "df.head()"
   ]
  },
  {
   "cell_type": "code",
   "execution_count": null,
   "id": "2216fd30",
   "metadata": {},
   "outputs": [],
   "source": [
    "X = df['text']\n",
    "y = df['Cluster']"
   ]
  },
  {
   "cell_type": "code",
   "execution_count": null,
   "id": "b41f45b7",
   "metadata": {},
   "outputs": [],
   "source": [
    "X_train, X_test, y_train, y_test = train_test_split(X, y, test_size=0.33, random_state=42)"
   ]
  },
  {
   "cell_type": "code",
   "execution_count": null,
   "id": "20463013",
   "metadata": {
    "scrolled": true
   },
   "outputs": [],
   "source": [
    "from tensorflow.keras.models import Sequential\n",
    "from tensorflow.keras.layers import Embedding, LSTM, Dense\n",
    "from tensorflow.keras.preprocessing.text import Tokenizer\n",
    "from tensorflow.keras.preprocessing.sequence import pad_sequences\n",
    "\n",
    "# Prepare text data for training\n",
    "max_words = 5000  # maximum number of words to keep\n",
    "max_len = 100  # maximum length of input sequences\n",
    "\n",
    "# Tokenize the text data\n",
    "tokenizer = Tokenizer(num_words=max_words, lower=True)\n",
    "tokenizer.fit_on_texts(X_train)\n",
    "train_sequences = tokenizer.texts_to_sequences(X_train)\n",
    "val_sequences = tokenizer.texts_to_sequences(X_test)\n",
    "\n",
    "# Pad the tokenized sequences to have the same length\n",
    "X_train = pad_sequences(train_sequences, maxlen=max_len)\n",
    "X_test = pad_sequences(val_sequences, maxlen=max_len)\n",
    "\n",
    "# Define the deep learning model\n",
    "model = Sequential()\n",
    "model.add(Embedding(max_words, 32))\n",
    "model.add(LSTM(64, dropout=0.2, recurrent_dropout=0.2))\n",
    "model.add(Dense(10, activation='softmax')) \n",
    "\n",
    "# Compile the model\n",
    "model.compile(optimizer='adam', loss='sparse_categorical_crossentropy', metrics=['accuracy'])\n",
    "\n",
    "# Train the model\n",
    "model.fit(X_train, y_train, validation_data=(X_test, y_test), epochs=10, batch_size=64)\n",
    "\n",
    "# Evaluate the model\n",
    "model.evaluate(X_test, y_test)"
   ]
  },
  {
   "cell_type": "code",
   "execution_count": null,
   "id": "83dcf962",
   "metadata": {},
   "outputs": [],
   "source": []
  },
  {
   "cell_type": "markdown",
   "id": "ae8eef69",
   "metadata": {},
   "source": [
    "## Final Model and Prediction"
   ]
  },
  {
   "cell_type": "code",
   "execution_count": 96,
   "id": "ec0f2a7e",
   "metadata": {},
   "outputs": [],
   "source": [
    "data_course = pd.read_csv('data_course.csv').dropna()"
   ]
  },
  {
   "cell_type": "code",
   "execution_count": 97,
   "id": "6a8f25e4",
   "metadata": {
    "scrolled": true
   },
   "outputs": [
    {
     "name": "stdout",
     "output_type": "stream",
     "text": [
      "Cluster 0:\n",
      "7904                    FullStack program\n",
      "7905                    FullStack program\n",
      "7906                    FullStack program\n",
      "7907                    FullStack program\n",
      "7908                    FullStack program\n",
      "                      ...                \n",
      "9386    FullStack program - 35+ locations\n",
      "9387    FullStack program - 35+ locations\n",
      "9390    FullStack program - 35+ locations\n",
      "9406    FullStack program - 35+ locations\n",
      "9411    FullStack program - 35+ locations\n",
      "Name: Course, Length: 1345, dtype: object\n",
      "\n",
      "Cluster 1:\n",
      "4930    Software Engineering Career Track Prep\n",
      "4942         Software Engineering Career Track\n",
      "4946         Software Engineering Career Track\n",
      "4950         Software Engineering Career Track\n",
      "4953         Software Engineering Career Track\n",
      "                         ...                  \n",
      "7167            Software Engineering Immersive\n",
      "7169            Software Engineering Immersive\n",
      "7173            Software Engineering Immersive\n",
      "7174            Software Engineering Immersive\n",
      "7178            Software Engineering Immersive\n",
      "Name: Course, Length: 256, dtype: object\n",
      "\n",
      "Cluster 2:\n",
      "2772        Data Science Bootcamp\n",
      "2773        Data Science Bootcamp\n",
      "2776        Data Science Bootcamp\n",
      "2778    Data Engineering Bootcamp\n",
      "2779        Data Science Bootcamp\n",
      "                  ...            \n",
      "7796     Data Science - Full-Time\n",
      "7818     Data Science - Full-Time\n",
      "7830     Data Science - Full-Time\n",
      "7845     Data Science - Full-Time\n",
      "7848     Data Science - Full-Time\n",
      "Name: Course, Length: 889, dtype: object\n",
      "\n",
      "Cluster 3:\n",
      "2843    Online User Experience Design Diploma\n",
      "2853                    User Interface Design\n",
      "2859                   User Experience Design\n",
      "2865            User Experience Design Online\n",
      "2878                   User Experience Design\n",
      "                        ...                  \n",
      "7133         User Experience Design Immersive\n",
      "7150         User Experience Design Immersive\n",
      "7159         User Experience Design Immersive\n",
      "7164         User Experience Design Immersive\n",
      "7166         User Experience Design Immersive\n",
      "Name: Course, Length: 309, dtype: object\n",
      "\n",
      "Cluster 4:\n",
      "2869           Data Analytics\n",
      "2874    Data Analytics Online\n",
      "2881    Data Analytics Online\n",
      "2884    Data Analytics Online\n",
      "2893    Data Analytics Online\n",
      "                ...          \n",
      "6944           Data Analytics\n",
      "6957           Data Analytics\n",
      "6973           Data Analytics\n",
      "6990           Data Analytics\n",
      "7018           Data Analytics\n",
      "Name: Course, Length: 554, dtype: object\n",
      "\n",
      "Cluster 5:\n",
      "2771    Applied Business Intelligence Certificate\n",
      "2774    Applied Business Intelligence Certificate\n",
      "2775    Applied Business Intelligence Certificate\n",
      "2777    Applied Business Intelligence Certificate\n",
      "2786                     Data Engineering Diploma\n",
      "                          ...                    \n",
      "7034                           Product Management\n",
      "7097                           Product Management\n",
      "7104                                Visual Design\n",
      "7117                           Product Management\n",
      "7160                           Product Management\n",
      "Name: Course, Length: 621, dtype: object\n",
      "\n",
      "Cluster 6:\n",
      "2846         Web Development Diploma\n",
      "2857                 Web Development\n",
      "2864          Online Web Development\n",
      "2875          Online Web Development\n",
      "2890                 Web Development\n",
      "                    ...             \n",
      "7899    Web Development  - Full-Time\n",
      "7900    Web Development  - Full-Time\n",
      "7901    Web Development  - Full-Time\n",
      "7902    Web Development  - Full-Time\n",
      "7903    Web Development  - Full-Time\n",
      "Name: Course, Length: 773, dtype: object\n",
      "\n",
      "Cluster 7:\n",
      "3051       UX & Product Design\n",
      "3089    UX Design Fundamentals\n",
      "3100    UX Design Fundamentals\n",
      "3108    UX Design Fundamentals\n",
      "3109        Advanced UX Design\n",
      "                 ...          \n",
      "6201                 UX Design\n",
      "6202                 UX Design\n",
      "6203                 UX Design\n",
      "6204                 UX Design\n",
      "6205                 UX Design\n",
      "Name: Course, Length: 504, dtype: object\n",
      "\n",
      "Cluster 8:\n",
      "2839    Digital Marketing Diploma\n",
      "2854     Digital Marketing Online\n",
      "2856            Digital Marketing\n",
      "2858    Digital Marketing Diploma\n",
      "2871            Digital Marketing\n",
      "                  ...            \n",
      "7025            Digital Marketing\n",
      "7105            Digital Marketing\n",
      "7152            Digital Marketing\n",
      "7154            Digital Marketing\n",
      "7155            Digital Marketing\n",
      "Name: Course, Length: 179, dtype: object\n",
      "\n"
     ]
    }
   ],
   "source": [
    "# Define a function to clean and standardize the course names\n",
    "def clean_course_name(course_name):\n",
    "    # Replace any non-alphanumeric characters with spaces\n",
    "    course_name = ''.join(c if c.isalnum() else ' ' for c in course_name)\n",
    "    # Convert to lowercase\n",
    "    course_name = course_name.lower()\n",
    "    # Remove leading/trailing whitespace\n",
    "    course_name = course_name.strip()\n",
    "    # Replace multiple spaces with a single space\n",
    "    course_name = ' '.join(course_name.split())\n",
    "    return course_name\n",
    "\n",
    "# Load your DataFrame with course names\n",
    "data_course = pd.read_csv('data_course.csv').dropna()\n",
    "\n",
    "# Apply the cleaning function to the 'Course' column of the DataFrame\n",
    "data_course['Course_clean'] = data_course['Course'].apply(clean_course_name)\n",
    "\n",
    "# Use a vectorizer to convert the cleaned course names into feature vectors\n",
    "vectorizer = TfidfVectorizer()\n",
    "X = vectorizer.fit_transform(data_course['Course_clean'])\n",
    "\n",
    "# Use KMeans clustering to group the course names into clusters\n",
    "kmeans = KMeans(n_clusters=9, n_init = 10, random_state=42)\n",
    "kmeans.fit(X)\n",
    "\n",
    "# Assign the cluster labels back to the DataFrame\n",
    "data_course['Cluster'] = kmeans.labels_\n",
    "\n",
    "# Print the clusters and their courses\n",
    "for cluster_id in range(kmeans.n_clusters):\n",
    "    print(f\"Cluster {cluster_id}:\")\n",
    "    print(data_course.loc[data_course['Cluster'] == cluster_id, 'Course'])\n",
    "    print()"
   ]
  },
  {
   "cell_type": "code",
   "execution_count": 98,
   "id": "f02ff23b",
   "metadata": {
    "scrolled": true
   },
   "outputs": [
    {
     "data": {
      "text/plain": [
       "array(['FullStack program', 'FullStack program - 35+ locations'],\n",
       "      dtype=object)"
      ]
     },
     "execution_count": 98,
     "metadata": {},
     "output_type": "execute_result"
    }
   ],
   "source": [
    "data_course.loc[data_course['Cluster'] == 0, 'Course'].unique()"
   ]
  },
  {
   "cell_type": "code",
   "execution_count": 99,
   "id": "05fdce5c",
   "metadata": {},
   "outputs": [],
   "source": [
    "data_course['text'] = data_course['Title'] + '' + data_course['Review']"
   ]
  },
  {
   "cell_type": "code",
   "execution_count": 100,
   "id": "efd8f279",
   "metadata": {},
   "outputs": [
    {
     "name": "stdout",
     "output_type": "stream",
     "text": [
      "<class 'pandas.core.frame.DataFrame'>\n",
      "Int64Index: 5430 entries, 2771 to 9411\n",
      "Data columns (total 6 columns):\n",
      " #   Column        Non-Null Count  Dtype \n",
      "---  ------        --------------  ----- \n",
      " 0   Title         5430 non-null   object\n",
      " 1   Review        5430 non-null   object\n",
      " 2   Course        5430 non-null   object\n",
      " 3   Course_clean  5430 non-null   object\n",
      " 4   Cluster       5430 non-null   int32 \n",
      " 5   text          5430 non-null   object\n",
      "dtypes: int32(1), object(5)\n",
      "memory usage: 275.7+ KB\n"
     ]
    }
   ],
   "source": [
    "data_course.info()"
   ]
  },
  {
   "cell_type": "code",
   "execution_count": 101,
   "id": "f6c30011",
   "metadata": {},
   "outputs": [],
   "source": [
    "# define features\n",
    "X = data_course['text']"
   ]
  },
  {
   "cell_type": "code",
   "execution_count": 102,
   "id": "95414701",
   "metadata": {},
   "outputs": [],
   "source": [
    "# define label\n",
    "y = data_course['Cluster']"
   ]
  },
  {
   "cell_type": "code",
   "execution_count": 103,
   "id": "1c5474f5",
   "metadata": {},
   "outputs": [],
   "source": [
    "# split data\n",
    "X_train, X_test, y_train, y_test = train_test_split(X, y, test_size=0.33, random_state=42, stratify=y)"
   ]
  },
  {
   "cell_type": "code",
   "execution_count": 104,
   "id": "d2d77dc3",
   "metadata": {},
   "outputs": [
    {
     "data": {
      "text/plain": [
       "0.77734375"
      ]
     },
     "execution_count": 104,
     "metadata": {},
     "output_type": "execute_result"
    }
   ],
   "source": [
    "# Define pipeline\n",
    "steps = [('vec', CountVectorizer(stop_words='english', ngram_range=(1,8), max_features = 10000)), \n",
    "         ('tfidf', TfidfTransformer()),\n",
    "         ('xgb', XGBClassifier(max_depth=3, learning_rate=0.1, n_estimators=300, random_state=42))]\n",
    "\n",
    "pipeline = Pipeline(steps=steps)\n",
    "\n",
    "pipeline.fit(X_train, y_train)\n",
    "\n",
    "y_pred = pipeline.predict(X_test)\n",
    "\n",
    "accuracy_score(y_test, y_pred)"
   ]
  },
  {
   "cell_type": "code",
   "execution_count": 105,
   "id": "c7c9ae5f",
   "metadata": {},
   "outputs": [],
   "source": [
    "df = pd.read_csv('data_ml.csv')"
   ]
  },
  {
   "cell_type": "code",
   "execution_count": 106,
   "id": "0463e2f1",
   "metadata": {},
   "outputs": [],
   "source": [
    "null_course = df[df['Course'].isnull()]"
   ]
  },
  {
   "cell_type": "code",
   "execution_count": 107,
   "id": "6ad13363",
   "metadata": {},
   "outputs": [
    {
     "name": "stderr",
     "output_type": "stream",
     "text": [
      "C:\\Users\\Hanme\\AppData\\Local\\Temp\\ipykernel_45452\\1693507433.py:1: SettingWithCopyWarning: \n",
      "A value is trying to be set on a copy of a slice from a DataFrame.\n",
      "Try using .loc[row_indexer,col_indexer] = value instead\n",
      "\n",
      "See the caveats in the documentation: https://pandas.pydata.org/pandas-docs/stable/user_guide/indexing.html#returning-a-view-versus-a-copy\n",
      "  null_course['text'] = null_course['Title'] + ' ' + null_course['Review']\n"
     ]
    }
   ],
   "source": [
    "null_course['text'] = null_course['Title'] + ' ' + null_course['Review']"
   ]
  },
  {
   "cell_type": "code",
   "execution_count": 108,
   "id": "330371c7",
   "metadata": {},
   "outputs": [],
   "source": [
    "course_pred = pipeline.predict(null_course['text'])"
   ]
  },
  {
   "cell_type": "code",
   "execution_count": 109,
   "id": "e9f16da1",
   "metadata": {},
   "outputs": [
    {
     "data": {
      "text/plain": [
       "array([5, 4, 5, ..., 0, 0, 6], dtype=int64)"
      ]
     },
     "execution_count": 109,
     "metadata": {},
     "output_type": "execute_result"
    }
   ],
   "source": [
    "course_pred"
   ]
  },
  {
   "cell_type": "code",
   "execution_count": 110,
   "id": "e7808d9b",
   "metadata": {},
   "outputs": [
    {
     "name": "stderr",
     "output_type": "stream",
     "text": [
      "C:\\Users\\Hanme\\AppData\\Local\\Temp\\ipykernel_45452\\1375923025.py:1: SettingWithCopyWarning: \n",
      "A value is trying to be set on a copy of a slice from a DataFrame.\n",
      "Try using .loc[row_indexer,col_indexer] = value instead\n",
      "\n",
      "See the caveats in the documentation: https://pandas.pydata.org/pandas-docs/stable/user_guide/indexing.html#returning-a-view-versus-a-copy\n",
      "  null_course['Course']=course_pred\n"
     ]
    }
   ],
   "source": [
    "null_course['Course']=course_pred"
   ]
  },
  {
   "cell_type": "code",
   "execution_count": 111,
   "id": "fac852bd",
   "metadata": {
    "scrolled": true
   },
   "outputs": [],
   "source": [
    "course = df[df['Course'].notnull()]"
   ]
  },
  {
   "cell_type": "code",
   "execution_count": 112,
   "id": "0bd987d8",
   "metadata": {},
   "outputs": [
    {
     "name": "stderr",
     "output_type": "stream",
     "text": [
      "C:\\Users\\Hanme\\AppData\\Local\\Temp\\ipykernel_45452\\1166379649.py:2: SettingWithCopyWarning: \n",
      "A value is trying to be set on a copy of a slice from a DataFrame.\n",
      "Try using .loc[row_indexer,col_indexer] = value instead\n",
      "\n",
      "See the caveats in the documentation: https://pandas.pydata.org/pandas-docs/stable/user_guide/indexing.html#returning-a-view-versus-a-copy\n",
      "  course['Course_clean'] = course['Course'].apply(clean_course_name)\n",
      "C:\\Users\\Hanme\\AppData\\Local\\Temp\\ipykernel_45452\\1166379649.py:13: SettingWithCopyWarning: \n",
      "A value is trying to be set on a copy of a slice from a DataFrame.\n",
      "Try using .loc[row_indexer,col_indexer] = value instead\n",
      "\n",
      "See the caveats in the documentation: https://pandas.pydata.org/pandas-docs/stable/user_guide/indexing.html#returning-a-view-versus-a-copy\n",
      "  course['Cluster'] = kmeans.labels_\n"
     ]
    }
   ],
   "source": [
    "# Apply the cleaning function to the 'Course' column of the DataFrame\n",
    "course['Course_clean'] = course['Course'].apply(clean_course_name)\n",
    "\n",
    "# Use a vectorizer to convert the cleaned course names into feature vectors\n",
    "vectorizer = TfidfVectorizer()\n",
    "X = vectorizer.fit_transform(course['Course_clean'])\n",
    "\n",
    "# Use KMeans clustering to group the course names into clusters\n",
    "kmeans = KMeans(n_clusters=9, n_init = 10, random_state=42)\n",
    "kmeans.fit(X)\n",
    "\n",
    "# Assign the cluster labels back to the DataFrame\n",
    "course['Cluster'] = kmeans.labels_"
   ]
  },
  {
   "cell_type": "code",
   "execution_count": 113,
   "id": "0488157e",
   "metadata": {
    "scrolled": true
   },
   "outputs": [
    {
     "name": "stderr",
     "output_type": "stream",
     "text": [
      "C:\\Users\\Hanme\\AppData\\Local\\Temp\\ipykernel_45452\\2672659475.py:1: SettingWithCopyWarning: \n",
      "A value is trying to be set on a copy of a slice from a DataFrame.\n",
      "Try using .loc[row_indexer,col_indexer] = value instead\n",
      "\n",
      "See the caveats in the documentation: https://pandas.pydata.org/pandas-docs/stable/user_guide/indexing.html#returning-a-view-versus-a-copy\n",
      "  course['Course'] = course['Cluster']\n"
     ]
    }
   ],
   "source": [
    "course['Course'] = course['Cluster']"
   ]
  },
  {
   "cell_type": "code",
   "execution_count": 114,
   "id": "52075f6b",
   "metadata": {
    "scrolled": true
   },
   "outputs": [],
   "source": [
    "course = course.iloc[:, :-5]"
   ]
  },
  {
   "cell_type": "code",
   "execution_count": 115,
   "id": "b281ed81",
   "metadata": {
    "scrolled": true
   },
   "outputs": [],
   "source": [
    "null_course = null_course.iloc[:, :-4]"
   ]
  },
  {
   "cell_type": "code",
   "execution_count": 116,
   "id": "27e6d579",
   "metadata": {},
   "outputs": [],
   "source": [
    "# full data with predicted course\n",
    "pred_data = pd.concat([course, null_course]).sort_index()"
   ]
  },
  {
   "cell_type": "code",
   "execution_count": 117,
   "id": "7ec209ad",
   "metadata": {
    "scrolled": true
   },
   "outputs": [
    {
     "name": "stdout",
     "output_type": "stream",
     "text": [
      "<class 'pandas.core.frame.DataFrame'>\n",
      "Int64Index: 9446 entries, 0 to 9445\n",
      "Data columns (total 12 columns):\n",
      " #   Column          Non-Null Count  Dtype  \n",
      "---  ------          --------------  -----  \n",
      " 0   school          9446 non-null   object \n",
      " 1   overview        2771 non-null   float64\n",
      " 2   Course          9446 non-null   int64  \n",
      " 3   Title           9446 non-null   object \n",
      " 4   Review          9446 non-null   object \n",
      " 5   Overall_rating  9446 non-null   float64\n",
      " 6   Instructors     9446 non-null   float64\n",
      " 7   Curriculum      9446 non-null   float64\n",
      " 8   Job Assistance  9446 non-null   float64\n",
      " 9   pros            2771 non-null   object \n",
      " 10  cons            2771 non-null   object \n",
      " 11  Website         9446 non-null   object \n",
      "dtypes: float64(5), int64(1), object(6)\n",
      "memory usage: 959.4+ KB\n"
     ]
    }
   ],
   "source": [
    "pred_data.info()"
   ]
  },
  {
   "cell_type": "code",
   "execution_count": 119,
   "id": "4cf8d95d",
   "metadata": {},
   "outputs": [],
   "source": [
    "course_dict = {\n",
    "    0: 'Full Stack',\n",
    "    1: 'Software Engineering',\n",
    "    2: 'Data Science',\n",
    "    3: 'User Experience Design',\n",
    "    4: 'Data Analytics',\n",
    "    5: 'Business Intelligence & Product Management',\n",
    "    6: 'Web Development',\n",
    "    7: 'UX Design',\n",
    "    8: 'Digital Marketing'\n",
    "}\n",
    "\n",
    "pred_data['Course'] = pred_data['Course'].map(course_dict)"
   ]
  },
  {
   "cell_type": "code",
   "execution_count": 121,
   "id": "ca1c8e09",
   "metadata": {
    "scrolled": true
   },
   "outputs": [
    {
     "data": {
      "text/html": [
       "<div>\n",
       "<style scoped>\n",
       "    .dataframe tbody tr th:only-of-type {\n",
       "        vertical-align: middle;\n",
       "    }\n",
       "\n",
       "    .dataframe tbody tr th {\n",
       "        vertical-align: top;\n",
       "    }\n",
       "\n",
       "    .dataframe thead th {\n",
       "        text-align: right;\n",
       "    }\n",
       "</style>\n",
       "<table border=\"1\" class=\"dataframe\">\n",
       "  <thead>\n",
       "    <tr style=\"text-align: right;\">\n",
       "      <th></th>\n",
       "      <th>school</th>\n",
       "      <th>overview</th>\n",
       "      <th>Course</th>\n",
       "      <th>Title</th>\n",
       "      <th>Review</th>\n",
       "      <th>Overall_rating</th>\n",
       "      <th>Instructors</th>\n",
       "      <th>Curriculum</th>\n",
       "      <th>Job Assistance</th>\n",
       "      <th>pros</th>\n",
       "      <th>cons</th>\n",
       "      <th>Website</th>\n",
       "    </tr>\n",
       "  </thead>\n",
       "  <tbody>\n",
       "    <tr>\n",
       "      <th>0</th>\n",
       "      <td>WeCloudData</td>\n",
       "      <td>4.8</td>\n",
       "      <td>Business Intelligence &amp; Product Management</td>\n",
       "      <td>Full Time DS Bootcamp Review</td>\n",
       "      <td>Overall a great program especially for career ...</td>\n",
       "      <td>100.0</td>\n",
       "      <td>80.0</td>\n",
       "      <td>100.0</td>\n",
       "      <td>60.0</td>\n",
       "      <td>- Knowledgeable and patient instructors and TA...</td>\n",
       "      <td>- Learning experience felt more individual rat...</td>\n",
       "      <td>CareerKarma</td>\n",
       "    </tr>\n",
       "    <tr>\n",
       "      <th>1</th>\n",
       "      <td>WeCloudData</td>\n",
       "      <td>4.8</td>\n",
       "      <td>Data Analytics</td>\n",
       "      <td>A good bootcamp! its worth to make the decision</td>\n",
       "      <td>I attended the data and business analytics boo...</td>\n",
       "      <td>100.0</td>\n",
       "      <td>100.0</td>\n",
       "      <td>100.0</td>\n",
       "      <td>100.0</td>\n",
       "      <td>Great support, nice tutor, practical content</td>\n",
       "      <td>Time were a bit tight to learn everything</td>\n",
       "      <td>CareerKarma</td>\n",
       "    </tr>\n",
       "    <tr>\n",
       "      <th>2</th>\n",
       "      <td>WeCloudData</td>\n",
       "      <td>4.8</td>\n",
       "      <td>Business Intelligence &amp; Product Management</td>\n",
       "      <td>Best DS BootCamp in Canada</td>\n",
       "      <td>I arrived in Canada with a Bachelor's degree i...</td>\n",
       "      <td>100.0</td>\n",
       "      <td>100.0</td>\n",
       "      <td>100.0</td>\n",
       "      <td>100.0</td>\n",
       "      <td>Really straight forward wth projects that help...</td>\n",
       "      <td>Pretty Intense so it will be better if you are...</td>\n",
       "      <td>CareerKarma</td>\n",
       "    </tr>\n",
       "    <tr>\n",
       "      <th>3</th>\n",
       "      <td>WeCloudData</td>\n",
       "      <td>4.8</td>\n",
       "      <td>Business Intelligence &amp; Product Management</td>\n",
       "      <td>Best DS in Canada</td>\n",
       "      <td>I arrived in Canada with a Bachelor's degree i...</td>\n",
       "      <td>100.0</td>\n",
       "      <td>100.0</td>\n",
       "      <td>100.0</td>\n",
       "      <td>100.0</td>\n",
       "      <td>Really straight forward, with projects that he...</td>\n",
       "      <td>Intense, So It will be better if you don't hav...</td>\n",
       "      <td>CareerKarma</td>\n",
       "    </tr>\n",
       "    <tr>\n",
       "      <th>4</th>\n",
       "      <td>WeCloudData</td>\n",
       "      <td>4.8</td>\n",
       "      <td>Data Analytics</td>\n",
       "      <td>Great program with helpful career guidance</td>\n",
       "      <td>I attended WeCloudData Applied BI program in 2...</td>\n",
       "      <td>100.0</td>\n",
       "      <td>100.0</td>\n",
       "      <td>80.0</td>\n",
       "      <td>100.0</td>\n",
       "      <td>Instructors/mentors/TAs are nice. My mentor Le...</td>\n",
       "      <td>A bit intensive or not that friendly for full ...</td>\n",
       "      <td>CareerKarma</td>\n",
       "    </tr>\n",
       "  </tbody>\n",
       "</table>\n",
       "</div>"
      ],
      "text/plain": [
       "        school  overview                                      Course  \\\n",
       "0  WeCloudData       4.8  Business Intelligence & Product Management   \n",
       "1  WeCloudData       4.8                              Data Analytics   \n",
       "2  WeCloudData       4.8  Business Intelligence & Product Management   \n",
       "3  WeCloudData       4.8  Business Intelligence & Product Management   \n",
       "4  WeCloudData       4.8                              Data Analytics   \n",
       "\n",
       "                                             Title  \\\n",
       "0                     Full Time DS Bootcamp Review   \n",
       "1  A good bootcamp! its worth to make the decision   \n",
       "2                       Best DS BootCamp in Canada   \n",
       "3                                Best DS in Canada   \n",
       "4       Great program with helpful career guidance   \n",
       "\n",
       "                                              Review  Overall_rating  \\\n",
       "0  Overall a great program especially for career ...           100.0   \n",
       "1  I attended the data and business analytics boo...           100.0   \n",
       "2  I arrived in Canada with a Bachelor's degree i...           100.0   \n",
       "3  I arrived in Canada with a Bachelor's degree i...           100.0   \n",
       "4  I attended WeCloudData Applied BI program in 2...           100.0   \n",
       "\n",
       "   Instructors  Curriculum  Job Assistance  \\\n",
       "0         80.0       100.0            60.0   \n",
       "1        100.0       100.0           100.0   \n",
       "2        100.0       100.0           100.0   \n",
       "3        100.0       100.0           100.0   \n",
       "4        100.0        80.0           100.0   \n",
       "\n",
       "                                                pros  \\\n",
       "0  - Knowledgeable and patient instructors and TA...   \n",
       "1       Great support, nice tutor, practical content   \n",
       "2  Really straight forward wth projects that help...   \n",
       "3  Really straight forward, with projects that he...   \n",
       "4  Instructors/mentors/TAs are nice. My mentor Le...   \n",
       "\n",
       "                                                cons      Website  \n",
       "0  - Learning experience felt more individual rat...  CareerKarma  \n",
       "1          Time were a bit tight to learn everything  CareerKarma  \n",
       "2  Pretty Intense so it will be better if you are...  CareerKarma  \n",
       "3  Intense, So It will be better if you don't hav...  CareerKarma  \n",
       "4  A bit intensive or not that friendly for full ...  CareerKarma  "
      ]
     },
     "execution_count": 121,
     "metadata": {},
     "output_type": "execute_result"
    }
   ],
   "source": [
    "pred_data.head()"
   ]
  },
  {
   "cell_type": "code",
   "execution_count": 122,
   "id": "51a0fcd1",
   "metadata": {},
   "outputs": [],
   "source": [
    "pred_data.to_csv('pred_data.csv', index=False)"
   ]
  },
  {
   "cell_type": "code",
   "execution_count": null,
   "id": "99fd9535",
   "metadata": {},
   "outputs": [],
   "source": []
  }
 ],
 "metadata": {
  "kernelspec": {
   "display_name": "Python 3 (ipykernel)",
   "language": "python",
   "name": "python3"
  },
  "language_info": {
   "codemirror_mode": {
    "name": "ipython",
    "version": 3
   },
   "file_extension": ".py",
   "mimetype": "text/x-python",
   "name": "python",
   "nbconvert_exporter": "python",
   "pygments_lexer": "ipython3",
   "version": "3.9.13"
  }
 },
 "nbformat": 4,
 "nbformat_minor": 5
}
